{
 "cells": [
  {
   "cell_type": "markdown",
   "metadata": {},
   "source": [
    "## Code for *Most In-Demand Tech Skills for Data Engineers 2022*\n",
    "### Who's up and who's down since 2020?\n",
    "Medium Article [here](https://jeffhale.medium.com/most-in-demand-tech-skills-for-data-engineers-2022-a4746a2b366?source=friends_link&sk=1dbc1cebd4debce8469104a968c5d697). \n",
    "\n",
    "\n",
    "*By: Jeff Hale*\n",
    "June 2022"
   ]
  },
  {
   "cell_type": "markdown",
   "metadata": {},
   "source": [
    "Imports and configuration"
   ]
  },
  {
   "cell_type": "code",
   "execution_count": 573,
   "metadata": {},
   "outputs": [],
   "source": [
    "import pandas as pd\n",
    "import plotly.express as px\n",
    "import numpy as np\n",
    "\n",
    "pd.options.display.max_rows = None"
   ]
  },
  {
   "cell_type": "markdown",
   "metadata": {},
   "source": [
    "Read June 2022 data"
   ]
  },
  {
   "cell_type": "code",
   "execution_count": 575,
   "metadata": {},
   "outputs": [
    {
     "data": {
      "text/html": [
       "<div>\n",
       "<style scoped>\n",
       "    .dataframe tbody tr th:only-of-type {\n",
       "        vertical-align: middle;\n",
       "    }\n",
       "\n",
       "    .dataframe tbody tr th {\n",
       "        vertical-align: top;\n",
       "    }\n",
       "\n",
       "    .dataframe thead th {\n",
       "        text-align: right;\n",
       "    }\n",
       "</style>\n",
       "<table border=\"1\" class=\"dataframe\">\n",
       "  <thead>\n",
       "    <tr style=\"text-align: right;\">\n",
       "      <th></th>\n",
       "      <th>indeed</th>\n",
       "      <th>simplyhired</th>\n",
       "      <th>position</th>\n",
       "      <th>date</th>\n",
       "    </tr>\n",
       "    <tr>\n",
       "      <th>term</th>\n",
       "      <th></th>\n",
       "      <th></th>\n",
       "      <th></th>\n",
       "      <th></th>\n",
       "    </tr>\n",
       "  </thead>\n",
       "  <tbody>\n",
       "    <tr>\n",
       "      <th>Data Engineer</th>\n",
       "      <td>15418</td>\n",
       "      <td>7009</td>\n",
       "      <td>Data Engineer</td>\n",
       "      <td>2022-06-02</td>\n",
       "    </tr>\n",
       "    <tr>\n",
       "      <th>Python</th>\n",
       "      <td>11001</td>\n",
       "      <td>4992</td>\n",
       "      <td>Data Engineer</td>\n",
       "      <td>2022-06-02</td>\n",
       "    </tr>\n",
       "    <tr>\n",
       "      <th>SQL</th>\n",
       "      <td>11325</td>\n",
       "      <td>5300</td>\n",
       "      <td>Data Engineer</td>\n",
       "      <td>2022-06-02</td>\n",
       "    </tr>\n",
       "    <tr>\n",
       "      <th>R</th>\n",
       "      <td>1724</td>\n",
       "      <td>989</td>\n",
       "      <td>Data Engineer</td>\n",
       "      <td>2022-06-02</td>\n",
       "    </tr>\n",
       "    <tr>\n",
       "      <th>Spark</th>\n",
       "      <td>6757</td>\n",
       "      <td>2811</td>\n",
       "      <td>Data Engineer</td>\n",
       "      <td>2022-06-02</td>\n",
       "    </tr>\n",
       "    <tr>\n",
       "      <th>Hadoop</th>\n",
       "      <td>3916</td>\n",
       "      <td>1623</td>\n",
       "      <td>Data Engineer</td>\n",
       "      <td>2022-06-02</td>\n",
       "    </tr>\n",
       "    <tr>\n",
       "      <th>Java</th>\n",
       "      <td>5254</td>\n",
       "      <td>2303</td>\n",
       "      <td>Data Engineer</td>\n",
       "      <td>2022-06-02</td>\n",
       "    </tr>\n",
       "    <tr>\n",
       "      <th>Tableau</th>\n",
       "      <td>2501</td>\n",
       "      <td>1419</td>\n",
       "      <td>Data Engineer</td>\n",
       "      <td>2022-06-02</td>\n",
       "    </tr>\n",
       "    <tr>\n",
       "      <th>AWS</th>\n",
       "      <td>8401</td>\n",
       "      <td>3572</td>\n",
       "      <td>Data Engineer</td>\n",
       "      <td>2022-06-02</td>\n",
       "    </tr>\n",
       "    <tr>\n",
       "      <th>SAS</th>\n",
       "      <td>360</td>\n",
       "      <td>252</td>\n",
       "      <td>Data Engineer</td>\n",
       "      <td>2022-06-02</td>\n",
       "    </tr>\n",
       "    <tr>\n",
       "      <th>Hive</th>\n",
       "      <td>3336</td>\n",
       "      <td>1131</td>\n",
       "      <td>Data Engineer</td>\n",
       "      <td>2022-06-02</td>\n",
       "    </tr>\n",
       "    <tr>\n",
       "      <th>Scala</th>\n",
       "      <td>3689</td>\n",
       "      <td>1497</td>\n",
       "      <td>Data Engineer</td>\n",
       "      <td>2022-06-02</td>\n",
       "    </tr>\n",
       "    <tr>\n",
       "      <th>Excel</th>\n",
       "      <td>966</td>\n",
       "      <td>548</td>\n",
       "      <td>Data Engineer</td>\n",
       "      <td>2022-06-02</td>\n",
       "    </tr>\n",
       "    <tr>\n",
       "      <th>TensorFlow</th>\n",
       "      <td>268</td>\n",
       "      <td>158</td>\n",
       "      <td>Data Engineer</td>\n",
       "      <td>2022-06-02</td>\n",
       "    </tr>\n",
       "    <tr>\n",
       "      <th>Azure</th>\n",
       "      <td>4764</td>\n",
       "      <td>2040</td>\n",
       "      <td>Data Engineer</td>\n",
       "      <td>2022-06-02</td>\n",
       "    </tr>\n",
       "    <tr>\n",
       "      <th>NoSQL</th>\n",
       "      <td>3163</td>\n",
       "      <td>1374</td>\n",
       "      <td>Data Engineer</td>\n",
       "      <td>2022-06-02</td>\n",
       "    </tr>\n",
       "    <tr>\n",
       "      <th>Linux</th>\n",
       "      <td>1851</td>\n",
       "      <td>849</td>\n",
       "      <td>Data Engineer</td>\n",
       "      <td>2022-06-02</td>\n",
       "    </tr>\n",
       "    <tr>\n",
       "      <th>C</th>\n",
       "      <td>873</td>\n",
       "      <td>347</td>\n",
       "      <td>Data Engineer</td>\n",
       "      <td>2022-06-02</td>\n",
       "    </tr>\n",
       "    <tr>\n",
       "      <th>C++</th>\n",
       "      <td>733</td>\n",
       "      <td>436</td>\n",
       "      <td>Data Engineer</td>\n",
       "      <td>2022-06-02</td>\n",
       "    </tr>\n",
       "    <tr>\n",
       "      <th>C#</th>\n",
       "      <td>726</td>\n",
       "      <td>421</td>\n",
       "      <td>Data Engineer</td>\n",
       "      <td>2022-06-02</td>\n",
       "    </tr>\n",
       "    <tr>\n",
       "      <th>Matlab</th>\n",
       "      <td>152</td>\n",
       "      <td>111</td>\n",
       "      <td>Data Engineer</td>\n",
       "      <td>2022-06-02</td>\n",
       "    </tr>\n",
       "    <tr>\n",
       "      <th>Scikit-learn</th>\n",
       "      <td>118</td>\n",
       "      <td>91</td>\n",
       "      <td>Data Engineer</td>\n",
       "      <td>2022-06-02</td>\n",
       "    </tr>\n",
       "    <tr>\n",
       "      <th>Pandas</th>\n",
       "      <td>577</td>\n",
       "      <td>291</td>\n",
       "      <td>Data Engineer</td>\n",
       "      <td>2022-06-02</td>\n",
       "    </tr>\n",
       "    <tr>\n",
       "      <th>Git</th>\n",
       "      <td>1518</td>\n",
       "      <td>906</td>\n",
       "      <td>Data Engineer</td>\n",
       "      <td>2022-06-02</td>\n",
       "    </tr>\n",
       "    <tr>\n",
       "      <th>Keras</th>\n",
       "      <td>95</td>\n",
       "      <td>47</td>\n",
       "      <td>Data Engineer</td>\n",
       "      <td>2022-06-02</td>\n",
       "    </tr>\n",
       "    <tr>\n",
       "      <th>Javascript</th>\n",
       "      <td>1058</td>\n",
       "      <td>534</td>\n",
       "      <td>Data Engineer</td>\n",
       "      <td>2022-06-02</td>\n",
       "    </tr>\n",
       "    <tr>\n",
       "      <th>Pig</th>\n",
       "      <td>518</td>\n",
       "      <td>222</td>\n",
       "      <td>Data Engineer</td>\n",
       "      <td>2022-06-02</td>\n",
       "    </tr>\n",
       "    <tr>\n",
       "      <th>Hbase</th>\n",
       "      <td>843</td>\n",
       "      <td>359</td>\n",
       "      <td>Data Engineer</td>\n",
       "      <td>2022-06-02</td>\n",
       "    </tr>\n",
       "    <tr>\n",
       "      <th>Google Cloud</th>\n",
       "      <td>1613</td>\n",
       "      <td>650</td>\n",
       "      <td>Data Engineer</td>\n",
       "      <td>2022-06-02</td>\n",
       "    </tr>\n",
       "    <tr>\n",
       "      <th>Docker</th>\n",
       "      <td>1661</td>\n",
       "      <td>808</td>\n",
       "      <td>Data Engineer</td>\n",
       "      <td>2022-06-02</td>\n",
       "    </tr>\n",
       "    <tr>\n",
       "      <th>NumPy</th>\n",
       "      <td>306</td>\n",
       "      <td>142</td>\n",
       "      <td>Data Engineer</td>\n",
       "      <td>2022-06-02</td>\n",
       "    </tr>\n",
       "    <tr>\n",
       "      <th>PyTorch</th>\n",
       "      <td>139</td>\n",
       "      <td>90</td>\n",
       "      <td>Data Engineer</td>\n",
       "      <td>2022-06-02</td>\n",
       "    </tr>\n",
       "    <tr>\n",
       "      <th>MySQL</th>\n",
       "      <td>1733</td>\n",
       "      <td>703</td>\n",
       "      <td>Data Engineer</td>\n",
       "      <td>2022-06-02</td>\n",
       "    </tr>\n",
       "    <tr>\n",
       "      <th>Perl</th>\n",
       "      <td>272</td>\n",
       "      <td>182</td>\n",
       "      <td>Data Engineer</td>\n",
       "      <td>2022-06-02</td>\n",
       "    </tr>\n",
       "    <tr>\n",
       "      <th>Cassandra</th>\n",
       "      <td>1339</td>\n",
       "      <td>446</td>\n",
       "      <td>Data Engineer</td>\n",
       "      <td>2022-06-02</td>\n",
       "    </tr>\n",
       "    <tr>\n",
       "      <th>MongoDB</th>\n",
       "      <td>900</td>\n",
       "      <td>472</td>\n",
       "      <td>Data Engineer</td>\n",
       "      <td>2022-06-02</td>\n",
       "    </tr>\n",
       "    <tr>\n",
       "      <th>GCP</th>\n",
       "      <td>2398</td>\n",
       "      <td>890</td>\n",
       "      <td>Data Engineer</td>\n",
       "      <td>2022-06-02</td>\n",
       "    </tr>\n",
       "    <tr>\n",
       "      <th>Kubernetes</th>\n",
       "      <td>1557</td>\n",
       "      <td>761</td>\n",
       "      <td>Data Engineer</td>\n",
       "      <td>2022-06-02</td>\n",
       "    </tr>\n",
       "    <tr>\n",
       "      <th>D3</th>\n",
       "      <td>47</td>\n",
       "      <td>31</td>\n",
       "      <td>Data Engineer</td>\n",
       "      <td>2022-06-02</td>\n",
       "    </tr>\n",
       "    <tr>\n",
       "      <th>Databricks</th>\n",
       "      <td>1518</td>\n",
       "      <td>782</td>\n",
       "      <td>Data Engineer</td>\n",
       "      <td>2022-06-02</td>\n",
       "    </tr>\n",
       "    <tr>\n",
       "      <th>PostgreSQL</th>\n",
       "      <td>1269</td>\n",
       "      <td>493</td>\n",
       "      <td>Data Engineer</td>\n",
       "      <td>2022-06-02</td>\n",
       "    </tr>\n",
       "    <tr>\n",
       "      <th>Postgres</th>\n",
       "      <td>953</td>\n",
       "      <td>515</td>\n",
       "      <td>Data Engineer</td>\n",
       "      <td>2022-06-02</td>\n",
       "    </tr>\n",
       "    <tr>\n",
       "      <th>Airflow</th>\n",
       "      <td>2573</td>\n",
       "      <td>1309</td>\n",
       "      <td>Data Engineer</td>\n",
       "      <td>2022-06-02</td>\n",
       "    </tr>\n",
       "    <tr>\n",
       "      <th>Alteryx</th>\n",
       "      <td>253</td>\n",
       "      <td>151</td>\n",
       "      <td>Data Engineer</td>\n",
       "      <td>2022-06-02</td>\n",
       "    </tr>\n",
       "    <tr>\n",
       "      <th>BigQuery</th>\n",
       "      <td>1130</td>\n",
       "      <td>493</td>\n",
       "      <td>Data Engineer</td>\n",
       "      <td>2022-06-02</td>\n",
       "    </tr>\n",
       "    <tr>\n",
       "      <th>Ruby</th>\n",
       "      <td>588</td>\n",
       "      <td>286</td>\n",
       "      <td>Data Engineer</td>\n",
       "      <td>2022-06-02</td>\n",
       "    </tr>\n",
       "    <tr>\n",
       "      <th>PowerPoint</th>\n",
       "      <td>415</td>\n",
       "      <td>123</td>\n",
       "      <td>Data Engineer</td>\n",
       "      <td>2022-06-02</td>\n",
       "    </tr>\n",
       "    <tr>\n",
       "      <th>Power BI</th>\n",
       "      <td>1063</td>\n",
       "      <td>661</td>\n",
       "      <td>Data Engineer</td>\n",
       "      <td>2022-06-02</td>\n",
       "    </tr>\n",
       "    <tr>\n",
       "      <th>Shiny</th>\n",
       "      <td>41</td>\n",
       "      <td>33</td>\n",
       "      <td>Data Engineer</td>\n",
       "      <td>2022-06-02</td>\n",
       "    </tr>\n",
       "    <tr>\n",
       "      <th>Julia</th>\n",
       "      <td>47</td>\n",
       "      <td>27</td>\n",
       "      <td>Data Engineer</td>\n",
       "      <td>2022-06-02</td>\n",
       "    </tr>\n",
       "    <tr>\n",
       "      <th>Jupyter</th>\n",
       "      <td>236</td>\n",
       "      <td>127</td>\n",
       "      <td>Data Engineer</td>\n",
       "      <td>2022-06-02</td>\n",
       "    </tr>\n",
       "    <tr>\n",
       "      <th>PHP</th>\n",
       "      <td>126</td>\n",
       "      <td>79</td>\n",
       "      <td>Data Engineer</td>\n",
       "      <td>2022-06-02</td>\n",
       "    </tr>\n",
       "    <tr>\n",
       "      <th>Matplotlib</th>\n",
       "      <td>66</td>\n",
       "      <td>57</td>\n",
       "      <td>Data Engineer</td>\n",
       "      <td>2022-06-02</td>\n",
       "    </tr>\n",
       "    <tr>\n",
       "      <th>Node</th>\n",
       "      <td>224</td>\n",
       "      <td>143</td>\n",
       "      <td>Data Engineer</td>\n",
       "      <td>2022-06-02</td>\n",
       "    </tr>\n",
       "    <tr>\n",
       "      <th>Flask</th>\n",
       "      <td>93</td>\n",
       "      <td>75</td>\n",
       "      <td>Data Engineer</td>\n",
       "      <td>2022-06-02</td>\n",
       "    </tr>\n",
       "    <tr>\n",
       "      <th>Neo4j</th>\n",
       "      <td>201</td>\n",
       "      <td>84</td>\n",
       "      <td>Data Engineer</td>\n",
       "      <td>2022-06-02</td>\n",
       "    </tr>\n",
       "    <tr>\n",
       "      <th>Redis</th>\n",
       "      <td>284</td>\n",
       "      <td>176</td>\n",
       "      <td>Data Engineer</td>\n",
       "      <td>2022-06-02</td>\n",
       "    </tr>\n",
       "    <tr>\n",
       "      <th>Oracle</th>\n",
       "      <td>1868</td>\n",
       "      <td>1019</td>\n",
       "      <td>Data Engineer</td>\n",
       "      <td>2022-06-02</td>\n",
       "    </tr>\n",
       "    <tr>\n",
       "      <th>Lambda</th>\n",
       "      <td>1756</td>\n",
       "      <td>750</td>\n",
       "      <td>Data Engineer</td>\n",
       "      <td>2022-06-02</td>\n",
       "    </tr>\n",
       "    <tr>\n",
       "      <th>Redshift</th>\n",
       "      <td>3928</td>\n",
       "      <td>1667</td>\n",
       "      <td>Data Engineer</td>\n",
       "      <td>2022-06-02</td>\n",
       "    </tr>\n",
       "    <tr>\n",
       "      <th>Terraform</th>\n",
       "      <td>1213</td>\n",
       "      <td>494</td>\n",
       "      <td>Data Engineer</td>\n",
       "      <td>2022-06-02</td>\n",
       "    </tr>\n",
       "    <tr>\n",
       "      <th>Kafka</th>\n",
       "      <td>4011</td>\n",
       "      <td>1498</td>\n",
       "      <td>Data Engineer</td>\n",
       "      <td>2022-06-02</td>\n",
       "    </tr>\n",
       "    <tr>\n",
       "      <th>Jenkins</th>\n",
       "      <td>955</td>\n",
       "      <td>543</td>\n",
       "      <td>Data Engineer</td>\n",
       "      <td>2022-06-02</td>\n",
       "    </tr>\n",
       "    <tr>\n",
       "      <th>Golang</th>\n",
       "      <td>196</td>\n",
       "      <td>107</td>\n",
       "      <td>Data Engineer</td>\n",
       "      <td>2022-06-02</td>\n",
       "    </tr>\n",
       "    <tr>\n",
       "      <th>Snowflake</th>\n",
       "      <td>3760</td>\n",
       "      <td>1523</td>\n",
       "      <td>Data Engineer</td>\n",
       "      <td>2022-06-02</td>\n",
       "    </tr>\n",
       "    <tr>\n",
       "      <th>Presto</th>\n",
       "      <td>782</td>\n",
       "      <td>267</td>\n",
       "      <td>Data Engineer</td>\n",
       "      <td>2022-06-02</td>\n",
       "    </tr>\n",
       "    <tr>\n",
       "      <th>Kinesis</th>\n",
       "      <td>1506</td>\n",
       "      <td>545</td>\n",
       "      <td>Data Engineer</td>\n",
       "      <td>2022-06-02</td>\n",
       "    </tr>\n",
       "    <tr>\n",
       "      <th>Impala</th>\n",
       "      <td>494</td>\n",
       "      <td>177</td>\n",
       "      <td>Data Engineer</td>\n",
       "      <td>2022-06-02</td>\n",
       "    </tr>\n",
       "    <tr>\n",
       "      <th>SQL Server</th>\n",
       "      <td>1695</td>\n",
       "      <td>1016</td>\n",
       "      <td>Data Engineer</td>\n",
       "      <td>2022-06-02</td>\n",
       "    </tr>\n",
       "    <tr>\n",
       "      <th>SPSS</th>\n",
       "      <td>50</td>\n",
       "      <td>41</td>\n",
       "      <td>Data Engineer</td>\n",
       "      <td>2022-06-02</td>\n",
       "    </tr>\n",
       "    <tr>\n",
       "      <th>Oozie</th>\n",
       "      <td>244</td>\n",
       "      <td>143</td>\n",
       "      <td>Data Engineer</td>\n",
       "      <td>2022-06-02</td>\n",
       "    </tr>\n",
       "    <tr>\n",
       "      <th>Stata</th>\n",
       "      <td>22</td>\n",
       "      <td>18</td>\n",
       "      <td>Data Engineer</td>\n",
       "      <td>2022-06-02</td>\n",
       "    </tr>\n",
       "    <tr>\n",
       "      <th>React</th>\n",
       "      <td>329</td>\n",
       "      <td>215</td>\n",
       "      <td>Data Engineer</td>\n",
       "      <td>2022-06-02</td>\n",
       "    </tr>\n",
       "    <tr>\n",
       "      <th>Kotlin</th>\n",
       "      <td>81</td>\n",
       "      <td>43</td>\n",
       "      <td>Data Engineer</td>\n",
       "      <td>2022-06-02</td>\n",
       "    </tr>\n",
       "    <tr>\n",
       "      <th>Fortran</th>\n",
       "      <td>5</td>\n",
       "      <td>5</td>\n",
       "      <td>Data Engineer</td>\n",
       "      <td>2022-06-02</td>\n",
       "    </tr>\n",
       "    <tr>\n",
       "      <th>Rust</th>\n",
       "      <td>57</td>\n",
       "      <td>36</td>\n",
       "      <td>Data Engineer</td>\n",
       "      <td>2022-06-02</td>\n",
       "    </tr>\n",
       "    <tr>\n",
       "      <th>Dart</th>\n",
       "      <td>9</td>\n",
       "      <td>5</td>\n",
       "      <td>Data Engineer</td>\n",
       "      <td>2022-06-02</td>\n",
       "    </tr>\n",
       "    <tr>\n",
       "      <th>Clojure</th>\n",
       "      <td>22</td>\n",
       "      <td>9</td>\n",
       "      <td>Data Engineer</td>\n",
       "      <td>2022-06-02</td>\n",
       "    </tr>\n",
       "    <tr>\n",
       "      <th>Vue</th>\n",
       "      <td>53</td>\n",
       "      <td>32</td>\n",
       "      <td>Data Engineer</td>\n",
       "      <td>2022-06-02</td>\n",
       "    </tr>\n",
       "    <tr>\n",
       "      <th>Svelte</th>\n",
       "      <td>1</td>\n",
       "      <td>1</td>\n",
       "      <td>Data Engineer</td>\n",
       "      <td>2022-06-02</td>\n",
       "    </tr>\n",
       "    <tr>\n",
       "      <th>Next.js</th>\n",
       "      <td>1</td>\n",
       "      <td>1</td>\n",
       "      <td>Data Engineer</td>\n",
       "      <td>2022-06-02</td>\n",
       "    </tr>\n",
       "    <tr>\n",
       "      <th>Swift</th>\n",
       "      <td>19</td>\n",
       "      <td>17</td>\n",
       "      <td>Data Engineer</td>\n",
       "      <td>2022-06-02</td>\n",
       "    </tr>\n",
       "    <tr>\n",
       "      <th>CSS</th>\n",
       "      <td>180</td>\n",
       "      <td>119</td>\n",
       "      <td>Data Engineer</td>\n",
       "      <td>2022-06-02</td>\n",
       "    </tr>\n",
       "    <tr>\n",
       "      <th>HTML</th>\n",
       "      <td>338</td>\n",
       "      <td>179</td>\n",
       "      <td>Data Engineer</td>\n",
       "      <td>2022-06-02</td>\n",
       "    </tr>\n",
       "    <tr>\n",
       "      <th>Bash</th>\n",
       "      <td>671</td>\n",
       "      <td>275</td>\n",
       "      <td>Data Engineer</td>\n",
       "      <td>2022-06-02</td>\n",
       "    </tr>\n",
       "    <tr>\n",
       "      <th>Shell</th>\n",
       "      <td>1179</td>\n",
       "      <td>535</td>\n",
       "      <td>Data Engineer</td>\n",
       "      <td>2022-06-02</td>\n",
       "    </tr>\n",
       "    <tr>\n",
       "      <th>TypeScript</th>\n",
       "      <td>173</td>\n",
       "      <td>95</td>\n",
       "      <td>Data Engineer</td>\n",
       "      <td>2022-06-02</td>\n",
       "    </tr>\n",
       "    <tr>\n",
       "      <th>Objective-C</th>\n",
       "      <td>4</td>\n",
       "      <td>2</td>\n",
       "      <td>Data Engineer</td>\n",
       "      <td>2022-06-02</td>\n",
       "    </tr>\n",
       "    <tr>\n",
       "      <th>WebAssembly</th>\n",
       "      <td>2</td>\n",
       "      <td>2</td>\n",
       "      <td>Data Engineer</td>\n",
       "      <td>2022-06-02</td>\n",
       "    </tr>\n",
       "    <tr>\n",
       "      <th>Visual Basic</th>\n",
       "      <td>18</td>\n",
       "      <td>16</td>\n",
       "      <td>Data Engineer</td>\n",
       "      <td>2022-06-02</td>\n",
       "    </tr>\n",
       "    <tr>\n",
       "      <th>.net</th>\n",
       "      <td>562</td>\n",
       "      <td>308</td>\n",
       "      <td>Data Engineer</td>\n",
       "      <td>2022-06-02</td>\n",
       "    </tr>\n",
       "    <tr>\n",
       "      <th>ASP</th>\n",
       "      <td>51</td>\n",
       "      <td>34</td>\n",
       "      <td>Data Engineer</td>\n",
       "      <td>2022-06-02</td>\n",
       "    </tr>\n",
       "    <tr>\n",
       "      <th>Prefect</th>\n",
       "      <td>268</td>\n",
       "      <td>91</td>\n",
       "      <td>Data Engineer</td>\n",
       "      <td>2022-06-02</td>\n",
       "    </tr>\n",
       "    <tr>\n",
       "      <th>Luigi</th>\n",
       "      <td>433</td>\n",
       "      <td>197</td>\n",
       "      <td>Data Engineer</td>\n",
       "      <td>2022-06-02</td>\n",
       "    </tr>\n",
       "    <tr>\n",
       "      <th>Dagster</th>\n",
       "      <td>83</td>\n",
       "      <td>35</td>\n",
       "      <td>Data Engineer</td>\n",
       "      <td>2022-06-02</td>\n",
       "    </tr>\n",
       "    <tr>\n",
       "      <th>Plotly</th>\n",
       "      <td>35</td>\n",
       "      <td>31</td>\n",
       "      <td>Data Engineer</td>\n",
       "      <td>2022-06-02</td>\n",
       "    </tr>\n",
       "    <tr>\n",
       "      <th>dbt</th>\n",
       "      <td>810</td>\n",
       "      <td>376</td>\n",
       "      <td>Data Engineer</td>\n",
       "      <td>2022-06-02</td>\n",
       "    </tr>\n",
       "    <tr>\n",
       "      <th>Looker</th>\n",
       "      <td>765</td>\n",
       "      <td>343</td>\n",
       "      <td>Data Engineer</td>\n",
       "      <td>2022-06-02</td>\n",
       "    </tr>\n",
       "    <tr>\n",
       "      <th>Metabase</th>\n",
       "      <td>17</td>\n",
       "      <td>15</td>\n",
       "      <td>Data Engineer</td>\n",
       "      <td>2022-06-02</td>\n",
       "    </tr>\n",
       "    <tr>\n",
       "      <th>FastAPI</th>\n",
       "      <td>31</td>\n",
       "      <td>24</td>\n",
       "      <td>Data Engineer</td>\n",
       "      <td>2022-06-02</td>\n",
       "    </tr>\n",
       "    <tr>\n",
       "      <th>Sagemaker</th>\n",
       "      <td>295</td>\n",
       "      <td>161</td>\n",
       "      <td>Data Engineer</td>\n",
       "      <td>2022-06-02</td>\n",
       "    </tr>\n",
       "    <tr>\n",
       "      <th>MLFlow</th>\n",
       "      <td>58</td>\n",
       "      <td>34</td>\n",
       "      <td>Data Engineer</td>\n",
       "      <td>2022-06-02</td>\n",
       "    </tr>\n",
       "    <tr>\n",
       "      <th>Kubeflow</th>\n",
       "      <td>56</td>\n",
       "      <td>37</td>\n",
       "      <td>Data Engineer</td>\n",
       "      <td>2022-06-02</td>\n",
       "    </tr>\n",
       "    <tr>\n",
       "      <th>Glue</th>\n",
       "      <td>1836</td>\n",
       "      <td>832</td>\n",
       "      <td>Data Engineer</td>\n",
       "      <td>2022-06-02</td>\n",
       "    </tr>\n",
       "    <tr>\n",
       "      <th>Athena</th>\n",
       "      <td>1131</td>\n",
       "      <td>497</td>\n",
       "      <td>Data Engineer</td>\n",
       "      <td>2022-06-02</td>\n",
       "    </tr>\n",
       "  </tbody>\n",
       "</table>\n",
       "</div>"
      ],
      "text/plain": [
       "               indeed  simplyhired       position        date\n",
       "term                                                         \n",
       "Data Engineer   15418         7009  Data Engineer  2022-06-02\n",
       "Python          11001         4992  Data Engineer  2022-06-02\n",
       "SQL             11325         5300  Data Engineer  2022-06-02\n",
       "R                1724          989  Data Engineer  2022-06-02\n",
       "Spark            6757         2811  Data Engineer  2022-06-02\n",
       "Hadoop           3916         1623  Data Engineer  2022-06-02\n",
       "Java             5254         2303  Data Engineer  2022-06-02\n",
       "Tableau          2501         1419  Data Engineer  2022-06-02\n",
       "AWS              8401         3572  Data Engineer  2022-06-02\n",
       "SAS               360          252  Data Engineer  2022-06-02\n",
       "Hive             3336         1131  Data Engineer  2022-06-02\n",
       "Scala            3689         1497  Data Engineer  2022-06-02\n",
       "Excel             966          548  Data Engineer  2022-06-02\n",
       "TensorFlow        268          158  Data Engineer  2022-06-02\n",
       "Azure            4764         2040  Data Engineer  2022-06-02\n",
       "NoSQL            3163         1374  Data Engineer  2022-06-02\n",
       "Linux            1851          849  Data Engineer  2022-06-02\n",
       "C                 873          347  Data Engineer  2022-06-02\n",
       "C++               733          436  Data Engineer  2022-06-02\n",
       "C#                726          421  Data Engineer  2022-06-02\n",
       "Matlab            152          111  Data Engineer  2022-06-02\n",
       "Scikit-learn      118           91  Data Engineer  2022-06-02\n",
       "Pandas            577          291  Data Engineer  2022-06-02\n",
       "Git              1518          906  Data Engineer  2022-06-02\n",
       "Keras              95           47  Data Engineer  2022-06-02\n",
       "Javascript       1058          534  Data Engineer  2022-06-02\n",
       "Pig               518          222  Data Engineer  2022-06-02\n",
       "Hbase             843          359  Data Engineer  2022-06-02\n",
       "Google Cloud     1613          650  Data Engineer  2022-06-02\n",
       "Docker           1661          808  Data Engineer  2022-06-02\n",
       "NumPy             306          142  Data Engineer  2022-06-02\n",
       "PyTorch           139           90  Data Engineer  2022-06-02\n",
       "MySQL            1733          703  Data Engineer  2022-06-02\n",
       "Perl              272          182  Data Engineer  2022-06-02\n",
       "Cassandra        1339          446  Data Engineer  2022-06-02\n",
       "MongoDB           900          472  Data Engineer  2022-06-02\n",
       "GCP              2398          890  Data Engineer  2022-06-02\n",
       "Kubernetes       1557          761  Data Engineer  2022-06-02\n",
       "D3                 47           31  Data Engineer  2022-06-02\n",
       "Databricks       1518          782  Data Engineer  2022-06-02\n",
       "PostgreSQL       1269          493  Data Engineer  2022-06-02\n",
       "Postgres          953          515  Data Engineer  2022-06-02\n",
       "Airflow          2573         1309  Data Engineer  2022-06-02\n",
       "Alteryx           253          151  Data Engineer  2022-06-02\n",
       "BigQuery         1130          493  Data Engineer  2022-06-02\n",
       "Ruby              588          286  Data Engineer  2022-06-02\n",
       "PowerPoint        415          123  Data Engineer  2022-06-02\n",
       "Power BI         1063          661  Data Engineer  2022-06-02\n",
       "Shiny              41           33  Data Engineer  2022-06-02\n",
       "Julia              47           27  Data Engineer  2022-06-02\n",
       "Jupyter           236          127  Data Engineer  2022-06-02\n",
       "PHP               126           79  Data Engineer  2022-06-02\n",
       "Matplotlib         66           57  Data Engineer  2022-06-02\n",
       "Node              224          143  Data Engineer  2022-06-02\n",
       "Flask              93           75  Data Engineer  2022-06-02\n",
       "Neo4j             201           84  Data Engineer  2022-06-02\n",
       "Redis             284          176  Data Engineer  2022-06-02\n",
       "Oracle           1868         1019  Data Engineer  2022-06-02\n",
       "Lambda           1756          750  Data Engineer  2022-06-02\n",
       "Redshift         3928         1667  Data Engineer  2022-06-02\n",
       "Terraform        1213          494  Data Engineer  2022-06-02\n",
       "Kafka            4011         1498  Data Engineer  2022-06-02\n",
       "Jenkins           955          543  Data Engineer  2022-06-02\n",
       "Golang            196          107  Data Engineer  2022-06-02\n",
       "Snowflake        3760         1523  Data Engineer  2022-06-02\n",
       "Presto            782          267  Data Engineer  2022-06-02\n",
       "Kinesis          1506          545  Data Engineer  2022-06-02\n",
       "Impala            494          177  Data Engineer  2022-06-02\n",
       "SQL Server       1695         1016  Data Engineer  2022-06-02\n",
       "SPSS               50           41  Data Engineer  2022-06-02\n",
       "Oozie             244          143  Data Engineer  2022-06-02\n",
       "Stata              22           18  Data Engineer  2022-06-02\n",
       "React             329          215  Data Engineer  2022-06-02\n",
       "Kotlin             81           43  Data Engineer  2022-06-02\n",
       "Fortran             5            5  Data Engineer  2022-06-02\n",
       "Rust               57           36  Data Engineer  2022-06-02\n",
       "Dart                9            5  Data Engineer  2022-06-02\n",
       "Clojure            22            9  Data Engineer  2022-06-02\n",
       "Vue                53           32  Data Engineer  2022-06-02\n",
       "Svelte              1            1  Data Engineer  2022-06-02\n",
       "Next.js             1            1  Data Engineer  2022-06-02\n",
       "Swift              19           17  Data Engineer  2022-06-02\n",
       "CSS               180          119  Data Engineer  2022-06-02\n",
       "HTML              338          179  Data Engineer  2022-06-02\n",
       "Bash              671          275  Data Engineer  2022-06-02\n",
       "Shell            1179          535  Data Engineer  2022-06-02\n",
       "TypeScript        173           95  Data Engineer  2022-06-02\n",
       "Objective-C         4            2  Data Engineer  2022-06-02\n",
       "WebAssembly         2            2  Data Engineer  2022-06-02\n",
       "Visual Basic       18           16  Data Engineer  2022-06-02\n",
       ".net              562          308  Data Engineer  2022-06-02\n",
       "ASP                51           34  Data Engineer  2022-06-02\n",
       "Prefect           268           91  Data Engineer  2022-06-02\n",
       "Luigi             433          197  Data Engineer  2022-06-02\n",
       "Dagster            83           35  Data Engineer  2022-06-02\n",
       "Plotly             35           31  Data Engineer  2022-06-02\n",
       "dbt               810          376  Data Engineer  2022-06-02\n",
       "Looker            765          343  Data Engineer  2022-06-02\n",
       "Metabase           17           15  Data Engineer  2022-06-02\n",
       "FastAPI            31           24  Data Engineer  2022-06-02\n",
       "Sagemaker         295          161  Data Engineer  2022-06-02\n",
       "MLFlow             58           34  Data Engineer  2022-06-02\n",
       "Kubeflow           56           37  Data Engineer  2022-06-02\n",
       "Glue             1836          832  Data Engineer  2022-06-02\n",
       "Athena           1131          497  Data Engineer  2022-06-02"
      ]
     },
     "execution_count": 575,
     "metadata": {},
     "output_type": "execute_result"
    }
   ],
   "source": [
    "df_2022= pd.read_csv('./data/data_engineer_tech_skills_2022-06-02.csv')\n",
    "df_2022.set_index('term', drop=True, inplace=True)\n",
    "df_2022"
   ]
  },
  {
   "cell_type": "markdown",
   "metadata": {},
   "source": [
    "Combine GCP and Google Cloud AND Postgres and PostgreSQL\n",
    "\n",
    "I didn't have Postgres in the search terms in 2020, but PostgreSQL saw a minor decline, so the absence of Postgres is unlikely to affect the results."
   ]
  },
  {
   "cell_type": "code",
   "execution_count": 576,
   "metadata": {},
   "outputs": [],
   "source": [
    "def combine(df: pd.DataFrame, term1: str, term2: str) -> pd.DataFrame:\n",
    "    \"\"\"Combine two search terms\n",
    "\n",
    "    Args:\n",
    "        df: The DataFrame to operate on\n",
    "        term1: First term to combine, this is the column name in the returnd DF\n",
    "        term2: Second term to combine\n",
    "\n",
    "    Returns:\n",
    "        The altered DataFrame\n",
    "    \"\"\"\n",
    "\n",
    "\n",
    "    df.loc[term1, 'indeed'] = df.loc[term1, 'indeed'] + df.loc[term2, 'indeed']\n",
    "    df.loc[term1, 'simplyhired'] = df.loc[term1, 'simplyhired'] + df.loc[term2, 'simplyhired']\n",
    "    return df.drop(term2)"
   ]
  },
  {
   "cell_type": "code",
   "execution_count": 577,
   "metadata": {},
   "outputs": [
    {
     "data": {
      "text/html": [
       "<div>\n",
       "<style scoped>\n",
       "    .dataframe tbody tr th:only-of-type {\n",
       "        vertical-align: middle;\n",
       "    }\n",
       "\n",
       "    .dataframe tbody tr th {\n",
       "        vertical-align: top;\n",
       "    }\n",
       "\n",
       "    .dataframe thead th {\n",
       "        text-align: right;\n",
       "    }\n",
       "</style>\n",
       "<table border=\"1\" class=\"dataframe\">\n",
       "  <thead>\n",
       "    <tr style=\"text-align: right;\">\n",
       "      <th></th>\n",
       "      <th>indeed</th>\n",
       "      <th>simplyhired</th>\n",
       "      <th>position</th>\n",
       "      <th>date</th>\n",
       "    </tr>\n",
       "    <tr>\n",
       "      <th>term</th>\n",
       "      <th></th>\n",
       "      <th></th>\n",
       "      <th></th>\n",
       "      <th></th>\n",
       "    </tr>\n",
       "  </thead>\n",
       "  <tbody>\n",
       "    <tr>\n",
       "      <th>Data Engineer</th>\n",
       "      <td>15418</td>\n",
       "      <td>7009</td>\n",
       "      <td>Data Engineer</td>\n",
       "      <td>2022-06-02</td>\n",
       "    </tr>\n",
       "    <tr>\n",
       "      <th>Python</th>\n",
       "      <td>11001</td>\n",
       "      <td>4992</td>\n",
       "      <td>Data Engineer</td>\n",
       "      <td>2022-06-02</td>\n",
       "    </tr>\n",
       "    <tr>\n",
       "      <th>SQL</th>\n",
       "      <td>11325</td>\n",
       "      <td>5300</td>\n",
       "      <td>Data Engineer</td>\n",
       "      <td>2022-06-02</td>\n",
       "    </tr>\n",
       "    <tr>\n",
       "      <th>R</th>\n",
       "      <td>1724</td>\n",
       "      <td>989</td>\n",
       "      <td>Data Engineer</td>\n",
       "      <td>2022-06-02</td>\n",
       "    </tr>\n",
       "    <tr>\n",
       "      <th>Spark</th>\n",
       "      <td>6757</td>\n",
       "      <td>2811</td>\n",
       "      <td>Data Engineer</td>\n",
       "      <td>2022-06-02</td>\n",
       "    </tr>\n",
       "    <tr>\n",
       "      <th>Hadoop</th>\n",
       "      <td>3916</td>\n",
       "      <td>1623</td>\n",
       "      <td>Data Engineer</td>\n",
       "      <td>2022-06-02</td>\n",
       "    </tr>\n",
       "    <tr>\n",
       "      <th>Java</th>\n",
       "      <td>5254</td>\n",
       "      <td>2303</td>\n",
       "      <td>Data Engineer</td>\n",
       "      <td>2022-06-02</td>\n",
       "    </tr>\n",
       "    <tr>\n",
       "      <th>Tableau</th>\n",
       "      <td>2501</td>\n",
       "      <td>1419</td>\n",
       "      <td>Data Engineer</td>\n",
       "      <td>2022-06-02</td>\n",
       "    </tr>\n",
       "    <tr>\n",
       "      <th>AWS</th>\n",
       "      <td>8401</td>\n",
       "      <td>3572</td>\n",
       "      <td>Data Engineer</td>\n",
       "      <td>2022-06-02</td>\n",
       "    </tr>\n",
       "    <tr>\n",
       "      <th>SAS</th>\n",
       "      <td>360</td>\n",
       "      <td>252</td>\n",
       "      <td>Data Engineer</td>\n",
       "      <td>2022-06-02</td>\n",
       "    </tr>\n",
       "    <tr>\n",
       "      <th>Hive</th>\n",
       "      <td>3336</td>\n",
       "      <td>1131</td>\n",
       "      <td>Data Engineer</td>\n",
       "      <td>2022-06-02</td>\n",
       "    </tr>\n",
       "    <tr>\n",
       "      <th>Scala</th>\n",
       "      <td>3689</td>\n",
       "      <td>1497</td>\n",
       "      <td>Data Engineer</td>\n",
       "      <td>2022-06-02</td>\n",
       "    </tr>\n",
       "    <tr>\n",
       "      <th>Excel</th>\n",
       "      <td>966</td>\n",
       "      <td>548</td>\n",
       "      <td>Data Engineer</td>\n",
       "      <td>2022-06-02</td>\n",
       "    </tr>\n",
       "    <tr>\n",
       "      <th>TensorFlow</th>\n",
       "      <td>268</td>\n",
       "      <td>158</td>\n",
       "      <td>Data Engineer</td>\n",
       "      <td>2022-06-02</td>\n",
       "    </tr>\n",
       "    <tr>\n",
       "      <th>Azure</th>\n",
       "      <td>4764</td>\n",
       "      <td>2040</td>\n",
       "      <td>Data Engineer</td>\n",
       "      <td>2022-06-02</td>\n",
       "    </tr>\n",
       "    <tr>\n",
       "      <th>NoSQL</th>\n",
       "      <td>3163</td>\n",
       "      <td>1374</td>\n",
       "      <td>Data Engineer</td>\n",
       "      <td>2022-06-02</td>\n",
       "    </tr>\n",
       "    <tr>\n",
       "      <th>Linux</th>\n",
       "      <td>1851</td>\n",
       "      <td>849</td>\n",
       "      <td>Data Engineer</td>\n",
       "      <td>2022-06-02</td>\n",
       "    </tr>\n",
       "    <tr>\n",
       "      <th>C</th>\n",
       "      <td>873</td>\n",
       "      <td>347</td>\n",
       "      <td>Data Engineer</td>\n",
       "      <td>2022-06-02</td>\n",
       "    </tr>\n",
       "    <tr>\n",
       "      <th>C++</th>\n",
       "      <td>733</td>\n",
       "      <td>436</td>\n",
       "      <td>Data Engineer</td>\n",
       "      <td>2022-06-02</td>\n",
       "    </tr>\n",
       "    <tr>\n",
       "      <th>C#</th>\n",
       "      <td>726</td>\n",
       "      <td>421</td>\n",
       "      <td>Data Engineer</td>\n",
       "      <td>2022-06-02</td>\n",
       "    </tr>\n",
       "    <tr>\n",
       "      <th>Matlab</th>\n",
       "      <td>152</td>\n",
       "      <td>111</td>\n",
       "      <td>Data Engineer</td>\n",
       "      <td>2022-06-02</td>\n",
       "    </tr>\n",
       "    <tr>\n",
       "      <th>Scikit-learn</th>\n",
       "      <td>118</td>\n",
       "      <td>91</td>\n",
       "      <td>Data Engineer</td>\n",
       "      <td>2022-06-02</td>\n",
       "    </tr>\n",
       "    <tr>\n",
       "      <th>Pandas</th>\n",
       "      <td>577</td>\n",
       "      <td>291</td>\n",
       "      <td>Data Engineer</td>\n",
       "      <td>2022-06-02</td>\n",
       "    </tr>\n",
       "    <tr>\n",
       "      <th>Git</th>\n",
       "      <td>1518</td>\n",
       "      <td>906</td>\n",
       "      <td>Data Engineer</td>\n",
       "      <td>2022-06-02</td>\n",
       "    </tr>\n",
       "    <tr>\n",
       "      <th>Keras</th>\n",
       "      <td>95</td>\n",
       "      <td>47</td>\n",
       "      <td>Data Engineer</td>\n",
       "      <td>2022-06-02</td>\n",
       "    </tr>\n",
       "    <tr>\n",
       "      <th>Javascript</th>\n",
       "      <td>1058</td>\n",
       "      <td>534</td>\n",
       "      <td>Data Engineer</td>\n",
       "      <td>2022-06-02</td>\n",
       "    </tr>\n",
       "    <tr>\n",
       "      <th>Pig</th>\n",
       "      <td>518</td>\n",
       "      <td>222</td>\n",
       "      <td>Data Engineer</td>\n",
       "      <td>2022-06-02</td>\n",
       "    </tr>\n",
       "    <tr>\n",
       "      <th>Hbase</th>\n",
       "      <td>843</td>\n",
       "      <td>359</td>\n",
       "      <td>Data Engineer</td>\n",
       "      <td>2022-06-02</td>\n",
       "    </tr>\n",
       "    <tr>\n",
       "      <th>Docker</th>\n",
       "      <td>1661</td>\n",
       "      <td>808</td>\n",
       "      <td>Data Engineer</td>\n",
       "      <td>2022-06-02</td>\n",
       "    </tr>\n",
       "    <tr>\n",
       "      <th>NumPy</th>\n",
       "      <td>306</td>\n",
       "      <td>142</td>\n",
       "      <td>Data Engineer</td>\n",
       "      <td>2022-06-02</td>\n",
       "    </tr>\n",
       "    <tr>\n",
       "      <th>PyTorch</th>\n",
       "      <td>139</td>\n",
       "      <td>90</td>\n",
       "      <td>Data Engineer</td>\n",
       "      <td>2022-06-02</td>\n",
       "    </tr>\n",
       "    <tr>\n",
       "      <th>MySQL</th>\n",
       "      <td>1733</td>\n",
       "      <td>703</td>\n",
       "      <td>Data Engineer</td>\n",
       "      <td>2022-06-02</td>\n",
       "    </tr>\n",
       "    <tr>\n",
       "      <th>Perl</th>\n",
       "      <td>272</td>\n",
       "      <td>182</td>\n",
       "      <td>Data Engineer</td>\n",
       "      <td>2022-06-02</td>\n",
       "    </tr>\n",
       "    <tr>\n",
       "      <th>Cassandra</th>\n",
       "      <td>1339</td>\n",
       "      <td>446</td>\n",
       "      <td>Data Engineer</td>\n",
       "      <td>2022-06-02</td>\n",
       "    </tr>\n",
       "    <tr>\n",
       "      <th>MongoDB</th>\n",
       "      <td>900</td>\n",
       "      <td>472</td>\n",
       "      <td>Data Engineer</td>\n",
       "      <td>2022-06-02</td>\n",
       "    </tr>\n",
       "    <tr>\n",
       "      <th>GCP</th>\n",
       "      <td>4011</td>\n",
       "      <td>1540</td>\n",
       "      <td>Data Engineer</td>\n",
       "      <td>2022-06-02</td>\n",
       "    </tr>\n",
       "    <tr>\n",
       "      <th>Kubernetes</th>\n",
       "      <td>1557</td>\n",
       "      <td>761</td>\n",
       "      <td>Data Engineer</td>\n",
       "      <td>2022-06-02</td>\n",
       "    </tr>\n",
       "    <tr>\n",
       "      <th>D3</th>\n",
       "      <td>47</td>\n",
       "      <td>31</td>\n",
       "      <td>Data Engineer</td>\n",
       "      <td>2022-06-02</td>\n",
       "    </tr>\n",
       "    <tr>\n",
       "      <th>Databricks</th>\n",
       "      <td>1518</td>\n",
       "      <td>782</td>\n",
       "      <td>Data Engineer</td>\n",
       "      <td>2022-06-02</td>\n",
       "    </tr>\n",
       "    <tr>\n",
       "      <th>Postgres</th>\n",
       "      <td>2222</td>\n",
       "      <td>1008</td>\n",
       "      <td>Data Engineer</td>\n",
       "      <td>2022-06-02</td>\n",
       "    </tr>\n",
       "    <tr>\n",
       "      <th>Airflow</th>\n",
       "      <td>2573</td>\n",
       "      <td>1309</td>\n",
       "      <td>Data Engineer</td>\n",
       "      <td>2022-06-02</td>\n",
       "    </tr>\n",
       "    <tr>\n",
       "      <th>Alteryx</th>\n",
       "      <td>253</td>\n",
       "      <td>151</td>\n",
       "      <td>Data Engineer</td>\n",
       "      <td>2022-06-02</td>\n",
       "    </tr>\n",
       "    <tr>\n",
       "      <th>BigQuery</th>\n",
       "      <td>1130</td>\n",
       "      <td>493</td>\n",
       "      <td>Data Engineer</td>\n",
       "      <td>2022-06-02</td>\n",
       "    </tr>\n",
       "    <tr>\n",
       "      <th>Ruby</th>\n",
       "      <td>588</td>\n",
       "      <td>286</td>\n",
       "      <td>Data Engineer</td>\n",
       "      <td>2022-06-02</td>\n",
       "    </tr>\n",
       "    <tr>\n",
       "      <th>PowerPoint</th>\n",
       "      <td>415</td>\n",
       "      <td>123</td>\n",
       "      <td>Data Engineer</td>\n",
       "      <td>2022-06-02</td>\n",
       "    </tr>\n",
       "    <tr>\n",
       "      <th>Power BI</th>\n",
       "      <td>1063</td>\n",
       "      <td>661</td>\n",
       "      <td>Data Engineer</td>\n",
       "      <td>2022-06-02</td>\n",
       "    </tr>\n",
       "    <tr>\n",
       "      <th>Shiny</th>\n",
       "      <td>41</td>\n",
       "      <td>33</td>\n",
       "      <td>Data Engineer</td>\n",
       "      <td>2022-06-02</td>\n",
       "    </tr>\n",
       "    <tr>\n",
       "      <th>Julia</th>\n",
       "      <td>47</td>\n",
       "      <td>27</td>\n",
       "      <td>Data Engineer</td>\n",
       "      <td>2022-06-02</td>\n",
       "    </tr>\n",
       "    <tr>\n",
       "      <th>Jupyter</th>\n",
       "      <td>236</td>\n",
       "      <td>127</td>\n",
       "      <td>Data Engineer</td>\n",
       "      <td>2022-06-02</td>\n",
       "    </tr>\n",
       "    <tr>\n",
       "      <th>PHP</th>\n",
       "      <td>126</td>\n",
       "      <td>79</td>\n",
       "      <td>Data Engineer</td>\n",
       "      <td>2022-06-02</td>\n",
       "    </tr>\n",
       "    <tr>\n",
       "      <th>Matplotlib</th>\n",
       "      <td>66</td>\n",
       "      <td>57</td>\n",
       "      <td>Data Engineer</td>\n",
       "      <td>2022-06-02</td>\n",
       "    </tr>\n",
       "    <tr>\n",
       "      <th>Node</th>\n",
       "      <td>224</td>\n",
       "      <td>143</td>\n",
       "      <td>Data Engineer</td>\n",
       "      <td>2022-06-02</td>\n",
       "    </tr>\n",
       "    <tr>\n",
       "      <th>Flask</th>\n",
       "      <td>93</td>\n",
       "      <td>75</td>\n",
       "      <td>Data Engineer</td>\n",
       "      <td>2022-06-02</td>\n",
       "    </tr>\n",
       "    <tr>\n",
       "      <th>Neo4j</th>\n",
       "      <td>201</td>\n",
       "      <td>84</td>\n",
       "      <td>Data Engineer</td>\n",
       "      <td>2022-06-02</td>\n",
       "    </tr>\n",
       "    <tr>\n",
       "      <th>Redis</th>\n",
       "      <td>284</td>\n",
       "      <td>176</td>\n",
       "      <td>Data Engineer</td>\n",
       "      <td>2022-06-02</td>\n",
       "    </tr>\n",
       "    <tr>\n",
       "      <th>Oracle</th>\n",
       "      <td>1868</td>\n",
       "      <td>1019</td>\n",
       "      <td>Data Engineer</td>\n",
       "      <td>2022-06-02</td>\n",
       "    </tr>\n",
       "    <tr>\n",
       "      <th>Lambda</th>\n",
       "      <td>1756</td>\n",
       "      <td>750</td>\n",
       "      <td>Data Engineer</td>\n",
       "      <td>2022-06-02</td>\n",
       "    </tr>\n",
       "    <tr>\n",
       "      <th>Redshift</th>\n",
       "      <td>3928</td>\n",
       "      <td>1667</td>\n",
       "      <td>Data Engineer</td>\n",
       "      <td>2022-06-02</td>\n",
       "    </tr>\n",
       "    <tr>\n",
       "      <th>Terraform</th>\n",
       "      <td>1213</td>\n",
       "      <td>494</td>\n",
       "      <td>Data Engineer</td>\n",
       "      <td>2022-06-02</td>\n",
       "    </tr>\n",
       "    <tr>\n",
       "      <th>Kafka</th>\n",
       "      <td>4011</td>\n",
       "      <td>1498</td>\n",
       "      <td>Data Engineer</td>\n",
       "      <td>2022-06-02</td>\n",
       "    </tr>\n",
       "    <tr>\n",
       "      <th>Jenkins</th>\n",
       "      <td>955</td>\n",
       "      <td>543</td>\n",
       "      <td>Data Engineer</td>\n",
       "      <td>2022-06-02</td>\n",
       "    </tr>\n",
       "    <tr>\n",
       "      <th>Golang</th>\n",
       "      <td>196</td>\n",
       "      <td>107</td>\n",
       "      <td>Data Engineer</td>\n",
       "      <td>2022-06-02</td>\n",
       "    </tr>\n",
       "    <tr>\n",
       "      <th>Snowflake</th>\n",
       "      <td>3760</td>\n",
       "      <td>1523</td>\n",
       "      <td>Data Engineer</td>\n",
       "      <td>2022-06-02</td>\n",
       "    </tr>\n",
       "    <tr>\n",
       "      <th>Presto</th>\n",
       "      <td>782</td>\n",
       "      <td>267</td>\n",
       "      <td>Data Engineer</td>\n",
       "      <td>2022-06-02</td>\n",
       "    </tr>\n",
       "    <tr>\n",
       "      <th>Kinesis</th>\n",
       "      <td>1506</td>\n",
       "      <td>545</td>\n",
       "      <td>Data Engineer</td>\n",
       "      <td>2022-06-02</td>\n",
       "    </tr>\n",
       "    <tr>\n",
       "      <th>Impala</th>\n",
       "      <td>494</td>\n",
       "      <td>177</td>\n",
       "      <td>Data Engineer</td>\n",
       "      <td>2022-06-02</td>\n",
       "    </tr>\n",
       "    <tr>\n",
       "      <th>SQL Server</th>\n",
       "      <td>1695</td>\n",
       "      <td>1016</td>\n",
       "      <td>Data Engineer</td>\n",
       "      <td>2022-06-02</td>\n",
       "    </tr>\n",
       "    <tr>\n",
       "      <th>SPSS</th>\n",
       "      <td>50</td>\n",
       "      <td>41</td>\n",
       "      <td>Data Engineer</td>\n",
       "      <td>2022-06-02</td>\n",
       "    </tr>\n",
       "    <tr>\n",
       "      <th>Oozie</th>\n",
       "      <td>244</td>\n",
       "      <td>143</td>\n",
       "      <td>Data Engineer</td>\n",
       "      <td>2022-06-02</td>\n",
       "    </tr>\n",
       "    <tr>\n",
       "      <th>Stata</th>\n",
       "      <td>22</td>\n",
       "      <td>18</td>\n",
       "      <td>Data Engineer</td>\n",
       "      <td>2022-06-02</td>\n",
       "    </tr>\n",
       "    <tr>\n",
       "      <th>React</th>\n",
       "      <td>329</td>\n",
       "      <td>215</td>\n",
       "      <td>Data Engineer</td>\n",
       "      <td>2022-06-02</td>\n",
       "    </tr>\n",
       "    <tr>\n",
       "      <th>Kotlin</th>\n",
       "      <td>81</td>\n",
       "      <td>43</td>\n",
       "      <td>Data Engineer</td>\n",
       "      <td>2022-06-02</td>\n",
       "    </tr>\n",
       "    <tr>\n",
       "      <th>Fortran</th>\n",
       "      <td>5</td>\n",
       "      <td>5</td>\n",
       "      <td>Data Engineer</td>\n",
       "      <td>2022-06-02</td>\n",
       "    </tr>\n",
       "    <tr>\n",
       "      <th>Rust</th>\n",
       "      <td>57</td>\n",
       "      <td>36</td>\n",
       "      <td>Data Engineer</td>\n",
       "      <td>2022-06-02</td>\n",
       "    </tr>\n",
       "    <tr>\n",
       "      <th>Dart</th>\n",
       "      <td>9</td>\n",
       "      <td>5</td>\n",
       "      <td>Data Engineer</td>\n",
       "      <td>2022-06-02</td>\n",
       "    </tr>\n",
       "    <tr>\n",
       "      <th>Clojure</th>\n",
       "      <td>22</td>\n",
       "      <td>9</td>\n",
       "      <td>Data Engineer</td>\n",
       "      <td>2022-06-02</td>\n",
       "    </tr>\n",
       "    <tr>\n",
       "      <th>Vue</th>\n",
       "      <td>53</td>\n",
       "      <td>32</td>\n",
       "      <td>Data Engineer</td>\n",
       "      <td>2022-06-02</td>\n",
       "    </tr>\n",
       "    <tr>\n",
       "      <th>Svelte</th>\n",
       "      <td>1</td>\n",
       "      <td>1</td>\n",
       "      <td>Data Engineer</td>\n",
       "      <td>2022-06-02</td>\n",
       "    </tr>\n",
       "    <tr>\n",
       "      <th>Next.js</th>\n",
       "      <td>1</td>\n",
       "      <td>1</td>\n",
       "      <td>Data Engineer</td>\n",
       "      <td>2022-06-02</td>\n",
       "    </tr>\n",
       "    <tr>\n",
       "      <th>Swift</th>\n",
       "      <td>19</td>\n",
       "      <td>17</td>\n",
       "      <td>Data Engineer</td>\n",
       "      <td>2022-06-02</td>\n",
       "    </tr>\n",
       "    <tr>\n",
       "      <th>CSS</th>\n",
       "      <td>180</td>\n",
       "      <td>119</td>\n",
       "      <td>Data Engineer</td>\n",
       "      <td>2022-06-02</td>\n",
       "    </tr>\n",
       "    <tr>\n",
       "      <th>HTML</th>\n",
       "      <td>338</td>\n",
       "      <td>179</td>\n",
       "      <td>Data Engineer</td>\n",
       "      <td>2022-06-02</td>\n",
       "    </tr>\n",
       "    <tr>\n",
       "      <th>Bash</th>\n",
       "      <td>671</td>\n",
       "      <td>275</td>\n",
       "      <td>Data Engineer</td>\n",
       "      <td>2022-06-02</td>\n",
       "    </tr>\n",
       "    <tr>\n",
       "      <th>Shell</th>\n",
       "      <td>1179</td>\n",
       "      <td>535</td>\n",
       "      <td>Data Engineer</td>\n",
       "      <td>2022-06-02</td>\n",
       "    </tr>\n",
       "    <tr>\n",
       "      <th>TypeScript</th>\n",
       "      <td>173</td>\n",
       "      <td>95</td>\n",
       "      <td>Data Engineer</td>\n",
       "      <td>2022-06-02</td>\n",
       "    </tr>\n",
       "    <tr>\n",
       "      <th>Objective-C</th>\n",
       "      <td>4</td>\n",
       "      <td>2</td>\n",
       "      <td>Data Engineer</td>\n",
       "      <td>2022-06-02</td>\n",
       "    </tr>\n",
       "    <tr>\n",
       "      <th>WebAssembly</th>\n",
       "      <td>2</td>\n",
       "      <td>2</td>\n",
       "      <td>Data Engineer</td>\n",
       "      <td>2022-06-02</td>\n",
       "    </tr>\n",
       "    <tr>\n",
       "      <th>Visual Basic</th>\n",
       "      <td>18</td>\n",
       "      <td>16</td>\n",
       "      <td>Data Engineer</td>\n",
       "      <td>2022-06-02</td>\n",
       "    </tr>\n",
       "    <tr>\n",
       "      <th>.net</th>\n",
       "      <td>562</td>\n",
       "      <td>308</td>\n",
       "      <td>Data Engineer</td>\n",
       "      <td>2022-06-02</td>\n",
       "    </tr>\n",
       "    <tr>\n",
       "      <th>ASP</th>\n",
       "      <td>51</td>\n",
       "      <td>34</td>\n",
       "      <td>Data Engineer</td>\n",
       "      <td>2022-06-02</td>\n",
       "    </tr>\n",
       "    <tr>\n",
       "      <th>Prefect</th>\n",
       "      <td>268</td>\n",
       "      <td>91</td>\n",
       "      <td>Data Engineer</td>\n",
       "      <td>2022-06-02</td>\n",
       "    </tr>\n",
       "    <tr>\n",
       "      <th>Luigi</th>\n",
       "      <td>433</td>\n",
       "      <td>197</td>\n",
       "      <td>Data Engineer</td>\n",
       "      <td>2022-06-02</td>\n",
       "    </tr>\n",
       "    <tr>\n",
       "      <th>Dagster</th>\n",
       "      <td>83</td>\n",
       "      <td>35</td>\n",
       "      <td>Data Engineer</td>\n",
       "      <td>2022-06-02</td>\n",
       "    </tr>\n",
       "    <tr>\n",
       "      <th>Plotly</th>\n",
       "      <td>35</td>\n",
       "      <td>31</td>\n",
       "      <td>Data Engineer</td>\n",
       "      <td>2022-06-02</td>\n",
       "    </tr>\n",
       "    <tr>\n",
       "      <th>dbt</th>\n",
       "      <td>810</td>\n",
       "      <td>376</td>\n",
       "      <td>Data Engineer</td>\n",
       "      <td>2022-06-02</td>\n",
       "    </tr>\n",
       "    <tr>\n",
       "      <th>Looker</th>\n",
       "      <td>765</td>\n",
       "      <td>343</td>\n",
       "      <td>Data Engineer</td>\n",
       "      <td>2022-06-02</td>\n",
       "    </tr>\n",
       "    <tr>\n",
       "      <th>Metabase</th>\n",
       "      <td>17</td>\n",
       "      <td>15</td>\n",
       "      <td>Data Engineer</td>\n",
       "      <td>2022-06-02</td>\n",
       "    </tr>\n",
       "    <tr>\n",
       "      <th>FastAPI</th>\n",
       "      <td>31</td>\n",
       "      <td>24</td>\n",
       "      <td>Data Engineer</td>\n",
       "      <td>2022-06-02</td>\n",
       "    </tr>\n",
       "    <tr>\n",
       "      <th>Sagemaker</th>\n",
       "      <td>295</td>\n",
       "      <td>161</td>\n",
       "      <td>Data Engineer</td>\n",
       "      <td>2022-06-02</td>\n",
       "    </tr>\n",
       "    <tr>\n",
       "      <th>MLFlow</th>\n",
       "      <td>58</td>\n",
       "      <td>34</td>\n",
       "      <td>Data Engineer</td>\n",
       "      <td>2022-06-02</td>\n",
       "    </tr>\n",
       "    <tr>\n",
       "      <th>Kubeflow</th>\n",
       "      <td>56</td>\n",
       "      <td>37</td>\n",
       "      <td>Data Engineer</td>\n",
       "      <td>2022-06-02</td>\n",
       "    </tr>\n",
       "    <tr>\n",
       "      <th>Glue</th>\n",
       "      <td>1836</td>\n",
       "      <td>832</td>\n",
       "      <td>Data Engineer</td>\n",
       "      <td>2022-06-02</td>\n",
       "    </tr>\n",
       "    <tr>\n",
       "      <th>Athena</th>\n",
       "      <td>1131</td>\n",
       "      <td>497</td>\n",
       "      <td>Data Engineer</td>\n",
       "      <td>2022-06-02</td>\n",
       "    </tr>\n",
       "  </tbody>\n",
       "</table>\n",
       "</div>"
      ],
      "text/plain": [
       "               indeed  simplyhired       position        date\n",
       "term                                                         \n",
       "Data Engineer   15418         7009  Data Engineer  2022-06-02\n",
       "Python          11001         4992  Data Engineer  2022-06-02\n",
       "SQL             11325         5300  Data Engineer  2022-06-02\n",
       "R                1724          989  Data Engineer  2022-06-02\n",
       "Spark            6757         2811  Data Engineer  2022-06-02\n",
       "Hadoop           3916         1623  Data Engineer  2022-06-02\n",
       "Java             5254         2303  Data Engineer  2022-06-02\n",
       "Tableau          2501         1419  Data Engineer  2022-06-02\n",
       "AWS              8401         3572  Data Engineer  2022-06-02\n",
       "SAS               360          252  Data Engineer  2022-06-02\n",
       "Hive             3336         1131  Data Engineer  2022-06-02\n",
       "Scala            3689         1497  Data Engineer  2022-06-02\n",
       "Excel             966          548  Data Engineer  2022-06-02\n",
       "TensorFlow        268          158  Data Engineer  2022-06-02\n",
       "Azure            4764         2040  Data Engineer  2022-06-02\n",
       "NoSQL            3163         1374  Data Engineer  2022-06-02\n",
       "Linux            1851          849  Data Engineer  2022-06-02\n",
       "C                 873          347  Data Engineer  2022-06-02\n",
       "C++               733          436  Data Engineer  2022-06-02\n",
       "C#                726          421  Data Engineer  2022-06-02\n",
       "Matlab            152          111  Data Engineer  2022-06-02\n",
       "Scikit-learn      118           91  Data Engineer  2022-06-02\n",
       "Pandas            577          291  Data Engineer  2022-06-02\n",
       "Git              1518          906  Data Engineer  2022-06-02\n",
       "Keras              95           47  Data Engineer  2022-06-02\n",
       "Javascript       1058          534  Data Engineer  2022-06-02\n",
       "Pig               518          222  Data Engineer  2022-06-02\n",
       "Hbase             843          359  Data Engineer  2022-06-02\n",
       "Docker           1661          808  Data Engineer  2022-06-02\n",
       "NumPy             306          142  Data Engineer  2022-06-02\n",
       "PyTorch           139           90  Data Engineer  2022-06-02\n",
       "MySQL            1733          703  Data Engineer  2022-06-02\n",
       "Perl              272          182  Data Engineer  2022-06-02\n",
       "Cassandra        1339          446  Data Engineer  2022-06-02\n",
       "MongoDB           900          472  Data Engineer  2022-06-02\n",
       "GCP              4011         1540  Data Engineer  2022-06-02\n",
       "Kubernetes       1557          761  Data Engineer  2022-06-02\n",
       "D3                 47           31  Data Engineer  2022-06-02\n",
       "Databricks       1518          782  Data Engineer  2022-06-02\n",
       "Postgres         2222         1008  Data Engineer  2022-06-02\n",
       "Airflow          2573         1309  Data Engineer  2022-06-02\n",
       "Alteryx           253          151  Data Engineer  2022-06-02\n",
       "BigQuery         1130          493  Data Engineer  2022-06-02\n",
       "Ruby              588          286  Data Engineer  2022-06-02\n",
       "PowerPoint        415          123  Data Engineer  2022-06-02\n",
       "Power BI         1063          661  Data Engineer  2022-06-02\n",
       "Shiny              41           33  Data Engineer  2022-06-02\n",
       "Julia              47           27  Data Engineer  2022-06-02\n",
       "Jupyter           236          127  Data Engineer  2022-06-02\n",
       "PHP               126           79  Data Engineer  2022-06-02\n",
       "Matplotlib         66           57  Data Engineer  2022-06-02\n",
       "Node              224          143  Data Engineer  2022-06-02\n",
       "Flask              93           75  Data Engineer  2022-06-02\n",
       "Neo4j             201           84  Data Engineer  2022-06-02\n",
       "Redis             284          176  Data Engineer  2022-06-02\n",
       "Oracle           1868         1019  Data Engineer  2022-06-02\n",
       "Lambda           1756          750  Data Engineer  2022-06-02\n",
       "Redshift         3928         1667  Data Engineer  2022-06-02\n",
       "Terraform        1213          494  Data Engineer  2022-06-02\n",
       "Kafka            4011         1498  Data Engineer  2022-06-02\n",
       "Jenkins           955          543  Data Engineer  2022-06-02\n",
       "Golang            196          107  Data Engineer  2022-06-02\n",
       "Snowflake        3760         1523  Data Engineer  2022-06-02\n",
       "Presto            782          267  Data Engineer  2022-06-02\n",
       "Kinesis          1506          545  Data Engineer  2022-06-02\n",
       "Impala            494          177  Data Engineer  2022-06-02\n",
       "SQL Server       1695         1016  Data Engineer  2022-06-02\n",
       "SPSS               50           41  Data Engineer  2022-06-02\n",
       "Oozie             244          143  Data Engineer  2022-06-02\n",
       "Stata              22           18  Data Engineer  2022-06-02\n",
       "React             329          215  Data Engineer  2022-06-02\n",
       "Kotlin             81           43  Data Engineer  2022-06-02\n",
       "Fortran             5            5  Data Engineer  2022-06-02\n",
       "Rust               57           36  Data Engineer  2022-06-02\n",
       "Dart                9            5  Data Engineer  2022-06-02\n",
       "Clojure            22            9  Data Engineer  2022-06-02\n",
       "Vue                53           32  Data Engineer  2022-06-02\n",
       "Svelte              1            1  Data Engineer  2022-06-02\n",
       "Next.js             1            1  Data Engineer  2022-06-02\n",
       "Swift              19           17  Data Engineer  2022-06-02\n",
       "CSS               180          119  Data Engineer  2022-06-02\n",
       "HTML              338          179  Data Engineer  2022-06-02\n",
       "Bash              671          275  Data Engineer  2022-06-02\n",
       "Shell            1179          535  Data Engineer  2022-06-02\n",
       "TypeScript        173           95  Data Engineer  2022-06-02\n",
       "Objective-C         4            2  Data Engineer  2022-06-02\n",
       "WebAssembly         2            2  Data Engineer  2022-06-02\n",
       "Visual Basic       18           16  Data Engineer  2022-06-02\n",
       ".net              562          308  Data Engineer  2022-06-02\n",
       "ASP                51           34  Data Engineer  2022-06-02\n",
       "Prefect           268           91  Data Engineer  2022-06-02\n",
       "Luigi             433          197  Data Engineer  2022-06-02\n",
       "Dagster            83           35  Data Engineer  2022-06-02\n",
       "Plotly             35           31  Data Engineer  2022-06-02\n",
       "dbt               810          376  Data Engineer  2022-06-02\n",
       "Looker            765          343  Data Engineer  2022-06-02\n",
       "Metabase           17           15  Data Engineer  2022-06-02\n",
       "FastAPI            31           24  Data Engineer  2022-06-02\n",
       "Sagemaker         295          161  Data Engineer  2022-06-02\n",
       "MLFlow             58           34  Data Engineer  2022-06-02\n",
       "Kubeflow           56           37  Data Engineer  2022-06-02\n",
       "Glue             1836          832  Data Engineer  2022-06-02\n",
       "Athena           1131          497  Data Engineer  2022-06-02"
      ]
     },
     "execution_count": 577,
     "metadata": {},
     "output_type": "execute_result"
    }
   ],
   "source": [
    "df_2022 = combine(df_2022, 'GCP', 'Google Cloud')\n",
    "df_2022 = combine(df_2022, 'Postgres', 'PostgreSQL')\n",
    "df_2022"
   ]
  },
  {
   "cell_type": "markdown",
   "metadata": {},
   "source": [
    "Make a column with % of all listings for each job site and take the average of the two sites."
   ]
  },
  {
   "cell_type": "code",
   "execution_count": 578,
   "metadata": {},
   "outputs": [],
   "source": [
    "df_2022['indeed_pct'] = (df_2022['indeed']/ df_2022.iloc[0, 0] ).round(3)\n",
    "df_2022['simplyhired_pct'] = (df_2022['simplyhired'] / df_2022.iloc[0, 1]).round(3)\n",
    "df_2022['mean_pct'] = df_2022[['indeed_pct', 'simplyhired_pct']].mean(axis=1).round(3)"
   ]
  },
  {
   "cell_type": "markdown",
   "metadata": {},
   "source": [
    "Sort"
   ]
  },
  {
   "cell_type": "code",
   "execution_count": 579,
   "metadata": {},
   "outputs": [
    {
     "data": {
      "text/html": [
       "<div>\n",
       "<style scoped>\n",
       "    .dataframe tbody tr th:only-of-type {\n",
       "        vertical-align: middle;\n",
       "    }\n",
       "\n",
       "    .dataframe tbody tr th {\n",
       "        vertical-align: top;\n",
       "    }\n",
       "\n",
       "    .dataframe thead th {\n",
       "        text-align: right;\n",
       "    }\n",
       "</style>\n",
       "<table border=\"1\" class=\"dataframe\">\n",
       "  <thead>\n",
       "    <tr style=\"text-align: right;\">\n",
       "      <th></th>\n",
       "      <th>indeed</th>\n",
       "      <th>simplyhired</th>\n",
       "      <th>position</th>\n",
       "      <th>date</th>\n",
       "      <th>indeed_pct</th>\n",
       "      <th>simplyhired_pct</th>\n",
       "      <th>mean_pct</th>\n",
       "    </tr>\n",
       "    <tr>\n",
       "      <th>term</th>\n",
       "      <th></th>\n",
       "      <th></th>\n",
       "      <th></th>\n",
       "      <th></th>\n",
       "      <th></th>\n",
       "      <th></th>\n",
       "      <th></th>\n",
       "    </tr>\n",
       "  </thead>\n",
       "  <tbody>\n",
       "    <tr>\n",
       "      <th>Data Engineer</th>\n",
       "      <td>15418</td>\n",
       "      <td>7009</td>\n",
       "      <td>Data Engineer</td>\n",
       "      <td>2022-06-02</td>\n",
       "      <td>1.000</td>\n",
       "      <td>1.000</td>\n",
       "      <td>1.000</td>\n",
       "    </tr>\n",
       "    <tr>\n",
       "      <th>SQL</th>\n",
       "      <td>11325</td>\n",
       "      <td>5300</td>\n",
       "      <td>Data Engineer</td>\n",
       "      <td>2022-06-02</td>\n",
       "      <td>0.735</td>\n",
       "      <td>0.756</td>\n",
       "      <td>0.746</td>\n",
       "    </tr>\n",
       "    <tr>\n",
       "      <th>Python</th>\n",
       "      <td>11001</td>\n",
       "      <td>4992</td>\n",
       "      <td>Data Engineer</td>\n",
       "      <td>2022-06-02</td>\n",
       "      <td>0.714</td>\n",
       "      <td>0.712</td>\n",
       "      <td>0.713</td>\n",
       "    </tr>\n",
       "    <tr>\n",
       "      <th>AWS</th>\n",
       "      <td>8401</td>\n",
       "      <td>3572</td>\n",
       "      <td>Data Engineer</td>\n",
       "      <td>2022-06-02</td>\n",
       "      <td>0.545</td>\n",
       "      <td>0.510</td>\n",
       "      <td>0.528</td>\n",
       "    </tr>\n",
       "    <tr>\n",
       "      <th>Spark</th>\n",
       "      <td>6757</td>\n",
       "      <td>2811</td>\n",
       "      <td>Data Engineer</td>\n",
       "      <td>2022-06-02</td>\n",
       "      <td>0.438</td>\n",
       "      <td>0.401</td>\n",
       "      <td>0.420</td>\n",
       "    </tr>\n",
       "    <tr>\n",
       "      <th>Java</th>\n",
       "      <td>5254</td>\n",
       "      <td>2303</td>\n",
       "      <td>Data Engineer</td>\n",
       "      <td>2022-06-02</td>\n",
       "      <td>0.341</td>\n",
       "      <td>0.329</td>\n",
       "      <td>0.335</td>\n",
       "    </tr>\n",
       "    <tr>\n",
       "      <th>Azure</th>\n",
       "      <td>4764</td>\n",
       "      <td>2040</td>\n",
       "      <td>Data Engineer</td>\n",
       "      <td>2022-06-02</td>\n",
       "      <td>0.309</td>\n",
       "      <td>0.291</td>\n",
       "      <td>0.300</td>\n",
       "    </tr>\n",
       "    <tr>\n",
       "      <th>Redshift</th>\n",
       "      <td>3928</td>\n",
       "      <td>1667</td>\n",
       "      <td>Data Engineer</td>\n",
       "      <td>2022-06-02</td>\n",
       "      <td>0.255</td>\n",
       "      <td>0.238</td>\n",
       "      <td>0.246</td>\n",
       "    </tr>\n",
       "    <tr>\n",
       "      <th>Hadoop</th>\n",
       "      <td>3916</td>\n",
       "      <td>1623</td>\n",
       "      <td>Data Engineer</td>\n",
       "      <td>2022-06-02</td>\n",
       "      <td>0.254</td>\n",
       "      <td>0.232</td>\n",
       "      <td>0.243</td>\n",
       "    </tr>\n",
       "    <tr>\n",
       "      <th>GCP</th>\n",
       "      <td>4011</td>\n",
       "      <td>1540</td>\n",
       "      <td>Data Engineer</td>\n",
       "      <td>2022-06-02</td>\n",
       "      <td>0.260</td>\n",
       "      <td>0.220</td>\n",
       "      <td>0.240</td>\n",
       "    </tr>\n",
       "    <tr>\n",
       "      <th>Kafka</th>\n",
       "      <td>4011</td>\n",
       "      <td>1498</td>\n",
       "      <td>Data Engineer</td>\n",
       "      <td>2022-06-02</td>\n",
       "      <td>0.260</td>\n",
       "      <td>0.214</td>\n",
       "      <td>0.237</td>\n",
       "    </tr>\n",
       "    <tr>\n",
       "      <th>Snowflake</th>\n",
       "      <td>3760</td>\n",
       "      <td>1523</td>\n",
       "      <td>Data Engineer</td>\n",
       "      <td>2022-06-02</td>\n",
       "      <td>0.244</td>\n",
       "      <td>0.217</td>\n",
       "      <td>0.230</td>\n",
       "    </tr>\n",
       "    <tr>\n",
       "      <th>Scala</th>\n",
       "      <td>3689</td>\n",
       "      <td>1497</td>\n",
       "      <td>Data Engineer</td>\n",
       "      <td>2022-06-02</td>\n",
       "      <td>0.239</td>\n",
       "      <td>0.214</td>\n",
       "      <td>0.226</td>\n",
       "    </tr>\n",
       "    <tr>\n",
       "      <th>NoSQL</th>\n",
       "      <td>3163</td>\n",
       "      <td>1374</td>\n",
       "      <td>Data Engineer</td>\n",
       "      <td>2022-06-02</td>\n",
       "      <td>0.205</td>\n",
       "      <td>0.196</td>\n",
       "      <td>0.200</td>\n",
       "    </tr>\n",
       "    <tr>\n",
       "      <th>Hive</th>\n",
       "      <td>3336</td>\n",
       "      <td>1131</td>\n",
       "      <td>Data Engineer</td>\n",
       "      <td>2022-06-02</td>\n",
       "      <td>0.216</td>\n",
       "      <td>0.161</td>\n",
       "      <td>0.188</td>\n",
       "    </tr>\n",
       "    <tr>\n",
       "      <th>Tableau</th>\n",
       "      <td>2501</td>\n",
       "      <td>1419</td>\n",
       "      <td>Data Engineer</td>\n",
       "      <td>2022-06-02</td>\n",
       "      <td>0.162</td>\n",
       "      <td>0.202</td>\n",
       "      <td>0.182</td>\n",
       "    </tr>\n",
       "    <tr>\n",
       "      <th>Airflow</th>\n",
       "      <td>2573</td>\n",
       "      <td>1309</td>\n",
       "      <td>Data Engineer</td>\n",
       "      <td>2022-06-02</td>\n",
       "      <td>0.167</td>\n",
       "      <td>0.187</td>\n",
       "      <td>0.177</td>\n",
       "    </tr>\n",
       "    <tr>\n",
       "      <th>Postgres</th>\n",
       "      <td>2222</td>\n",
       "      <td>1008</td>\n",
       "      <td>Data Engineer</td>\n",
       "      <td>2022-06-02</td>\n",
       "      <td>0.144</td>\n",
       "      <td>0.144</td>\n",
       "      <td>0.144</td>\n",
       "    </tr>\n",
       "    <tr>\n",
       "      <th>Oracle</th>\n",
       "      <td>1868</td>\n",
       "      <td>1019</td>\n",
       "      <td>Data Engineer</td>\n",
       "      <td>2022-06-02</td>\n",
       "      <td>0.121</td>\n",
       "      <td>0.145</td>\n",
       "      <td>0.133</td>\n",
       "    </tr>\n",
       "    <tr>\n",
       "      <th>SQL Server</th>\n",
       "      <td>1695</td>\n",
       "      <td>1016</td>\n",
       "      <td>Data Engineer</td>\n",
       "      <td>2022-06-02</td>\n",
       "      <td>0.110</td>\n",
       "      <td>0.145</td>\n",
       "      <td>0.128</td>\n",
       "    </tr>\n",
       "    <tr>\n",
       "      <th>R</th>\n",
       "      <td>1724</td>\n",
       "      <td>989</td>\n",
       "      <td>Data Engineer</td>\n",
       "      <td>2022-06-02</td>\n",
       "      <td>0.112</td>\n",
       "      <td>0.141</td>\n",
       "      <td>0.126</td>\n",
       "    </tr>\n",
       "    <tr>\n",
       "      <th>Linux</th>\n",
       "      <td>1851</td>\n",
       "      <td>849</td>\n",
       "      <td>Data Engineer</td>\n",
       "      <td>2022-06-02</td>\n",
       "      <td>0.120</td>\n",
       "      <td>0.121</td>\n",
       "      <td>0.120</td>\n",
       "    </tr>\n",
       "    <tr>\n",
       "      <th>Glue</th>\n",
       "      <td>1836</td>\n",
       "      <td>832</td>\n",
       "      <td>Data Engineer</td>\n",
       "      <td>2022-06-02</td>\n",
       "      <td>0.119</td>\n",
       "      <td>0.119</td>\n",
       "      <td>0.119</td>\n",
       "    </tr>\n",
       "    <tr>\n",
       "      <th>Git</th>\n",
       "      <td>1518</td>\n",
       "      <td>906</td>\n",
       "      <td>Data Engineer</td>\n",
       "      <td>2022-06-02</td>\n",
       "      <td>0.098</td>\n",
       "      <td>0.129</td>\n",
       "      <td>0.114</td>\n",
       "    </tr>\n",
       "    <tr>\n",
       "      <th>Docker</th>\n",
       "      <td>1661</td>\n",
       "      <td>808</td>\n",
       "      <td>Data Engineer</td>\n",
       "      <td>2022-06-02</td>\n",
       "      <td>0.108</td>\n",
       "      <td>0.115</td>\n",
       "      <td>0.112</td>\n",
       "    </tr>\n",
       "    <tr>\n",
       "      <th>Lambda</th>\n",
       "      <td>1756</td>\n",
       "      <td>750</td>\n",
       "      <td>Data Engineer</td>\n",
       "      <td>2022-06-02</td>\n",
       "      <td>0.114</td>\n",
       "      <td>0.107</td>\n",
       "      <td>0.110</td>\n",
       "    </tr>\n",
       "    <tr>\n",
       "      <th>MySQL</th>\n",
       "      <td>1733</td>\n",
       "      <td>703</td>\n",
       "      <td>Data Engineer</td>\n",
       "      <td>2022-06-02</td>\n",
       "      <td>0.112</td>\n",
       "      <td>0.100</td>\n",
       "      <td>0.106</td>\n",
       "    </tr>\n",
       "    <tr>\n",
       "      <th>Kubernetes</th>\n",
       "      <td>1557</td>\n",
       "      <td>761</td>\n",
       "      <td>Data Engineer</td>\n",
       "      <td>2022-06-02</td>\n",
       "      <td>0.101</td>\n",
       "      <td>0.109</td>\n",
       "      <td>0.105</td>\n",
       "    </tr>\n",
       "    <tr>\n",
       "      <th>Databricks</th>\n",
       "      <td>1518</td>\n",
       "      <td>782</td>\n",
       "      <td>Data Engineer</td>\n",
       "      <td>2022-06-02</td>\n",
       "      <td>0.098</td>\n",
       "      <td>0.112</td>\n",
       "      <td>0.105</td>\n",
       "    </tr>\n",
       "    <tr>\n",
       "      <th>Kinesis</th>\n",
       "      <td>1506</td>\n",
       "      <td>545</td>\n",
       "      <td>Data Engineer</td>\n",
       "      <td>2022-06-02</td>\n",
       "      <td>0.098</td>\n",
       "      <td>0.078</td>\n",
       "      <td>0.088</td>\n",
       "    </tr>\n",
       "    <tr>\n",
       "      <th>Power BI</th>\n",
       "      <td>1063</td>\n",
       "      <td>661</td>\n",
       "      <td>Data Engineer</td>\n",
       "      <td>2022-06-02</td>\n",
       "      <td>0.069</td>\n",
       "      <td>0.094</td>\n",
       "      <td>0.082</td>\n",
       "    </tr>\n",
       "    <tr>\n",
       "      <th>Shell</th>\n",
       "      <td>1179</td>\n",
       "      <td>535</td>\n",
       "      <td>Data Engineer</td>\n",
       "      <td>2022-06-02</td>\n",
       "      <td>0.076</td>\n",
       "      <td>0.076</td>\n",
       "      <td>0.076</td>\n",
       "    </tr>\n",
       "    <tr>\n",
       "      <th>Cassandra</th>\n",
       "      <td>1339</td>\n",
       "      <td>446</td>\n",
       "      <td>Data Engineer</td>\n",
       "      <td>2022-06-02</td>\n",
       "      <td>0.087</td>\n",
       "      <td>0.064</td>\n",
       "      <td>0.076</td>\n",
       "    </tr>\n",
       "    <tr>\n",
       "      <th>Terraform</th>\n",
       "      <td>1213</td>\n",
       "      <td>494</td>\n",
       "      <td>Data Engineer</td>\n",
       "      <td>2022-06-02</td>\n",
       "      <td>0.079</td>\n",
       "      <td>0.070</td>\n",
       "      <td>0.075</td>\n",
       "    </tr>\n",
       "    <tr>\n",
       "      <th>Javascript</th>\n",
       "      <td>1058</td>\n",
       "      <td>534</td>\n",
       "      <td>Data Engineer</td>\n",
       "      <td>2022-06-02</td>\n",
       "      <td>0.069</td>\n",
       "      <td>0.076</td>\n",
       "      <td>0.073</td>\n",
       "    </tr>\n",
       "    <tr>\n",
       "      <th>BigQuery</th>\n",
       "      <td>1130</td>\n",
       "      <td>493</td>\n",
       "      <td>Data Engineer</td>\n",
       "      <td>2022-06-02</td>\n",
       "      <td>0.073</td>\n",
       "      <td>0.070</td>\n",
       "      <td>0.072</td>\n",
       "    </tr>\n",
       "    <tr>\n",
       "      <th>Athena</th>\n",
       "      <td>1131</td>\n",
       "      <td>497</td>\n",
       "      <td>Data Engineer</td>\n",
       "      <td>2022-06-02</td>\n",
       "      <td>0.073</td>\n",
       "      <td>0.071</td>\n",
       "      <td>0.072</td>\n",
       "    </tr>\n",
       "    <tr>\n",
       "      <th>Excel</th>\n",
       "      <td>966</td>\n",
       "      <td>548</td>\n",
       "      <td>Data Engineer</td>\n",
       "      <td>2022-06-02</td>\n",
       "      <td>0.063</td>\n",
       "      <td>0.078</td>\n",
       "      <td>0.070</td>\n",
       "    </tr>\n",
       "    <tr>\n",
       "      <th>Jenkins</th>\n",
       "      <td>955</td>\n",
       "      <td>543</td>\n",
       "      <td>Data Engineer</td>\n",
       "      <td>2022-06-02</td>\n",
       "      <td>0.062</td>\n",
       "      <td>0.077</td>\n",
       "      <td>0.070</td>\n",
       "    </tr>\n",
       "    <tr>\n",
       "      <th>MongoDB</th>\n",
       "      <td>900</td>\n",
       "      <td>472</td>\n",
       "      <td>Data Engineer</td>\n",
       "      <td>2022-06-02</td>\n",
       "      <td>0.058</td>\n",
       "      <td>0.067</td>\n",
       "      <td>0.062</td>\n",
       "    </tr>\n",
       "    <tr>\n",
       "      <th>C++</th>\n",
       "      <td>733</td>\n",
       "      <td>436</td>\n",
       "      <td>Data Engineer</td>\n",
       "      <td>2022-06-02</td>\n",
       "      <td>0.048</td>\n",
       "      <td>0.062</td>\n",
       "      <td>0.055</td>\n",
       "    </tr>\n",
       "    <tr>\n",
       "      <th>C</th>\n",
       "      <td>873</td>\n",
       "      <td>347</td>\n",
       "      <td>Data Engineer</td>\n",
       "      <td>2022-06-02</td>\n",
       "      <td>0.057</td>\n",
       "      <td>0.050</td>\n",
       "      <td>0.054</td>\n",
       "    </tr>\n",
       "    <tr>\n",
       "      <th>C#</th>\n",
       "      <td>726</td>\n",
       "      <td>421</td>\n",
       "      <td>Data Engineer</td>\n",
       "      <td>2022-06-02</td>\n",
       "      <td>0.047</td>\n",
       "      <td>0.060</td>\n",
       "      <td>0.054</td>\n",
       "    </tr>\n",
       "    <tr>\n",
       "      <th>dbt</th>\n",
       "      <td>810</td>\n",
       "      <td>376</td>\n",
       "      <td>Data Engineer</td>\n",
       "      <td>2022-06-02</td>\n",
       "      <td>0.053</td>\n",
       "      <td>0.054</td>\n",
       "      <td>0.054</td>\n",
       "    </tr>\n",
       "    <tr>\n",
       "      <th>Hbase</th>\n",
       "      <td>843</td>\n",
       "      <td>359</td>\n",
       "      <td>Data Engineer</td>\n",
       "      <td>2022-06-02</td>\n",
       "      <td>0.055</td>\n",
       "      <td>0.051</td>\n",
       "      <td>0.053</td>\n",
       "    </tr>\n",
       "    <tr>\n",
       "      <th>Looker</th>\n",
       "      <td>765</td>\n",
       "      <td>343</td>\n",
       "      <td>Data Engineer</td>\n",
       "      <td>2022-06-02</td>\n",
       "      <td>0.050</td>\n",
       "      <td>0.049</td>\n",
       "      <td>0.050</td>\n",
       "    </tr>\n",
       "    <tr>\n",
       "      <th>Presto</th>\n",
       "      <td>782</td>\n",
       "      <td>267</td>\n",
       "      <td>Data Engineer</td>\n",
       "      <td>2022-06-02</td>\n",
       "      <td>0.051</td>\n",
       "      <td>0.038</td>\n",
       "      <td>0.044</td>\n",
       "    </tr>\n",
       "    <tr>\n",
       "      <th>Bash</th>\n",
       "      <td>671</td>\n",
       "      <td>275</td>\n",
       "      <td>Data Engineer</td>\n",
       "      <td>2022-06-02</td>\n",
       "      <td>0.044</td>\n",
       "      <td>0.039</td>\n",
       "      <td>0.041</td>\n",
       "    </tr>\n",
       "    <tr>\n",
       "      <th>Ruby</th>\n",
       "      <td>588</td>\n",
       "      <td>286</td>\n",
       "      <td>Data Engineer</td>\n",
       "      <td>2022-06-02</td>\n",
       "      <td>0.038</td>\n",
       "      <td>0.041</td>\n",
       "      <td>0.040</td>\n",
       "    </tr>\n",
       "    <tr>\n",
       "      <th>Pandas</th>\n",
       "      <td>577</td>\n",
       "      <td>291</td>\n",
       "      <td>Data Engineer</td>\n",
       "      <td>2022-06-02</td>\n",
       "      <td>0.037</td>\n",
       "      <td>0.042</td>\n",
       "      <td>0.040</td>\n",
       "    </tr>\n",
       "    <tr>\n",
       "      <th>.net</th>\n",
       "      <td>562</td>\n",
       "      <td>308</td>\n",
       "      <td>Data Engineer</td>\n",
       "      <td>2022-06-02</td>\n",
       "      <td>0.036</td>\n",
       "      <td>0.044</td>\n",
       "      <td>0.040</td>\n",
       "    </tr>\n",
       "    <tr>\n",
       "      <th>Pig</th>\n",
       "      <td>518</td>\n",
       "      <td>222</td>\n",
       "      <td>Data Engineer</td>\n",
       "      <td>2022-06-02</td>\n",
       "      <td>0.034</td>\n",
       "      <td>0.032</td>\n",
       "      <td>0.033</td>\n",
       "    </tr>\n",
       "    <tr>\n",
       "      <th>SAS</th>\n",
       "      <td>360</td>\n",
       "      <td>252</td>\n",
       "      <td>Data Engineer</td>\n",
       "      <td>2022-06-02</td>\n",
       "      <td>0.023</td>\n",
       "      <td>0.036</td>\n",
       "      <td>0.030</td>\n",
       "    </tr>\n",
       "    <tr>\n",
       "      <th>Impala</th>\n",
       "      <td>494</td>\n",
       "      <td>177</td>\n",
       "      <td>Data Engineer</td>\n",
       "      <td>2022-06-02</td>\n",
       "      <td>0.032</td>\n",
       "      <td>0.025</td>\n",
       "      <td>0.028</td>\n",
       "    </tr>\n",
       "    <tr>\n",
       "      <th>Luigi</th>\n",
       "      <td>433</td>\n",
       "      <td>197</td>\n",
       "      <td>Data Engineer</td>\n",
       "      <td>2022-06-02</td>\n",
       "      <td>0.028</td>\n",
       "      <td>0.028</td>\n",
       "      <td>0.028</td>\n",
       "    </tr>\n",
       "    <tr>\n",
       "      <th>React</th>\n",
       "      <td>329</td>\n",
       "      <td>215</td>\n",
       "      <td>Data Engineer</td>\n",
       "      <td>2022-06-02</td>\n",
       "      <td>0.021</td>\n",
       "      <td>0.031</td>\n",
       "      <td>0.026</td>\n",
       "    </tr>\n",
       "    <tr>\n",
       "      <th>HTML</th>\n",
       "      <td>338</td>\n",
       "      <td>179</td>\n",
       "      <td>Data Engineer</td>\n",
       "      <td>2022-06-02</td>\n",
       "      <td>0.022</td>\n",
       "      <td>0.026</td>\n",
       "      <td>0.024</td>\n",
       "    </tr>\n",
       "    <tr>\n",
       "      <th>Redis</th>\n",
       "      <td>284</td>\n",
       "      <td>176</td>\n",
       "      <td>Data Engineer</td>\n",
       "      <td>2022-06-02</td>\n",
       "      <td>0.018</td>\n",
       "      <td>0.025</td>\n",
       "      <td>0.022</td>\n",
       "    </tr>\n",
       "    <tr>\n",
       "      <th>PowerPoint</th>\n",
       "      <td>415</td>\n",
       "      <td>123</td>\n",
       "      <td>Data Engineer</td>\n",
       "      <td>2022-06-02</td>\n",
       "      <td>0.027</td>\n",
       "      <td>0.018</td>\n",
       "      <td>0.022</td>\n",
       "    </tr>\n",
       "    <tr>\n",
       "      <th>Perl</th>\n",
       "      <td>272</td>\n",
       "      <td>182</td>\n",
       "      <td>Data Engineer</td>\n",
       "      <td>2022-06-02</td>\n",
       "      <td>0.018</td>\n",
       "      <td>0.026</td>\n",
       "      <td>0.022</td>\n",
       "    </tr>\n",
       "    <tr>\n",
       "      <th>Sagemaker</th>\n",
       "      <td>295</td>\n",
       "      <td>161</td>\n",
       "      <td>Data Engineer</td>\n",
       "      <td>2022-06-02</td>\n",
       "      <td>0.019</td>\n",
       "      <td>0.023</td>\n",
       "      <td>0.021</td>\n",
       "    </tr>\n",
       "    <tr>\n",
       "      <th>NumPy</th>\n",
       "      <td>306</td>\n",
       "      <td>142</td>\n",
       "      <td>Data Engineer</td>\n",
       "      <td>2022-06-02</td>\n",
       "      <td>0.020</td>\n",
       "      <td>0.020</td>\n",
       "      <td>0.020</td>\n",
       "    </tr>\n",
       "    <tr>\n",
       "      <th>TensorFlow</th>\n",
       "      <td>268</td>\n",
       "      <td>158</td>\n",
       "      <td>Data Engineer</td>\n",
       "      <td>2022-06-02</td>\n",
       "      <td>0.017</td>\n",
       "      <td>0.023</td>\n",
       "      <td>0.020</td>\n",
       "    </tr>\n",
       "    <tr>\n",
       "      <th>Alteryx</th>\n",
       "      <td>253</td>\n",
       "      <td>151</td>\n",
       "      <td>Data Engineer</td>\n",
       "      <td>2022-06-02</td>\n",
       "      <td>0.016</td>\n",
       "      <td>0.022</td>\n",
       "      <td>0.019</td>\n",
       "    </tr>\n",
       "    <tr>\n",
       "      <th>Oozie</th>\n",
       "      <td>244</td>\n",
       "      <td>143</td>\n",
       "      <td>Data Engineer</td>\n",
       "      <td>2022-06-02</td>\n",
       "      <td>0.016</td>\n",
       "      <td>0.020</td>\n",
       "      <td>0.018</td>\n",
       "    </tr>\n",
       "    <tr>\n",
       "      <th>Node</th>\n",
       "      <td>224</td>\n",
       "      <td>143</td>\n",
       "      <td>Data Engineer</td>\n",
       "      <td>2022-06-02</td>\n",
       "      <td>0.015</td>\n",
       "      <td>0.020</td>\n",
       "      <td>0.018</td>\n",
       "    </tr>\n",
       "    <tr>\n",
       "      <th>Jupyter</th>\n",
       "      <td>236</td>\n",
       "      <td>127</td>\n",
       "      <td>Data Engineer</td>\n",
       "      <td>2022-06-02</td>\n",
       "      <td>0.015</td>\n",
       "      <td>0.018</td>\n",
       "      <td>0.016</td>\n",
       "    </tr>\n",
       "    <tr>\n",
       "      <th>Prefect</th>\n",
       "      <td>268</td>\n",
       "      <td>91</td>\n",
       "      <td>Data Engineer</td>\n",
       "      <td>2022-06-02</td>\n",
       "      <td>0.017</td>\n",
       "      <td>0.013</td>\n",
       "      <td>0.015</td>\n",
       "    </tr>\n",
       "    <tr>\n",
       "      <th>Golang</th>\n",
       "      <td>196</td>\n",
       "      <td>107</td>\n",
       "      <td>Data Engineer</td>\n",
       "      <td>2022-06-02</td>\n",
       "      <td>0.013</td>\n",
       "      <td>0.015</td>\n",
       "      <td>0.014</td>\n",
       "    </tr>\n",
       "    <tr>\n",
       "      <th>CSS</th>\n",
       "      <td>180</td>\n",
       "      <td>119</td>\n",
       "      <td>Data Engineer</td>\n",
       "      <td>2022-06-02</td>\n",
       "      <td>0.012</td>\n",
       "      <td>0.017</td>\n",
       "      <td>0.014</td>\n",
       "    </tr>\n",
       "    <tr>\n",
       "      <th>Matlab</th>\n",
       "      <td>152</td>\n",
       "      <td>111</td>\n",
       "      <td>Data Engineer</td>\n",
       "      <td>2022-06-02</td>\n",
       "      <td>0.010</td>\n",
       "      <td>0.016</td>\n",
       "      <td>0.013</td>\n",
       "    </tr>\n",
       "    <tr>\n",
       "      <th>Neo4j</th>\n",
       "      <td>201</td>\n",
       "      <td>84</td>\n",
       "      <td>Data Engineer</td>\n",
       "      <td>2022-06-02</td>\n",
       "      <td>0.013</td>\n",
       "      <td>0.012</td>\n",
       "      <td>0.012</td>\n",
       "    </tr>\n",
       "    <tr>\n",
       "      <th>TypeScript</th>\n",
       "      <td>173</td>\n",
       "      <td>95</td>\n",
       "      <td>Data Engineer</td>\n",
       "      <td>2022-06-02</td>\n",
       "      <td>0.011</td>\n",
       "      <td>0.014</td>\n",
       "      <td>0.012</td>\n",
       "    </tr>\n",
       "    <tr>\n",
       "      <th>PyTorch</th>\n",
       "      <td>139</td>\n",
       "      <td>90</td>\n",
       "      <td>Data Engineer</td>\n",
       "      <td>2022-06-02</td>\n",
       "      <td>0.009</td>\n",
       "      <td>0.013</td>\n",
       "      <td>0.011</td>\n",
       "    </tr>\n",
       "    <tr>\n",
       "      <th>PHP</th>\n",
       "      <td>126</td>\n",
       "      <td>79</td>\n",
       "      <td>Data Engineer</td>\n",
       "      <td>2022-06-02</td>\n",
       "      <td>0.008</td>\n",
       "      <td>0.011</td>\n",
       "      <td>0.010</td>\n",
       "    </tr>\n",
       "    <tr>\n",
       "      <th>Scikit-learn</th>\n",
       "      <td>118</td>\n",
       "      <td>91</td>\n",
       "      <td>Data Engineer</td>\n",
       "      <td>2022-06-02</td>\n",
       "      <td>0.008</td>\n",
       "      <td>0.013</td>\n",
       "      <td>0.010</td>\n",
       "    </tr>\n",
       "    <tr>\n",
       "      <th>Flask</th>\n",
       "      <td>93</td>\n",
       "      <td>75</td>\n",
       "      <td>Data Engineer</td>\n",
       "      <td>2022-06-02</td>\n",
       "      <td>0.006</td>\n",
       "      <td>0.011</td>\n",
       "      <td>0.008</td>\n",
       "    </tr>\n",
       "    <tr>\n",
       "      <th>Keras</th>\n",
       "      <td>95</td>\n",
       "      <td>47</td>\n",
       "      <td>Data Engineer</td>\n",
       "      <td>2022-06-02</td>\n",
       "      <td>0.006</td>\n",
       "      <td>0.007</td>\n",
       "      <td>0.007</td>\n",
       "    </tr>\n",
       "    <tr>\n",
       "      <th>Matplotlib</th>\n",
       "      <td>66</td>\n",
       "      <td>57</td>\n",
       "      <td>Data Engineer</td>\n",
       "      <td>2022-06-02</td>\n",
       "      <td>0.004</td>\n",
       "      <td>0.008</td>\n",
       "      <td>0.006</td>\n",
       "    </tr>\n",
       "    <tr>\n",
       "      <th>Kotlin</th>\n",
       "      <td>81</td>\n",
       "      <td>43</td>\n",
       "      <td>Data Engineer</td>\n",
       "      <td>2022-06-02</td>\n",
       "      <td>0.005</td>\n",
       "      <td>0.006</td>\n",
       "      <td>0.006</td>\n",
       "    </tr>\n",
       "    <tr>\n",
       "      <th>SPSS</th>\n",
       "      <td>50</td>\n",
       "      <td>41</td>\n",
       "      <td>Data Engineer</td>\n",
       "      <td>2022-06-02</td>\n",
       "      <td>0.003</td>\n",
       "      <td>0.006</td>\n",
       "      <td>0.005</td>\n",
       "    </tr>\n",
       "    <tr>\n",
       "      <th>Kubeflow</th>\n",
       "      <td>56</td>\n",
       "      <td>37</td>\n",
       "      <td>Data Engineer</td>\n",
       "      <td>2022-06-02</td>\n",
       "      <td>0.004</td>\n",
       "      <td>0.005</td>\n",
       "      <td>0.005</td>\n",
       "    </tr>\n",
       "    <tr>\n",
       "      <th>MLFlow</th>\n",
       "      <td>58</td>\n",
       "      <td>34</td>\n",
       "      <td>Data Engineer</td>\n",
       "      <td>2022-06-02</td>\n",
       "      <td>0.004</td>\n",
       "      <td>0.005</td>\n",
       "      <td>0.005</td>\n",
       "    </tr>\n",
       "    <tr>\n",
       "      <th>Dagster</th>\n",
       "      <td>83</td>\n",
       "      <td>35</td>\n",
       "      <td>Data Engineer</td>\n",
       "      <td>2022-06-02</td>\n",
       "      <td>0.005</td>\n",
       "      <td>0.005</td>\n",
       "      <td>0.005</td>\n",
       "    </tr>\n",
       "    <tr>\n",
       "      <th>Rust</th>\n",
       "      <td>57</td>\n",
       "      <td>36</td>\n",
       "      <td>Data Engineer</td>\n",
       "      <td>2022-06-02</td>\n",
       "      <td>0.004</td>\n",
       "      <td>0.005</td>\n",
       "      <td>0.005</td>\n",
       "    </tr>\n",
       "    <tr>\n",
       "      <th>D3</th>\n",
       "      <td>47</td>\n",
       "      <td>31</td>\n",
       "      <td>Data Engineer</td>\n",
       "      <td>2022-06-02</td>\n",
       "      <td>0.003</td>\n",
       "      <td>0.004</td>\n",
       "      <td>0.004</td>\n",
       "    </tr>\n",
       "    <tr>\n",
       "      <th>Vue</th>\n",
       "      <td>53</td>\n",
       "      <td>32</td>\n",
       "      <td>Data Engineer</td>\n",
       "      <td>2022-06-02</td>\n",
       "      <td>0.003</td>\n",
       "      <td>0.005</td>\n",
       "      <td>0.004</td>\n",
       "    </tr>\n",
       "    <tr>\n",
       "      <th>Shiny</th>\n",
       "      <td>41</td>\n",
       "      <td>33</td>\n",
       "      <td>Data Engineer</td>\n",
       "      <td>2022-06-02</td>\n",
       "      <td>0.003</td>\n",
       "      <td>0.005</td>\n",
       "      <td>0.004</td>\n",
       "    </tr>\n",
       "    <tr>\n",
       "      <th>ASP</th>\n",
       "      <td>51</td>\n",
       "      <td>34</td>\n",
       "      <td>Data Engineer</td>\n",
       "      <td>2022-06-02</td>\n",
       "      <td>0.003</td>\n",
       "      <td>0.005</td>\n",
       "      <td>0.004</td>\n",
       "    </tr>\n",
       "    <tr>\n",
       "      <th>Julia</th>\n",
       "      <td>47</td>\n",
       "      <td>27</td>\n",
       "      <td>Data Engineer</td>\n",
       "      <td>2022-06-02</td>\n",
       "      <td>0.003</td>\n",
       "      <td>0.004</td>\n",
       "      <td>0.004</td>\n",
       "    </tr>\n",
       "    <tr>\n",
       "      <th>Plotly</th>\n",
       "      <td>35</td>\n",
       "      <td>31</td>\n",
       "      <td>Data Engineer</td>\n",
       "      <td>2022-06-02</td>\n",
       "      <td>0.002</td>\n",
       "      <td>0.004</td>\n",
       "      <td>0.003</td>\n",
       "    </tr>\n",
       "    <tr>\n",
       "      <th>FastAPI</th>\n",
       "      <td>31</td>\n",
       "      <td>24</td>\n",
       "      <td>Data Engineer</td>\n",
       "      <td>2022-06-02</td>\n",
       "      <td>0.002</td>\n",
       "      <td>0.003</td>\n",
       "      <td>0.002</td>\n",
       "    </tr>\n",
       "    <tr>\n",
       "      <th>Metabase</th>\n",
       "      <td>17</td>\n",
       "      <td>15</td>\n",
       "      <td>Data Engineer</td>\n",
       "      <td>2022-06-02</td>\n",
       "      <td>0.001</td>\n",
       "      <td>0.002</td>\n",
       "      <td>0.002</td>\n",
       "    </tr>\n",
       "    <tr>\n",
       "      <th>Stata</th>\n",
       "      <td>22</td>\n",
       "      <td>18</td>\n",
       "      <td>Data Engineer</td>\n",
       "      <td>2022-06-02</td>\n",
       "      <td>0.001</td>\n",
       "      <td>0.003</td>\n",
       "      <td>0.002</td>\n",
       "    </tr>\n",
       "    <tr>\n",
       "      <th>Swift</th>\n",
       "      <td>19</td>\n",
       "      <td>17</td>\n",
       "      <td>Data Engineer</td>\n",
       "      <td>2022-06-02</td>\n",
       "      <td>0.001</td>\n",
       "      <td>0.002</td>\n",
       "      <td>0.002</td>\n",
       "    </tr>\n",
       "    <tr>\n",
       "      <th>Visual Basic</th>\n",
       "      <td>18</td>\n",
       "      <td>16</td>\n",
       "      <td>Data Engineer</td>\n",
       "      <td>2022-06-02</td>\n",
       "      <td>0.001</td>\n",
       "      <td>0.002</td>\n",
       "      <td>0.002</td>\n",
       "    </tr>\n",
       "    <tr>\n",
       "      <th>Dart</th>\n",
       "      <td>9</td>\n",
       "      <td>5</td>\n",
       "      <td>Data Engineer</td>\n",
       "      <td>2022-06-02</td>\n",
       "      <td>0.001</td>\n",
       "      <td>0.001</td>\n",
       "      <td>0.001</td>\n",
       "    </tr>\n",
       "    <tr>\n",
       "      <th>Clojure</th>\n",
       "      <td>22</td>\n",
       "      <td>9</td>\n",
       "      <td>Data Engineer</td>\n",
       "      <td>2022-06-02</td>\n",
       "      <td>0.001</td>\n",
       "      <td>0.001</td>\n",
       "      <td>0.001</td>\n",
       "    </tr>\n",
       "    <tr>\n",
       "      <th>WebAssembly</th>\n",
       "      <td>2</td>\n",
       "      <td>2</td>\n",
       "      <td>Data Engineer</td>\n",
       "      <td>2022-06-02</td>\n",
       "      <td>0.000</td>\n",
       "      <td>0.000</td>\n",
       "      <td>0.000</td>\n",
       "    </tr>\n",
       "    <tr>\n",
       "      <th>Next.js</th>\n",
       "      <td>1</td>\n",
       "      <td>1</td>\n",
       "      <td>Data Engineer</td>\n",
       "      <td>2022-06-02</td>\n",
       "      <td>0.000</td>\n",
       "      <td>0.000</td>\n",
       "      <td>0.000</td>\n",
       "    </tr>\n",
       "    <tr>\n",
       "      <th>Fortran</th>\n",
       "      <td>5</td>\n",
       "      <td>5</td>\n",
       "      <td>Data Engineer</td>\n",
       "      <td>2022-06-02</td>\n",
       "      <td>0.000</td>\n",
       "      <td>0.001</td>\n",
       "      <td>0.000</td>\n",
       "    </tr>\n",
       "    <tr>\n",
       "      <th>Svelte</th>\n",
       "      <td>1</td>\n",
       "      <td>1</td>\n",
       "      <td>Data Engineer</td>\n",
       "      <td>2022-06-02</td>\n",
       "      <td>0.000</td>\n",
       "      <td>0.000</td>\n",
       "      <td>0.000</td>\n",
       "    </tr>\n",
       "    <tr>\n",
       "      <th>Objective-C</th>\n",
       "      <td>4</td>\n",
       "      <td>2</td>\n",
       "      <td>Data Engineer</td>\n",
       "      <td>2022-06-02</td>\n",
       "      <td>0.000</td>\n",
       "      <td>0.000</td>\n",
       "      <td>0.000</td>\n",
       "    </tr>\n",
       "  </tbody>\n",
       "</table>\n",
       "</div>"
      ],
      "text/plain": [
       "               indeed  simplyhired       position        date  indeed_pct  \\\n",
       "term                                                                        \n",
       "Data Engineer   15418         7009  Data Engineer  2022-06-02       1.000   \n",
       "SQL             11325         5300  Data Engineer  2022-06-02       0.735   \n",
       "Python          11001         4992  Data Engineer  2022-06-02       0.714   \n",
       "AWS              8401         3572  Data Engineer  2022-06-02       0.545   \n",
       "Spark            6757         2811  Data Engineer  2022-06-02       0.438   \n",
       "Java             5254         2303  Data Engineer  2022-06-02       0.341   \n",
       "Azure            4764         2040  Data Engineer  2022-06-02       0.309   \n",
       "Redshift         3928         1667  Data Engineer  2022-06-02       0.255   \n",
       "Hadoop           3916         1623  Data Engineer  2022-06-02       0.254   \n",
       "GCP              4011         1540  Data Engineer  2022-06-02       0.260   \n",
       "Kafka            4011         1498  Data Engineer  2022-06-02       0.260   \n",
       "Snowflake        3760         1523  Data Engineer  2022-06-02       0.244   \n",
       "Scala            3689         1497  Data Engineer  2022-06-02       0.239   \n",
       "NoSQL            3163         1374  Data Engineer  2022-06-02       0.205   \n",
       "Hive             3336         1131  Data Engineer  2022-06-02       0.216   \n",
       "Tableau          2501         1419  Data Engineer  2022-06-02       0.162   \n",
       "Airflow          2573         1309  Data Engineer  2022-06-02       0.167   \n",
       "Postgres         2222         1008  Data Engineer  2022-06-02       0.144   \n",
       "Oracle           1868         1019  Data Engineer  2022-06-02       0.121   \n",
       "SQL Server       1695         1016  Data Engineer  2022-06-02       0.110   \n",
       "R                1724          989  Data Engineer  2022-06-02       0.112   \n",
       "Linux            1851          849  Data Engineer  2022-06-02       0.120   \n",
       "Glue             1836          832  Data Engineer  2022-06-02       0.119   \n",
       "Git              1518          906  Data Engineer  2022-06-02       0.098   \n",
       "Docker           1661          808  Data Engineer  2022-06-02       0.108   \n",
       "Lambda           1756          750  Data Engineer  2022-06-02       0.114   \n",
       "MySQL            1733          703  Data Engineer  2022-06-02       0.112   \n",
       "Kubernetes       1557          761  Data Engineer  2022-06-02       0.101   \n",
       "Databricks       1518          782  Data Engineer  2022-06-02       0.098   \n",
       "Kinesis          1506          545  Data Engineer  2022-06-02       0.098   \n",
       "Power BI         1063          661  Data Engineer  2022-06-02       0.069   \n",
       "Shell            1179          535  Data Engineer  2022-06-02       0.076   \n",
       "Cassandra        1339          446  Data Engineer  2022-06-02       0.087   \n",
       "Terraform        1213          494  Data Engineer  2022-06-02       0.079   \n",
       "Javascript       1058          534  Data Engineer  2022-06-02       0.069   \n",
       "BigQuery         1130          493  Data Engineer  2022-06-02       0.073   \n",
       "Athena           1131          497  Data Engineer  2022-06-02       0.073   \n",
       "Excel             966          548  Data Engineer  2022-06-02       0.063   \n",
       "Jenkins           955          543  Data Engineer  2022-06-02       0.062   \n",
       "MongoDB           900          472  Data Engineer  2022-06-02       0.058   \n",
       "C++               733          436  Data Engineer  2022-06-02       0.048   \n",
       "C                 873          347  Data Engineer  2022-06-02       0.057   \n",
       "C#                726          421  Data Engineer  2022-06-02       0.047   \n",
       "dbt               810          376  Data Engineer  2022-06-02       0.053   \n",
       "Hbase             843          359  Data Engineer  2022-06-02       0.055   \n",
       "Looker            765          343  Data Engineer  2022-06-02       0.050   \n",
       "Presto            782          267  Data Engineer  2022-06-02       0.051   \n",
       "Bash              671          275  Data Engineer  2022-06-02       0.044   \n",
       "Ruby              588          286  Data Engineer  2022-06-02       0.038   \n",
       "Pandas            577          291  Data Engineer  2022-06-02       0.037   \n",
       ".net              562          308  Data Engineer  2022-06-02       0.036   \n",
       "Pig               518          222  Data Engineer  2022-06-02       0.034   \n",
       "SAS               360          252  Data Engineer  2022-06-02       0.023   \n",
       "Impala            494          177  Data Engineer  2022-06-02       0.032   \n",
       "Luigi             433          197  Data Engineer  2022-06-02       0.028   \n",
       "React             329          215  Data Engineer  2022-06-02       0.021   \n",
       "HTML              338          179  Data Engineer  2022-06-02       0.022   \n",
       "Redis             284          176  Data Engineer  2022-06-02       0.018   \n",
       "PowerPoint        415          123  Data Engineer  2022-06-02       0.027   \n",
       "Perl              272          182  Data Engineer  2022-06-02       0.018   \n",
       "Sagemaker         295          161  Data Engineer  2022-06-02       0.019   \n",
       "NumPy             306          142  Data Engineer  2022-06-02       0.020   \n",
       "TensorFlow        268          158  Data Engineer  2022-06-02       0.017   \n",
       "Alteryx           253          151  Data Engineer  2022-06-02       0.016   \n",
       "Oozie             244          143  Data Engineer  2022-06-02       0.016   \n",
       "Node              224          143  Data Engineer  2022-06-02       0.015   \n",
       "Jupyter           236          127  Data Engineer  2022-06-02       0.015   \n",
       "Prefect           268           91  Data Engineer  2022-06-02       0.017   \n",
       "Golang            196          107  Data Engineer  2022-06-02       0.013   \n",
       "CSS               180          119  Data Engineer  2022-06-02       0.012   \n",
       "Matlab            152          111  Data Engineer  2022-06-02       0.010   \n",
       "Neo4j             201           84  Data Engineer  2022-06-02       0.013   \n",
       "TypeScript        173           95  Data Engineer  2022-06-02       0.011   \n",
       "PyTorch           139           90  Data Engineer  2022-06-02       0.009   \n",
       "PHP               126           79  Data Engineer  2022-06-02       0.008   \n",
       "Scikit-learn      118           91  Data Engineer  2022-06-02       0.008   \n",
       "Flask              93           75  Data Engineer  2022-06-02       0.006   \n",
       "Keras              95           47  Data Engineer  2022-06-02       0.006   \n",
       "Matplotlib         66           57  Data Engineer  2022-06-02       0.004   \n",
       "Kotlin             81           43  Data Engineer  2022-06-02       0.005   \n",
       "SPSS               50           41  Data Engineer  2022-06-02       0.003   \n",
       "Kubeflow           56           37  Data Engineer  2022-06-02       0.004   \n",
       "MLFlow             58           34  Data Engineer  2022-06-02       0.004   \n",
       "Dagster            83           35  Data Engineer  2022-06-02       0.005   \n",
       "Rust               57           36  Data Engineer  2022-06-02       0.004   \n",
       "D3                 47           31  Data Engineer  2022-06-02       0.003   \n",
       "Vue                53           32  Data Engineer  2022-06-02       0.003   \n",
       "Shiny              41           33  Data Engineer  2022-06-02       0.003   \n",
       "ASP                51           34  Data Engineer  2022-06-02       0.003   \n",
       "Julia              47           27  Data Engineer  2022-06-02       0.003   \n",
       "Plotly             35           31  Data Engineer  2022-06-02       0.002   \n",
       "FastAPI            31           24  Data Engineer  2022-06-02       0.002   \n",
       "Metabase           17           15  Data Engineer  2022-06-02       0.001   \n",
       "Stata              22           18  Data Engineer  2022-06-02       0.001   \n",
       "Swift              19           17  Data Engineer  2022-06-02       0.001   \n",
       "Visual Basic       18           16  Data Engineer  2022-06-02       0.001   \n",
       "Dart                9            5  Data Engineer  2022-06-02       0.001   \n",
       "Clojure            22            9  Data Engineer  2022-06-02       0.001   \n",
       "WebAssembly         2            2  Data Engineer  2022-06-02       0.000   \n",
       "Next.js             1            1  Data Engineer  2022-06-02       0.000   \n",
       "Fortran             5            5  Data Engineer  2022-06-02       0.000   \n",
       "Svelte              1            1  Data Engineer  2022-06-02       0.000   \n",
       "Objective-C         4            2  Data Engineer  2022-06-02       0.000   \n",
       "\n",
       "               simplyhired_pct  mean_pct  \n",
       "term                                      \n",
       "Data Engineer            1.000     1.000  \n",
       "SQL                      0.756     0.746  \n",
       "Python                   0.712     0.713  \n",
       "AWS                      0.510     0.528  \n",
       "Spark                    0.401     0.420  \n",
       "Java                     0.329     0.335  \n",
       "Azure                    0.291     0.300  \n",
       "Redshift                 0.238     0.246  \n",
       "Hadoop                   0.232     0.243  \n",
       "GCP                      0.220     0.240  \n",
       "Kafka                    0.214     0.237  \n",
       "Snowflake                0.217     0.230  \n",
       "Scala                    0.214     0.226  \n",
       "NoSQL                    0.196     0.200  \n",
       "Hive                     0.161     0.188  \n",
       "Tableau                  0.202     0.182  \n",
       "Airflow                  0.187     0.177  \n",
       "Postgres                 0.144     0.144  \n",
       "Oracle                   0.145     0.133  \n",
       "SQL Server               0.145     0.128  \n",
       "R                        0.141     0.126  \n",
       "Linux                    0.121     0.120  \n",
       "Glue                     0.119     0.119  \n",
       "Git                      0.129     0.114  \n",
       "Docker                   0.115     0.112  \n",
       "Lambda                   0.107     0.110  \n",
       "MySQL                    0.100     0.106  \n",
       "Kubernetes               0.109     0.105  \n",
       "Databricks               0.112     0.105  \n",
       "Kinesis                  0.078     0.088  \n",
       "Power BI                 0.094     0.082  \n",
       "Shell                    0.076     0.076  \n",
       "Cassandra                0.064     0.076  \n",
       "Terraform                0.070     0.075  \n",
       "Javascript               0.076     0.073  \n",
       "BigQuery                 0.070     0.072  \n",
       "Athena                   0.071     0.072  \n",
       "Excel                    0.078     0.070  \n",
       "Jenkins                  0.077     0.070  \n",
       "MongoDB                  0.067     0.062  \n",
       "C++                      0.062     0.055  \n",
       "C                        0.050     0.054  \n",
       "C#                       0.060     0.054  \n",
       "dbt                      0.054     0.054  \n",
       "Hbase                    0.051     0.053  \n",
       "Looker                   0.049     0.050  \n",
       "Presto                   0.038     0.044  \n",
       "Bash                     0.039     0.041  \n",
       "Ruby                     0.041     0.040  \n",
       "Pandas                   0.042     0.040  \n",
       ".net                     0.044     0.040  \n",
       "Pig                      0.032     0.033  \n",
       "SAS                      0.036     0.030  \n",
       "Impala                   0.025     0.028  \n",
       "Luigi                    0.028     0.028  \n",
       "React                    0.031     0.026  \n",
       "HTML                     0.026     0.024  \n",
       "Redis                    0.025     0.022  \n",
       "PowerPoint               0.018     0.022  \n",
       "Perl                     0.026     0.022  \n",
       "Sagemaker                0.023     0.021  \n",
       "NumPy                    0.020     0.020  \n",
       "TensorFlow               0.023     0.020  \n",
       "Alteryx                  0.022     0.019  \n",
       "Oozie                    0.020     0.018  \n",
       "Node                     0.020     0.018  \n",
       "Jupyter                  0.018     0.016  \n",
       "Prefect                  0.013     0.015  \n",
       "Golang                   0.015     0.014  \n",
       "CSS                      0.017     0.014  \n",
       "Matlab                   0.016     0.013  \n",
       "Neo4j                    0.012     0.012  \n",
       "TypeScript               0.014     0.012  \n",
       "PyTorch                  0.013     0.011  \n",
       "PHP                      0.011     0.010  \n",
       "Scikit-learn             0.013     0.010  \n",
       "Flask                    0.011     0.008  \n",
       "Keras                    0.007     0.007  \n",
       "Matplotlib               0.008     0.006  \n",
       "Kotlin                   0.006     0.006  \n",
       "SPSS                     0.006     0.005  \n",
       "Kubeflow                 0.005     0.005  \n",
       "MLFlow                   0.005     0.005  \n",
       "Dagster                  0.005     0.005  \n",
       "Rust                     0.005     0.005  \n",
       "D3                       0.004     0.004  \n",
       "Vue                      0.005     0.004  \n",
       "Shiny                    0.005     0.004  \n",
       "ASP                      0.005     0.004  \n",
       "Julia                    0.004     0.004  \n",
       "Plotly                   0.004     0.003  \n",
       "FastAPI                  0.003     0.002  \n",
       "Metabase                 0.002     0.002  \n",
       "Stata                    0.003     0.002  \n",
       "Swift                    0.002     0.002  \n",
       "Visual Basic             0.002     0.002  \n",
       "Dart                     0.001     0.001  \n",
       "Clojure                  0.001     0.001  \n",
       "WebAssembly              0.000     0.000  \n",
       "Next.js                  0.000     0.000  \n",
       "Fortran                  0.001     0.000  \n",
       "Svelte                   0.000     0.000  \n",
       "Objective-C              0.000     0.000  "
      ]
     },
     "execution_count": 579,
     "metadata": {},
     "output_type": "execute_result"
    }
   ],
   "source": [
    "df_sorted = df_2022.sort_values(by='mean_pct', ascending=False)\n",
    "df_sorted"
   ]
  },
  {
   "cell_type": "markdown",
   "metadata": {},
   "source": [
    "Prepare for plotting"
   ]
  },
  {
   "cell_type": "code",
   "execution_count": 580,
   "metadata": {},
   "outputs": [],
   "source": [
    "df_to_plot = df_sorted[df_sorted['mean_pct'] >= .2]\n",
    "df_to_plot = df_to_plot.iloc[1:, [-1]]"
   ]
  },
  {
   "cell_type": "code",
   "execution_count": 581,
   "metadata": {},
   "outputs": [
    {
     "data": {
      "application/vnd.plotly.v1+json": {
       "config": {
        "plotlyServerURL": "https://plot.ly"
       },
       "data": [
        {
         "alignmentgroup": "True",
         "hovertemplate": "term=%{x}<br>mean_pct=%{marker.color}<extra></extra>",
         "legendgroup": "",
         "marker": {
          "color": [
           0.746,
           0.713,
           0.528,
           0.42,
           0.335,
           0.3,
           0.246,
           0.243,
           0.24,
           0.237,
           0.23,
           0.226,
           0.2
          ],
          "coloraxis": "coloraxis",
          "pattern": {
           "shape": ""
          }
         },
         "name": "",
         "offsetgroup": "",
         "orientation": "v",
         "showlegend": false,
         "textposition": "auto",
         "type": "bar",
         "x": [
          "SQL",
          "Python",
          "AWS",
          "Spark",
          "Java",
          "Azure",
          "Redshift",
          "Hadoop",
          "GCP",
          "Kafka",
          "Snowflake",
          "Scala",
          "NoSQL"
         ],
         "xaxis": "x",
         "y": [
          0.746,
          0.713,
          0.528,
          0.42,
          0.335,
          0.3,
          0.246,
          0.243,
          0.24,
          0.237,
          0.23,
          0.226,
          0.2
         ],
         "yaxis": "y"
        }
       ],
       "layout": {
        "barmode": "relative",
        "coloraxis": {
         "colorbar": {
          "title": {
           "text": "mean_pct"
          }
         },
         "colorscale": [
          [
           0,
           "rgb(176, 242, 188)"
          ],
          [
           0.16666666666666666,
           "rgb(137, 232, 172)"
          ],
          [
           0.3333333333333333,
           "rgb(103, 219, 165)"
          ],
          [
           0.5,
           "rgb(76, 200, 163)"
          ],
          [
           0.6666666666666666,
           "rgb(56, 178, 163)"
          ],
          [
           0.8333333333333334,
           "rgb(44, 152, 160)"
          ],
          [
           1,
           "rgb(37, 125, 152)"
          ]
         ],
         "showscale": false
        },
        "legend": {
         "tracegroupgap": 0
        },
        "template": {
         "data": {
          "bar": [
           {
            "error_x": {
             "color": "#2a3f5f"
            },
            "error_y": {
             "color": "#2a3f5f"
            },
            "marker": {
             "line": {
              "color": "#E5ECF6",
              "width": 0.5
             },
             "pattern": {
              "fillmode": "overlay",
              "size": 10,
              "solidity": 0.2
             }
            },
            "type": "bar"
           }
          ],
          "barpolar": [
           {
            "marker": {
             "line": {
              "color": "#E5ECF6",
              "width": 0.5
             },
             "pattern": {
              "fillmode": "overlay",
              "size": 10,
              "solidity": 0.2
             }
            },
            "type": "barpolar"
           }
          ],
          "carpet": [
           {
            "aaxis": {
             "endlinecolor": "#2a3f5f",
             "gridcolor": "white",
             "linecolor": "white",
             "minorgridcolor": "white",
             "startlinecolor": "#2a3f5f"
            },
            "baxis": {
             "endlinecolor": "#2a3f5f",
             "gridcolor": "white",
             "linecolor": "white",
             "minorgridcolor": "white",
             "startlinecolor": "#2a3f5f"
            },
            "type": "carpet"
           }
          ],
          "choropleth": [
           {
            "colorbar": {
             "outlinewidth": 0,
             "ticks": ""
            },
            "type": "choropleth"
           }
          ],
          "contour": [
           {
            "colorbar": {
             "outlinewidth": 0,
             "ticks": ""
            },
            "colorscale": [
             [
              0,
              "#0d0887"
             ],
             [
              0.1111111111111111,
              "#46039f"
             ],
             [
              0.2222222222222222,
              "#7201a8"
             ],
             [
              0.3333333333333333,
              "#9c179e"
             ],
             [
              0.4444444444444444,
              "#bd3786"
             ],
             [
              0.5555555555555556,
              "#d8576b"
             ],
             [
              0.6666666666666666,
              "#ed7953"
             ],
             [
              0.7777777777777778,
              "#fb9f3a"
             ],
             [
              0.8888888888888888,
              "#fdca26"
             ],
             [
              1,
              "#f0f921"
             ]
            ],
            "type": "contour"
           }
          ],
          "contourcarpet": [
           {
            "colorbar": {
             "outlinewidth": 0,
             "ticks": ""
            },
            "type": "contourcarpet"
           }
          ],
          "heatmap": [
           {
            "colorbar": {
             "outlinewidth": 0,
             "ticks": ""
            },
            "colorscale": [
             [
              0,
              "#0d0887"
             ],
             [
              0.1111111111111111,
              "#46039f"
             ],
             [
              0.2222222222222222,
              "#7201a8"
             ],
             [
              0.3333333333333333,
              "#9c179e"
             ],
             [
              0.4444444444444444,
              "#bd3786"
             ],
             [
              0.5555555555555556,
              "#d8576b"
             ],
             [
              0.6666666666666666,
              "#ed7953"
             ],
             [
              0.7777777777777778,
              "#fb9f3a"
             ],
             [
              0.8888888888888888,
              "#fdca26"
             ],
             [
              1,
              "#f0f921"
             ]
            ],
            "type": "heatmap"
           }
          ],
          "heatmapgl": [
           {
            "colorbar": {
             "outlinewidth": 0,
             "ticks": ""
            },
            "colorscale": [
             [
              0,
              "#0d0887"
             ],
             [
              0.1111111111111111,
              "#46039f"
             ],
             [
              0.2222222222222222,
              "#7201a8"
             ],
             [
              0.3333333333333333,
              "#9c179e"
             ],
             [
              0.4444444444444444,
              "#bd3786"
             ],
             [
              0.5555555555555556,
              "#d8576b"
             ],
             [
              0.6666666666666666,
              "#ed7953"
             ],
             [
              0.7777777777777778,
              "#fb9f3a"
             ],
             [
              0.8888888888888888,
              "#fdca26"
             ],
             [
              1,
              "#f0f921"
             ]
            ],
            "type": "heatmapgl"
           }
          ],
          "histogram": [
           {
            "marker": {
             "pattern": {
              "fillmode": "overlay",
              "size": 10,
              "solidity": 0.2
             }
            },
            "type": "histogram"
           }
          ],
          "histogram2d": [
           {
            "colorbar": {
             "outlinewidth": 0,
             "ticks": ""
            },
            "colorscale": [
             [
              0,
              "#0d0887"
             ],
             [
              0.1111111111111111,
              "#46039f"
             ],
             [
              0.2222222222222222,
              "#7201a8"
             ],
             [
              0.3333333333333333,
              "#9c179e"
             ],
             [
              0.4444444444444444,
              "#bd3786"
             ],
             [
              0.5555555555555556,
              "#d8576b"
             ],
             [
              0.6666666666666666,
              "#ed7953"
             ],
             [
              0.7777777777777778,
              "#fb9f3a"
             ],
             [
              0.8888888888888888,
              "#fdca26"
             ],
             [
              1,
              "#f0f921"
             ]
            ],
            "type": "histogram2d"
           }
          ],
          "histogram2dcontour": [
           {
            "colorbar": {
             "outlinewidth": 0,
             "ticks": ""
            },
            "colorscale": [
             [
              0,
              "#0d0887"
             ],
             [
              0.1111111111111111,
              "#46039f"
             ],
             [
              0.2222222222222222,
              "#7201a8"
             ],
             [
              0.3333333333333333,
              "#9c179e"
             ],
             [
              0.4444444444444444,
              "#bd3786"
             ],
             [
              0.5555555555555556,
              "#d8576b"
             ],
             [
              0.6666666666666666,
              "#ed7953"
             ],
             [
              0.7777777777777778,
              "#fb9f3a"
             ],
             [
              0.8888888888888888,
              "#fdca26"
             ],
             [
              1,
              "#f0f921"
             ]
            ],
            "type": "histogram2dcontour"
           }
          ],
          "mesh3d": [
           {
            "colorbar": {
             "outlinewidth": 0,
             "ticks": ""
            },
            "type": "mesh3d"
           }
          ],
          "parcoords": [
           {
            "line": {
             "colorbar": {
              "outlinewidth": 0,
              "ticks": ""
             }
            },
            "type": "parcoords"
           }
          ],
          "pie": [
           {
            "automargin": true,
            "type": "pie"
           }
          ],
          "scatter": [
           {
            "marker": {
             "colorbar": {
              "outlinewidth": 0,
              "ticks": ""
             }
            },
            "type": "scatter"
           }
          ],
          "scatter3d": [
           {
            "line": {
             "colorbar": {
              "outlinewidth": 0,
              "ticks": ""
             }
            },
            "marker": {
             "colorbar": {
              "outlinewidth": 0,
              "ticks": ""
             }
            },
            "type": "scatter3d"
           }
          ],
          "scattercarpet": [
           {
            "marker": {
             "colorbar": {
              "outlinewidth": 0,
              "ticks": ""
             }
            },
            "type": "scattercarpet"
           }
          ],
          "scattergeo": [
           {
            "marker": {
             "colorbar": {
              "outlinewidth": 0,
              "ticks": ""
             }
            },
            "type": "scattergeo"
           }
          ],
          "scattergl": [
           {
            "marker": {
             "colorbar": {
              "outlinewidth": 0,
              "ticks": ""
             }
            },
            "type": "scattergl"
           }
          ],
          "scattermapbox": [
           {
            "marker": {
             "colorbar": {
              "outlinewidth": 0,
              "ticks": ""
             }
            },
            "type": "scattermapbox"
           }
          ],
          "scatterpolar": [
           {
            "marker": {
             "colorbar": {
              "outlinewidth": 0,
              "ticks": ""
             }
            },
            "type": "scatterpolar"
           }
          ],
          "scatterpolargl": [
           {
            "marker": {
             "colorbar": {
              "outlinewidth": 0,
              "ticks": ""
             }
            },
            "type": "scatterpolargl"
           }
          ],
          "scatterternary": [
           {
            "marker": {
             "colorbar": {
              "outlinewidth": 0,
              "ticks": ""
             }
            },
            "type": "scatterternary"
           }
          ],
          "surface": [
           {
            "colorbar": {
             "outlinewidth": 0,
             "ticks": ""
            },
            "colorscale": [
             [
              0,
              "#0d0887"
             ],
             [
              0.1111111111111111,
              "#46039f"
             ],
             [
              0.2222222222222222,
              "#7201a8"
             ],
             [
              0.3333333333333333,
              "#9c179e"
             ],
             [
              0.4444444444444444,
              "#bd3786"
             ],
             [
              0.5555555555555556,
              "#d8576b"
             ],
             [
              0.6666666666666666,
              "#ed7953"
             ],
             [
              0.7777777777777778,
              "#fb9f3a"
             ],
             [
              0.8888888888888888,
              "#fdca26"
             ],
             [
              1,
              "#f0f921"
             ]
            ],
            "type": "surface"
           }
          ],
          "table": [
           {
            "cells": {
             "fill": {
              "color": "#EBF0F8"
             },
             "line": {
              "color": "white"
             }
            },
            "header": {
             "fill": {
              "color": "#C8D4E3"
             },
             "line": {
              "color": "white"
             }
            },
            "type": "table"
           }
          ]
         },
         "layout": {
          "annotationdefaults": {
           "arrowcolor": "#2a3f5f",
           "arrowhead": 0,
           "arrowwidth": 1
          },
          "autotypenumbers": "strict",
          "coloraxis": {
           "colorbar": {
            "outlinewidth": 0,
            "ticks": ""
           }
          },
          "colorscale": {
           "diverging": [
            [
             0,
             "#8e0152"
            ],
            [
             0.1,
             "#c51b7d"
            ],
            [
             0.2,
             "#de77ae"
            ],
            [
             0.3,
             "#f1b6da"
            ],
            [
             0.4,
             "#fde0ef"
            ],
            [
             0.5,
             "#f7f7f7"
            ],
            [
             0.6,
             "#e6f5d0"
            ],
            [
             0.7,
             "#b8e186"
            ],
            [
             0.8,
             "#7fbc41"
            ],
            [
             0.9,
             "#4d9221"
            ],
            [
             1,
             "#276419"
            ]
           ],
           "sequential": [
            [
             0,
             "#0d0887"
            ],
            [
             0.1111111111111111,
             "#46039f"
            ],
            [
             0.2222222222222222,
             "#7201a8"
            ],
            [
             0.3333333333333333,
             "#9c179e"
            ],
            [
             0.4444444444444444,
             "#bd3786"
            ],
            [
             0.5555555555555556,
             "#d8576b"
            ],
            [
             0.6666666666666666,
             "#ed7953"
            ],
            [
             0.7777777777777778,
             "#fb9f3a"
            ],
            [
             0.8888888888888888,
             "#fdca26"
            ],
            [
             1,
             "#f0f921"
            ]
           ],
           "sequentialminus": [
            [
             0,
             "#0d0887"
            ],
            [
             0.1111111111111111,
             "#46039f"
            ],
            [
             0.2222222222222222,
             "#7201a8"
            ],
            [
             0.3333333333333333,
             "#9c179e"
            ],
            [
             0.4444444444444444,
             "#bd3786"
            ],
            [
             0.5555555555555556,
             "#d8576b"
            ],
            [
             0.6666666666666666,
             "#ed7953"
            ],
            [
             0.7777777777777778,
             "#fb9f3a"
            ],
            [
             0.8888888888888888,
             "#fdca26"
            ],
            [
             1,
             "#f0f921"
            ]
           ]
          },
          "colorway": [
           "#636efa",
           "#EF553B",
           "#00cc96",
           "#ab63fa",
           "#FFA15A",
           "#19d3f3",
           "#FF6692",
           "#B6E880",
           "#FF97FF",
           "#FECB52"
          ],
          "font": {
           "color": "#2a3f5f"
          },
          "geo": {
           "bgcolor": "white",
           "lakecolor": "white",
           "landcolor": "#E5ECF6",
           "showlakes": true,
           "showland": true,
           "subunitcolor": "white"
          },
          "hoverlabel": {
           "align": "left"
          },
          "hovermode": "closest",
          "mapbox": {
           "style": "light"
          },
          "paper_bgcolor": "white",
          "plot_bgcolor": "#E5ECF6",
          "polar": {
           "angularaxis": {
            "gridcolor": "white",
            "linecolor": "white",
            "ticks": ""
           },
           "bgcolor": "#E5ECF6",
           "radialaxis": {
            "gridcolor": "white",
            "linecolor": "white",
            "ticks": ""
           }
          },
          "scene": {
           "xaxis": {
            "backgroundcolor": "#E5ECF6",
            "gridcolor": "white",
            "gridwidth": 2,
            "linecolor": "white",
            "showbackground": true,
            "ticks": "",
            "zerolinecolor": "white"
           },
           "yaxis": {
            "backgroundcolor": "#E5ECF6",
            "gridcolor": "white",
            "gridwidth": 2,
            "linecolor": "white",
            "showbackground": true,
            "ticks": "",
            "zerolinecolor": "white"
           },
           "zaxis": {
            "backgroundcolor": "#E5ECF6",
            "gridcolor": "white",
            "gridwidth": 2,
            "linecolor": "white",
            "showbackground": true,
            "ticks": "",
            "zerolinecolor": "white"
           }
          },
          "shapedefaults": {
           "line": {
            "color": "#2a3f5f"
           }
          },
          "ternary": {
           "aaxis": {
            "gridcolor": "white",
            "linecolor": "white",
            "ticks": ""
           },
           "baxis": {
            "gridcolor": "white",
            "linecolor": "white",
            "ticks": ""
           },
           "bgcolor": "#E5ECF6",
           "caxis": {
            "gridcolor": "white",
            "linecolor": "white",
            "ticks": ""
           }
          },
          "title": {
           "x": 0.05
          },
          "xaxis": {
           "automargin": true,
           "gridcolor": "white",
           "linecolor": "white",
           "ticks": "",
           "title": {
            "standoff": 15
           },
           "zerolinecolor": "white",
           "zerolinewidth": 2
          },
          "yaxis": {
           "automargin": true,
           "gridcolor": "white",
           "linecolor": "white",
           "ticks": "",
           "title": {
            "standoff": 15
           },
           "zerolinecolor": "white",
           "zerolinewidth": 2
          }
         }
        },
        "title": {
         "text": "Most Popular Technologies in Data Engineer Job Listings 2022"
        },
        "xaxis": {
         "anchor": "y",
         "domain": [
          0,
          1
         ],
         "title": {
          "text": "Technology"
         }
        },
        "yaxis": {
         "anchor": "x",
         "domain": [
          0,
          1
         ],
         "tickformat": "2",
         "title": {
          "text": "Avg % of Listings"
         }
        }
       }
      }
     },
     "metadata": {},
     "output_type": "display_data"
    }
   ],
   "source": [
    "fig1 = px.bar(\n",
    "    df_to_plot,\n",
    "    x=df_to_plot.index,\n",
    "    y=\"mean_pct\",\n",
    "    title=\"Most Popular Technologies in Data Engineer Job Listings 2022\",\n",
    "    color='mean_pct',\n",
    "    color_continuous_scale=px.colors.sequential.Tealgrn\n",
    ")\n",
    "\n",
    "fig1.update_layout(\n",
    "    yaxis_title=\"Avg % of Listings\",\n",
    "    yaxis_tickformat=\"2\",\n",
    "    xaxis_title=\"Technology\",\n",
    "    coloraxis_showscale=False,\n",
    ")"
   ]
  },
  {
   "cell_type": "markdown",
   "metadata": {},
   "source": [
    "Read in data from 2022, percentage of listings."
   ]
  },
  {
   "cell_type": "code",
   "execution_count": 582,
   "metadata": {},
   "outputs": [],
   "source": [
    "df_2020 = pd.read_csv(\n",
    "    '/Users/hale/Dropbox/DS/articles/scrape-jobs/2022/de/data/Data Engineer_tech_skills_2020_01_08_time_08_53_pct.csv',\n",
    "    index_col=0)"
   ]
  },
  {
   "cell_type": "code",
   "execution_count": 583,
   "metadata": {},
   "outputs": [
    {
     "data": {
      "text/html": [
       "<div>\n",
       "<style scoped>\n",
       "    .dataframe tbody tr th:only-of-type {\n",
       "        vertical-align: middle;\n",
       "    }\n",
       "\n",
       "    .dataframe tbody tr th {\n",
       "        vertical-align: top;\n",
       "    }\n",
       "\n",
       "    .dataframe thead th {\n",
       "        text-align: right;\n",
       "    }\n",
       "</style>\n",
       "<table border=\"1\" class=\"dataframe\">\n",
       "  <thead>\n",
       "    <tr style=\"text-align: right;\">\n",
       "      <th></th>\n",
       "      <th>indeed</th>\n",
       "      <th>monster</th>\n",
       "      <th>simplyhired</th>\n",
       "      <th>avg</th>\n",
       "    </tr>\n",
       "  </thead>\n",
       "  <tbody>\n",
       "    <tr>\n",
       "      <th>SQL</th>\n",
       "      <td>0.702310</td>\n",
       "      <td>0.634560</td>\n",
       "      <td>0.700469</td>\n",
       "      <td>0.679113</td>\n",
       "    </tr>\n",
       "    <tr>\n",
       "      <th>Python</th>\n",
       "      <td>0.693226</td>\n",
       "      <td>0.627345</td>\n",
       "      <td>0.705161</td>\n",
       "      <td>0.675244</td>\n",
       "    </tr>\n",
       "    <tr>\n",
       "      <th>Spark</th>\n",
       "      <td>0.530496</td>\n",
       "      <td>0.468975</td>\n",
       "      <td>0.502707</td>\n",
       "      <td>0.500726</td>\n",
       "    </tr>\n",
       "    <tr>\n",
       "      <th>AWS</th>\n",
       "      <td>0.475474</td>\n",
       "      <td>0.401876</td>\n",
       "      <td>0.464453</td>\n",
       "      <td>0.447268</td>\n",
       "    </tr>\n",
       "    <tr>\n",
       "      <th>Java</th>\n",
       "      <td>0.423047</td>\n",
       "      <td>0.422799</td>\n",
       "      <td>0.419343</td>\n",
       "      <td>0.421730</td>\n",
       "    </tr>\n",
       "    <tr>\n",
       "      <th>Hadoop</th>\n",
       "      <td>0.429016</td>\n",
       "      <td>0.433622</td>\n",
       "      <td>0.396608</td>\n",
       "      <td>0.419749</td>\n",
       "    </tr>\n",
       "    <tr>\n",
       "      <th>Hive</th>\n",
       "      <td>0.292759</td>\n",
       "      <td>0.284632</td>\n",
       "      <td>0.259473</td>\n",
       "      <td>0.278955</td>\n",
       "    </tr>\n",
       "    <tr>\n",
       "      <th>Scala</th>\n",
       "      <td>0.268362</td>\n",
       "      <td>0.269481</td>\n",
       "      <td>0.286539</td>\n",
       "      <td>0.274794</td>\n",
       "    </tr>\n",
       "    <tr>\n",
       "      <th>Kafka</th>\n",
       "      <td>0.267584</td>\n",
       "      <td>0.260101</td>\n",
       "      <td>0.261999</td>\n",
       "      <td>0.263228</td>\n",
       "    </tr>\n",
       "    <tr>\n",
       "      <th>NoSQL</th>\n",
       "      <td>0.261095</td>\n",
       "      <td>0.234848</td>\n",
       "      <td>0.239264</td>\n",
       "      <td>0.245069</td>\n",
       "    </tr>\n",
       "    <tr>\n",
       "      <th>Redshift</th>\n",
       "      <td>0.239813</td>\n",
       "      <td>0.155844</td>\n",
       "      <td>0.218694</td>\n",
       "      <td>0.204784</td>\n",
       "    </tr>\n",
       "    <tr>\n",
       "      <th>Azure</th>\n",
       "      <td>0.228653</td>\n",
       "      <td>0.157648</td>\n",
       "      <td>0.216528</td>\n",
       "      <td>0.200943</td>\n",
       "    </tr>\n",
       "    <tr>\n",
       "      <th>Linux</th>\n",
       "      <td>0.160914</td>\n",
       "      <td>0.189394</td>\n",
       "      <td>0.161314</td>\n",
       "      <td>0.170540</td>\n",
       "    </tr>\n",
       "    <tr>\n",
       "      <th>R</th>\n",
       "      <td>0.155463</td>\n",
       "      <td>0.180375</td>\n",
       "      <td>0.164201</td>\n",
       "      <td>0.166680</td>\n",
       "    </tr>\n",
       "    <tr>\n",
       "      <th>Tableau</th>\n",
       "      <td>0.173631</td>\n",
       "      <td>0.144300</td>\n",
       "      <td>0.178997</td>\n",
       "      <td>0.165643</td>\n",
       "    </tr>\n",
       "    <tr>\n",
       "      <th>Oracle</th>\n",
       "      <td>0.147937</td>\n",
       "      <td>0.174603</td>\n",
       "      <td>0.159148</td>\n",
       "      <td>0.160563</td>\n",
       "    </tr>\n",
       "    <tr>\n",
       "      <th>SQL Server</th>\n",
       "      <td>0.126135</td>\n",
       "      <td>0.169192</td>\n",
       "      <td>0.143630</td>\n",
       "      <td>0.146319</td>\n",
       "    </tr>\n",
       "    <tr>\n",
       "      <th>Hbase</th>\n",
       "      <td>0.135219</td>\n",
       "      <td>0.116883</td>\n",
       "      <td>0.108264</td>\n",
       "      <td>0.120122</td>\n",
       "    </tr>\n",
       "    <tr>\n",
       "      <th>Git</th>\n",
       "      <td>0.120166</td>\n",
       "      <td>0.107504</td>\n",
       "      <td>0.127752</td>\n",
       "      <td>0.118474</td>\n",
       "    </tr>\n",
       "    <tr>\n",
       "      <th>Cassandra</th>\n",
       "      <td>0.116792</td>\n",
       "      <td>0.126263</td>\n",
       "      <td>0.108264</td>\n",
       "      <td>0.117106</td>\n",
       "    </tr>\n",
       "    <tr>\n",
       "      <th>Airflow</th>\n",
       "      <td>0.124578</td>\n",
       "      <td>0.080087</td>\n",
       "      <td>0.136774</td>\n",
       "      <td>0.113813</td>\n",
       "    </tr>\n",
       "    <tr>\n",
       "      <th>Snowflake</th>\n",
       "      <td>0.114716</td>\n",
       "      <td>0.091270</td>\n",
       "      <td>0.114038</td>\n",
       "      <td>0.106675</td>\n",
       "    </tr>\n",
       "    <tr>\n",
       "      <th>Docker</th>\n",
       "      <td>0.108746</td>\n",
       "      <td>0.086941</td>\n",
       "      <td>0.112234</td>\n",
       "      <td>0.102640</td>\n",
       "    </tr>\n",
       "    <tr>\n",
       "      <th>MySQL</th>\n",
       "      <td>0.099663</td>\n",
       "      <td>0.079365</td>\n",
       "      <td>0.114760</td>\n",
       "      <td>0.097929</td>\n",
       "    </tr>\n",
       "    <tr>\n",
       "      <th>PostgreSQL</th>\n",
       "      <td>0.076564</td>\n",
       "      <td>0.114719</td>\n",
       "      <td>0.085529</td>\n",
       "      <td>0.092270</td>\n",
       "    </tr>\n",
       "    <tr>\n",
       "      <th>C++</th>\n",
       "      <td>0.093693</td>\n",
       "      <td>0.075397</td>\n",
       "      <td>0.102851</td>\n",
       "      <td>0.090647</td>\n",
       "    </tr>\n",
       "    <tr>\n",
       "      <th>MongoDB</th>\n",
       "      <td>0.084609</td>\n",
       "      <td>0.084776</td>\n",
       "      <td>0.083363</td>\n",
       "      <td>0.084250</td>\n",
       "    </tr>\n",
       "    <tr>\n",
       "      <th>GCP</th>\n",
       "      <td>0.108746</td>\n",
       "      <td>0.059163</td>\n",
       "      <td>0.084446</td>\n",
       "      <td>0.084119</td>\n",
       "    </tr>\n",
       "    <tr>\n",
       "      <th>Jenkins</th>\n",
       "      <td>0.086167</td>\n",
       "      <td>0.084055</td>\n",
       "      <td>0.071815</td>\n",
       "      <td>0.080679</td>\n",
       "    </tr>\n",
       "    <tr>\n",
       "      <th>Google Cloud</th>\n",
       "      <td>0.081495</td>\n",
       "      <td>0.071789</td>\n",
       "      <td>0.079755</td>\n",
       "      <td>0.077680</td>\n",
       "    </tr>\n",
       "    <tr>\n",
       "      <th>Pig</th>\n",
       "      <td>0.080976</td>\n",
       "      <td>0.075397</td>\n",
       "      <td>0.074341</td>\n",
       "      <td>0.076905</td>\n",
       "    </tr>\n",
       "    <tr>\n",
       "      <th>Lambda</th>\n",
       "      <td>0.093434</td>\n",
       "      <td>0.053030</td>\n",
       "      <td>0.078311</td>\n",
       "      <td>0.074925</td>\n",
       "    </tr>\n",
       "    <tr>\n",
       "      <th>Kinesis</th>\n",
       "      <td>0.083831</td>\n",
       "      <td>0.053030</td>\n",
       "      <td>0.086611</td>\n",
       "      <td>0.074491</td>\n",
       "    </tr>\n",
       "    <tr>\n",
       "      <th>Kubernetes</th>\n",
       "      <td>0.082274</td>\n",
       "      <td>0.058802</td>\n",
       "      <td>0.078311</td>\n",
       "      <td>0.073129</td>\n",
       "    </tr>\n",
       "    <tr>\n",
       "      <th>C#</th>\n",
       "      <td>0.077342</td>\n",
       "      <td>0.048701</td>\n",
       "      <td>0.073259</td>\n",
       "      <td>0.066434</td>\n",
       "    </tr>\n",
       "    <tr>\n",
       "      <th>C</th>\n",
       "      <td>0.058656</td>\n",
       "      <td>0.075397</td>\n",
       "      <td>0.060628</td>\n",
       "      <td>0.064893</td>\n",
       "    </tr>\n",
       "    <tr>\n",
       "      <th>Javascript</th>\n",
       "      <td>0.060991</td>\n",
       "      <td>0.058442</td>\n",
       "      <td>0.069289</td>\n",
       "      <td>0.062907</td>\n",
       "    </tr>\n",
       "    <tr>\n",
       "      <th>Excel</th>\n",
       "      <td>0.062030</td>\n",
       "      <td>0.046176</td>\n",
       "      <td>0.067846</td>\n",
       "      <td>0.058684</td>\n",
       "    </tr>\n",
       "    <tr>\n",
       "      <th>Teradata</th>\n",
       "      <td>0.062808</td>\n",
       "      <td>0.051587</td>\n",
       "      <td>0.060628</td>\n",
       "      <td>0.058341</td>\n",
       "    </tr>\n",
       "    <tr>\n",
       "      <th>Impala</th>\n",
       "      <td>0.056839</td>\n",
       "      <td>0.058081</td>\n",
       "      <td>0.043306</td>\n",
       "      <td>0.052742</td>\n",
       "    </tr>\n",
       "    <tr>\n",
       "      <th>Ruby</th>\n",
       "      <td>0.063587</td>\n",
       "      <td>0.028860</td>\n",
       "      <td>0.065319</td>\n",
       "      <td>0.052589</td>\n",
       "    </tr>\n",
       "    <tr>\n",
       "      <th>Databricks</th>\n",
       "      <td>0.062030</td>\n",
       "      <td>0.035354</td>\n",
       "      <td>0.058824</td>\n",
       "      <td>0.052069</td>\n",
       "    </tr>\n",
       "    <tr>\n",
       "      <th>Power BI</th>\n",
       "      <td>0.060732</td>\n",
       "      <td>0.040404</td>\n",
       "      <td>0.053049</td>\n",
       "      <td>0.051395</td>\n",
       "    </tr>\n",
       "    <tr>\n",
       "      <th>Perl</th>\n",
       "      <td>0.063846</td>\n",
       "      <td>0.039683</td>\n",
       "      <td>0.045471</td>\n",
       "      <td>0.049667</td>\n",
       "    </tr>\n",
       "    <tr>\n",
       "      <th>BigQuery</th>\n",
       "      <td>0.056839</td>\n",
       "      <td>0.035354</td>\n",
       "      <td>0.047997</td>\n",
       "      <td>0.046730</td>\n",
       "    </tr>\n",
       "    <tr>\n",
       "      <th>Presto</th>\n",
       "      <td>0.042564</td>\n",
       "      <td>0.043290</td>\n",
       "      <td>0.050162</td>\n",
       "      <td>0.045339</td>\n",
       "    </tr>\n",
       "    <tr>\n",
       "      <th>Oozie</th>\n",
       "      <td>0.050350</td>\n",
       "      <td>0.041126</td>\n",
       "      <td>0.041501</td>\n",
       "      <td>0.044326</td>\n",
       "    </tr>\n",
       "    <tr>\n",
       "      <th>SAS</th>\n",
       "      <td>0.042305</td>\n",
       "      <td>0.041486</td>\n",
       "      <td>0.046914</td>\n",
       "      <td>0.043568</td>\n",
       "    </tr>\n",
       "    <tr>\n",
       "      <th>Terraform</th>\n",
       "      <td>0.040228</td>\n",
       "      <td>0.040404</td>\n",
       "      <td>0.033923</td>\n",
       "      <td>0.038185</td>\n",
       "    </tr>\n",
       "    <tr>\n",
       "      <th>Pandas</th>\n",
       "      <td>0.030106</td>\n",
       "      <td>0.024531</td>\n",
       "      <td>0.033562</td>\n",
       "      <td>0.029400</td>\n",
       "    </tr>\n",
       "    <tr>\n",
       "      <th>TensorFlow</th>\n",
       "      <td>0.035038</td>\n",
       "      <td>0.016234</td>\n",
       "      <td>0.027788</td>\n",
       "      <td>0.026353</td>\n",
       "    </tr>\n",
       "    <tr>\n",
       "      <th>Node</th>\n",
       "      <td>0.034519</td>\n",
       "      <td>0.010823</td>\n",
       "      <td>0.029592</td>\n",
       "      <td>0.024978</td>\n",
       "    </tr>\n",
       "    <tr>\n",
       "      <th>Redis</th>\n",
       "      <td>0.026473</td>\n",
       "      <td>0.013348</td>\n",
       "      <td>0.033562</td>\n",
       "      <td>0.024461</td>\n",
       "    </tr>\n",
       "    <tr>\n",
       "      <th>node.js</th>\n",
       "      <td>0.025175</td>\n",
       "      <td>0.023449</td>\n",
       "      <td>0.019848</td>\n",
       "      <td>0.022824</td>\n",
       "    </tr>\n",
       "    <tr>\n",
       "      <th>PHP</th>\n",
       "      <td>0.020763</td>\n",
       "      <td>0.022006</td>\n",
       "      <td>0.023096</td>\n",
       "      <td>0.021955</td>\n",
       "    </tr>\n",
       "    <tr>\n",
       "      <th>Alteryx</th>\n",
       "      <td>0.023877</td>\n",
       "      <td>0.016955</td>\n",
       "      <td>0.018766</td>\n",
       "      <td>0.019866</td>\n",
       "    </tr>\n",
       "    <tr>\n",
       "      <th>Jupyter</th>\n",
       "      <td>0.019984</td>\n",
       "      <td>0.014069</td>\n",
       "      <td>0.019488</td>\n",
       "      <td>0.017847</td>\n",
       "    </tr>\n",
       "    <tr>\n",
       "      <th>NumPy</th>\n",
       "      <td>0.016091</td>\n",
       "      <td>0.016595</td>\n",
       "      <td>0.018766</td>\n",
       "      <td>0.017151</td>\n",
       "    </tr>\n",
       "    <tr>\n",
       "      <th>Matlab</th>\n",
       "      <td>0.016091</td>\n",
       "      <td>0.012266</td>\n",
       "      <td>0.018766</td>\n",
       "      <td>0.015708</td>\n",
       "    </tr>\n",
       "    <tr>\n",
       "      <th>Scikit-learn</th>\n",
       "      <td>0.015832</td>\n",
       "      <td>0.012266</td>\n",
       "      <td>0.018766</td>\n",
       "      <td>0.015621</td>\n",
       "    </tr>\n",
       "    <tr>\n",
       "      <th>Neo4j</th>\n",
       "      <td>0.016351</td>\n",
       "      <td>0.011183</td>\n",
       "      <td>0.017322</td>\n",
       "      <td>0.014952</td>\n",
       "    </tr>\n",
       "    <tr>\n",
       "      <th>PowerPoint</th>\n",
       "      <td>0.014275</td>\n",
       "      <td>0.007576</td>\n",
       "      <td>0.013353</td>\n",
       "      <td>0.011734</td>\n",
       "    </tr>\n",
       "    <tr>\n",
       "      <th>PyTorch</th>\n",
       "      <td>0.010122</td>\n",
       "      <td>0.006133</td>\n",
       "      <td>0.012631</td>\n",
       "      <td>0.009629</td>\n",
       "    </tr>\n",
       "    <tr>\n",
       "      <th>Golang</th>\n",
       "      <td>0.008046</td>\n",
       "      <td>0.009019</td>\n",
       "      <td>0.009383</td>\n",
       "      <td>0.008816</td>\n",
       "    </tr>\n",
       "    <tr>\n",
       "      <th>Flask</th>\n",
       "      <td>0.009343</td>\n",
       "      <td>0.005051</td>\n",
       "      <td>0.011909</td>\n",
       "      <td>0.008768</td>\n",
       "    </tr>\n",
       "    <tr>\n",
       "      <th>D3</th>\n",
       "      <td>0.006748</td>\n",
       "      <td>0.007576</td>\n",
       "      <td>0.007218</td>\n",
       "      <td>0.007180</td>\n",
       "    </tr>\n",
       "    <tr>\n",
       "      <th>Keras</th>\n",
       "      <td>0.007527</td>\n",
       "      <td>0.004329</td>\n",
       "      <td>0.007939</td>\n",
       "      <td>0.006598</td>\n",
       "    </tr>\n",
       "    <tr>\n",
       "      <th>SPSS</th>\n",
       "      <td>0.005969</td>\n",
       "      <td>0.005411</td>\n",
       "      <td>0.007578</td>\n",
       "      <td>0.006320</td>\n",
       "    </tr>\n",
       "    <tr>\n",
       "      <th>Julia</th>\n",
       "      <td>0.004931</td>\n",
       "      <td>0.002525</td>\n",
       "      <td>0.006135</td>\n",
       "      <td>0.004530</td>\n",
       "    </tr>\n",
       "    <tr>\n",
       "      <th>Matplotlib</th>\n",
       "      <td>0.004153</td>\n",
       "      <td>0.004329</td>\n",
       "      <td>0.005052</td>\n",
       "      <td>0.004511</td>\n",
       "    </tr>\n",
       "    <tr>\n",
       "      <th>Shiny</th>\n",
       "      <td>0.004153</td>\n",
       "      <td>0.001804</td>\n",
       "      <td>0.005413</td>\n",
       "      <td>0.003790</td>\n",
       "    </tr>\n",
       "    <tr>\n",
       "      <th>Stata</th>\n",
       "      <td>0.002076</td>\n",
       "      <td>0.001804</td>\n",
       "      <td>0.002526</td>\n",
       "      <td>0.002135</td>\n",
       "    </tr>\n",
       "  </tbody>\n",
       "</table>\n",
       "</div>"
      ],
      "text/plain": [
       "                indeed   monster  simplyhired       avg\n",
       "SQL           0.702310  0.634560     0.700469  0.679113\n",
       "Python        0.693226  0.627345     0.705161  0.675244\n",
       "Spark         0.530496  0.468975     0.502707  0.500726\n",
       "AWS           0.475474  0.401876     0.464453  0.447268\n",
       "Java          0.423047  0.422799     0.419343  0.421730\n",
       "Hadoop        0.429016  0.433622     0.396608  0.419749\n",
       "Hive          0.292759  0.284632     0.259473  0.278955\n",
       "Scala         0.268362  0.269481     0.286539  0.274794\n",
       "Kafka         0.267584  0.260101     0.261999  0.263228\n",
       "NoSQL         0.261095  0.234848     0.239264  0.245069\n",
       "Redshift      0.239813  0.155844     0.218694  0.204784\n",
       "Azure         0.228653  0.157648     0.216528  0.200943\n",
       "Linux         0.160914  0.189394     0.161314  0.170540\n",
       "R             0.155463  0.180375     0.164201  0.166680\n",
       "Tableau       0.173631  0.144300     0.178997  0.165643\n",
       "Oracle        0.147937  0.174603     0.159148  0.160563\n",
       "SQL Server    0.126135  0.169192     0.143630  0.146319\n",
       "Hbase         0.135219  0.116883     0.108264  0.120122\n",
       "Git           0.120166  0.107504     0.127752  0.118474\n",
       "Cassandra     0.116792  0.126263     0.108264  0.117106\n",
       "Airflow       0.124578  0.080087     0.136774  0.113813\n",
       "Snowflake     0.114716  0.091270     0.114038  0.106675\n",
       "Docker        0.108746  0.086941     0.112234  0.102640\n",
       "MySQL         0.099663  0.079365     0.114760  0.097929\n",
       "PostgreSQL    0.076564  0.114719     0.085529  0.092270\n",
       "C++           0.093693  0.075397     0.102851  0.090647\n",
       "MongoDB       0.084609  0.084776     0.083363  0.084250\n",
       "GCP           0.108746  0.059163     0.084446  0.084119\n",
       "Jenkins       0.086167  0.084055     0.071815  0.080679\n",
       "Google Cloud  0.081495  0.071789     0.079755  0.077680\n",
       "Pig           0.080976  0.075397     0.074341  0.076905\n",
       "Lambda        0.093434  0.053030     0.078311  0.074925\n",
       "Kinesis       0.083831  0.053030     0.086611  0.074491\n",
       "Kubernetes    0.082274  0.058802     0.078311  0.073129\n",
       "C#            0.077342  0.048701     0.073259  0.066434\n",
       "C             0.058656  0.075397     0.060628  0.064893\n",
       "Javascript    0.060991  0.058442     0.069289  0.062907\n",
       "Excel         0.062030  0.046176     0.067846  0.058684\n",
       "Teradata      0.062808  0.051587     0.060628  0.058341\n",
       "Impala        0.056839  0.058081     0.043306  0.052742\n",
       "Ruby          0.063587  0.028860     0.065319  0.052589\n",
       "Databricks    0.062030  0.035354     0.058824  0.052069\n",
       "Power BI      0.060732  0.040404     0.053049  0.051395\n",
       "Perl          0.063846  0.039683     0.045471  0.049667\n",
       "BigQuery      0.056839  0.035354     0.047997  0.046730\n",
       "Presto        0.042564  0.043290     0.050162  0.045339\n",
       "Oozie         0.050350  0.041126     0.041501  0.044326\n",
       "SAS           0.042305  0.041486     0.046914  0.043568\n",
       "Terraform     0.040228  0.040404     0.033923  0.038185\n",
       "Pandas        0.030106  0.024531     0.033562  0.029400\n",
       "TensorFlow    0.035038  0.016234     0.027788  0.026353\n",
       "Node          0.034519  0.010823     0.029592  0.024978\n",
       "Redis         0.026473  0.013348     0.033562  0.024461\n",
       "node.js       0.025175  0.023449     0.019848  0.022824\n",
       "PHP           0.020763  0.022006     0.023096  0.021955\n",
       "Alteryx       0.023877  0.016955     0.018766  0.019866\n",
       "Jupyter       0.019984  0.014069     0.019488  0.017847\n",
       "NumPy         0.016091  0.016595     0.018766  0.017151\n",
       "Matlab        0.016091  0.012266     0.018766  0.015708\n",
       "Scikit-learn  0.015832  0.012266     0.018766  0.015621\n",
       "Neo4j         0.016351  0.011183     0.017322  0.014952\n",
       "PowerPoint    0.014275  0.007576     0.013353  0.011734\n",
       "PyTorch       0.010122  0.006133     0.012631  0.009629\n",
       "Golang        0.008046  0.009019     0.009383  0.008816\n",
       "Flask         0.009343  0.005051     0.011909  0.008768\n",
       "D3            0.006748  0.007576     0.007218  0.007180\n",
       "Keras         0.007527  0.004329     0.007939  0.006598\n",
       "SPSS          0.005969  0.005411     0.007578  0.006320\n",
       "Julia         0.004931  0.002525     0.006135  0.004530\n",
       "Matplotlib    0.004153  0.004329     0.005052  0.004511\n",
       "Shiny         0.004153  0.001804     0.005413  0.003790\n",
       "Stata         0.002076  0.001804     0.002526  0.002135"
      ]
     },
     "execution_count": 583,
     "metadata": {},
     "output_type": "execute_result"
    }
   ],
   "source": [
    "df_2020"
   ]
  },
  {
   "cell_type": "markdown",
   "metadata": {},
   "source": [
    "I'm going to leave Monster out so that this more of an apples-to-apples comparison."
   ]
  },
  {
   "cell_type": "code",
   "execution_count": 584,
   "metadata": {},
   "outputs": [],
   "source": [
    "df_2020.drop(columns='monster', inplace=True)"
   ]
  },
  {
   "cell_type": "markdown",
   "metadata": {},
   "source": [
    "Combine GCP keywords"
   ]
  },
  {
   "cell_type": "code",
   "execution_count": 585,
   "metadata": {},
   "outputs": [
    {
     "data": {
      "text/html": [
       "<div>\n",
       "<style scoped>\n",
       "    .dataframe tbody tr th:only-of-type {\n",
       "        vertical-align: middle;\n",
       "    }\n",
       "\n",
       "    .dataframe tbody tr th {\n",
       "        vertical-align: top;\n",
       "    }\n",
       "\n",
       "    .dataframe thead th {\n",
       "        text-align: right;\n",
       "    }\n",
       "</style>\n",
       "<table border=\"1\" class=\"dataframe\">\n",
       "  <thead>\n",
       "    <tr style=\"text-align: right;\">\n",
       "      <th></th>\n",
       "      <th>indeed</th>\n",
       "      <th>simplyhired</th>\n",
       "      <th>avg</th>\n",
       "    </tr>\n",
       "  </thead>\n",
       "  <tbody>\n",
       "    <tr>\n",
       "      <th>SQL</th>\n",
       "      <td>0.702310</td>\n",
       "      <td>0.700469</td>\n",
       "      <td>0.679113</td>\n",
       "    </tr>\n",
       "    <tr>\n",
       "      <th>Python</th>\n",
       "      <td>0.693226</td>\n",
       "      <td>0.705161</td>\n",
       "      <td>0.675244</td>\n",
       "    </tr>\n",
       "    <tr>\n",
       "      <th>Spark</th>\n",
       "      <td>0.530496</td>\n",
       "      <td>0.502707</td>\n",
       "      <td>0.500726</td>\n",
       "    </tr>\n",
       "    <tr>\n",
       "      <th>AWS</th>\n",
       "      <td>0.475474</td>\n",
       "      <td>0.464453</td>\n",
       "      <td>0.447268</td>\n",
       "    </tr>\n",
       "    <tr>\n",
       "      <th>Java</th>\n",
       "      <td>0.423047</td>\n",
       "      <td>0.419343</td>\n",
       "      <td>0.421730</td>\n",
       "    </tr>\n",
       "    <tr>\n",
       "      <th>Hadoop</th>\n",
       "      <td>0.429016</td>\n",
       "      <td>0.396608</td>\n",
       "      <td>0.419749</td>\n",
       "    </tr>\n",
       "    <tr>\n",
       "      <th>Hive</th>\n",
       "      <td>0.292759</td>\n",
       "      <td>0.259473</td>\n",
       "      <td>0.278955</td>\n",
       "    </tr>\n",
       "    <tr>\n",
       "      <th>Scala</th>\n",
       "      <td>0.268362</td>\n",
       "      <td>0.286539</td>\n",
       "      <td>0.274794</td>\n",
       "    </tr>\n",
       "    <tr>\n",
       "      <th>Kafka</th>\n",
       "      <td>0.267584</td>\n",
       "      <td>0.261999</td>\n",
       "      <td>0.263228</td>\n",
       "    </tr>\n",
       "    <tr>\n",
       "      <th>NoSQL</th>\n",
       "      <td>0.261095</td>\n",
       "      <td>0.239264</td>\n",
       "      <td>0.245069</td>\n",
       "    </tr>\n",
       "    <tr>\n",
       "      <th>Redshift</th>\n",
       "      <td>0.239813</td>\n",
       "      <td>0.218694</td>\n",
       "      <td>0.204784</td>\n",
       "    </tr>\n",
       "    <tr>\n",
       "      <th>Azure</th>\n",
       "      <td>0.228653</td>\n",
       "      <td>0.216528</td>\n",
       "      <td>0.200943</td>\n",
       "    </tr>\n",
       "    <tr>\n",
       "      <th>Linux</th>\n",
       "      <td>0.160914</td>\n",
       "      <td>0.161314</td>\n",
       "      <td>0.170540</td>\n",
       "    </tr>\n",
       "    <tr>\n",
       "      <th>R</th>\n",
       "      <td>0.155463</td>\n",
       "      <td>0.164201</td>\n",
       "      <td>0.166680</td>\n",
       "    </tr>\n",
       "    <tr>\n",
       "      <th>Tableau</th>\n",
       "      <td>0.173631</td>\n",
       "      <td>0.178997</td>\n",
       "      <td>0.165643</td>\n",
       "    </tr>\n",
       "    <tr>\n",
       "      <th>Oracle</th>\n",
       "      <td>0.147937</td>\n",
       "      <td>0.159148</td>\n",
       "      <td>0.160563</td>\n",
       "    </tr>\n",
       "    <tr>\n",
       "      <th>SQL Server</th>\n",
       "      <td>0.126135</td>\n",
       "      <td>0.143630</td>\n",
       "      <td>0.146319</td>\n",
       "    </tr>\n",
       "    <tr>\n",
       "      <th>Hbase</th>\n",
       "      <td>0.135219</td>\n",
       "      <td>0.108264</td>\n",
       "      <td>0.120122</td>\n",
       "    </tr>\n",
       "    <tr>\n",
       "      <th>Git</th>\n",
       "      <td>0.120166</td>\n",
       "      <td>0.127752</td>\n",
       "      <td>0.118474</td>\n",
       "    </tr>\n",
       "    <tr>\n",
       "      <th>Cassandra</th>\n",
       "      <td>0.116792</td>\n",
       "      <td>0.108264</td>\n",
       "      <td>0.117106</td>\n",
       "    </tr>\n",
       "    <tr>\n",
       "      <th>Airflow</th>\n",
       "      <td>0.124578</td>\n",
       "      <td>0.136774</td>\n",
       "      <td>0.113813</td>\n",
       "    </tr>\n",
       "    <tr>\n",
       "      <th>Snowflake</th>\n",
       "      <td>0.114716</td>\n",
       "      <td>0.114038</td>\n",
       "      <td>0.106675</td>\n",
       "    </tr>\n",
       "    <tr>\n",
       "      <th>Docker</th>\n",
       "      <td>0.108746</td>\n",
       "      <td>0.112234</td>\n",
       "      <td>0.102640</td>\n",
       "    </tr>\n",
       "    <tr>\n",
       "      <th>MySQL</th>\n",
       "      <td>0.099663</td>\n",
       "      <td>0.114760</td>\n",
       "      <td>0.097929</td>\n",
       "    </tr>\n",
       "    <tr>\n",
       "      <th>PostgreSQL</th>\n",
       "      <td>0.076564</td>\n",
       "      <td>0.085529</td>\n",
       "      <td>0.092270</td>\n",
       "    </tr>\n",
       "    <tr>\n",
       "      <th>C++</th>\n",
       "      <td>0.093693</td>\n",
       "      <td>0.102851</td>\n",
       "      <td>0.090647</td>\n",
       "    </tr>\n",
       "    <tr>\n",
       "      <th>MongoDB</th>\n",
       "      <td>0.084609</td>\n",
       "      <td>0.083363</td>\n",
       "      <td>0.084250</td>\n",
       "    </tr>\n",
       "    <tr>\n",
       "      <th>GCP</th>\n",
       "      <td>0.190241</td>\n",
       "      <td>0.164201</td>\n",
       "      <td>0.084119</td>\n",
       "    </tr>\n",
       "    <tr>\n",
       "      <th>Jenkins</th>\n",
       "      <td>0.086167</td>\n",
       "      <td>0.071815</td>\n",
       "      <td>0.080679</td>\n",
       "    </tr>\n",
       "    <tr>\n",
       "      <th>Pig</th>\n",
       "      <td>0.080976</td>\n",
       "      <td>0.074341</td>\n",
       "      <td>0.076905</td>\n",
       "    </tr>\n",
       "    <tr>\n",
       "      <th>Lambda</th>\n",
       "      <td>0.093434</td>\n",
       "      <td>0.078311</td>\n",
       "      <td>0.074925</td>\n",
       "    </tr>\n",
       "    <tr>\n",
       "      <th>Kinesis</th>\n",
       "      <td>0.083831</td>\n",
       "      <td>0.086611</td>\n",
       "      <td>0.074491</td>\n",
       "    </tr>\n",
       "    <tr>\n",
       "      <th>Kubernetes</th>\n",
       "      <td>0.082274</td>\n",
       "      <td>0.078311</td>\n",
       "      <td>0.073129</td>\n",
       "    </tr>\n",
       "    <tr>\n",
       "      <th>C#</th>\n",
       "      <td>0.077342</td>\n",
       "      <td>0.073259</td>\n",
       "      <td>0.066434</td>\n",
       "    </tr>\n",
       "    <tr>\n",
       "      <th>C</th>\n",
       "      <td>0.058656</td>\n",
       "      <td>0.060628</td>\n",
       "      <td>0.064893</td>\n",
       "    </tr>\n",
       "    <tr>\n",
       "      <th>Javascript</th>\n",
       "      <td>0.060991</td>\n",
       "      <td>0.069289</td>\n",
       "      <td>0.062907</td>\n",
       "    </tr>\n",
       "    <tr>\n",
       "      <th>Excel</th>\n",
       "      <td>0.062030</td>\n",
       "      <td>0.067846</td>\n",
       "      <td>0.058684</td>\n",
       "    </tr>\n",
       "    <tr>\n",
       "      <th>Teradata</th>\n",
       "      <td>0.062808</td>\n",
       "      <td>0.060628</td>\n",
       "      <td>0.058341</td>\n",
       "    </tr>\n",
       "    <tr>\n",
       "      <th>Impala</th>\n",
       "      <td>0.056839</td>\n",
       "      <td>0.043306</td>\n",
       "      <td>0.052742</td>\n",
       "    </tr>\n",
       "    <tr>\n",
       "      <th>Ruby</th>\n",
       "      <td>0.063587</td>\n",
       "      <td>0.065319</td>\n",
       "      <td>0.052589</td>\n",
       "    </tr>\n",
       "    <tr>\n",
       "      <th>Databricks</th>\n",
       "      <td>0.062030</td>\n",
       "      <td>0.058824</td>\n",
       "      <td>0.052069</td>\n",
       "    </tr>\n",
       "    <tr>\n",
       "      <th>Power BI</th>\n",
       "      <td>0.060732</td>\n",
       "      <td>0.053049</td>\n",
       "      <td>0.051395</td>\n",
       "    </tr>\n",
       "    <tr>\n",
       "      <th>Perl</th>\n",
       "      <td>0.063846</td>\n",
       "      <td>0.045471</td>\n",
       "      <td>0.049667</td>\n",
       "    </tr>\n",
       "    <tr>\n",
       "      <th>BigQuery</th>\n",
       "      <td>0.056839</td>\n",
       "      <td>0.047997</td>\n",
       "      <td>0.046730</td>\n",
       "    </tr>\n",
       "    <tr>\n",
       "      <th>Presto</th>\n",
       "      <td>0.042564</td>\n",
       "      <td>0.050162</td>\n",
       "      <td>0.045339</td>\n",
       "    </tr>\n",
       "    <tr>\n",
       "      <th>Oozie</th>\n",
       "      <td>0.050350</td>\n",
       "      <td>0.041501</td>\n",
       "      <td>0.044326</td>\n",
       "    </tr>\n",
       "    <tr>\n",
       "      <th>SAS</th>\n",
       "      <td>0.042305</td>\n",
       "      <td>0.046914</td>\n",
       "      <td>0.043568</td>\n",
       "    </tr>\n",
       "    <tr>\n",
       "      <th>Terraform</th>\n",
       "      <td>0.040228</td>\n",
       "      <td>0.033923</td>\n",
       "      <td>0.038185</td>\n",
       "    </tr>\n",
       "    <tr>\n",
       "      <th>Pandas</th>\n",
       "      <td>0.030106</td>\n",
       "      <td>0.033562</td>\n",
       "      <td>0.029400</td>\n",
       "    </tr>\n",
       "    <tr>\n",
       "      <th>TensorFlow</th>\n",
       "      <td>0.035038</td>\n",
       "      <td>0.027788</td>\n",
       "      <td>0.026353</td>\n",
       "    </tr>\n",
       "    <tr>\n",
       "      <th>Node</th>\n",
       "      <td>0.034519</td>\n",
       "      <td>0.029592</td>\n",
       "      <td>0.024978</td>\n",
       "    </tr>\n",
       "    <tr>\n",
       "      <th>Redis</th>\n",
       "      <td>0.026473</td>\n",
       "      <td>0.033562</td>\n",
       "      <td>0.024461</td>\n",
       "    </tr>\n",
       "    <tr>\n",
       "      <th>node.js</th>\n",
       "      <td>0.025175</td>\n",
       "      <td>0.019848</td>\n",
       "      <td>0.022824</td>\n",
       "    </tr>\n",
       "    <tr>\n",
       "      <th>PHP</th>\n",
       "      <td>0.020763</td>\n",
       "      <td>0.023096</td>\n",
       "      <td>0.021955</td>\n",
       "    </tr>\n",
       "    <tr>\n",
       "      <th>Alteryx</th>\n",
       "      <td>0.023877</td>\n",
       "      <td>0.018766</td>\n",
       "      <td>0.019866</td>\n",
       "    </tr>\n",
       "    <tr>\n",
       "      <th>Jupyter</th>\n",
       "      <td>0.019984</td>\n",
       "      <td>0.019488</td>\n",
       "      <td>0.017847</td>\n",
       "    </tr>\n",
       "    <tr>\n",
       "      <th>NumPy</th>\n",
       "      <td>0.016091</td>\n",
       "      <td>0.018766</td>\n",
       "      <td>0.017151</td>\n",
       "    </tr>\n",
       "    <tr>\n",
       "      <th>Matlab</th>\n",
       "      <td>0.016091</td>\n",
       "      <td>0.018766</td>\n",
       "      <td>0.015708</td>\n",
       "    </tr>\n",
       "    <tr>\n",
       "      <th>Scikit-learn</th>\n",
       "      <td>0.015832</td>\n",
       "      <td>0.018766</td>\n",
       "      <td>0.015621</td>\n",
       "    </tr>\n",
       "    <tr>\n",
       "      <th>Neo4j</th>\n",
       "      <td>0.016351</td>\n",
       "      <td>0.017322</td>\n",
       "      <td>0.014952</td>\n",
       "    </tr>\n",
       "    <tr>\n",
       "      <th>PowerPoint</th>\n",
       "      <td>0.014275</td>\n",
       "      <td>0.013353</td>\n",
       "      <td>0.011734</td>\n",
       "    </tr>\n",
       "    <tr>\n",
       "      <th>PyTorch</th>\n",
       "      <td>0.010122</td>\n",
       "      <td>0.012631</td>\n",
       "      <td>0.009629</td>\n",
       "    </tr>\n",
       "    <tr>\n",
       "      <th>Golang</th>\n",
       "      <td>0.008046</td>\n",
       "      <td>0.009383</td>\n",
       "      <td>0.008816</td>\n",
       "    </tr>\n",
       "    <tr>\n",
       "      <th>Flask</th>\n",
       "      <td>0.009343</td>\n",
       "      <td>0.011909</td>\n",
       "      <td>0.008768</td>\n",
       "    </tr>\n",
       "    <tr>\n",
       "      <th>D3</th>\n",
       "      <td>0.006748</td>\n",
       "      <td>0.007218</td>\n",
       "      <td>0.007180</td>\n",
       "    </tr>\n",
       "    <tr>\n",
       "      <th>Keras</th>\n",
       "      <td>0.007527</td>\n",
       "      <td>0.007939</td>\n",
       "      <td>0.006598</td>\n",
       "    </tr>\n",
       "    <tr>\n",
       "      <th>SPSS</th>\n",
       "      <td>0.005969</td>\n",
       "      <td>0.007578</td>\n",
       "      <td>0.006320</td>\n",
       "    </tr>\n",
       "    <tr>\n",
       "      <th>Julia</th>\n",
       "      <td>0.004931</td>\n",
       "      <td>0.006135</td>\n",
       "      <td>0.004530</td>\n",
       "    </tr>\n",
       "    <tr>\n",
       "      <th>Matplotlib</th>\n",
       "      <td>0.004153</td>\n",
       "      <td>0.005052</td>\n",
       "      <td>0.004511</td>\n",
       "    </tr>\n",
       "    <tr>\n",
       "      <th>Shiny</th>\n",
       "      <td>0.004153</td>\n",
       "      <td>0.005413</td>\n",
       "      <td>0.003790</td>\n",
       "    </tr>\n",
       "    <tr>\n",
       "      <th>Stata</th>\n",
       "      <td>0.002076</td>\n",
       "      <td>0.002526</td>\n",
       "      <td>0.002135</td>\n",
       "    </tr>\n",
       "  </tbody>\n",
       "</table>\n",
       "</div>"
      ],
      "text/plain": [
       "                indeed  simplyhired       avg\n",
       "SQL           0.702310     0.700469  0.679113\n",
       "Python        0.693226     0.705161  0.675244\n",
       "Spark         0.530496     0.502707  0.500726\n",
       "AWS           0.475474     0.464453  0.447268\n",
       "Java          0.423047     0.419343  0.421730\n",
       "Hadoop        0.429016     0.396608  0.419749\n",
       "Hive          0.292759     0.259473  0.278955\n",
       "Scala         0.268362     0.286539  0.274794\n",
       "Kafka         0.267584     0.261999  0.263228\n",
       "NoSQL         0.261095     0.239264  0.245069\n",
       "Redshift      0.239813     0.218694  0.204784\n",
       "Azure         0.228653     0.216528  0.200943\n",
       "Linux         0.160914     0.161314  0.170540\n",
       "R             0.155463     0.164201  0.166680\n",
       "Tableau       0.173631     0.178997  0.165643\n",
       "Oracle        0.147937     0.159148  0.160563\n",
       "SQL Server    0.126135     0.143630  0.146319\n",
       "Hbase         0.135219     0.108264  0.120122\n",
       "Git           0.120166     0.127752  0.118474\n",
       "Cassandra     0.116792     0.108264  0.117106\n",
       "Airflow       0.124578     0.136774  0.113813\n",
       "Snowflake     0.114716     0.114038  0.106675\n",
       "Docker        0.108746     0.112234  0.102640\n",
       "MySQL         0.099663     0.114760  0.097929\n",
       "PostgreSQL    0.076564     0.085529  0.092270\n",
       "C++           0.093693     0.102851  0.090647\n",
       "MongoDB       0.084609     0.083363  0.084250\n",
       "GCP           0.190241     0.164201  0.084119\n",
       "Jenkins       0.086167     0.071815  0.080679\n",
       "Pig           0.080976     0.074341  0.076905\n",
       "Lambda        0.093434     0.078311  0.074925\n",
       "Kinesis       0.083831     0.086611  0.074491\n",
       "Kubernetes    0.082274     0.078311  0.073129\n",
       "C#            0.077342     0.073259  0.066434\n",
       "C             0.058656     0.060628  0.064893\n",
       "Javascript    0.060991     0.069289  0.062907\n",
       "Excel         0.062030     0.067846  0.058684\n",
       "Teradata      0.062808     0.060628  0.058341\n",
       "Impala        0.056839     0.043306  0.052742\n",
       "Ruby          0.063587     0.065319  0.052589\n",
       "Databricks    0.062030     0.058824  0.052069\n",
       "Power BI      0.060732     0.053049  0.051395\n",
       "Perl          0.063846     0.045471  0.049667\n",
       "BigQuery      0.056839     0.047997  0.046730\n",
       "Presto        0.042564     0.050162  0.045339\n",
       "Oozie         0.050350     0.041501  0.044326\n",
       "SAS           0.042305     0.046914  0.043568\n",
       "Terraform     0.040228     0.033923  0.038185\n",
       "Pandas        0.030106     0.033562  0.029400\n",
       "TensorFlow    0.035038     0.027788  0.026353\n",
       "Node          0.034519     0.029592  0.024978\n",
       "Redis         0.026473     0.033562  0.024461\n",
       "node.js       0.025175     0.019848  0.022824\n",
       "PHP           0.020763     0.023096  0.021955\n",
       "Alteryx       0.023877     0.018766  0.019866\n",
       "Jupyter       0.019984     0.019488  0.017847\n",
       "NumPy         0.016091     0.018766  0.017151\n",
       "Matlab        0.016091     0.018766  0.015708\n",
       "Scikit-learn  0.015832     0.018766  0.015621\n",
       "Neo4j         0.016351     0.017322  0.014952\n",
       "PowerPoint    0.014275     0.013353  0.011734\n",
       "PyTorch       0.010122     0.012631  0.009629\n",
       "Golang        0.008046     0.009383  0.008816\n",
       "Flask         0.009343     0.011909  0.008768\n",
       "D3            0.006748     0.007218  0.007180\n",
       "Keras         0.007527     0.007939  0.006598\n",
       "SPSS          0.005969     0.007578  0.006320\n",
       "Julia         0.004931     0.006135  0.004530\n",
       "Matplotlib    0.004153     0.005052  0.004511\n",
       "Shiny         0.004153     0.005413  0.003790\n",
       "Stata         0.002076     0.002526  0.002135"
      ]
     },
     "execution_count": 585,
     "metadata": {},
     "output_type": "execute_result"
    }
   ],
   "source": [
    "df_2020 = combine(df_2020, 'GCP', 'Google Cloud')\n",
    "df_2020"
   ]
  },
  {
   "cell_type": "markdown",
   "metadata": {},
   "source": [
    "Create the average column"
   ]
  },
  {
   "cell_type": "code",
   "execution_count": 586,
   "metadata": {},
   "outputs": [
    {
     "data": {
      "text/html": [
       "<div>\n",
       "<style scoped>\n",
       "    .dataframe tbody tr th:only-of-type {\n",
       "        vertical-align: middle;\n",
       "    }\n",
       "\n",
       "    .dataframe tbody tr th {\n",
       "        vertical-align: top;\n",
       "    }\n",
       "\n",
       "    .dataframe thead th {\n",
       "        text-align: right;\n",
       "    }\n",
       "</style>\n",
       "<table border=\"1\" class=\"dataframe\">\n",
       "  <thead>\n",
       "    <tr style=\"text-align: right;\">\n",
       "      <th></th>\n",
       "      <th>indeed</th>\n",
       "      <th>simplyhired</th>\n",
       "      <th>avg</th>\n",
       "    </tr>\n",
       "  </thead>\n",
       "  <tbody>\n",
       "    <tr>\n",
       "      <th>SQL</th>\n",
       "      <td>0.702310</td>\n",
       "      <td>0.700469</td>\n",
       "      <td>0.701</td>\n",
       "    </tr>\n",
       "    <tr>\n",
       "      <th>Python</th>\n",
       "      <td>0.693226</td>\n",
       "      <td>0.705161</td>\n",
       "      <td>0.699</td>\n",
       "    </tr>\n",
       "    <tr>\n",
       "      <th>Spark</th>\n",
       "      <td>0.530496</td>\n",
       "      <td>0.502707</td>\n",
       "      <td>0.517</td>\n",
       "    </tr>\n",
       "    <tr>\n",
       "      <th>AWS</th>\n",
       "      <td>0.475474</td>\n",
       "      <td>0.464453</td>\n",
       "      <td>0.470</td>\n",
       "    </tr>\n",
       "    <tr>\n",
       "      <th>Java</th>\n",
       "      <td>0.423047</td>\n",
       "      <td>0.419343</td>\n",
       "      <td>0.421</td>\n",
       "    </tr>\n",
       "    <tr>\n",
       "      <th>Hadoop</th>\n",
       "      <td>0.429016</td>\n",
       "      <td>0.396608</td>\n",
       "      <td>0.413</td>\n",
       "    </tr>\n",
       "    <tr>\n",
       "      <th>Hive</th>\n",
       "      <td>0.292759</td>\n",
       "      <td>0.259473</td>\n",
       "      <td>0.276</td>\n",
       "    </tr>\n",
       "    <tr>\n",
       "      <th>Scala</th>\n",
       "      <td>0.268362</td>\n",
       "      <td>0.286539</td>\n",
       "      <td>0.277</td>\n",
       "    </tr>\n",
       "    <tr>\n",
       "      <th>Kafka</th>\n",
       "      <td>0.267584</td>\n",
       "      <td>0.261999</td>\n",
       "      <td>0.265</td>\n",
       "    </tr>\n",
       "    <tr>\n",
       "      <th>NoSQL</th>\n",
       "      <td>0.261095</td>\n",
       "      <td>0.239264</td>\n",
       "      <td>0.250</td>\n",
       "    </tr>\n",
       "    <tr>\n",
       "      <th>Redshift</th>\n",
       "      <td>0.239813</td>\n",
       "      <td>0.218694</td>\n",
       "      <td>0.229</td>\n",
       "    </tr>\n",
       "    <tr>\n",
       "      <th>Azure</th>\n",
       "      <td>0.228653</td>\n",
       "      <td>0.216528</td>\n",
       "      <td>0.223</td>\n",
       "    </tr>\n",
       "    <tr>\n",
       "      <th>Linux</th>\n",
       "      <td>0.160914</td>\n",
       "      <td>0.161314</td>\n",
       "      <td>0.161</td>\n",
       "    </tr>\n",
       "    <tr>\n",
       "      <th>R</th>\n",
       "      <td>0.155463</td>\n",
       "      <td>0.164201</td>\n",
       "      <td>0.160</td>\n",
       "    </tr>\n",
       "    <tr>\n",
       "      <th>Tableau</th>\n",
       "      <td>0.173631</td>\n",
       "      <td>0.178997</td>\n",
       "      <td>0.176</td>\n",
       "    </tr>\n",
       "    <tr>\n",
       "      <th>Oracle</th>\n",
       "      <td>0.147937</td>\n",
       "      <td>0.159148</td>\n",
       "      <td>0.154</td>\n",
       "    </tr>\n",
       "    <tr>\n",
       "      <th>SQL Server</th>\n",
       "      <td>0.126135</td>\n",
       "      <td>0.143630</td>\n",
       "      <td>0.135</td>\n",
       "    </tr>\n",
       "    <tr>\n",
       "      <th>Hbase</th>\n",
       "      <td>0.135219</td>\n",
       "      <td>0.108264</td>\n",
       "      <td>0.122</td>\n",
       "    </tr>\n",
       "    <tr>\n",
       "      <th>Git</th>\n",
       "      <td>0.120166</td>\n",
       "      <td>0.127752</td>\n",
       "      <td>0.124</td>\n",
       "    </tr>\n",
       "    <tr>\n",
       "      <th>Cassandra</th>\n",
       "      <td>0.116792</td>\n",
       "      <td>0.108264</td>\n",
       "      <td>0.113</td>\n",
       "    </tr>\n",
       "    <tr>\n",
       "      <th>Airflow</th>\n",
       "      <td>0.124578</td>\n",
       "      <td>0.136774</td>\n",
       "      <td>0.131</td>\n",
       "    </tr>\n",
       "    <tr>\n",
       "      <th>Snowflake</th>\n",
       "      <td>0.114716</td>\n",
       "      <td>0.114038</td>\n",
       "      <td>0.114</td>\n",
       "    </tr>\n",
       "    <tr>\n",
       "      <th>Docker</th>\n",
       "      <td>0.108746</td>\n",
       "      <td>0.112234</td>\n",
       "      <td>0.110</td>\n",
       "    </tr>\n",
       "    <tr>\n",
       "      <th>MySQL</th>\n",
       "      <td>0.099663</td>\n",
       "      <td>0.114760</td>\n",
       "      <td>0.107</td>\n",
       "    </tr>\n",
       "    <tr>\n",
       "      <th>PostgreSQL</th>\n",
       "      <td>0.076564</td>\n",
       "      <td>0.085529</td>\n",
       "      <td>0.081</td>\n",
       "    </tr>\n",
       "    <tr>\n",
       "      <th>C++</th>\n",
       "      <td>0.093693</td>\n",
       "      <td>0.102851</td>\n",
       "      <td>0.098</td>\n",
       "    </tr>\n",
       "    <tr>\n",
       "      <th>MongoDB</th>\n",
       "      <td>0.084609</td>\n",
       "      <td>0.083363</td>\n",
       "      <td>0.084</td>\n",
       "    </tr>\n",
       "    <tr>\n",
       "      <th>GCP</th>\n",
       "      <td>0.190241</td>\n",
       "      <td>0.164201</td>\n",
       "      <td>0.177</td>\n",
       "    </tr>\n",
       "    <tr>\n",
       "      <th>Jenkins</th>\n",
       "      <td>0.086167</td>\n",
       "      <td>0.071815</td>\n",
       "      <td>0.079</td>\n",
       "    </tr>\n",
       "    <tr>\n",
       "      <th>Pig</th>\n",
       "      <td>0.080976</td>\n",
       "      <td>0.074341</td>\n",
       "      <td>0.078</td>\n",
       "    </tr>\n",
       "    <tr>\n",
       "      <th>Lambda</th>\n",
       "      <td>0.093434</td>\n",
       "      <td>0.078311</td>\n",
       "      <td>0.086</td>\n",
       "    </tr>\n",
       "    <tr>\n",
       "      <th>Kinesis</th>\n",
       "      <td>0.083831</td>\n",
       "      <td>0.086611</td>\n",
       "      <td>0.085</td>\n",
       "    </tr>\n",
       "    <tr>\n",
       "      <th>Kubernetes</th>\n",
       "      <td>0.082274</td>\n",
       "      <td>0.078311</td>\n",
       "      <td>0.080</td>\n",
       "    </tr>\n",
       "    <tr>\n",
       "      <th>C#</th>\n",
       "      <td>0.077342</td>\n",
       "      <td>0.073259</td>\n",
       "      <td>0.075</td>\n",
       "    </tr>\n",
       "    <tr>\n",
       "      <th>C</th>\n",
       "      <td>0.058656</td>\n",
       "      <td>0.060628</td>\n",
       "      <td>0.060</td>\n",
       "    </tr>\n",
       "    <tr>\n",
       "      <th>Javascript</th>\n",
       "      <td>0.060991</td>\n",
       "      <td>0.069289</td>\n",
       "      <td>0.065</td>\n",
       "    </tr>\n",
       "    <tr>\n",
       "      <th>Excel</th>\n",
       "      <td>0.062030</td>\n",
       "      <td>0.067846</td>\n",
       "      <td>0.065</td>\n",
       "    </tr>\n",
       "    <tr>\n",
       "      <th>Teradata</th>\n",
       "      <td>0.062808</td>\n",
       "      <td>0.060628</td>\n",
       "      <td>0.062</td>\n",
       "    </tr>\n",
       "    <tr>\n",
       "      <th>Impala</th>\n",
       "      <td>0.056839</td>\n",
       "      <td>0.043306</td>\n",
       "      <td>0.050</td>\n",
       "    </tr>\n",
       "    <tr>\n",
       "      <th>Ruby</th>\n",
       "      <td>0.063587</td>\n",
       "      <td>0.065319</td>\n",
       "      <td>0.064</td>\n",
       "    </tr>\n",
       "    <tr>\n",
       "      <th>Databricks</th>\n",
       "      <td>0.062030</td>\n",
       "      <td>0.058824</td>\n",
       "      <td>0.060</td>\n",
       "    </tr>\n",
       "    <tr>\n",
       "      <th>Power BI</th>\n",
       "      <td>0.060732</td>\n",
       "      <td>0.053049</td>\n",
       "      <td>0.057</td>\n",
       "    </tr>\n",
       "    <tr>\n",
       "      <th>Perl</th>\n",
       "      <td>0.063846</td>\n",
       "      <td>0.045471</td>\n",
       "      <td>0.055</td>\n",
       "    </tr>\n",
       "    <tr>\n",
       "      <th>BigQuery</th>\n",
       "      <td>0.056839</td>\n",
       "      <td>0.047997</td>\n",
       "      <td>0.052</td>\n",
       "    </tr>\n",
       "    <tr>\n",
       "      <th>Presto</th>\n",
       "      <td>0.042564</td>\n",
       "      <td>0.050162</td>\n",
       "      <td>0.046</td>\n",
       "    </tr>\n",
       "    <tr>\n",
       "      <th>Oozie</th>\n",
       "      <td>0.050350</td>\n",
       "      <td>0.041501</td>\n",
       "      <td>0.046</td>\n",
       "    </tr>\n",
       "    <tr>\n",
       "      <th>SAS</th>\n",
       "      <td>0.042305</td>\n",
       "      <td>0.046914</td>\n",
       "      <td>0.045</td>\n",
       "    </tr>\n",
       "    <tr>\n",
       "      <th>Terraform</th>\n",
       "      <td>0.040228</td>\n",
       "      <td>0.033923</td>\n",
       "      <td>0.037</td>\n",
       "    </tr>\n",
       "    <tr>\n",
       "      <th>Pandas</th>\n",
       "      <td>0.030106</td>\n",
       "      <td>0.033562</td>\n",
       "      <td>0.032</td>\n",
       "    </tr>\n",
       "    <tr>\n",
       "      <th>TensorFlow</th>\n",
       "      <td>0.035038</td>\n",
       "      <td>0.027788</td>\n",
       "      <td>0.031</td>\n",
       "    </tr>\n",
       "    <tr>\n",
       "      <th>Node</th>\n",
       "      <td>0.034519</td>\n",
       "      <td>0.029592</td>\n",
       "      <td>0.032</td>\n",
       "    </tr>\n",
       "    <tr>\n",
       "      <th>Redis</th>\n",
       "      <td>0.026473</td>\n",
       "      <td>0.033562</td>\n",
       "      <td>0.030</td>\n",
       "    </tr>\n",
       "    <tr>\n",
       "      <th>node.js</th>\n",
       "      <td>0.025175</td>\n",
       "      <td>0.019848</td>\n",
       "      <td>0.023</td>\n",
       "    </tr>\n",
       "    <tr>\n",
       "      <th>PHP</th>\n",
       "      <td>0.020763</td>\n",
       "      <td>0.023096</td>\n",
       "      <td>0.022</td>\n",
       "    </tr>\n",
       "    <tr>\n",
       "      <th>Alteryx</th>\n",
       "      <td>0.023877</td>\n",
       "      <td>0.018766</td>\n",
       "      <td>0.021</td>\n",
       "    </tr>\n",
       "    <tr>\n",
       "      <th>Jupyter</th>\n",
       "      <td>0.019984</td>\n",
       "      <td>0.019488</td>\n",
       "      <td>0.020</td>\n",
       "    </tr>\n",
       "    <tr>\n",
       "      <th>NumPy</th>\n",
       "      <td>0.016091</td>\n",
       "      <td>0.018766</td>\n",
       "      <td>0.017</td>\n",
       "    </tr>\n",
       "    <tr>\n",
       "      <th>Matlab</th>\n",
       "      <td>0.016091</td>\n",
       "      <td>0.018766</td>\n",
       "      <td>0.017</td>\n",
       "    </tr>\n",
       "    <tr>\n",
       "      <th>Scikit-learn</th>\n",
       "      <td>0.015832</td>\n",
       "      <td>0.018766</td>\n",
       "      <td>0.017</td>\n",
       "    </tr>\n",
       "    <tr>\n",
       "      <th>Neo4j</th>\n",
       "      <td>0.016351</td>\n",
       "      <td>0.017322</td>\n",
       "      <td>0.017</td>\n",
       "    </tr>\n",
       "    <tr>\n",
       "      <th>PowerPoint</th>\n",
       "      <td>0.014275</td>\n",
       "      <td>0.013353</td>\n",
       "      <td>0.014</td>\n",
       "    </tr>\n",
       "    <tr>\n",
       "      <th>PyTorch</th>\n",
       "      <td>0.010122</td>\n",
       "      <td>0.012631</td>\n",
       "      <td>0.011</td>\n",
       "    </tr>\n",
       "    <tr>\n",
       "      <th>Golang</th>\n",
       "      <td>0.008046</td>\n",
       "      <td>0.009383</td>\n",
       "      <td>0.009</td>\n",
       "    </tr>\n",
       "    <tr>\n",
       "      <th>Flask</th>\n",
       "      <td>0.009343</td>\n",
       "      <td>0.011909</td>\n",
       "      <td>0.011</td>\n",
       "    </tr>\n",
       "    <tr>\n",
       "      <th>D3</th>\n",
       "      <td>0.006748</td>\n",
       "      <td>0.007218</td>\n",
       "      <td>0.007</td>\n",
       "    </tr>\n",
       "    <tr>\n",
       "      <th>Keras</th>\n",
       "      <td>0.007527</td>\n",
       "      <td>0.007939</td>\n",
       "      <td>0.008</td>\n",
       "    </tr>\n",
       "    <tr>\n",
       "      <th>SPSS</th>\n",
       "      <td>0.005969</td>\n",
       "      <td>0.007578</td>\n",
       "      <td>0.007</td>\n",
       "    </tr>\n",
       "    <tr>\n",
       "      <th>Julia</th>\n",
       "      <td>0.004931</td>\n",
       "      <td>0.006135</td>\n",
       "      <td>0.006</td>\n",
       "    </tr>\n",
       "    <tr>\n",
       "      <th>Matplotlib</th>\n",
       "      <td>0.004153</td>\n",
       "      <td>0.005052</td>\n",
       "      <td>0.005</td>\n",
       "    </tr>\n",
       "    <tr>\n",
       "      <th>Shiny</th>\n",
       "      <td>0.004153</td>\n",
       "      <td>0.005413</td>\n",
       "      <td>0.005</td>\n",
       "    </tr>\n",
       "    <tr>\n",
       "      <th>Stata</th>\n",
       "      <td>0.002076</td>\n",
       "      <td>0.002526</td>\n",
       "      <td>0.002</td>\n",
       "    </tr>\n",
       "  </tbody>\n",
       "</table>\n",
       "</div>"
      ],
      "text/plain": [
       "                indeed  simplyhired    avg\n",
       "SQL           0.702310     0.700469  0.701\n",
       "Python        0.693226     0.705161  0.699\n",
       "Spark         0.530496     0.502707  0.517\n",
       "AWS           0.475474     0.464453  0.470\n",
       "Java          0.423047     0.419343  0.421\n",
       "Hadoop        0.429016     0.396608  0.413\n",
       "Hive          0.292759     0.259473  0.276\n",
       "Scala         0.268362     0.286539  0.277\n",
       "Kafka         0.267584     0.261999  0.265\n",
       "NoSQL         0.261095     0.239264  0.250\n",
       "Redshift      0.239813     0.218694  0.229\n",
       "Azure         0.228653     0.216528  0.223\n",
       "Linux         0.160914     0.161314  0.161\n",
       "R             0.155463     0.164201  0.160\n",
       "Tableau       0.173631     0.178997  0.176\n",
       "Oracle        0.147937     0.159148  0.154\n",
       "SQL Server    0.126135     0.143630  0.135\n",
       "Hbase         0.135219     0.108264  0.122\n",
       "Git           0.120166     0.127752  0.124\n",
       "Cassandra     0.116792     0.108264  0.113\n",
       "Airflow       0.124578     0.136774  0.131\n",
       "Snowflake     0.114716     0.114038  0.114\n",
       "Docker        0.108746     0.112234  0.110\n",
       "MySQL         0.099663     0.114760  0.107\n",
       "PostgreSQL    0.076564     0.085529  0.081\n",
       "C++           0.093693     0.102851  0.098\n",
       "MongoDB       0.084609     0.083363  0.084\n",
       "GCP           0.190241     0.164201  0.177\n",
       "Jenkins       0.086167     0.071815  0.079\n",
       "Pig           0.080976     0.074341  0.078\n",
       "Lambda        0.093434     0.078311  0.086\n",
       "Kinesis       0.083831     0.086611  0.085\n",
       "Kubernetes    0.082274     0.078311  0.080\n",
       "C#            0.077342     0.073259  0.075\n",
       "C             0.058656     0.060628  0.060\n",
       "Javascript    0.060991     0.069289  0.065\n",
       "Excel         0.062030     0.067846  0.065\n",
       "Teradata      0.062808     0.060628  0.062\n",
       "Impala        0.056839     0.043306  0.050\n",
       "Ruby          0.063587     0.065319  0.064\n",
       "Databricks    0.062030     0.058824  0.060\n",
       "Power BI      0.060732     0.053049  0.057\n",
       "Perl          0.063846     0.045471  0.055\n",
       "BigQuery      0.056839     0.047997  0.052\n",
       "Presto        0.042564     0.050162  0.046\n",
       "Oozie         0.050350     0.041501  0.046\n",
       "SAS           0.042305     0.046914  0.045\n",
       "Terraform     0.040228     0.033923  0.037\n",
       "Pandas        0.030106     0.033562  0.032\n",
       "TensorFlow    0.035038     0.027788  0.031\n",
       "Node          0.034519     0.029592  0.032\n",
       "Redis         0.026473     0.033562  0.030\n",
       "node.js       0.025175     0.019848  0.023\n",
       "PHP           0.020763     0.023096  0.022\n",
       "Alteryx       0.023877     0.018766  0.021\n",
       "Jupyter       0.019984     0.019488  0.020\n",
       "NumPy         0.016091     0.018766  0.017\n",
       "Matlab        0.016091     0.018766  0.017\n",
       "Scikit-learn  0.015832     0.018766  0.017\n",
       "Neo4j         0.016351     0.017322  0.017\n",
       "PowerPoint    0.014275     0.013353  0.014\n",
       "PyTorch       0.010122     0.012631  0.011\n",
       "Golang        0.008046     0.009383  0.009\n",
       "Flask         0.009343     0.011909  0.011\n",
       "D3            0.006748     0.007218  0.007\n",
       "Keras         0.007527     0.007939  0.008\n",
       "SPSS          0.005969     0.007578  0.007\n",
       "Julia         0.004931     0.006135  0.006\n",
       "Matplotlib    0.004153     0.005052  0.005\n",
       "Shiny         0.004153     0.005413  0.005\n",
       "Stata         0.002076     0.002526  0.002"
      ]
     },
     "execution_count": 586,
     "metadata": {},
     "output_type": "execute_result"
    }
   ],
   "source": [
    "df_2020['avg'] = df_2020[['indeed', 'simplyhired']].mean(axis=1).round(3)\n",
    "df_2020"
   ]
  },
  {
   "cell_type": "markdown",
   "metadata": {},
   "source": [
    "Merge the DFs"
   ]
  },
  {
   "cell_type": "code",
   "execution_count": 587,
   "metadata": {},
   "outputs": [
    {
     "data": {
      "text/html": [
       "<div>\n",
       "<style scoped>\n",
       "    .dataframe tbody tr th:only-of-type {\n",
       "        vertical-align: middle;\n",
       "    }\n",
       "\n",
       "    .dataframe tbody tr th {\n",
       "        vertical-align: top;\n",
       "    }\n",
       "\n",
       "    .dataframe thead th {\n",
       "        text-align: right;\n",
       "    }\n",
       "</style>\n",
       "<table border=\"1\" class=\"dataframe\">\n",
       "  <thead>\n",
       "    <tr style=\"text-align: right;\">\n",
       "      <th></th>\n",
       "      <th>avg</th>\n",
       "      <th>mean_pct</th>\n",
       "    </tr>\n",
       "    <tr>\n",
       "      <th>term</th>\n",
       "      <th></th>\n",
       "      <th></th>\n",
       "    </tr>\n",
       "  </thead>\n",
       "  <tbody>\n",
       "    <tr>\n",
       "      <th>Data Engineer</th>\n",
       "      <td>NaN</td>\n",
       "      <td>1.000</td>\n",
       "    </tr>\n",
       "    <tr>\n",
       "      <th>Python</th>\n",
       "      <td>0.699</td>\n",
       "      <td>0.713</td>\n",
       "    </tr>\n",
       "    <tr>\n",
       "      <th>SQL</th>\n",
       "      <td>0.701</td>\n",
       "      <td>0.746</td>\n",
       "    </tr>\n",
       "    <tr>\n",
       "      <th>R</th>\n",
       "      <td>0.160</td>\n",
       "      <td>0.126</td>\n",
       "    </tr>\n",
       "    <tr>\n",
       "      <th>Spark</th>\n",
       "      <td>0.517</td>\n",
       "      <td>0.420</td>\n",
       "    </tr>\n",
       "    <tr>\n",
       "      <th>Hadoop</th>\n",
       "      <td>0.413</td>\n",
       "      <td>0.243</td>\n",
       "    </tr>\n",
       "    <tr>\n",
       "      <th>Java</th>\n",
       "      <td>0.421</td>\n",
       "      <td>0.335</td>\n",
       "    </tr>\n",
       "    <tr>\n",
       "      <th>Tableau</th>\n",
       "      <td>0.176</td>\n",
       "      <td>0.182</td>\n",
       "    </tr>\n",
       "    <tr>\n",
       "      <th>AWS</th>\n",
       "      <td>0.470</td>\n",
       "      <td>0.528</td>\n",
       "    </tr>\n",
       "    <tr>\n",
       "      <th>SAS</th>\n",
       "      <td>0.045</td>\n",
       "      <td>0.030</td>\n",
       "    </tr>\n",
       "    <tr>\n",
       "      <th>Hive</th>\n",
       "      <td>0.276</td>\n",
       "      <td>0.188</td>\n",
       "    </tr>\n",
       "    <tr>\n",
       "      <th>Scala</th>\n",
       "      <td>0.277</td>\n",
       "      <td>0.226</td>\n",
       "    </tr>\n",
       "    <tr>\n",
       "      <th>Excel</th>\n",
       "      <td>0.065</td>\n",
       "      <td>0.070</td>\n",
       "    </tr>\n",
       "    <tr>\n",
       "      <th>TensorFlow</th>\n",
       "      <td>0.031</td>\n",
       "      <td>0.020</td>\n",
       "    </tr>\n",
       "    <tr>\n",
       "      <th>Azure</th>\n",
       "      <td>0.223</td>\n",
       "      <td>0.300</td>\n",
       "    </tr>\n",
       "    <tr>\n",
       "      <th>NoSQL</th>\n",
       "      <td>0.250</td>\n",
       "      <td>0.200</td>\n",
       "    </tr>\n",
       "    <tr>\n",
       "      <th>Linux</th>\n",
       "      <td>0.161</td>\n",
       "      <td>0.120</td>\n",
       "    </tr>\n",
       "    <tr>\n",
       "      <th>C</th>\n",
       "      <td>0.060</td>\n",
       "      <td>0.054</td>\n",
       "    </tr>\n",
       "    <tr>\n",
       "      <th>C++</th>\n",
       "      <td>0.098</td>\n",
       "      <td>0.055</td>\n",
       "    </tr>\n",
       "    <tr>\n",
       "      <th>C#</th>\n",
       "      <td>0.075</td>\n",
       "      <td>0.054</td>\n",
       "    </tr>\n",
       "    <tr>\n",
       "      <th>Matlab</th>\n",
       "      <td>0.017</td>\n",
       "      <td>0.013</td>\n",
       "    </tr>\n",
       "    <tr>\n",
       "      <th>Scikit-learn</th>\n",
       "      <td>0.017</td>\n",
       "      <td>0.010</td>\n",
       "    </tr>\n",
       "    <tr>\n",
       "      <th>Pandas</th>\n",
       "      <td>0.032</td>\n",
       "      <td>0.040</td>\n",
       "    </tr>\n",
       "    <tr>\n",
       "      <th>Git</th>\n",
       "      <td>0.124</td>\n",
       "      <td>0.114</td>\n",
       "    </tr>\n",
       "    <tr>\n",
       "      <th>Keras</th>\n",
       "      <td>0.008</td>\n",
       "      <td>0.007</td>\n",
       "    </tr>\n",
       "    <tr>\n",
       "      <th>Javascript</th>\n",
       "      <td>0.065</td>\n",
       "      <td>0.073</td>\n",
       "    </tr>\n",
       "    <tr>\n",
       "      <th>Pig</th>\n",
       "      <td>0.078</td>\n",
       "      <td>0.033</td>\n",
       "    </tr>\n",
       "    <tr>\n",
       "      <th>Hbase</th>\n",
       "      <td>0.122</td>\n",
       "      <td>0.053</td>\n",
       "    </tr>\n",
       "    <tr>\n",
       "      <th>Docker</th>\n",
       "      <td>0.110</td>\n",
       "      <td>0.112</td>\n",
       "    </tr>\n",
       "    <tr>\n",
       "      <th>NumPy</th>\n",
       "      <td>0.017</td>\n",
       "      <td>0.020</td>\n",
       "    </tr>\n",
       "    <tr>\n",
       "      <th>PyTorch</th>\n",
       "      <td>0.011</td>\n",
       "      <td>0.011</td>\n",
       "    </tr>\n",
       "    <tr>\n",
       "      <th>MySQL</th>\n",
       "      <td>0.107</td>\n",
       "      <td>0.106</td>\n",
       "    </tr>\n",
       "    <tr>\n",
       "      <th>Perl</th>\n",
       "      <td>0.055</td>\n",
       "      <td>0.022</td>\n",
       "    </tr>\n",
       "    <tr>\n",
       "      <th>Cassandra</th>\n",
       "      <td>0.113</td>\n",
       "      <td>0.076</td>\n",
       "    </tr>\n",
       "    <tr>\n",
       "      <th>MongoDB</th>\n",
       "      <td>0.084</td>\n",
       "      <td>0.062</td>\n",
       "    </tr>\n",
       "    <tr>\n",
       "      <th>GCP</th>\n",
       "      <td>0.177</td>\n",
       "      <td>0.240</td>\n",
       "    </tr>\n",
       "    <tr>\n",
       "      <th>Kubernetes</th>\n",
       "      <td>0.080</td>\n",
       "      <td>0.105</td>\n",
       "    </tr>\n",
       "    <tr>\n",
       "      <th>D3</th>\n",
       "      <td>0.007</td>\n",
       "      <td>0.004</td>\n",
       "    </tr>\n",
       "    <tr>\n",
       "      <th>Databricks</th>\n",
       "      <td>0.060</td>\n",
       "      <td>0.105</td>\n",
       "    </tr>\n",
       "    <tr>\n",
       "      <th>Postgres</th>\n",
       "      <td>NaN</td>\n",
       "      <td>0.144</td>\n",
       "    </tr>\n",
       "    <tr>\n",
       "      <th>Airflow</th>\n",
       "      <td>0.131</td>\n",
       "      <td>0.177</td>\n",
       "    </tr>\n",
       "    <tr>\n",
       "      <th>Alteryx</th>\n",
       "      <td>0.021</td>\n",
       "      <td>0.019</td>\n",
       "    </tr>\n",
       "    <tr>\n",
       "      <th>BigQuery</th>\n",
       "      <td>0.052</td>\n",
       "      <td>0.072</td>\n",
       "    </tr>\n",
       "    <tr>\n",
       "      <th>Ruby</th>\n",
       "      <td>0.064</td>\n",
       "      <td>0.040</td>\n",
       "    </tr>\n",
       "    <tr>\n",
       "      <th>PowerPoint</th>\n",
       "      <td>0.014</td>\n",
       "      <td>0.022</td>\n",
       "    </tr>\n",
       "    <tr>\n",
       "      <th>Power BI</th>\n",
       "      <td>0.057</td>\n",
       "      <td>0.082</td>\n",
       "    </tr>\n",
       "    <tr>\n",
       "      <th>Shiny</th>\n",
       "      <td>0.005</td>\n",
       "      <td>0.004</td>\n",
       "    </tr>\n",
       "    <tr>\n",
       "      <th>Julia</th>\n",
       "      <td>0.006</td>\n",
       "      <td>0.004</td>\n",
       "    </tr>\n",
       "    <tr>\n",
       "      <th>Jupyter</th>\n",
       "      <td>0.020</td>\n",
       "      <td>0.016</td>\n",
       "    </tr>\n",
       "    <tr>\n",
       "      <th>PHP</th>\n",
       "      <td>0.022</td>\n",
       "      <td>0.010</td>\n",
       "    </tr>\n",
       "    <tr>\n",
       "      <th>Matplotlib</th>\n",
       "      <td>0.005</td>\n",
       "      <td>0.006</td>\n",
       "    </tr>\n",
       "    <tr>\n",
       "      <th>Node</th>\n",
       "      <td>0.032</td>\n",
       "      <td>0.018</td>\n",
       "    </tr>\n",
       "    <tr>\n",
       "      <th>Flask</th>\n",
       "      <td>0.011</td>\n",
       "      <td>0.008</td>\n",
       "    </tr>\n",
       "    <tr>\n",
       "      <th>Neo4j</th>\n",
       "      <td>0.017</td>\n",
       "      <td>0.012</td>\n",
       "    </tr>\n",
       "    <tr>\n",
       "      <th>Redis</th>\n",
       "      <td>0.030</td>\n",
       "      <td>0.022</td>\n",
       "    </tr>\n",
       "    <tr>\n",
       "      <th>Oracle</th>\n",
       "      <td>0.154</td>\n",
       "      <td>0.133</td>\n",
       "    </tr>\n",
       "    <tr>\n",
       "      <th>Lambda</th>\n",
       "      <td>0.086</td>\n",
       "      <td>0.110</td>\n",
       "    </tr>\n",
       "    <tr>\n",
       "      <th>Redshift</th>\n",
       "      <td>0.229</td>\n",
       "      <td>0.246</td>\n",
       "    </tr>\n",
       "    <tr>\n",
       "      <th>Terraform</th>\n",
       "      <td>0.037</td>\n",
       "      <td>0.075</td>\n",
       "    </tr>\n",
       "    <tr>\n",
       "      <th>Kafka</th>\n",
       "      <td>0.265</td>\n",
       "      <td>0.237</td>\n",
       "    </tr>\n",
       "    <tr>\n",
       "      <th>Jenkins</th>\n",
       "      <td>0.079</td>\n",
       "      <td>0.070</td>\n",
       "    </tr>\n",
       "    <tr>\n",
       "      <th>Golang</th>\n",
       "      <td>0.009</td>\n",
       "      <td>0.014</td>\n",
       "    </tr>\n",
       "    <tr>\n",
       "      <th>Snowflake</th>\n",
       "      <td>0.114</td>\n",
       "      <td>0.230</td>\n",
       "    </tr>\n",
       "    <tr>\n",
       "      <th>Presto</th>\n",
       "      <td>0.046</td>\n",
       "      <td>0.044</td>\n",
       "    </tr>\n",
       "    <tr>\n",
       "      <th>Kinesis</th>\n",
       "      <td>0.085</td>\n",
       "      <td>0.088</td>\n",
       "    </tr>\n",
       "    <tr>\n",
       "      <th>Impala</th>\n",
       "      <td>0.050</td>\n",
       "      <td>0.028</td>\n",
       "    </tr>\n",
       "    <tr>\n",
       "      <th>SQL Server</th>\n",
       "      <td>0.135</td>\n",
       "      <td>0.128</td>\n",
       "    </tr>\n",
       "    <tr>\n",
       "      <th>SPSS</th>\n",
       "      <td>0.007</td>\n",
       "      <td>0.005</td>\n",
       "    </tr>\n",
       "    <tr>\n",
       "      <th>Oozie</th>\n",
       "      <td>0.046</td>\n",
       "      <td>0.018</td>\n",
       "    </tr>\n",
       "    <tr>\n",
       "      <th>Stata</th>\n",
       "      <td>0.002</td>\n",
       "      <td>0.002</td>\n",
       "    </tr>\n",
       "    <tr>\n",
       "      <th>React</th>\n",
       "      <td>NaN</td>\n",
       "      <td>0.026</td>\n",
       "    </tr>\n",
       "    <tr>\n",
       "      <th>Kotlin</th>\n",
       "      <td>NaN</td>\n",
       "      <td>0.006</td>\n",
       "    </tr>\n",
       "    <tr>\n",
       "      <th>Fortran</th>\n",
       "      <td>NaN</td>\n",
       "      <td>0.000</td>\n",
       "    </tr>\n",
       "    <tr>\n",
       "      <th>Rust</th>\n",
       "      <td>NaN</td>\n",
       "      <td>0.005</td>\n",
       "    </tr>\n",
       "    <tr>\n",
       "      <th>Dart</th>\n",
       "      <td>NaN</td>\n",
       "      <td>0.001</td>\n",
       "    </tr>\n",
       "    <tr>\n",
       "      <th>Clojure</th>\n",
       "      <td>NaN</td>\n",
       "      <td>0.001</td>\n",
       "    </tr>\n",
       "    <tr>\n",
       "      <th>Vue</th>\n",
       "      <td>NaN</td>\n",
       "      <td>0.004</td>\n",
       "    </tr>\n",
       "    <tr>\n",
       "      <th>Svelte</th>\n",
       "      <td>NaN</td>\n",
       "      <td>0.000</td>\n",
       "    </tr>\n",
       "    <tr>\n",
       "      <th>Next.js</th>\n",
       "      <td>NaN</td>\n",
       "      <td>0.000</td>\n",
       "    </tr>\n",
       "    <tr>\n",
       "      <th>Swift</th>\n",
       "      <td>NaN</td>\n",
       "      <td>0.002</td>\n",
       "    </tr>\n",
       "    <tr>\n",
       "      <th>CSS</th>\n",
       "      <td>NaN</td>\n",
       "      <td>0.014</td>\n",
       "    </tr>\n",
       "    <tr>\n",
       "      <th>HTML</th>\n",
       "      <td>NaN</td>\n",
       "      <td>0.024</td>\n",
       "    </tr>\n",
       "    <tr>\n",
       "      <th>Bash</th>\n",
       "      <td>NaN</td>\n",
       "      <td>0.041</td>\n",
       "    </tr>\n",
       "    <tr>\n",
       "      <th>Shell</th>\n",
       "      <td>NaN</td>\n",
       "      <td>0.076</td>\n",
       "    </tr>\n",
       "    <tr>\n",
       "      <th>TypeScript</th>\n",
       "      <td>NaN</td>\n",
       "      <td>0.012</td>\n",
       "    </tr>\n",
       "    <tr>\n",
       "      <th>Objective-C</th>\n",
       "      <td>NaN</td>\n",
       "      <td>0.000</td>\n",
       "    </tr>\n",
       "    <tr>\n",
       "      <th>WebAssembly</th>\n",
       "      <td>NaN</td>\n",
       "      <td>0.000</td>\n",
       "    </tr>\n",
       "    <tr>\n",
       "      <th>Visual Basic</th>\n",
       "      <td>NaN</td>\n",
       "      <td>0.002</td>\n",
       "    </tr>\n",
       "    <tr>\n",
       "      <th>.net</th>\n",
       "      <td>NaN</td>\n",
       "      <td>0.040</td>\n",
       "    </tr>\n",
       "    <tr>\n",
       "      <th>ASP</th>\n",
       "      <td>NaN</td>\n",
       "      <td>0.004</td>\n",
       "    </tr>\n",
       "    <tr>\n",
       "      <th>Prefect</th>\n",
       "      <td>NaN</td>\n",
       "      <td>0.015</td>\n",
       "    </tr>\n",
       "    <tr>\n",
       "      <th>Luigi</th>\n",
       "      <td>NaN</td>\n",
       "      <td>0.028</td>\n",
       "    </tr>\n",
       "    <tr>\n",
       "      <th>Dagster</th>\n",
       "      <td>NaN</td>\n",
       "      <td>0.005</td>\n",
       "    </tr>\n",
       "    <tr>\n",
       "      <th>Plotly</th>\n",
       "      <td>NaN</td>\n",
       "      <td>0.003</td>\n",
       "    </tr>\n",
       "    <tr>\n",
       "      <th>dbt</th>\n",
       "      <td>NaN</td>\n",
       "      <td>0.054</td>\n",
       "    </tr>\n",
       "    <tr>\n",
       "      <th>Looker</th>\n",
       "      <td>NaN</td>\n",
       "      <td>0.050</td>\n",
       "    </tr>\n",
       "    <tr>\n",
       "      <th>Metabase</th>\n",
       "      <td>NaN</td>\n",
       "      <td>0.002</td>\n",
       "    </tr>\n",
       "    <tr>\n",
       "      <th>FastAPI</th>\n",
       "      <td>NaN</td>\n",
       "      <td>0.002</td>\n",
       "    </tr>\n",
       "    <tr>\n",
       "      <th>Sagemaker</th>\n",
       "      <td>NaN</td>\n",
       "      <td>0.021</td>\n",
       "    </tr>\n",
       "    <tr>\n",
       "      <th>MLFlow</th>\n",
       "      <td>NaN</td>\n",
       "      <td>0.005</td>\n",
       "    </tr>\n",
       "    <tr>\n",
       "      <th>Kubeflow</th>\n",
       "      <td>NaN</td>\n",
       "      <td>0.005</td>\n",
       "    </tr>\n",
       "    <tr>\n",
       "      <th>Glue</th>\n",
       "      <td>NaN</td>\n",
       "      <td>0.119</td>\n",
       "    </tr>\n",
       "    <tr>\n",
       "      <th>Athena</th>\n",
       "      <td>NaN</td>\n",
       "      <td>0.072</td>\n",
       "    </tr>\n",
       "  </tbody>\n",
       "</table>\n",
       "</div>"
      ],
      "text/plain": [
       "                 avg  mean_pct\n",
       "term                          \n",
       "Data Engineer    NaN     1.000\n",
       "Python         0.699     0.713\n",
       "SQL            0.701     0.746\n",
       "R              0.160     0.126\n",
       "Spark          0.517     0.420\n",
       "Hadoop         0.413     0.243\n",
       "Java           0.421     0.335\n",
       "Tableau        0.176     0.182\n",
       "AWS            0.470     0.528\n",
       "SAS            0.045     0.030\n",
       "Hive           0.276     0.188\n",
       "Scala          0.277     0.226\n",
       "Excel          0.065     0.070\n",
       "TensorFlow     0.031     0.020\n",
       "Azure          0.223     0.300\n",
       "NoSQL          0.250     0.200\n",
       "Linux          0.161     0.120\n",
       "C              0.060     0.054\n",
       "C++            0.098     0.055\n",
       "C#             0.075     0.054\n",
       "Matlab         0.017     0.013\n",
       "Scikit-learn   0.017     0.010\n",
       "Pandas         0.032     0.040\n",
       "Git            0.124     0.114\n",
       "Keras          0.008     0.007\n",
       "Javascript     0.065     0.073\n",
       "Pig            0.078     0.033\n",
       "Hbase          0.122     0.053\n",
       "Docker         0.110     0.112\n",
       "NumPy          0.017     0.020\n",
       "PyTorch        0.011     0.011\n",
       "MySQL          0.107     0.106\n",
       "Perl           0.055     0.022\n",
       "Cassandra      0.113     0.076\n",
       "MongoDB        0.084     0.062\n",
       "GCP            0.177     0.240\n",
       "Kubernetes     0.080     0.105\n",
       "D3             0.007     0.004\n",
       "Databricks     0.060     0.105\n",
       "Postgres         NaN     0.144\n",
       "Airflow        0.131     0.177\n",
       "Alteryx        0.021     0.019\n",
       "BigQuery       0.052     0.072\n",
       "Ruby           0.064     0.040\n",
       "PowerPoint     0.014     0.022\n",
       "Power BI       0.057     0.082\n",
       "Shiny          0.005     0.004\n",
       "Julia          0.006     0.004\n",
       "Jupyter        0.020     0.016\n",
       "PHP            0.022     0.010\n",
       "Matplotlib     0.005     0.006\n",
       "Node           0.032     0.018\n",
       "Flask          0.011     0.008\n",
       "Neo4j          0.017     0.012\n",
       "Redis          0.030     0.022\n",
       "Oracle         0.154     0.133\n",
       "Lambda         0.086     0.110\n",
       "Redshift       0.229     0.246\n",
       "Terraform      0.037     0.075\n",
       "Kafka          0.265     0.237\n",
       "Jenkins        0.079     0.070\n",
       "Golang         0.009     0.014\n",
       "Snowflake      0.114     0.230\n",
       "Presto         0.046     0.044\n",
       "Kinesis        0.085     0.088\n",
       "Impala         0.050     0.028\n",
       "SQL Server     0.135     0.128\n",
       "SPSS           0.007     0.005\n",
       "Oozie          0.046     0.018\n",
       "Stata          0.002     0.002\n",
       "React            NaN     0.026\n",
       "Kotlin           NaN     0.006\n",
       "Fortran          NaN     0.000\n",
       "Rust             NaN     0.005\n",
       "Dart             NaN     0.001\n",
       "Clojure          NaN     0.001\n",
       "Vue              NaN     0.004\n",
       "Svelte           NaN     0.000\n",
       "Next.js          NaN     0.000\n",
       "Swift            NaN     0.002\n",
       "CSS              NaN     0.014\n",
       "HTML             NaN     0.024\n",
       "Bash             NaN     0.041\n",
       "Shell            NaN     0.076\n",
       "TypeScript       NaN     0.012\n",
       "Objective-C      NaN     0.000\n",
       "WebAssembly      NaN     0.000\n",
       "Visual Basic     NaN     0.002\n",
       ".net             NaN     0.040\n",
       "ASP              NaN     0.004\n",
       "Prefect          NaN     0.015\n",
       "Luigi            NaN     0.028\n",
       "Dagster          NaN     0.005\n",
       "Plotly           NaN     0.003\n",
       "dbt              NaN     0.054\n",
       "Looker           NaN     0.050\n",
       "Metabase         NaN     0.002\n",
       "FastAPI          NaN     0.002\n",
       "Sagemaker        NaN     0.021\n",
       "MLFlow           NaN     0.005\n",
       "Kubeflow         NaN     0.005\n",
       "Glue             NaN     0.119\n",
       "Athena           NaN     0.072"
      ]
     },
     "execution_count": 587,
     "metadata": {},
     "output_type": "execute_result"
    }
   ],
   "source": [
    "df_combo = df_2020.merge(df_2022, how='right', left_index=True, right_index=True)[['avg', 'mean_pct']]\n",
    "df_combo"
   ]
  },
  {
   "cell_type": "markdown",
   "metadata": {},
   "source": [
    "Clean the combined DF"
   ]
  },
  {
   "cell_type": "code",
   "execution_count": 588,
   "metadata": {},
   "outputs": [],
   "source": [
    "df_combo = df_combo[1:].dropna()"
   ]
  },
  {
   "cell_type": "code",
   "execution_count": 589,
   "metadata": {},
   "outputs": [
    {
     "data": {
      "text/html": [
       "<div>\n",
       "<style scoped>\n",
       "    .dataframe tbody tr th:only-of-type {\n",
       "        vertical-align: middle;\n",
       "    }\n",
       "\n",
       "    .dataframe tbody tr th {\n",
       "        vertical-align: top;\n",
       "    }\n",
       "\n",
       "    .dataframe thead th {\n",
       "        text-align: right;\n",
       "    }\n",
       "</style>\n",
       "<table border=\"1\" class=\"dataframe\">\n",
       "  <thead>\n",
       "    <tr style=\"text-align: right;\">\n",
       "      <th></th>\n",
       "      <th>avg</th>\n",
       "      <th>mean_pct</th>\n",
       "    </tr>\n",
       "    <tr>\n",
       "      <th>term</th>\n",
       "      <th></th>\n",
       "      <th></th>\n",
       "    </tr>\n",
       "  </thead>\n",
       "  <tbody>\n",
       "    <tr>\n",
       "      <th>Python</th>\n",
       "      <td>0.699</td>\n",
       "      <td>0.713</td>\n",
       "    </tr>\n",
       "    <tr>\n",
       "      <th>SQL</th>\n",
       "      <td>0.701</td>\n",
       "      <td>0.746</td>\n",
       "    </tr>\n",
       "    <tr>\n",
       "      <th>R</th>\n",
       "      <td>0.160</td>\n",
       "      <td>0.126</td>\n",
       "    </tr>\n",
       "    <tr>\n",
       "      <th>Spark</th>\n",
       "      <td>0.517</td>\n",
       "      <td>0.420</td>\n",
       "    </tr>\n",
       "    <tr>\n",
       "      <th>Hadoop</th>\n",
       "      <td>0.413</td>\n",
       "      <td>0.243</td>\n",
       "    </tr>\n",
       "    <tr>\n",
       "      <th>Java</th>\n",
       "      <td>0.421</td>\n",
       "      <td>0.335</td>\n",
       "    </tr>\n",
       "    <tr>\n",
       "      <th>Tableau</th>\n",
       "      <td>0.176</td>\n",
       "      <td>0.182</td>\n",
       "    </tr>\n",
       "    <tr>\n",
       "      <th>AWS</th>\n",
       "      <td>0.470</td>\n",
       "      <td>0.528</td>\n",
       "    </tr>\n",
       "    <tr>\n",
       "      <th>SAS</th>\n",
       "      <td>0.045</td>\n",
       "      <td>0.030</td>\n",
       "    </tr>\n",
       "    <tr>\n",
       "      <th>Hive</th>\n",
       "      <td>0.276</td>\n",
       "      <td>0.188</td>\n",
       "    </tr>\n",
       "    <tr>\n",
       "      <th>Scala</th>\n",
       "      <td>0.277</td>\n",
       "      <td>0.226</td>\n",
       "    </tr>\n",
       "    <tr>\n",
       "      <th>Excel</th>\n",
       "      <td>0.065</td>\n",
       "      <td>0.070</td>\n",
       "    </tr>\n",
       "    <tr>\n",
       "      <th>TensorFlow</th>\n",
       "      <td>0.031</td>\n",
       "      <td>0.020</td>\n",
       "    </tr>\n",
       "    <tr>\n",
       "      <th>Azure</th>\n",
       "      <td>0.223</td>\n",
       "      <td>0.300</td>\n",
       "    </tr>\n",
       "    <tr>\n",
       "      <th>NoSQL</th>\n",
       "      <td>0.250</td>\n",
       "      <td>0.200</td>\n",
       "    </tr>\n",
       "    <tr>\n",
       "      <th>Linux</th>\n",
       "      <td>0.161</td>\n",
       "      <td>0.120</td>\n",
       "    </tr>\n",
       "    <tr>\n",
       "      <th>C</th>\n",
       "      <td>0.060</td>\n",
       "      <td>0.054</td>\n",
       "    </tr>\n",
       "    <tr>\n",
       "      <th>C++</th>\n",
       "      <td>0.098</td>\n",
       "      <td>0.055</td>\n",
       "    </tr>\n",
       "    <tr>\n",
       "      <th>C#</th>\n",
       "      <td>0.075</td>\n",
       "      <td>0.054</td>\n",
       "    </tr>\n",
       "    <tr>\n",
       "      <th>Matlab</th>\n",
       "      <td>0.017</td>\n",
       "      <td>0.013</td>\n",
       "    </tr>\n",
       "    <tr>\n",
       "      <th>Scikit-learn</th>\n",
       "      <td>0.017</td>\n",
       "      <td>0.010</td>\n",
       "    </tr>\n",
       "    <tr>\n",
       "      <th>Pandas</th>\n",
       "      <td>0.032</td>\n",
       "      <td>0.040</td>\n",
       "    </tr>\n",
       "    <tr>\n",
       "      <th>Git</th>\n",
       "      <td>0.124</td>\n",
       "      <td>0.114</td>\n",
       "    </tr>\n",
       "    <tr>\n",
       "      <th>Keras</th>\n",
       "      <td>0.008</td>\n",
       "      <td>0.007</td>\n",
       "    </tr>\n",
       "    <tr>\n",
       "      <th>Javascript</th>\n",
       "      <td>0.065</td>\n",
       "      <td>0.073</td>\n",
       "    </tr>\n",
       "    <tr>\n",
       "      <th>Pig</th>\n",
       "      <td>0.078</td>\n",
       "      <td>0.033</td>\n",
       "    </tr>\n",
       "    <tr>\n",
       "      <th>Hbase</th>\n",
       "      <td>0.122</td>\n",
       "      <td>0.053</td>\n",
       "    </tr>\n",
       "    <tr>\n",
       "      <th>Docker</th>\n",
       "      <td>0.110</td>\n",
       "      <td>0.112</td>\n",
       "    </tr>\n",
       "    <tr>\n",
       "      <th>NumPy</th>\n",
       "      <td>0.017</td>\n",
       "      <td>0.020</td>\n",
       "    </tr>\n",
       "    <tr>\n",
       "      <th>PyTorch</th>\n",
       "      <td>0.011</td>\n",
       "      <td>0.011</td>\n",
       "    </tr>\n",
       "    <tr>\n",
       "      <th>MySQL</th>\n",
       "      <td>0.107</td>\n",
       "      <td>0.106</td>\n",
       "    </tr>\n",
       "    <tr>\n",
       "      <th>Perl</th>\n",
       "      <td>0.055</td>\n",
       "      <td>0.022</td>\n",
       "    </tr>\n",
       "    <tr>\n",
       "      <th>Cassandra</th>\n",
       "      <td>0.113</td>\n",
       "      <td>0.076</td>\n",
       "    </tr>\n",
       "    <tr>\n",
       "      <th>MongoDB</th>\n",
       "      <td>0.084</td>\n",
       "      <td>0.062</td>\n",
       "    </tr>\n",
       "    <tr>\n",
       "      <th>GCP</th>\n",
       "      <td>0.177</td>\n",
       "      <td>0.240</td>\n",
       "    </tr>\n",
       "    <tr>\n",
       "      <th>Kubernetes</th>\n",
       "      <td>0.080</td>\n",
       "      <td>0.105</td>\n",
       "    </tr>\n",
       "    <tr>\n",
       "      <th>D3</th>\n",
       "      <td>0.007</td>\n",
       "      <td>0.004</td>\n",
       "    </tr>\n",
       "    <tr>\n",
       "      <th>Databricks</th>\n",
       "      <td>0.060</td>\n",
       "      <td>0.105</td>\n",
       "    </tr>\n",
       "    <tr>\n",
       "      <th>Airflow</th>\n",
       "      <td>0.131</td>\n",
       "      <td>0.177</td>\n",
       "    </tr>\n",
       "    <tr>\n",
       "      <th>Alteryx</th>\n",
       "      <td>0.021</td>\n",
       "      <td>0.019</td>\n",
       "    </tr>\n",
       "    <tr>\n",
       "      <th>BigQuery</th>\n",
       "      <td>0.052</td>\n",
       "      <td>0.072</td>\n",
       "    </tr>\n",
       "    <tr>\n",
       "      <th>Ruby</th>\n",
       "      <td>0.064</td>\n",
       "      <td>0.040</td>\n",
       "    </tr>\n",
       "    <tr>\n",
       "      <th>PowerPoint</th>\n",
       "      <td>0.014</td>\n",
       "      <td>0.022</td>\n",
       "    </tr>\n",
       "    <tr>\n",
       "      <th>Power BI</th>\n",
       "      <td>0.057</td>\n",
       "      <td>0.082</td>\n",
       "    </tr>\n",
       "    <tr>\n",
       "      <th>Shiny</th>\n",
       "      <td>0.005</td>\n",
       "      <td>0.004</td>\n",
       "    </tr>\n",
       "    <tr>\n",
       "      <th>Julia</th>\n",
       "      <td>0.006</td>\n",
       "      <td>0.004</td>\n",
       "    </tr>\n",
       "    <tr>\n",
       "      <th>Jupyter</th>\n",
       "      <td>0.020</td>\n",
       "      <td>0.016</td>\n",
       "    </tr>\n",
       "    <tr>\n",
       "      <th>PHP</th>\n",
       "      <td>0.022</td>\n",
       "      <td>0.010</td>\n",
       "    </tr>\n",
       "    <tr>\n",
       "      <th>Matplotlib</th>\n",
       "      <td>0.005</td>\n",
       "      <td>0.006</td>\n",
       "    </tr>\n",
       "    <tr>\n",
       "      <th>Node</th>\n",
       "      <td>0.032</td>\n",
       "      <td>0.018</td>\n",
       "    </tr>\n",
       "    <tr>\n",
       "      <th>Flask</th>\n",
       "      <td>0.011</td>\n",
       "      <td>0.008</td>\n",
       "    </tr>\n",
       "    <tr>\n",
       "      <th>Neo4j</th>\n",
       "      <td>0.017</td>\n",
       "      <td>0.012</td>\n",
       "    </tr>\n",
       "    <tr>\n",
       "      <th>Redis</th>\n",
       "      <td>0.030</td>\n",
       "      <td>0.022</td>\n",
       "    </tr>\n",
       "    <tr>\n",
       "      <th>Oracle</th>\n",
       "      <td>0.154</td>\n",
       "      <td>0.133</td>\n",
       "    </tr>\n",
       "    <tr>\n",
       "      <th>Lambda</th>\n",
       "      <td>0.086</td>\n",
       "      <td>0.110</td>\n",
       "    </tr>\n",
       "    <tr>\n",
       "      <th>Redshift</th>\n",
       "      <td>0.229</td>\n",
       "      <td>0.246</td>\n",
       "    </tr>\n",
       "    <tr>\n",
       "      <th>Terraform</th>\n",
       "      <td>0.037</td>\n",
       "      <td>0.075</td>\n",
       "    </tr>\n",
       "    <tr>\n",
       "      <th>Kafka</th>\n",
       "      <td>0.265</td>\n",
       "      <td>0.237</td>\n",
       "    </tr>\n",
       "    <tr>\n",
       "      <th>Jenkins</th>\n",
       "      <td>0.079</td>\n",
       "      <td>0.070</td>\n",
       "    </tr>\n",
       "    <tr>\n",
       "      <th>Golang</th>\n",
       "      <td>0.009</td>\n",
       "      <td>0.014</td>\n",
       "    </tr>\n",
       "    <tr>\n",
       "      <th>Snowflake</th>\n",
       "      <td>0.114</td>\n",
       "      <td>0.230</td>\n",
       "    </tr>\n",
       "    <tr>\n",
       "      <th>Presto</th>\n",
       "      <td>0.046</td>\n",
       "      <td>0.044</td>\n",
       "    </tr>\n",
       "    <tr>\n",
       "      <th>Kinesis</th>\n",
       "      <td>0.085</td>\n",
       "      <td>0.088</td>\n",
       "    </tr>\n",
       "    <tr>\n",
       "      <th>Impala</th>\n",
       "      <td>0.050</td>\n",
       "      <td>0.028</td>\n",
       "    </tr>\n",
       "    <tr>\n",
       "      <th>SQL Server</th>\n",
       "      <td>0.135</td>\n",
       "      <td>0.128</td>\n",
       "    </tr>\n",
       "    <tr>\n",
       "      <th>SPSS</th>\n",
       "      <td>0.007</td>\n",
       "      <td>0.005</td>\n",
       "    </tr>\n",
       "    <tr>\n",
       "      <th>Oozie</th>\n",
       "      <td>0.046</td>\n",
       "      <td>0.018</td>\n",
       "    </tr>\n",
       "    <tr>\n",
       "      <th>Stata</th>\n",
       "      <td>0.002</td>\n",
       "      <td>0.002</td>\n",
       "    </tr>\n",
       "  </tbody>\n",
       "</table>\n",
       "</div>"
      ],
      "text/plain": [
       "                avg  mean_pct\n",
       "term                         \n",
       "Python        0.699     0.713\n",
       "SQL           0.701     0.746\n",
       "R             0.160     0.126\n",
       "Spark         0.517     0.420\n",
       "Hadoop        0.413     0.243\n",
       "Java          0.421     0.335\n",
       "Tableau       0.176     0.182\n",
       "AWS           0.470     0.528\n",
       "SAS           0.045     0.030\n",
       "Hive          0.276     0.188\n",
       "Scala         0.277     0.226\n",
       "Excel         0.065     0.070\n",
       "TensorFlow    0.031     0.020\n",
       "Azure         0.223     0.300\n",
       "NoSQL         0.250     0.200\n",
       "Linux         0.161     0.120\n",
       "C             0.060     0.054\n",
       "C++           0.098     0.055\n",
       "C#            0.075     0.054\n",
       "Matlab        0.017     0.013\n",
       "Scikit-learn  0.017     0.010\n",
       "Pandas        0.032     0.040\n",
       "Git           0.124     0.114\n",
       "Keras         0.008     0.007\n",
       "Javascript    0.065     0.073\n",
       "Pig           0.078     0.033\n",
       "Hbase         0.122     0.053\n",
       "Docker        0.110     0.112\n",
       "NumPy         0.017     0.020\n",
       "PyTorch       0.011     0.011\n",
       "MySQL         0.107     0.106\n",
       "Perl          0.055     0.022\n",
       "Cassandra     0.113     0.076\n",
       "MongoDB       0.084     0.062\n",
       "GCP           0.177     0.240\n",
       "Kubernetes    0.080     0.105\n",
       "D3            0.007     0.004\n",
       "Databricks    0.060     0.105\n",
       "Airflow       0.131     0.177\n",
       "Alteryx       0.021     0.019\n",
       "BigQuery      0.052     0.072\n",
       "Ruby          0.064     0.040\n",
       "PowerPoint    0.014     0.022\n",
       "Power BI      0.057     0.082\n",
       "Shiny         0.005     0.004\n",
       "Julia         0.006     0.004\n",
       "Jupyter       0.020     0.016\n",
       "PHP           0.022     0.010\n",
       "Matplotlib    0.005     0.006\n",
       "Node          0.032     0.018\n",
       "Flask         0.011     0.008\n",
       "Neo4j         0.017     0.012\n",
       "Redis         0.030     0.022\n",
       "Oracle        0.154     0.133\n",
       "Lambda        0.086     0.110\n",
       "Redshift      0.229     0.246\n",
       "Terraform     0.037     0.075\n",
       "Kafka         0.265     0.237\n",
       "Jenkins       0.079     0.070\n",
       "Golang        0.009     0.014\n",
       "Snowflake     0.114     0.230\n",
       "Presto        0.046     0.044\n",
       "Kinesis       0.085     0.088\n",
       "Impala        0.050     0.028\n",
       "SQL Server    0.135     0.128\n",
       "SPSS          0.007     0.005\n",
       "Oozie         0.046     0.018\n",
       "Stata         0.002     0.002"
      ]
     },
     "execution_count": 589,
     "metadata": {},
     "output_type": "execute_result"
    }
   ],
   "source": [
    "df_combo"
   ]
  },
  {
   "cell_type": "code",
   "execution_count": 590,
   "metadata": {},
   "outputs": [
    {
     "data": {
      "text/html": [
       "<div>\n",
       "<style scoped>\n",
       "    .dataframe tbody tr th:only-of-type {\n",
       "        vertical-align: middle;\n",
       "    }\n",
       "\n",
       "    .dataframe tbody tr th {\n",
       "        vertical-align: top;\n",
       "    }\n",
       "\n",
       "    .dataframe thead th {\n",
       "        text-align: right;\n",
       "    }\n",
       "</style>\n",
       "<table border=\"1\" class=\"dataframe\">\n",
       "  <thead>\n",
       "    <tr style=\"text-align: right;\">\n",
       "      <th></th>\n",
       "      <th>2020_mean</th>\n",
       "      <th>2022_mean</th>\n",
       "    </tr>\n",
       "    <tr>\n",
       "      <th>term</th>\n",
       "      <th></th>\n",
       "      <th></th>\n",
       "    </tr>\n",
       "  </thead>\n",
       "  <tbody>\n",
       "    <tr>\n",
       "      <th>Python</th>\n",
       "      <td>0.699</td>\n",
       "      <td>0.713</td>\n",
       "    </tr>\n",
       "    <tr>\n",
       "      <th>SQL</th>\n",
       "      <td>0.701</td>\n",
       "      <td>0.746</td>\n",
       "    </tr>\n",
       "  </tbody>\n",
       "</table>\n",
       "</div>"
      ],
      "text/plain": [
       "        2020_mean  2022_mean\n",
       "term                        \n",
       "Python      0.699      0.713\n",
       "SQL         0.701      0.746"
      ]
     },
     "execution_count": 590,
     "metadata": {},
     "output_type": "execute_result"
    }
   ],
   "source": [
    "df_combo.columns = ['2020_mean', '2022_mean']\n",
    "df_combo.head(2)"
   ]
  },
  {
   "cell_type": "code",
   "execution_count": 591,
   "metadata": {},
   "outputs": [],
   "source": [
    "df_combo.sort_values(by='2022_mean', ascending=False, inplace=True)"
   ]
  },
  {
   "cell_type": "code",
   "execution_count": 592,
   "metadata": {},
   "outputs": [
    {
     "data": {
      "text/html": [
       "<div>\n",
       "<style scoped>\n",
       "    .dataframe tbody tr th:only-of-type {\n",
       "        vertical-align: middle;\n",
       "    }\n",
       "\n",
       "    .dataframe tbody tr th {\n",
       "        vertical-align: top;\n",
       "    }\n",
       "\n",
       "    .dataframe thead th {\n",
       "        text-align: right;\n",
       "    }\n",
       "</style>\n",
       "<table border=\"1\" class=\"dataframe\">\n",
       "  <thead>\n",
       "    <tr style=\"text-align: right;\">\n",
       "      <th></th>\n",
       "      <th>2020_mean</th>\n",
       "      <th>2022_mean</th>\n",
       "      <th>pct_pt_change</th>\n",
       "    </tr>\n",
       "    <tr>\n",
       "      <th>term</th>\n",
       "      <th></th>\n",
       "      <th></th>\n",
       "      <th></th>\n",
       "    </tr>\n",
       "  </thead>\n",
       "  <tbody>\n",
       "    <tr>\n",
       "      <th>SQL</th>\n",
       "      <td>0.701</td>\n",
       "      <td>0.746</td>\n",
       "      <td>0.045</td>\n",
       "    </tr>\n",
       "    <tr>\n",
       "      <th>Python</th>\n",
       "      <td>0.699</td>\n",
       "      <td>0.713</td>\n",
       "      <td>0.014</td>\n",
       "    </tr>\n",
       "    <tr>\n",
       "      <th>AWS</th>\n",
       "      <td>0.470</td>\n",
       "      <td>0.528</td>\n",
       "      <td>0.058</td>\n",
       "    </tr>\n",
       "    <tr>\n",
       "      <th>Spark</th>\n",
       "      <td>0.517</td>\n",
       "      <td>0.420</td>\n",
       "      <td>-0.097</td>\n",
       "    </tr>\n",
       "    <tr>\n",
       "      <th>Java</th>\n",
       "      <td>0.421</td>\n",
       "      <td>0.335</td>\n",
       "      <td>-0.086</td>\n",
       "    </tr>\n",
       "    <tr>\n",
       "      <th>Azure</th>\n",
       "      <td>0.223</td>\n",
       "      <td>0.300</td>\n",
       "      <td>0.077</td>\n",
       "    </tr>\n",
       "    <tr>\n",
       "      <th>Redshift</th>\n",
       "      <td>0.229</td>\n",
       "      <td>0.246</td>\n",
       "      <td>0.017</td>\n",
       "    </tr>\n",
       "    <tr>\n",
       "      <th>Hadoop</th>\n",
       "      <td>0.413</td>\n",
       "      <td>0.243</td>\n",
       "      <td>-0.170</td>\n",
       "    </tr>\n",
       "    <tr>\n",
       "      <th>GCP</th>\n",
       "      <td>0.177</td>\n",
       "      <td>0.240</td>\n",
       "      <td>0.063</td>\n",
       "    </tr>\n",
       "    <tr>\n",
       "      <th>Kafka</th>\n",
       "      <td>0.265</td>\n",
       "      <td>0.237</td>\n",
       "      <td>-0.028</td>\n",
       "    </tr>\n",
       "    <tr>\n",
       "      <th>Snowflake</th>\n",
       "      <td>0.114</td>\n",
       "      <td>0.230</td>\n",
       "      <td>0.116</td>\n",
       "    </tr>\n",
       "    <tr>\n",
       "      <th>Scala</th>\n",
       "      <td>0.277</td>\n",
       "      <td>0.226</td>\n",
       "      <td>-0.051</td>\n",
       "    </tr>\n",
       "    <tr>\n",
       "      <th>NoSQL</th>\n",
       "      <td>0.250</td>\n",
       "      <td>0.200</td>\n",
       "      <td>-0.050</td>\n",
       "    </tr>\n",
       "    <tr>\n",
       "      <th>Hive</th>\n",
       "      <td>0.276</td>\n",
       "      <td>0.188</td>\n",
       "      <td>-0.088</td>\n",
       "    </tr>\n",
       "    <tr>\n",
       "      <th>Tableau</th>\n",
       "      <td>0.176</td>\n",
       "      <td>0.182</td>\n",
       "      <td>0.006</td>\n",
       "    </tr>\n",
       "    <tr>\n",
       "      <th>Airflow</th>\n",
       "      <td>0.131</td>\n",
       "      <td>0.177</td>\n",
       "      <td>0.046</td>\n",
       "    </tr>\n",
       "    <tr>\n",
       "      <th>Oracle</th>\n",
       "      <td>0.154</td>\n",
       "      <td>0.133</td>\n",
       "      <td>-0.021</td>\n",
       "    </tr>\n",
       "    <tr>\n",
       "      <th>SQL Server</th>\n",
       "      <td>0.135</td>\n",
       "      <td>0.128</td>\n",
       "      <td>-0.007</td>\n",
       "    </tr>\n",
       "    <tr>\n",
       "      <th>R</th>\n",
       "      <td>0.160</td>\n",
       "      <td>0.126</td>\n",
       "      <td>-0.034</td>\n",
       "    </tr>\n",
       "    <tr>\n",
       "      <th>Linux</th>\n",
       "      <td>0.161</td>\n",
       "      <td>0.120</td>\n",
       "      <td>-0.041</td>\n",
       "    </tr>\n",
       "    <tr>\n",
       "      <th>Git</th>\n",
       "      <td>0.124</td>\n",
       "      <td>0.114</td>\n",
       "      <td>-0.010</td>\n",
       "    </tr>\n",
       "    <tr>\n",
       "      <th>Docker</th>\n",
       "      <td>0.110</td>\n",
       "      <td>0.112</td>\n",
       "      <td>0.002</td>\n",
       "    </tr>\n",
       "    <tr>\n",
       "      <th>Lambda</th>\n",
       "      <td>0.086</td>\n",
       "      <td>0.110</td>\n",
       "      <td>0.024</td>\n",
       "    </tr>\n",
       "    <tr>\n",
       "      <th>MySQL</th>\n",
       "      <td>0.107</td>\n",
       "      <td>0.106</td>\n",
       "      <td>-0.001</td>\n",
       "    </tr>\n",
       "    <tr>\n",
       "      <th>Databricks</th>\n",
       "      <td>0.060</td>\n",
       "      <td>0.105</td>\n",
       "      <td>0.045</td>\n",
       "    </tr>\n",
       "    <tr>\n",
       "      <th>Kubernetes</th>\n",
       "      <td>0.080</td>\n",
       "      <td>0.105</td>\n",
       "      <td>0.025</td>\n",
       "    </tr>\n",
       "    <tr>\n",
       "      <th>Kinesis</th>\n",
       "      <td>0.085</td>\n",
       "      <td>0.088</td>\n",
       "      <td>0.003</td>\n",
       "    </tr>\n",
       "    <tr>\n",
       "      <th>Power BI</th>\n",
       "      <td>0.057</td>\n",
       "      <td>0.082</td>\n",
       "      <td>0.025</td>\n",
       "    </tr>\n",
       "    <tr>\n",
       "      <th>Cassandra</th>\n",
       "      <td>0.113</td>\n",
       "      <td>0.076</td>\n",
       "      <td>-0.037</td>\n",
       "    </tr>\n",
       "    <tr>\n",
       "      <th>Terraform</th>\n",
       "      <td>0.037</td>\n",
       "      <td>0.075</td>\n",
       "      <td>0.038</td>\n",
       "    </tr>\n",
       "    <tr>\n",
       "      <th>Javascript</th>\n",
       "      <td>0.065</td>\n",
       "      <td>0.073</td>\n",
       "      <td>0.008</td>\n",
       "    </tr>\n",
       "    <tr>\n",
       "      <th>BigQuery</th>\n",
       "      <td>0.052</td>\n",
       "      <td>0.072</td>\n",
       "      <td>0.020</td>\n",
       "    </tr>\n",
       "    <tr>\n",
       "      <th>Jenkins</th>\n",
       "      <td>0.079</td>\n",
       "      <td>0.070</td>\n",
       "      <td>-0.009</td>\n",
       "    </tr>\n",
       "    <tr>\n",
       "      <th>Excel</th>\n",
       "      <td>0.065</td>\n",
       "      <td>0.070</td>\n",
       "      <td>0.005</td>\n",
       "    </tr>\n",
       "    <tr>\n",
       "      <th>MongoDB</th>\n",
       "      <td>0.084</td>\n",
       "      <td>0.062</td>\n",
       "      <td>-0.022</td>\n",
       "    </tr>\n",
       "    <tr>\n",
       "      <th>C++</th>\n",
       "      <td>0.098</td>\n",
       "      <td>0.055</td>\n",
       "      <td>-0.043</td>\n",
       "    </tr>\n",
       "    <tr>\n",
       "      <th>C#</th>\n",
       "      <td>0.075</td>\n",
       "      <td>0.054</td>\n",
       "      <td>-0.021</td>\n",
       "    </tr>\n",
       "    <tr>\n",
       "      <th>C</th>\n",
       "      <td>0.060</td>\n",
       "      <td>0.054</td>\n",
       "      <td>-0.006</td>\n",
       "    </tr>\n",
       "    <tr>\n",
       "      <th>Hbase</th>\n",
       "      <td>0.122</td>\n",
       "      <td>0.053</td>\n",
       "      <td>-0.069</td>\n",
       "    </tr>\n",
       "    <tr>\n",
       "      <th>Presto</th>\n",
       "      <td>0.046</td>\n",
       "      <td>0.044</td>\n",
       "      <td>-0.002</td>\n",
       "    </tr>\n",
       "    <tr>\n",
       "      <th>Pandas</th>\n",
       "      <td>0.032</td>\n",
       "      <td>0.040</td>\n",
       "      <td>0.008</td>\n",
       "    </tr>\n",
       "    <tr>\n",
       "      <th>Ruby</th>\n",
       "      <td>0.064</td>\n",
       "      <td>0.040</td>\n",
       "      <td>-0.024</td>\n",
       "    </tr>\n",
       "    <tr>\n",
       "      <th>Pig</th>\n",
       "      <td>0.078</td>\n",
       "      <td>0.033</td>\n",
       "      <td>-0.045</td>\n",
       "    </tr>\n",
       "    <tr>\n",
       "      <th>SAS</th>\n",
       "      <td>0.045</td>\n",
       "      <td>0.030</td>\n",
       "      <td>-0.015</td>\n",
       "    </tr>\n",
       "    <tr>\n",
       "      <th>Impala</th>\n",
       "      <td>0.050</td>\n",
       "      <td>0.028</td>\n",
       "      <td>-0.022</td>\n",
       "    </tr>\n",
       "    <tr>\n",
       "      <th>Redis</th>\n",
       "      <td>0.030</td>\n",
       "      <td>0.022</td>\n",
       "      <td>-0.008</td>\n",
       "    </tr>\n",
       "    <tr>\n",
       "      <th>PowerPoint</th>\n",
       "      <td>0.014</td>\n",
       "      <td>0.022</td>\n",
       "      <td>0.008</td>\n",
       "    </tr>\n",
       "    <tr>\n",
       "      <th>Perl</th>\n",
       "      <td>0.055</td>\n",
       "      <td>0.022</td>\n",
       "      <td>-0.033</td>\n",
       "    </tr>\n",
       "    <tr>\n",
       "      <th>TensorFlow</th>\n",
       "      <td>0.031</td>\n",
       "      <td>0.020</td>\n",
       "      <td>-0.011</td>\n",
       "    </tr>\n",
       "    <tr>\n",
       "      <th>NumPy</th>\n",
       "      <td>0.017</td>\n",
       "      <td>0.020</td>\n",
       "      <td>0.003</td>\n",
       "    </tr>\n",
       "    <tr>\n",
       "      <th>Alteryx</th>\n",
       "      <td>0.021</td>\n",
       "      <td>0.019</td>\n",
       "      <td>-0.002</td>\n",
       "    </tr>\n",
       "    <tr>\n",
       "      <th>Node</th>\n",
       "      <td>0.032</td>\n",
       "      <td>0.018</td>\n",
       "      <td>-0.014</td>\n",
       "    </tr>\n",
       "    <tr>\n",
       "      <th>Oozie</th>\n",
       "      <td>0.046</td>\n",
       "      <td>0.018</td>\n",
       "      <td>-0.028</td>\n",
       "    </tr>\n",
       "    <tr>\n",
       "      <th>Jupyter</th>\n",
       "      <td>0.020</td>\n",
       "      <td>0.016</td>\n",
       "      <td>-0.004</td>\n",
       "    </tr>\n",
       "    <tr>\n",
       "      <th>Golang</th>\n",
       "      <td>0.009</td>\n",
       "      <td>0.014</td>\n",
       "      <td>0.005</td>\n",
       "    </tr>\n",
       "    <tr>\n",
       "      <th>Matlab</th>\n",
       "      <td>0.017</td>\n",
       "      <td>0.013</td>\n",
       "      <td>-0.004</td>\n",
       "    </tr>\n",
       "    <tr>\n",
       "      <th>Neo4j</th>\n",
       "      <td>0.017</td>\n",
       "      <td>0.012</td>\n",
       "      <td>-0.005</td>\n",
       "    </tr>\n",
       "    <tr>\n",
       "      <th>PyTorch</th>\n",
       "      <td>0.011</td>\n",
       "      <td>0.011</td>\n",
       "      <td>0.000</td>\n",
       "    </tr>\n",
       "    <tr>\n",
       "      <th>Scikit-learn</th>\n",
       "      <td>0.017</td>\n",
       "      <td>0.010</td>\n",
       "      <td>-0.007</td>\n",
       "    </tr>\n",
       "    <tr>\n",
       "      <th>PHP</th>\n",
       "      <td>0.022</td>\n",
       "      <td>0.010</td>\n",
       "      <td>-0.012</td>\n",
       "    </tr>\n",
       "    <tr>\n",
       "      <th>Flask</th>\n",
       "      <td>0.011</td>\n",
       "      <td>0.008</td>\n",
       "      <td>-0.003</td>\n",
       "    </tr>\n",
       "    <tr>\n",
       "      <th>Keras</th>\n",
       "      <td>0.008</td>\n",
       "      <td>0.007</td>\n",
       "      <td>-0.001</td>\n",
       "    </tr>\n",
       "    <tr>\n",
       "      <th>Matplotlib</th>\n",
       "      <td>0.005</td>\n",
       "      <td>0.006</td>\n",
       "      <td>0.001</td>\n",
       "    </tr>\n",
       "    <tr>\n",
       "      <th>SPSS</th>\n",
       "      <td>0.007</td>\n",
       "      <td>0.005</td>\n",
       "      <td>-0.002</td>\n",
       "    </tr>\n",
       "    <tr>\n",
       "      <th>D3</th>\n",
       "      <td>0.007</td>\n",
       "      <td>0.004</td>\n",
       "      <td>-0.003</td>\n",
       "    </tr>\n",
       "    <tr>\n",
       "      <th>Shiny</th>\n",
       "      <td>0.005</td>\n",
       "      <td>0.004</td>\n",
       "      <td>-0.001</td>\n",
       "    </tr>\n",
       "    <tr>\n",
       "      <th>Julia</th>\n",
       "      <td>0.006</td>\n",
       "      <td>0.004</td>\n",
       "      <td>-0.002</td>\n",
       "    </tr>\n",
       "    <tr>\n",
       "      <th>Stata</th>\n",
       "      <td>0.002</td>\n",
       "      <td>0.002</td>\n",
       "      <td>0.000</td>\n",
       "    </tr>\n",
       "  </tbody>\n",
       "</table>\n",
       "</div>"
      ],
      "text/plain": [
       "              2020_mean  2022_mean  pct_pt_change\n",
       "term                                             \n",
       "SQL               0.701      0.746          0.045\n",
       "Python            0.699      0.713          0.014\n",
       "AWS               0.470      0.528          0.058\n",
       "Spark             0.517      0.420         -0.097\n",
       "Java              0.421      0.335         -0.086\n",
       "Azure             0.223      0.300          0.077\n",
       "Redshift          0.229      0.246          0.017\n",
       "Hadoop            0.413      0.243         -0.170\n",
       "GCP               0.177      0.240          0.063\n",
       "Kafka             0.265      0.237         -0.028\n",
       "Snowflake         0.114      0.230          0.116\n",
       "Scala             0.277      0.226         -0.051\n",
       "NoSQL             0.250      0.200         -0.050\n",
       "Hive              0.276      0.188         -0.088\n",
       "Tableau           0.176      0.182          0.006\n",
       "Airflow           0.131      0.177          0.046\n",
       "Oracle            0.154      0.133         -0.021\n",
       "SQL Server        0.135      0.128         -0.007\n",
       "R                 0.160      0.126         -0.034\n",
       "Linux             0.161      0.120         -0.041\n",
       "Git               0.124      0.114         -0.010\n",
       "Docker            0.110      0.112          0.002\n",
       "Lambda            0.086      0.110          0.024\n",
       "MySQL             0.107      0.106         -0.001\n",
       "Databricks        0.060      0.105          0.045\n",
       "Kubernetes        0.080      0.105          0.025\n",
       "Kinesis           0.085      0.088          0.003\n",
       "Power BI          0.057      0.082          0.025\n",
       "Cassandra         0.113      0.076         -0.037\n",
       "Terraform         0.037      0.075          0.038\n",
       "Javascript        0.065      0.073          0.008\n",
       "BigQuery          0.052      0.072          0.020\n",
       "Jenkins           0.079      0.070         -0.009\n",
       "Excel             0.065      0.070          0.005\n",
       "MongoDB           0.084      0.062         -0.022\n",
       "C++               0.098      0.055         -0.043\n",
       "C#                0.075      0.054         -0.021\n",
       "C                 0.060      0.054         -0.006\n",
       "Hbase             0.122      0.053         -0.069\n",
       "Presto            0.046      0.044         -0.002\n",
       "Pandas            0.032      0.040          0.008\n",
       "Ruby              0.064      0.040         -0.024\n",
       "Pig               0.078      0.033         -0.045\n",
       "SAS               0.045      0.030         -0.015\n",
       "Impala            0.050      0.028         -0.022\n",
       "Redis             0.030      0.022         -0.008\n",
       "PowerPoint        0.014      0.022          0.008\n",
       "Perl              0.055      0.022         -0.033\n",
       "TensorFlow        0.031      0.020         -0.011\n",
       "NumPy             0.017      0.020          0.003\n",
       "Alteryx           0.021      0.019         -0.002\n",
       "Node              0.032      0.018         -0.014\n",
       "Oozie             0.046      0.018         -0.028\n",
       "Jupyter           0.020      0.016         -0.004\n",
       "Golang            0.009      0.014          0.005\n",
       "Matlab            0.017      0.013         -0.004\n",
       "Neo4j             0.017      0.012         -0.005\n",
       "PyTorch           0.011      0.011          0.000\n",
       "Scikit-learn      0.017      0.010         -0.007\n",
       "PHP               0.022      0.010         -0.012\n",
       "Flask             0.011      0.008         -0.003\n",
       "Keras             0.008      0.007         -0.001\n",
       "Matplotlib        0.005      0.006          0.001\n",
       "SPSS              0.007      0.005         -0.002\n",
       "D3                0.007      0.004         -0.003\n",
       "Shiny             0.005      0.004         -0.001\n",
       "Julia             0.006      0.004         -0.002\n",
       "Stata             0.002      0.002          0.000"
      ]
     },
     "execution_count": 592,
     "metadata": {},
     "output_type": "execute_result"
    }
   ],
   "source": [
    "df_combo['pct_pt_change'] = df_combo['2022_mean'] - df_combo['2020_mean']\n",
    "df_combo"
   ]
  },
  {
   "cell_type": "markdown",
   "metadata": {},
   "source": [
    "Plot the data a few ways"
   ]
  },
  {
   "cell_type": "code",
   "execution_count": 593,
   "metadata": {},
   "outputs": [],
   "source": [
    "df_to_plot = df_combo[df_combo['2022_mean'] > .2]"
   ]
  },
  {
   "cell_type": "markdown",
   "metadata": {},
   "source": [
    "Reformat data for line plot"
   ]
  },
  {
   "cell_type": "code",
   "execution_count": 594,
   "metadata": {},
   "outputs": [],
   "source": [
    "df_to_plot_long = df_to_plot.reset_index() \n"
   ]
  },
  {
   "cell_type": "code",
   "execution_count": 595,
   "metadata": {},
   "outputs": [
    {
     "data": {
      "text/html": [
       "<div>\n",
       "<style scoped>\n",
       "    .dataframe tbody tr th:only-of-type {\n",
       "        vertical-align: middle;\n",
       "    }\n",
       "\n",
       "    .dataframe tbody tr th {\n",
       "        vertical-align: top;\n",
       "    }\n",
       "\n",
       "    .dataframe thead th {\n",
       "        text-align: right;\n",
       "    }\n",
       "</style>\n",
       "<table border=\"1\" class=\"dataframe\">\n",
       "  <thead>\n",
       "    <tr style=\"text-align: right;\">\n",
       "      <th></th>\n",
       "      <th>term</th>\n",
       "      <th>2020_mean</th>\n",
       "      <th>2022_mean</th>\n",
       "      <th>pct_pt_change</th>\n",
       "    </tr>\n",
       "  </thead>\n",
       "  <tbody>\n",
       "    <tr>\n",
       "      <th>0</th>\n",
       "      <td>SQL</td>\n",
       "      <td>0.701</td>\n",
       "      <td>0.746</td>\n",
       "      <td>0.045</td>\n",
       "    </tr>\n",
       "    <tr>\n",
       "      <th>1</th>\n",
       "      <td>Python</td>\n",
       "      <td>0.699</td>\n",
       "      <td>0.713</td>\n",
       "      <td>0.014</td>\n",
       "    </tr>\n",
       "    <tr>\n",
       "      <th>2</th>\n",
       "      <td>AWS</td>\n",
       "      <td>0.470</td>\n",
       "      <td>0.528</td>\n",
       "      <td>0.058</td>\n",
       "    </tr>\n",
       "    <tr>\n",
       "      <th>3</th>\n",
       "      <td>Spark</td>\n",
       "      <td>0.517</td>\n",
       "      <td>0.420</td>\n",
       "      <td>-0.097</td>\n",
       "    </tr>\n",
       "    <tr>\n",
       "      <th>4</th>\n",
       "      <td>Java</td>\n",
       "      <td>0.421</td>\n",
       "      <td>0.335</td>\n",
       "      <td>-0.086</td>\n",
       "    </tr>\n",
       "    <tr>\n",
       "      <th>5</th>\n",
       "      <td>Azure</td>\n",
       "      <td>0.223</td>\n",
       "      <td>0.300</td>\n",
       "      <td>0.077</td>\n",
       "    </tr>\n",
       "    <tr>\n",
       "      <th>6</th>\n",
       "      <td>Redshift</td>\n",
       "      <td>0.229</td>\n",
       "      <td>0.246</td>\n",
       "      <td>0.017</td>\n",
       "    </tr>\n",
       "    <tr>\n",
       "      <th>7</th>\n",
       "      <td>Hadoop</td>\n",
       "      <td>0.413</td>\n",
       "      <td>0.243</td>\n",
       "      <td>-0.170</td>\n",
       "    </tr>\n",
       "    <tr>\n",
       "      <th>8</th>\n",
       "      <td>GCP</td>\n",
       "      <td>0.177</td>\n",
       "      <td>0.240</td>\n",
       "      <td>0.063</td>\n",
       "    </tr>\n",
       "    <tr>\n",
       "      <th>9</th>\n",
       "      <td>Kafka</td>\n",
       "      <td>0.265</td>\n",
       "      <td>0.237</td>\n",
       "      <td>-0.028</td>\n",
       "    </tr>\n",
       "    <tr>\n",
       "      <th>10</th>\n",
       "      <td>Snowflake</td>\n",
       "      <td>0.114</td>\n",
       "      <td>0.230</td>\n",
       "      <td>0.116</td>\n",
       "    </tr>\n",
       "    <tr>\n",
       "      <th>11</th>\n",
       "      <td>Scala</td>\n",
       "      <td>0.277</td>\n",
       "      <td>0.226</td>\n",
       "      <td>-0.051</td>\n",
       "    </tr>\n",
       "  </tbody>\n",
       "</table>\n",
       "</div>"
      ],
      "text/plain": [
       "         term  2020_mean  2022_mean  pct_pt_change\n",
       "0         SQL      0.701      0.746          0.045\n",
       "1      Python      0.699      0.713          0.014\n",
       "2         AWS      0.470      0.528          0.058\n",
       "3       Spark      0.517      0.420         -0.097\n",
       "4        Java      0.421      0.335         -0.086\n",
       "5       Azure      0.223      0.300          0.077\n",
       "6    Redshift      0.229      0.246          0.017\n",
       "7      Hadoop      0.413      0.243         -0.170\n",
       "8         GCP      0.177      0.240          0.063\n",
       "9       Kafka      0.265      0.237         -0.028\n",
       "10  Snowflake      0.114      0.230          0.116\n",
       "11      Scala      0.277      0.226         -0.051"
      ]
     },
     "execution_count": 595,
     "metadata": {},
     "output_type": "execute_result"
    }
   ],
   "source": [
    "df_to_plot_long"
   ]
  },
  {
   "cell_type": "code",
   "execution_count": 596,
   "metadata": {},
   "outputs": [],
   "source": [
    "df_to_plot_long = pd.melt(df_to_plot_long, id_vars='term', value_vars=['2020_mean', '2022_mean'])\n"
   ]
  },
  {
   "cell_type": "code",
   "execution_count": 597,
   "metadata": {},
   "outputs": [
    {
     "data": {
      "text/html": [
       "<div>\n",
       "<style scoped>\n",
       "    .dataframe tbody tr th:only-of-type {\n",
       "        vertical-align: middle;\n",
       "    }\n",
       "\n",
       "    .dataframe tbody tr th {\n",
       "        vertical-align: top;\n",
       "    }\n",
       "\n",
       "    .dataframe thead th {\n",
       "        text-align: right;\n",
       "    }\n",
       "</style>\n",
       "<table border=\"1\" class=\"dataframe\">\n",
       "  <thead>\n",
       "    <tr style=\"text-align: right;\">\n",
       "      <th></th>\n",
       "      <th>term</th>\n",
       "      <th>variable</th>\n",
       "      <th>value</th>\n",
       "    </tr>\n",
       "  </thead>\n",
       "  <tbody>\n",
       "    <tr>\n",
       "      <th>0</th>\n",
       "      <td>SQL</td>\n",
       "      <td>2020_mean</td>\n",
       "      <td>0.701</td>\n",
       "    </tr>\n",
       "    <tr>\n",
       "      <th>1</th>\n",
       "      <td>Python</td>\n",
       "      <td>2020_mean</td>\n",
       "      <td>0.699</td>\n",
       "    </tr>\n",
       "    <tr>\n",
       "      <th>2</th>\n",
       "      <td>AWS</td>\n",
       "      <td>2020_mean</td>\n",
       "      <td>0.470</td>\n",
       "    </tr>\n",
       "    <tr>\n",
       "      <th>3</th>\n",
       "      <td>Spark</td>\n",
       "      <td>2020_mean</td>\n",
       "      <td>0.517</td>\n",
       "    </tr>\n",
       "    <tr>\n",
       "      <th>4</th>\n",
       "      <td>Java</td>\n",
       "      <td>2020_mean</td>\n",
       "      <td>0.421</td>\n",
       "    </tr>\n",
       "    <tr>\n",
       "      <th>5</th>\n",
       "      <td>Azure</td>\n",
       "      <td>2020_mean</td>\n",
       "      <td>0.223</td>\n",
       "    </tr>\n",
       "    <tr>\n",
       "      <th>6</th>\n",
       "      <td>Redshift</td>\n",
       "      <td>2020_mean</td>\n",
       "      <td>0.229</td>\n",
       "    </tr>\n",
       "    <tr>\n",
       "      <th>7</th>\n",
       "      <td>Hadoop</td>\n",
       "      <td>2020_mean</td>\n",
       "      <td>0.413</td>\n",
       "    </tr>\n",
       "    <tr>\n",
       "      <th>8</th>\n",
       "      <td>GCP</td>\n",
       "      <td>2020_mean</td>\n",
       "      <td>0.177</td>\n",
       "    </tr>\n",
       "    <tr>\n",
       "      <th>9</th>\n",
       "      <td>Kafka</td>\n",
       "      <td>2020_mean</td>\n",
       "      <td>0.265</td>\n",
       "    </tr>\n",
       "    <tr>\n",
       "      <th>10</th>\n",
       "      <td>Snowflake</td>\n",
       "      <td>2020_mean</td>\n",
       "      <td>0.114</td>\n",
       "    </tr>\n",
       "    <tr>\n",
       "      <th>11</th>\n",
       "      <td>Scala</td>\n",
       "      <td>2020_mean</td>\n",
       "      <td>0.277</td>\n",
       "    </tr>\n",
       "    <tr>\n",
       "      <th>12</th>\n",
       "      <td>SQL</td>\n",
       "      <td>2022_mean</td>\n",
       "      <td>0.746</td>\n",
       "    </tr>\n",
       "    <tr>\n",
       "      <th>13</th>\n",
       "      <td>Python</td>\n",
       "      <td>2022_mean</td>\n",
       "      <td>0.713</td>\n",
       "    </tr>\n",
       "    <tr>\n",
       "      <th>14</th>\n",
       "      <td>AWS</td>\n",
       "      <td>2022_mean</td>\n",
       "      <td>0.528</td>\n",
       "    </tr>\n",
       "    <tr>\n",
       "      <th>15</th>\n",
       "      <td>Spark</td>\n",
       "      <td>2022_mean</td>\n",
       "      <td>0.420</td>\n",
       "    </tr>\n",
       "    <tr>\n",
       "      <th>16</th>\n",
       "      <td>Java</td>\n",
       "      <td>2022_mean</td>\n",
       "      <td>0.335</td>\n",
       "    </tr>\n",
       "    <tr>\n",
       "      <th>17</th>\n",
       "      <td>Azure</td>\n",
       "      <td>2022_mean</td>\n",
       "      <td>0.300</td>\n",
       "    </tr>\n",
       "    <tr>\n",
       "      <th>18</th>\n",
       "      <td>Redshift</td>\n",
       "      <td>2022_mean</td>\n",
       "      <td>0.246</td>\n",
       "    </tr>\n",
       "    <tr>\n",
       "      <th>19</th>\n",
       "      <td>Hadoop</td>\n",
       "      <td>2022_mean</td>\n",
       "      <td>0.243</td>\n",
       "    </tr>\n",
       "    <tr>\n",
       "      <th>20</th>\n",
       "      <td>GCP</td>\n",
       "      <td>2022_mean</td>\n",
       "      <td>0.240</td>\n",
       "    </tr>\n",
       "    <tr>\n",
       "      <th>21</th>\n",
       "      <td>Kafka</td>\n",
       "      <td>2022_mean</td>\n",
       "      <td>0.237</td>\n",
       "    </tr>\n",
       "    <tr>\n",
       "      <th>22</th>\n",
       "      <td>Snowflake</td>\n",
       "      <td>2022_mean</td>\n",
       "      <td>0.230</td>\n",
       "    </tr>\n",
       "    <tr>\n",
       "      <th>23</th>\n",
       "      <td>Scala</td>\n",
       "      <td>2022_mean</td>\n",
       "      <td>0.226</td>\n",
       "    </tr>\n",
       "  </tbody>\n",
       "</table>\n",
       "</div>"
      ],
      "text/plain": [
       "         term   variable  value\n",
       "0         SQL  2020_mean  0.701\n",
       "1      Python  2020_mean  0.699\n",
       "2         AWS  2020_mean  0.470\n",
       "3       Spark  2020_mean  0.517\n",
       "4        Java  2020_mean  0.421\n",
       "5       Azure  2020_mean  0.223\n",
       "6    Redshift  2020_mean  0.229\n",
       "7      Hadoop  2020_mean  0.413\n",
       "8         GCP  2020_mean  0.177\n",
       "9       Kafka  2020_mean  0.265\n",
       "10  Snowflake  2020_mean  0.114\n",
       "11      Scala  2020_mean  0.277\n",
       "12        SQL  2022_mean  0.746\n",
       "13     Python  2022_mean  0.713\n",
       "14        AWS  2022_mean  0.528\n",
       "15      Spark  2022_mean  0.420\n",
       "16       Java  2022_mean  0.335\n",
       "17      Azure  2022_mean  0.300\n",
       "18   Redshift  2022_mean  0.246\n",
       "19     Hadoop  2022_mean  0.243\n",
       "20        GCP  2022_mean  0.240\n",
       "21      Kafka  2022_mean  0.237\n",
       "22  Snowflake  2022_mean  0.230\n",
       "23      Scala  2022_mean  0.226"
      ]
     },
     "execution_count": 597,
     "metadata": {},
     "output_type": "execute_result"
    }
   ],
   "source": [
    "df_to_plot_long "
   ]
  },
  {
   "cell_type": "code",
   "execution_count": 598,
   "metadata": {},
   "outputs": [],
   "source": [
    "df_to_plot_long['variable'] = df_to_plot_long['variable'].str.slice(stop=4)\n"
   ]
  },
  {
   "cell_type": "code",
   "execution_count": 599,
   "metadata": {},
   "outputs": [],
   "source": [
    "df_to_plot_long['variable'] = np.where(df_to_plot_long['variable']=='2020', '01-08-2020', '06-01-2022')"
   ]
  },
  {
   "cell_type": "code",
   "execution_count": 600,
   "metadata": {},
   "outputs": [],
   "source": [
    "df_to_plot_long['variable'] = pd.to_datetime(df_to_plot_long['variable'])\n",
    "df_to_plot_long.set_index('variable', drop=True, inplace=True)"
   ]
  },
  {
   "cell_type": "code",
   "execution_count": 601,
   "metadata": {},
   "outputs": [
    {
     "data": {
      "application/vnd.plotly.v1+json": {
       "config": {
        "plotlyServerURL": "https://plot.ly"
       },
       "data": [
        {
         "hovertemplate": "term=SQL<br>variable=%{x}<br>value=%{y}<extra></extra>",
         "legendgroup": "SQL",
         "line": {
          "color": "#636efa",
          "dash": "solid"
         },
         "marker": {
          "symbol": "circle"
         },
         "mode": "lines",
         "name": "SQL",
         "orientation": "v",
         "showlegend": true,
         "type": "scatter",
         "x": [
          "2020-01-08T00:00:00",
          "2022-06-01T00:00:00"
         ],
         "xaxis": "x",
         "y": [
          0.701,
          0.746
         ],
         "yaxis": "y"
        },
        {
         "hovertemplate": "term=Python<br>variable=%{x}<br>value=%{y}<extra></extra>",
         "legendgroup": "Python",
         "line": {
          "color": "#EF553B",
          "dash": "solid"
         },
         "marker": {
          "symbol": "circle"
         },
         "mode": "lines",
         "name": "Python",
         "orientation": "v",
         "showlegend": true,
         "type": "scatter",
         "x": [
          "2020-01-08T00:00:00",
          "2022-06-01T00:00:00"
         ],
         "xaxis": "x",
         "y": [
          0.699,
          0.713
         ],
         "yaxis": "y"
        },
        {
         "hovertemplate": "term=AWS<br>variable=%{x}<br>value=%{y}<extra></extra>",
         "legendgroup": "AWS",
         "line": {
          "color": "#00cc96",
          "dash": "solid"
         },
         "marker": {
          "symbol": "circle"
         },
         "mode": "lines",
         "name": "AWS",
         "orientation": "v",
         "showlegend": true,
         "type": "scatter",
         "x": [
          "2020-01-08T00:00:00",
          "2022-06-01T00:00:00"
         ],
         "xaxis": "x",
         "y": [
          0.47,
          0.528
         ],
         "yaxis": "y"
        },
        {
         "hovertemplate": "term=Spark<br>variable=%{x}<br>value=%{y}<extra></extra>",
         "legendgroup": "Spark",
         "line": {
          "color": "#ab63fa",
          "dash": "solid"
         },
         "marker": {
          "symbol": "circle"
         },
         "mode": "lines",
         "name": "Spark",
         "orientation": "v",
         "showlegend": true,
         "type": "scatter",
         "x": [
          "2020-01-08T00:00:00",
          "2022-06-01T00:00:00"
         ],
         "xaxis": "x",
         "y": [
          0.517,
          0.42
         ],
         "yaxis": "y"
        },
        {
         "hovertemplate": "term=Java<br>variable=%{x}<br>value=%{y}<extra></extra>",
         "legendgroup": "Java",
         "line": {
          "color": "#FFA15A",
          "dash": "solid"
         },
         "marker": {
          "symbol": "circle"
         },
         "mode": "lines",
         "name": "Java",
         "orientation": "v",
         "showlegend": true,
         "type": "scatter",
         "x": [
          "2020-01-08T00:00:00",
          "2022-06-01T00:00:00"
         ],
         "xaxis": "x",
         "y": [
          0.421,
          0.335
         ],
         "yaxis": "y"
        },
        {
         "hovertemplate": "term=Azure<br>variable=%{x}<br>value=%{y}<extra></extra>",
         "legendgroup": "Azure",
         "line": {
          "color": "#19d3f3",
          "dash": "solid"
         },
         "marker": {
          "symbol": "circle"
         },
         "mode": "lines",
         "name": "Azure",
         "orientation": "v",
         "showlegend": true,
         "type": "scatter",
         "x": [
          "2020-01-08T00:00:00",
          "2022-06-01T00:00:00"
         ],
         "xaxis": "x",
         "y": [
          0.223,
          0.3
         ],
         "yaxis": "y"
        },
        {
         "hovertemplate": "term=Redshift<br>variable=%{x}<br>value=%{y}<extra></extra>",
         "legendgroup": "Redshift",
         "line": {
          "color": "#FF6692",
          "dash": "solid"
         },
         "marker": {
          "symbol": "circle"
         },
         "mode": "lines",
         "name": "Redshift",
         "orientation": "v",
         "showlegend": true,
         "type": "scatter",
         "x": [
          "2020-01-08T00:00:00",
          "2022-06-01T00:00:00"
         ],
         "xaxis": "x",
         "y": [
          0.229,
          0.246
         ],
         "yaxis": "y"
        },
        {
         "hovertemplate": "term=Hadoop<br>variable=%{x}<br>value=%{y}<extra></extra>",
         "legendgroup": "Hadoop",
         "line": {
          "color": "#B6E880",
          "dash": "solid"
         },
         "marker": {
          "symbol": "circle"
         },
         "mode": "lines",
         "name": "Hadoop",
         "orientation": "v",
         "showlegend": true,
         "type": "scatter",
         "x": [
          "2020-01-08T00:00:00",
          "2022-06-01T00:00:00"
         ],
         "xaxis": "x",
         "y": [
          0.413,
          0.243
         ],
         "yaxis": "y"
        },
        {
         "hovertemplate": "term=GCP<br>variable=%{x}<br>value=%{y}<extra></extra>",
         "legendgroup": "GCP",
         "line": {
          "color": "#FF97FF",
          "dash": "solid"
         },
         "marker": {
          "symbol": "circle"
         },
         "mode": "lines",
         "name": "GCP",
         "orientation": "v",
         "showlegend": true,
         "type": "scatter",
         "x": [
          "2020-01-08T00:00:00",
          "2022-06-01T00:00:00"
         ],
         "xaxis": "x",
         "y": [
          0.177,
          0.24
         ],
         "yaxis": "y"
        },
        {
         "hovertemplate": "term=Kafka<br>variable=%{x}<br>value=%{y}<extra></extra>",
         "legendgroup": "Kafka",
         "line": {
          "color": "#FECB52",
          "dash": "solid"
         },
         "marker": {
          "symbol": "circle"
         },
         "mode": "lines",
         "name": "Kafka",
         "orientation": "v",
         "showlegend": true,
         "type": "scatter",
         "x": [
          "2020-01-08T00:00:00",
          "2022-06-01T00:00:00"
         ],
         "xaxis": "x",
         "y": [
          0.265,
          0.237
         ],
         "yaxis": "y"
        },
        {
         "hovertemplate": "term=Snowflake<br>variable=%{x}<br>value=%{y}<extra></extra>",
         "legendgroup": "Snowflake",
         "line": {
          "color": "#636efa",
          "dash": "solid"
         },
         "marker": {
          "symbol": "circle"
         },
         "mode": "lines",
         "name": "Snowflake",
         "orientation": "v",
         "showlegend": true,
         "type": "scatter",
         "x": [
          "2020-01-08T00:00:00",
          "2022-06-01T00:00:00"
         ],
         "xaxis": "x",
         "y": [
          0.114,
          0.23
         ],
         "yaxis": "y"
        },
        {
         "hovertemplate": "term=Scala<br>variable=%{x}<br>value=%{y}<extra></extra>",
         "legendgroup": "Scala",
         "line": {
          "color": "#EF553B",
          "dash": "solid"
         },
         "marker": {
          "symbol": "circle"
         },
         "mode": "lines",
         "name": "Scala",
         "orientation": "v",
         "showlegend": true,
         "type": "scatter",
         "x": [
          "2020-01-08T00:00:00",
          "2022-06-01T00:00:00"
         ],
         "xaxis": "x",
         "y": [
          0.277,
          0.226
         ],
         "yaxis": "y"
        }
       ],
       "layout": {
        "legend": {
         "title": {
          "text": "term"
         },
         "tracegroupgap": 0
        },
        "margin": {
         "t": 60
        },
        "template": {
         "data": {
          "bar": [
           {
            "error_x": {
             "color": "#2a3f5f"
            },
            "error_y": {
             "color": "#2a3f5f"
            },
            "marker": {
             "line": {
              "color": "#E5ECF6",
              "width": 0.5
             },
             "pattern": {
              "fillmode": "overlay",
              "size": 10,
              "solidity": 0.2
             }
            },
            "type": "bar"
           }
          ],
          "barpolar": [
           {
            "marker": {
             "line": {
              "color": "#E5ECF6",
              "width": 0.5
             },
             "pattern": {
              "fillmode": "overlay",
              "size": 10,
              "solidity": 0.2
             }
            },
            "type": "barpolar"
           }
          ],
          "carpet": [
           {
            "aaxis": {
             "endlinecolor": "#2a3f5f",
             "gridcolor": "white",
             "linecolor": "white",
             "minorgridcolor": "white",
             "startlinecolor": "#2a3f5f"
            },
            "baxis": {
             "endlinecolor": "#2a3f5f",
             "gridcolor": "white",
             "linecolor": "white",
             "minorgridcolor": "white",
             "startlinecolor": "#2a3f5f"
            },
            "type": "carpet"
           }
          ],
          "choropleth": [
           {
            "colorbar": {
             "outlinewidth": 0,
             "ticks": ""
            },
            "type": "choropleth"
           }
          ],
          "contour": [
           {
            "colorbar": {
             "outlinewidth": 0,
             "ticks": ""
            },
            "colorscale": [
             [
              0,
              "#0d0887"
             ],
             [
              0.1111111111111111,
              "#46039f"
             ],
             [
              0.2222222222222222,
              "#7201a8"
             ],
             [
              0.3333333333333333,
              "#9c179e"
             ],
             [
              0.4444444444444444,
              "#bd3786"
             ],
             [
              0.5555555555555556,
              "#d8576b"
             ],
             [
              0.6666666666666666,
              "#ed7953"
             ],
             [
              0.7777777777777778,
              "#fb9f3a"
             ],
             [
              0.8888888888888888,
              "#fdca26"
             ],
             [
              1,
              "#f0f921"
             ]
            ],
            "type": "contour"
           }
          ],
          "contourcarpet": [
           {
            "colorbar": {
             "outlinewidth": 0,
             "ticks": ""
            },
            "type": "contourcarpet"
           }
          ],
          "heatmap": [
           {
            "colorbar": {
             "outlinewidth": 0,
             "ticks": ""
            },
            "colorscale": [
             [
              0,
              "#0d0887"
             ],
             [
              0.1111111111111111,
              "#46039f"
             ],
             [
              0.2222222222222222,
              "#7201a8"
             ],
             [
              0.3333333333333333,
              "#9c179e"
             ],
             [
              0.4444444444444444,
              "#bd3786"
             ],
             [
              0.5555555555555556,
              "#d8576b"
             ],
             [
              0.6666666666666666,
              "#ed7953"
             ],
             [
              0.7777777777777778,
              "#fb9f3a"
             ],
             [
              0.8888888888888888,
              "#fdca26"
             ],
             [
              1,
              "#f0f921"
             ]
            ],
            "type": "heatmap"
           }
          ],
          "heatmapgl": [
           {
            "colorbar": {
             "outlinewidth": 0,
             "ticks": ""
            },
            "colorscale": [
             [
              0,
              "#0d0887"
             ],
             [
              0.1111111111111111,
              "#46039f"
             ],
             [
              0.2222222222222222,
              "#7201a8"
             ],
             [
              0.3333333333333333,
              "#9c179e"
             ],
             [
              0.4444444444444444,
              "#bd3786"
             ],
             [
              0.5555555555555556,
              "#d8576b"
             ],
             [
              0.6666666666666666,
              "#ed7953"
             ],
             [
              0.7777777777777778,
              "#fb9f3a"
             ],
             [
              0.8888888888888888,
              "#fdca26"
             ],
             [
              1,
              "#f0f921"
             ]
            ],
            "type": "heatmapgl"
           }
          ],
          "histogram": [
           {
            "marker": {
             "pattern": {
              "fillmode": "overlay",
              "size": 10,
              "solidity": 0.2
             }
            },
            "type": "histogram"
           }
          ],
          "histogram2d": [
           {
            "colorbar": {
             "outlinewidth": 0,
             "ticks": ""
            },
            "colorscale": [
             [
              0,
              "#0d0887"
             ],
             [
              0.1111111111111111,
              "#46039f"
             ],
             [
              0.2222222222222222,
              "#7201a8"
             ],
             [
              0.3333333333333333,
              "#9c179e"
             ],
             [
              0.4444444444444444,
              "#bd3786"
             ],
             [
              0.5555555555555556,
              "#d8576b"
             ],
             [
              0.6666666666666666,
              "#ed7953"
             ],
             [
              0.7777777777777778,
              "#fb9f3a"
             ],
             [
              0.8888888888888888,
              "#fdca26"
             ],
             [
              1,
              "#f0f921"
             ]
            ],
            "type": "histogram2d"
           }
          ],
          "histogram2dcontour": [
           {
            "colorbar": {
             "outlinewidth": 0,
             "ticks": ""
            },
            "colorscale": [
             [
              0,
              "#0d0887"
             ],
             [
              0.1111111111111111,
              "#46039f"
             ],
             [
              0.2222222222222222,
              "#7201a8"
             ],
             [
              0.3333333333333333,
              "#9c179e"
             ],
             [
              0.4444444444444444,
              "#bd3786"
             ],
             [
              0.5555555555555556,
              "#d8576b"
             ],
             [
              0.6666666666666666,
              "#ed7953"
             ],
             [
              0.7777777777777778,
              "#fb9f3a"
             ],
             [
              0.8888888888888888,
              "#fdca26"
             ],
             [
              1,
              "#f0f921"
             ]
            ],
            "type": "histogram2dcontour"
           }
          ],
          "mesh3d": [
           {
            "colorbar": {
             "outlinewidth": 0,
             "ticks": ""
            },
            "type": "mesh3d"
           }
          ],
          "parcoords": [
           {
            "line": {
             "colorbar": {
              "outlinewidth": 0,
              "ticks": ""
             }
            },
            "type": "parcoords"
           }
          ],
          "pie": [
           {
            "automargin": true,
            "type": "pie"
           }
          ],
          "scatter": [
           {
            "marker": {
             "colorbar": {
              "outlinewidth": 0,
              "ticks": ""
             }
            },
            "type": "scatter"
           }
          ],
          "scatter3d": [
           {
            "line": {
             "colorbar": {
              "outlinewidth": 0,
              "ticks": ""
             }
            },
            "marker": {
             "colorbar": {
              "outlinewidth": 0,
              "ticks": ""
             }
            },
            "type": "scatter3d"
           }
          ],
          "scattercarpet": [
           {
            "marker": {
             "colorbar": {
              "outlinewidth": 0,
              "ticks": ""
             }
            },
            "type": "scattercarpet"
           }
          ],
          "scattergeo": [
           {
            "marker": {
             "colorbar": {
              "outlinewidth": 0,
              "ticks": ""
             }
            },
            "type": "scattergeo"
           }
          ],
          "scattergl": [
           {
            "marker": {
             "colorbar": {
              "outlinewidth": 0,
              "ticks": ""
             }
            },
            "type": "scattergl"
           }
          ],
          "scattermapbox": [
           {
            "marker": {
             "colorbar": {
              "outlinewidth": 0,
              "ticks": ""
             }
            },
            "type": "scattermapbox"
           }
          ],
          "scatterpolar": [
           {
            "marker": {
             "colorbar": {
              "outlinewidth": 0,
              "ticks": ""
             }
            },
            "type": "scatterpolar"
           }
          ],
          "scatterpolargl": [
           {
            "marker": {
             "colorbar": {
              "outlinewidth": 0,
              "ticks": ""
             }
            },
            "type": "scatterpolargl"
           }
          ],
          "scatterternary": [
           {
            "marker": {
             "colorbar": {
              "outlinewidth": 0,
              "ticks": ""
             }
            },
            "type": "scatterternary"
           }
          ],
          "surface": [
           {
            "colorbar": {
             "outlinewidth": 0,
             "ticks": ""
            },
            "colorscale": [
             [
              0,
              "#0d0887"
             ],
             [
              0.1111111111111111,
              "#46039f"
             ],
             [
              0.2222222222222222,
              "#7201a8"
             ],
             [
              0.3333333333333333,
              "#9c179e"
             ],
             [
              0.4444444444444444,
              "#bd3786"
             ],
             [
              0.5555555555555556,
              "#d8576b"
             ],
             [
              0.6666666666666666,
              "#ed7953"
             ],
             [
              0.7777777777777778,
              "#fb9f3a"
             ],
             [
              0.8888888888888888,
              "#fdca26"
             ],
             [
              1,
              "#f0f921"
             ]
            ],
            "type": "surface"
           }
          ],
          "table": [
           {
            "cells": {
             "fill": {
              "color": "#EBF0F8"
             },
             "line": {
              "color": "white"
             }
            },
            "header": {
             "fill": {
              "color": "#C8D4E3"
             },
             "line": {
              "color": "white"
             }
            },
            "type": "table"
           }
          ]
         },
         "layout": {
          "annotationdefaults": {
           "arrowcolor": "#2a3f5f",
           "arrowhead": 0,
           "arrowwidth": 1
          },
          "autotypenumbers": "strict",
          "coloraxis": {
           "colorbar": {
            "outlinewidth": 0,
            "ticks": ""
           }
          },
          "colorscale": {
           "diverging": [
            [
             0,
             "#8e0152"
            ],
            [
             0.1,
             "#c51b7d"
            ],
            [
             0.2,
             "#de77ae"
            ],
            [
             0.3,
             "#f1b6da"
            ],
            [
             0.4,
             "#fde0ef"
            ],
            [
             0.5,
             "#f7f7f7"
            ],
            [
             0.6,
             "#e6f5d0"
            ],
            [
             0.7,
             "#b8e186"
            ],
            [
             0.8,
             "#7fbc41"
            ],
            [
             0.9,
             "#4d9221"
            ],
            [
             1,
             "#276419"
            ]
           ],
           "sequential": [
            [
             0,
             "#0d0887"
            ],
            [
             0.1111111111111111,
             "#46039f"
            ],
            [
             0.2222222222222222,
             "#7201a8"
            ],
            [
             0.3333333333333333,
             "#9c179e"
            ],
            [
             0.4444444444444444,
             "#bd3786"
            ],
            [
             0.5555555555555556,
             "#d8576b"
            ],
            [
             0.6666666666666666,
             "#ed7953"
            ],
            [
             0.7777777777777778,
             "#fb9f3a"
            ],
            [
             0.8888888888888888,
             "#fdca26"
            ],
            [
             1,
             "#f0f921"
            ]
           ],
           "sequentialminus": [
            [
             0,
             "#0d0887"
            ],
            [
             0.1111111111111111,
             "#46039f"
            ],
            [
             0.2222222222222222,
             "#7201a8"
            ],
            [
             0.3333333333333333,
             "#9c179e"
            ],
            [
             0.4444444444444444,
             "#bd3786"
            ],
            [
             0.5555555555555556,
             "#d8576b"
            ],
            [
             0.6666666666666666,
             "#ed7953"
            ],
            [
             0.7777777777777778,
             "#fb9f3a"
            ],
            [
             0.8888888888888888,
             "#fdca26"
            ],
            [
             1,
             "#f0f921"
            ]
           ]
          },
          "colorway": [
           "#636efa",
           "#EF553B",
           "#00cc96",
           "#ab63fa",
           "#FFA15A",
           "#19d3f3",
           "#FF6692",
           "#B6E880",
           "#FF97FF",
           "#FECB52"
          ],
          "font": {
           "color": "#2a3f5f"
          },
          "geo": {
           "bgcolor": "white",
           "lakecolor": "white",
           "landcolor": "#E5ECF6",
           "showlakes": true,
           "showland": true,
           "subunitcolor": "white"
          },
          "hoverlabel": {
           "align": "left"
          },
          "hovermode": "closest",
          "mapbox": {
           "style": "light"
          },
          "paper_bgcolor": "white",
          "plot_bgcolor": "#E5ECF6",
          "polar": {
           "angularaxis": {
            "gridcolor": "white",
            "linecolor": "white",
            "ticks": ""
           },
           "bgcolor": "#E5ECF6",
           "radialaxis": {
            "gridcolor": "white",
            "linecolor": "white",
            "ticks": ""
           }
          },
          "scene": {
           "xaxis": {
            "backgroundcolor": "#E5ECF6",
            "gridcolor": "white",
            "gridwidth": 2,
            "linecolor": "white",
            "showbackground": true,
            "ticks": "",
            "zerolinecolor": "white"
           },
           "yaxis": {
            "backgroundcolor": "#E5ECF6",
            "gridcolor": "white",
            "gridwidth": 2,
            "linecolor": "white",
            "showbackground": true,
            "ticks": "",
            "zerolinecolor": "white"
           },
           "zaxis": {
            "backgroundcolor": "#E5ECF6",
            "gridcolor": "white",
            "gridwidth": 2,
            "linecolor": "white",
            "showbackground": true,
            "ticks": "",
            "zerolinecolor": "white"
           }
          },
          "shapedefaults": {
           "line": {
            "color": "#2a3f5f"
           }
          },
          "ternary": {
           "aaxis": {
            "gridcolor": "white",
            "linecolor": "white",
            "ticks": ""
           },
           "baxis": {
            "gridcolor": "white",
            "linecolor": "white",
            "ticks": ""
           },
           "bgcolor": "#E5ECF6",
           "caxis": {
            "gridcolor": "white",
            "linecolor": "white",
            "ticks": ""
           }
          },
          "title": {
           "x": 0.05
          },
          "xaxis": {
           "automargin": true,
           "gridcolor": "white",
           "linecolor": "white",
           "ticks": "",
           "title": {
            "standoff": 15
           },
           "zerolinecolor": "white",
           "zerolinewidth": 2
          },
          "yaxis": {
           "automargin": true,
           "gridcolor": "white",
           "linecolor": "white",
           "ticks": "",
           "title": {
            "standoff": 15
           },
           "zerolinecolor": "white",
           "zerolinewidth": 2
          }
         }
        },
        "xaxis": {
         "anchor": "y",
         "domain": [
          0,
          1
         ],
         "title": {
          "text": "variable"
         }
        },
        "yaxis": {
         "anchor": "x",
         "domain": [
          0,
          1
         ],
         "title": {
          "text": "value"
         }
        }
       }
      }
     },
     "metadata": {},
     "output_type": "display_data"
    }
   ],
   "source": [
    "px.line(df_to_plot_long, x=df_to_plot_long.index, y='value', color='term') # TK make prettier"
   ]
  },
  {
   "cell_type": "code",
   "execution_count": 602,
   "metadata": {},
   "outputs": [
    {
     "data": {
      "application/vnd.plotly.v1+json": {
       "config": {
        "plotlyServerURL": "https://plot.ly"
       },
       "data": [
        {
         "alignmentgroup": "True",
         "hovertemplate": "variable=2020_mean<br>term=%{x}<br>value=%{y}<extra></extra>",
         "legendgroup": "2020_mean",
         "marker": {
          "color": "#636efa",
          "pattern": {
           "shape": ""
          }
         },
         "name": "2020_mean",
         "offsetgroup": "2020_mean",
         "orientation": "v",
         "showlegend": true,
         "textposition": "auto",
         "type": "bar",
         "x": [
          "SQL",
          "Python",
          "AWS",
          "Spark",
          "Java",
          "Azure",
          "Redshift",
          "Hadoop",
          "GCP",
          "Kafka",
          "Snowflake",
          "Scala"
         ],
         "xaxis": "x",
         "y": [
          0.701,
          0.699,
          0.47,
          0.517,
          0.421,
          0.223,
          0.229,
          0.413,
          0.177,
          0.265,
          0.114,
          0.277
         ],
         "yaxis": "y"
        },
        {
         "alignmentgroup": "True",
         "hovertemplate": "variable=2022_mean<br>term=%{x}<br>value=%{y}<extra></extra>",
         "legendgroup": "2022_mean",
         "marker": {
          "color": "#EF553B",
          "pattern": {
           "shape": ""
          }
         },
         "name": "2022_mean",
         "offsetgroup": "2022_mean",
         "orientation": "v",
         "showlegend": true,
         "textposition": "auto",
         "type": "bar",
         "x": [
          "SQL",
          "Python",
          "AWS",
          "Spark",
          "Java",
          "Azure",
          "Redshift",
          "Hadoop",
          "GCP",
          "Kafka",
          "Snowflake",
          "Scala"
         ],
         "xaxis": "x",
         "y": [
          0.746,
          0.713,
          0.528,
          0.42,
          0.335,
          0.3,
          0.246,
          0.243,
          0.24,
          0.237,
          0.23,
          0.226
         ],
         "yaxis": "y"
        },
        {
         "alignmentgroup": "True",
         "hovertemplate": "variable=pct_pt_change<br>term=%{x}<br>value=%{y}<extra></extra>",
         "legendgroup": "pct_pt_change",
         "marker": {
          "color": "#00cc96",
          "pattern": {
           "shape": ""
          }
         },
         "name": "pct_pt_change",
         "offsetgroup": "pct_pt_change",
         "orientation": "v",
         "showlegend": true,
         "textposition": "auto",
         "type": "bar",
         "x": [
          "SQL",
          "Python",
          "AWS",
          "Spark",
          "Java",
          "Azure",
          "Redshift",
          "Hadoop",
          "GCP",
          "Kafka",
          "Snowflake",
          "Scala"
         ],
         "xaxis": "x",
         "y": [
          0.04500000000000004,
          0.014000000000000012,
          0.05800000000000005,
          -0.09700000000000003,
          -0.08599999999999997,
          0.07699999999999999,
          0.016999999999999987,
          -0.16999999999999998,
          0.063,
          -0.028000000000000025,
          0.116,
          -0.05100000000000002
         ],
         "yaxis": "y"
        }
       ],
       "layout": {
        "barmode": "group",
        "legend": {
         "title": {
          "text": "variable"
         },
         "tracegroupgap": 0
        },
        "margin": {
         "t": 60
        },
        "template": {
         "data": {
          "bar": [
           {
            "error_x": {
             "color": "#2a3f5f"
            },
            "error_y": {
             "color": "#2a3f5f"
            },
            "marker": {
             "line": {
              "color": "#E5ECF6",
              "width": 0.5
             },
             "pattern": {
              "fillmode": "overlay",
              "size": 10,
              "solidity": 0.2
             }
            },
            "type": "bar"
           }
          ],
          "barpolar": [
           {
            "marker": {
             "line": {
              "color": "#E5ECF6",
              "width": 0.5
             },
             "pattern": {
              "fillmode": "overlay",
              "size": 10,
              "solidity": 0.2
             }
            },
            "type": "barpolar"
           }
          ],
          "carpet": [
           {
            "aaxis": {
             "endlinecolor": "#2a3f5f",
             "gridcolor": "white",
             "linecolor": "white",
             "minorgridcolor": "white",
             "startlinecolor": "#2a3f5f"
            },
            "baxis": {
             "endlinecolor": "#2a3f5f",
             "gridcolor": "white",
             "linecolor": "white",
             "minorgridcolor": "white",
             "startlinecolor": "#2a3f5f"
            },
            "type": "carpet"
           }
          ],
          "choropleth": [
           {
            "colorbar": {
             "outlinewidth": 0,
             "ticks": ""
            },
            "type": "choropleth"
           }
          ],
          "contour": [
           {
            "colorbar": {
             "outlinewidth": 0,
             "ticks": ""
            },
            "colorscale": [
             [
              0,
              "#0d0887"
             ],
             [
              0.1111111111111111,
              "#46039f"
             ],
             [
              0.2222222222222222,
              "#7201a8"
             ],
             [
              0.3333333333333333,
              "#9c179e"
             ],
             [
              0.4444444444444444,
              "#bd3786"
             ],
             [
              0.5555555555555556,
              "#d8576b"
             ],
             [
              0.6666666666666666,
              "#ed7953"
             ],
             [
              0.7777777777777778,
              "#fb9f3a"
             ],
             [
              0.8888888888888888,
              "#fdca26"
             ],
             [
              1,
              "#f0f921"
             ]
            ],
            "type": "contour"
           }
          ],
          "contourcarpet": [
           {
            "colorbar": {
             "outlinewidth": 0,
             "ticks": ""
            },
            "type": "contourcarpet"
           }
          ],
          "heatmap": [
           {
            "colorbar": {
             "outlinewidth": 0,
             "ticks": ""
            },
            "colorscale": [
             [
              0,
              "#0d0887"
             ],
             [
              0.1111111111111111,
              "#46039f"
             ],
             [
              0.2222222222222222,
              "#7201a8"
             ],
             [
              0.3333333333333333,
              "#9c179e"
             ],
             [
              0.4444444444444444,
              "#bd3786"
             ],
             [
              0.5555555555555556,
              "#d8576b"
             ],
             [
              0.6666666666666666,
              "#ed7953"
             ],
             [
              0.7777777777777778,
              "#fb9f3a"
             ],
             [
              0.8888888888888888,
              "#fdca26"
             ],
             [
              1,
              "#f0f921"
             ]
            ],
            "type": "heatmap"
           }
          ],
          "heatmapgl": [
           {
            "colorbar": {
             "outlinewidth": 0,
             "ticks": ""
            },
            "colorscale": [
             [
              0,
              "#0d0887"
             ],
             [
              0.1111111111111111,
              "#46039f"
             ],
             [
              0.2222222222222222,
              "#7201a8"
             ],
             [
              0.3333333333333333,
              "#9c179e"
             ],
             [
              0.4444444444444444,
              "#bd3786"
             ],
             [
              0.5555555555555556,
              "#d8576b"
             ],
             [
              0.6666666666666666,
              "#ed7953"
             ],
             [
              0.7777777777777778,
              "#fb9f3a"
             ],
             [
              0.8888888888888888,
              "#fdca26"
             ],
             [
              1,
              "#f0f921"
             ]
            ],
            "type": "heatmapgl"
           }
          ],
          "histogram": [
           {
            "marker": {
             "pattern": {
              "fillmode": "overlay",
              "size": 10,
              "solidity": 0.2
             }
            },
            "type": "histogram"
           }
          ],
          "histogram2d": [
           {
            "colorbar": {
             "outlinewidth": 0,
             "ticks": ""
            },
            "colorscale": [
             [
              0,
              "#0d0887"
             ],
             [
              0.1111111111111111,
              "#46039f"
             ],
             [
              0.2222222222222222,
              "#7201a8"
             ],
             [
              0.3333333333333333,
              "#9c179e"
             ],
             [
              0.4444444444444444,
              "#bd3786"
             ],
             [
              0.5555555555555556,
              "#d8576b"
             ],
             [
              0.6666666666666666,
              "#ed7953"
             ],
             [
              0.7777777777777778,
              "#fb9f3a"
             ],
             [
              0.8888888888888888,
              "#fdca26"
             ],
             [
              1,
              "#f0f921"
             ]
            ],
            "type": "histogram2d"
           }
          ],
          "histogram2dcontour": [
           {
            "colorbar": {
             "outlinewidth": 0,
             "ticks": ""
            },
            "colorscale": [
             [
              0,
              "#0d0887"
             ],
             [
              0.1111111111111111,
              "#46039f"
             ],
             [
              0.2222222222222222,
              "#7201a8"
             ],
             [
              0.3333333333333333,
              "#9c179e"
             ],
             [
              0.4444444444444444,
              "#bd3786"
             ],
             [
              0.5555555555555556,
              "#d8576b"
             ],
             [
              0.6666666666666666,
              "#ed7953"
             ],
             [
              0.7777777777777778,
              "#fb9f3a"
             ],
             [
              0.8888888888888888,
              "#fdca26"
             ],
             [
              1,
              "#f0f921"
             ]
            ],
            "type": "histogram2dcontour"
           }
          ],
          "mesh3d": [
           {
            "colorbar": {
             "outlinewidth": 0,
             "ticks": ""
            },
            "type": "mesh3d"
           }
          ],
          "parcoords": [
           {
            "line": {
             "colorbar": {
              "outlinewidth": 0,
              "ticks": ""
             }
            },
            "type": "parcoords"
           }
          ],
          "pie": [
           {
            "automargin": true,
            "type": "pie"
           }
          ],
          "scatter": [
           {
            "marker": {
             "colorbar": {
              "outlinewidth": 0,
              "ticks": ""
             }
            },
            "type": "scatter"
           }
          ],
          "scatter3d": [
           {
            "line": {
             "colorbar": {
              "outlinewidth": 0,
              "ticks": ""
             }
            },
            "marker": {
             "colorbar": {
              "outlinewidth": 0,
              "ticks": ""
             }
            },
            "type": "scatter3d"
           }
          ],
          "scattercarpet": [
           {
            "marker": {
             "colorbar": {
              "outlinewidth": 0,
              "ticks": ""
             }
            },
            "type": "scattercarpet"
           }
          ],
          "scattergeo": [
           {
            "marker": {
             "colorbar": {
              "outlinewidth": 0,
              "ticks": ""
             }
            },
            "type": "scattergeo"
           }
          ],
          "scattergl": [
           {
            "marker": {
             "colorbar": {
              "outlinewidth": 0,
              "ticks": ""
             }
            },
            "type": "scattergl"
           }
          ],
          "scattermapbox": [
           {
            "marker": {
             "colorbar": {
              "outlinewidth": 0,
              "ticks": ""
             }
            },
            "type": "scattermapbox"
           }
          ],
          "scatterpolar": [
           {
            "marker": {
             "colorbar": {
              "outlinewidth": 0,
              "ticks": ""
             }
            },
            "type": "scatterpolar"
           }
          ],
          "scatterpolargl": [
           {
            "marker": {
             "colorbar": {
              "outlinewidth": 0,
              "ticks": ""
             }
            },
            "type": "scatterpolargl"
           }
          ],
          "scatterternary": [
           {
            "marker": {
             "colorbar": {
              "outlinewidth": 0,
              "ticks": ""
             }
            },
            "type": "scatterternary"
           }
          ],
          "surface": [
           {
            "colorbar": {
             "outlinewidth": 0,
             "ticks": ""
            },
            "colorscale": [
             [
              0,
              "#0d0887"
             ],
             [
              0.1111111111111111,
              "#46039f"
             ],
             [
              0.2222222222222222,
              "#7201a8"
             ],
             [
              0.3333333333333333,
              "#9c179e"
             ],
             [
              0.4444444444444444,
              "#bd3786"
             ],
             [
              0.5555555555555556,
              "#d8576b"
             ],
             [
              0.6666666666666666,
              "#ed7953"
             ],
             [
              0.7777777777777778,
              "#fb9f3a"
             ],
             [
              0.8888888888888888,
              "#fdca26"
             ],
             [
              1,
              "#f0f921"
             ]
            ],
            "type": "surface"
           }
          ],
          "table": [
           {
            "cells": {
             "fill": {
              "color": "#EBF0F8"
             },
             "line": {
              "color": "white"
             }
            },
            "header": {
             "fill": {
              "color": "#C8D4E3"
             },
             "line": {
              "color": "white"
             }
            },
            "type": "table"
           }
          ]
         },
         "layout": {
          "annotationdefaults": {
           "arrowcolor": "#2a3f5f",
           "arrowhead": 0,
           "arrowwidth": 1
          },
          "autotypenumbers": "strict",
          "coloraxis": {
           "colorbar": {
            "outlinewidth": 0,
            "ticks": ""
           }
          },
          "colorscale": {
           "diverging": [
            [
             0,
             "#8e0152"
            ],
            [
             0.1,
             "#c51b7d"
            ],
            [
             0.2,
             "#de77ae"
            ],
            [
             0.3,
             "#f1b6da"
            ],
            [
             0.4,
             "#fde0ef"
            ],
            [
             0.5,
             "#f7f7f7"
            ],
            [
             0.6,
             "#e6f5d0"
            ],
            [
             0.7,
             "#b8e186"
            ],
            [
             0.8,
             "#7fbc41"
            ],
            [
             0.9,
             "#4d9221"
            ],
            [
             1,
             "#276419"
            ]
           ],
           "sequential": [
            [
             0,
             "#0d0887"
            ],
            [
             0.1111111111111111,
             "#46039f"
            ],
            [
             0.2222222222222222,
             "#7201a8"
            ],
            [
             0.3333333333333333,
             "#9c179e"
            ],
            [
             0.4444444444444444,
             "#bd3786"
            ],
            [
             0.5555555555555556,
             "#d8576b"
            ],
            [
             0.6666666666666666,
             "#ed7953"
            ],
            [
             0.7777777777777778,
             "#fb9f3a"
            ],
            [
             0.8888888888888888,
             "#fdca26"
            ],
            [
             1,
             "#f0f921"
            ]
           ],
           "sequentialminus": [
            [
             0,
             "#0d0887"
            ],
            [
             0.1111111111111111,
             "#46039f"
            ],
            [
             0.2222222222222222,
             "#7201a8"
            ],
            [
             0.3333333333333333,
             "#9c179e"
            ],
            [
             0.4444444444444444,
             "#bd3786"
            ],
            [
             0.5555555555555556,
             "#d8576b"
            ],
            [
             0.6666666666666666,
             "#ed7953"
            ],
            [
             0.7777777777777778,
             "#fb9f3a"
            ],
            [
             0.8888888888888888,
             "#fdca26"
            ],
            [
             1,
             "#f0f921"
            ]
           ]
          },
          "colorway": [
           "#636efa",
           "#EF553B",
           "#00cc96",
           "#ab63fa",
           "#FFA15A",
           "#19d3f3",
           "#FF6692",
           "#B6E880",
           "#FF97FF",
           "#FECB52"
          ],
          "font": {
           "color": "#2a3f5f"
          },
          "geo": {
           "bgcolor": "white",
           "lakecolor": "white",
           "landcolor": "#E5ECF6",
           "showlakes": true,
           "showland": true,
           "subunitcolor": "white"
          },
          "hoverlabel": {
           "align": "left"
          },
          "hovermode": "closest",
          "mapbox": {
           "style": "light"
          },
          "paper_bgcolor": "white",
          "plot_bgcolor": "#E5ECF6",
          "polar": {
           "angularaxis": {
            "gridcolor": "white",
            "linecolor": "white",
            "ticks": ""
           },
           "bgcolor": "#E5ECF6",
           "radialaxis": {
            "gridcolor": "white",
            "linecolor": "white",
            "ticks": ""
           }
          },
          "scene": {
           "xaxis": {
            "backgroundcolor": "#E5ECF6",
            "gridcolor": "white",
            "gridwidth": 2,
            "linecolor": "white",
            "showbackground": true,
            "ticks": "",
            "zerolinecolor": "white"
           },
           "yaxis": {
            "backgroundcolor": "#E5ECF6",
            "gridcolor": "white",
            "gridwidth": 2,
            "linecolor": "white",
            "showbackground": true,
            "ticks": "",
            "zerolinecolor": "white"
           },
           "zaxis": {
            "backgroundcolor": "#E5ECF6",
            "gridcolor": "white",
            "gridwidth": 2,
            "linecolor": "white",
            "showbackground": true,
            "ticks": "",
            "zerolinecolor": "white"
           }
          },
          "shapedefaults": {
           "line": {
            "color": "#2a3f5f"
           }
          },
          "ternary": {
           "aaxis": {
            "gridcolor": "white",
            "linecolor": "white",
            "ticks": ""
           },
           "baxis": {
            "gridcolor": "white",
            "linecolor": "white",
            "ticks": ""
           },
           "bgcolor": "#E5ECF6",
           "caxis": {
            "gridcolor": "white",
            "linecolor": "white",
            "ticks": ""
           }
          },
          "title": {
           "x": 0.05
          },
          "xaxis": {
           "automargin": true,
           "gridcolor": "white",
           "linecolor": "white",
           "ticks": "",
           "title": {
            "standoff": 15
           },
           "zerolinecolor": "white",
           "zerolinewidth": 2
          },
          "yaxis": {
           "automargin": true,
           "gridcolor": "white",
           "linecolor": "white",
           "ticks": "",
           "title": {
            "standoff": 15
           },
           "zerolinecolor": "white",
           "zerolinewidth": 2
          }
         }
        },
        "xaxis": {
         "anchor": "y",
         "domain": [
          0,
          1
         ],
         "title": {
          "text": "term"
         }
        },
        "yaxis": {
         "anchor": "x",
         "domain": [
          0,
          1
         ],
         "title": {
          "text": "value"
         }
        }
       }
      }
     },
     "metadata": {},
     "output_type": "display_data"
    }
   ],
   "source": [
    "px.bar(df_to_plot, barmode='group')"
   ]
  },
  {
   "cell_type": "markdown",
   "metadata": {},
   "source": [
    "Plot the largest percentage point changes"
   ]
  },
  {
   "cell_type": "code",
   "execution_count": 603,
   "metadata": {},
   "outputs": [],
   "source": [
    "df_combo.sort_values(by='pct_pt_change', ascending=False, inplace=True)"
   ]
  },
  {
   "cell_type": "code",
   "execution_count": 604,
   "metadata": {},
   "outputs": [
    {
     "data": {
      "text/html": [
       "<div>\n",
       "<style scoped>\n",
       "    .dataframe tbody tr th:only-of-type {\n",
       "        vertical-align: middle;\n",
       "    }\n",
       "\n",
       "    .dataframe tbody tr th {\n",
       "        vertical-align: top;\n",
       "    }\n",
       "\n",
       "    .dataframe thead th {\n",
       "        text-align: right;\n",
       "    }\n",
       "</style>\n",
       "<table border=\"1\" class=\"dataframe\">\n",
       "  <thead>\n",
       "    <tr style=\"text-align: right;\">\n",
       "      <th></th>\n",
       "      <th>2020_mean</th>\n",
       "      <th>2022_mean</th>\n",
       "      <th>pct_pt_change</th>\n",
       "    </tr>\n",
       "    <tr>\n",
       "      <th>term</th>\n",
       "      <th></th>\n",
       "      <th></th>\n",
       "      <th></th>\n",
       "    </tr>\n",
       "  </thead>\n",
       "  <tbody>\n",
       "    <tr>\n",
       "      <th>Snowflake</th>\n",
       "      <td>0.114</td>\n",
       "      <td>0.230</td>\n",
       "      <td>0.116</td>\n",
       "    </tr>\n",
       "    <tr>\n",
       "      <th>Azure</th>\n",
       "      <td>0.223</td>\n",
       "      <td>0.300</td>\n",
       "      <td>0.077</td>\n",
       "    </tr>\n",
       "    <tr>\n",
       "      <th>GCP</th>\n",
       "      <td>0.177</td>\n",
       "      <td>0.240</td>\n",
       "      <td>0.063</td>\n",
       "    </tr>\n",
       "    <tr>\n",
       "      <th>AWS</th>\n",
       "      <td>0.470</td>\n",
       "      <td>0.528</td>\n",
       "      <td>0.058</td>\n",
       "    </tr>\n",
       "    <tr>\n",
       "      <th>Airflow</th>\n",
       "      <td>0.131</td>\n",
       "      <td>0.177</td>\n",
       "      <td>0.046</td>\n",
       "    </tr>\n",
       "    <tr>\n",
       "      <th>SQL</th>\n",
       "      <td>0.701</td>\n",
       "      <td>0.746</td>\n",
       "      <td>0.045</td>\n",
       "    </tr>\n",
       "    <tr>\n",
       "      <th>Databricks</th>\n",
       "      <td>0.060</td>\n",
       "      <td>0.105</td>\n",
       "      <td>0.045</td>\n",
       "    </tr>\n",
       "    <tr>\n",
       "      <th>Terraform</th>\n",
       "      <td>0.037</td>\n",
       "      <td>0.075</td>\n",
       "      <td>0.038</td>\n",
       "    </tr>\n",
       "    <tr>\n",
       "      <th>Power BI</th>\n",
       "      <td>0.057</td>\n",
       "      <td>0.082</td>\n",
       "      <td>0.025</td>\n",
       "    </tr>\n",
       "    <tr>\n",
       "      <th>Kubernetes</th>\n",
       "      <td>0.080</td>\n",
       "      <td>0.105</td>\n",
       "      <td>0.025</td>\n",
       "    </tr>\n",
       "  </tbody>\n",
       "</table>\n",
       "</div>"
      ],
      "text/plain": [
       "            2020_mean  2022_mean  pct_pt_change\n",
       "term                                           \n",
       "Snowflake       0.114      0.230          0.116\n",
       "Azure           0.223      0.300          0.077\n",
       "GCP             0.177      0.240          0.063\n",
       "AWS             0.470      0.528          0.058\n",
       "Airflow         0.131      0.177          0.046\n",
       "SQL             0.701      0.746          0.045\n",
       "Databricks      0.060      0.105          0.045\n",
       "Terraform       0.037      0.075          0.038\n",
       "Power BI        0.057      0.082          0.025\n",
       "Kubernetes      0.080      0.105          0.025"
      ]
     },
     "execution_count": 604,
     "metadata": {},
     "output_type": "execute_result"
    }
   ],
   "source": [
    "df_combo.head(10)"
   ]
  },
  {
   "cell_type": "code",
   "execution_count": 605,
   "metadata": {},
   "outputs": [
    {
     "data": {
      "text/html": [
       "<div>\n",
       "<style scoped>\n",
       "    .dataframe tbody tr th:only-of-type {\n",
       "        vertical-align: middle;\n",
       "    }\n",
       "\n",
       "    .dataframe tbody tr th {\n",
       "        vertical-align: top;\n",
       "    }\n",
       "\n",
       "    .dataframe thead th {\n",
       "        text-align: right;\n",
       "    }\n",
       "</style>\n",
       "<table border=\"1\" class=\"dataframe\">\n",
       "  <thead>\n",
       "    <tr style=\"text-align: right;\">\n",
       "      <th></th>\n",
       "      <th>2020_mean</th>\n",
       "      <th>2022_mean</th>\n",
       "      <th>pct_pt_change</th>\n",
       "    </tr>\n",
       "    <tr>\n",
       "      <th>term</th>\n",
       "      <th></th>\n",
       "      <th></th>\n",
       "      <th></th>\n",
       "    </tr>\n",
       "  </thead>\n",
       "  <tbody>\n",
       "    <tr>\n",
       "      <th>Linux</th>\n",
       "      <td>0.161</td>\n",
       "      <td>0.120</td>\n",
       "      <td>-0.041</td>\n",
       "    </tr>\n",
       "    <tr>\n",
       "      <th>C++</th>\n",
       "      <td>0.098</td>\n",
       "      <td>0.055</td>\n",
       "      <td>-0.043</td>\n",
       "    </tr>\n",
       "    <tr>\n",
       "      <th>Pig</th>\n",
       "      <td>0.078</td>\n",
       "      <td>0.033</td>\n",
       "      <td>-0.045</td>\n",
       "    </tr>\n",
       "    <tr>\n",
       "      <th>NoSQL</th>\n",
       "      <td>0.250</td>\n",
       "      <td>0.200</td>\n",
       "      <td>-0.050</td>\n",
       "    </tr>\n",
       "    <tr>\n",
       "      <th>Scala</th>\n",
       "      <td>0.277</td>\n",
       "      <td>0.226</td>\n",
       "      <td>-0.051</td>\n",
       "    </tr>\n",
       "    <tr>\n",
       "      <th>Hbase</th>\n",
       "      <td>0.122</td>\n",
       "      <td>0.053</td>\n",
       "      <td>-0.069</td>\n",
       "    </tr>\n",
       "    <tr>\n",
       "      <th>Java</th>\n",
       "      <td>0.421</td>\n",
       "      <td>0.335</td>\n",
       "      <td>-0.086</td>\n",
       "    </tr>\n",
       "    <tr>\n",
       "      <th>Hive</th>\n",
       "      <td>0.276</td>\n",
       "      <td>0.188</td>\n",
       "      <td>-0.088</td>\n",
       "    </tr>\n",
       "    <tr>\n",
       "      <th>Spark</th>\n",
       "      <td>0.517</td>\n",
       "      <td>0.420</td>\n",
       "      <td>-0.097</td>\n",
       "    </tr>\n",
       "    <tr>\n",
       "      <th>Hadoop</th>\n",
       "      <td>0.413</td>\n",
       "      <td>0.243</td>\n",
       "      <td>-0.170</td>\n",
       "    </tr>\n",
       "  </tbody>\n",
       "</table>\n",
       "</div>"
      ],
      "text/plain": [
       "        2020_mean  2022_mean  pct_pt_change\n",
       "term                                       \n",
       "Linux       0.161      0.120         -0.041\n",
       "C++         0.098      0.055         -0.043\n",
       "Pig         0.078      0.033         -0.045\n",
       "NoSQL       0.250      0.200         -0.050\n",
       "Scala       0.277      0.226         -0.051\n",
       "Hbase       0.122      0.053         -0.069\n",
       "Java        0.421      0.335         -0.086\n",
       "Hive        0.276      0.188         -0.088\n",
       "Spark       0.517      0.420         -0.097\n",
       "Hadoop      0.413      0.243         -0.170"
      ]
     },
     "execution_count": 605,
     "metadata": {},
     "output_type": "execute_result"
    }
   ],
   "source": [
    "df_combo.tail(10)"
   ]
  },
  {
   "cell_type": "code",
   "execution_count": 606,
   "metadata": {},
   "outputs": [
    {
     "data": {
      "text/html": [
       "<div>\n",
       "<style scoped>\n",
       "    .dataframe tbody tr th:only-of-type {\n",
       "        vertical-align: middle;\n",
       "    }\n",
       "\n",
       "    .dataframe tbody tr th {\n",
       "        vertical-align: top;\n",
       "    }\n",
       "\n",
       "    .dataframe thead th {\n",
       "        text-align: right;\n",
       "    }\n",
       "</style>\n",
       "<table border=\"1\" class=\"dataframe\">\n",
       "  <thead>\n",
       "    <tr style=\"text-align: right;\">\n",
       "      <th></th>\n",
       "      <th>2020_mean</th>\n",
       "      <th>2022_mean</th>\n",
       "      <th>pct_pt_change</th>\n",
       "    </tr>\n",
       "    <tr>\n",
       "      <th>term</th>\n",
       "      <th></th>\n",
       "      <th></th>\n",
       "      <th></th>\n",
       "    </tr>\n",
       "  </thead>\n",
       "  <tbody>\n",
       "    <tr>\n",
       "      <th>Snowflake</th>\n",
       "      <td>0.114</td>\n",
       "      <td>0.230</td>\n",
       "      <td>11.6</td>\n",
       "    </tr>\n",
       "    <tr>\n",
       "      <th>Azure</th>\n",
       "      <td>0.223</td>\n",
       "      <td>0.300</td>\n",
       "      <td>7.7</td>\n",
       "    </tr>\n",
       "    <tr>\n",
       "      <th>GCP</th>\n",
       "      <td>0.177</td>\n",
       "      <td>0.240</td>\n",
       "      <td>6.3</td>\n",
       "    </tr>\n",
       "    <tr>\n",
       "      <th>AWS</th>\n",
       "      <td>0.470</td>\n",
       "      <td>0.528</td>\n",
       "      <td>5.8</td>\n",
       "    </tr>\n",
       "    <tr>\n",
       "      <th>Airflow</th>\n",
       "      <td>0.131</td>\n",
       "      <td>0.177</td>\n",
       "      <td>4.6</td>\n",
       "    </tr>\n",
       "    <tr>\n",
       "      <th>Hbase</th>\n",
       "      <td>0.122</td>\n",
       "      <td>0.053</td>\n",
       "      <td>-6.9</td>\n",
       "    </tr>\n",
       "    <tr>\n",
       "      <th>Java</th>\n",
       "      <td>0.421</td>\n",
       "      <td>0.335</td>\n",
       "      <td>-8.6</td>\n",
       "    </tr>\n",
       "    <tr>\n",
       "      <th>Hive</th>\n",
       "      <td>0.276</td>\n",
       "      <td>0.188</td>\n",
       "      <td>-8.8</td>\n",
       "    </tr>\n",
       "    <tr>\n",
       "      <th>Spark</th>\n",
       "      <td>0.517</td>\n",
       "      <td>0.420</td>\n",
       "      <td>-9.7</td>\n",
       "    </tr>\n",
       "    <tr>\n",
       "      <th>Hadoop</th>\n",
       "      <td>0.413</td>\n",
       "      <td>0.243</td>\n",
       "      <td>-17.0</td>\n",
       "    </tr>\n",
       "  </tbody>\n",
       "</table>\n",
       "</div>"
      ],
      "text/plain": [
       "           2020_mean  2022_mean  pct_pt_change\n",
       "term                                          \n",
       "Snowflake      0.114      0.230           11.6\n",
       "Azure          0.223      0.300            7.7\n",
       "GCP            0.177      0.240            6.3\n",
       "AWS            0.470      0.528            5.8\n",
       "Airflow        0.131      0.177            4.6\n",
       "Hbase          0.122      0.053           -6.9\n",
       "Java           0.421      0.335           -8.6\n",
       "Hive           0.276      0.188           -8.8\n",
       "Spark          0.517      0.420           -9.7\n",
       "Hadoop         0.413      0.243          -17.0"
      ]
     },
     "execution_count": 606,
     "metadata": {},
     "output_type": "execute_result"
    }
   ],
   "source": [
    "df_biggest_changes = pd.concat([df_combo.head(5), df_combo.tail(5)])\n",
    "df_biggest_changes['pct_pt_change'] = df_biggest_changes['pct_pt_change'] * 100\n",
    "df_biggest_changes"
   ]
  },
  {
   "cell_type": "markdown",
   "metadata": {},
   "source": [
    "These are percentage point changes, not percent changes. SnowFlake had a more than 100% increase, while Hadoop had nearly a 50% decrease. Now they are found in about the same percentage of all listings, a bit under a quarter of them. "
   ]
  },
  {
   "cell_type": "code",
   "execution_count": 607,
   "metadata": {},
   "outputs": [
    {
     "data": {
      "application/vnd.plotly.v1+json": {
       "config": {
        "plotlyServerURL": "https://plot.ly"
       },
       "data": [
        {
         "alignmentgroup": "True",
         "hovertemplate": "term=%{x}<br>pct_pt_change=%{marker.color}<extra></extra>",
         "legendgroup": "",
         "marker": {
          "color": [
           11.600000000000001,
           7.699999999999998,
           6.3,
           5.800000000000005,
           4.599999999999999,
           -6.9,
           -8.599999999999996,
           -8.800000000000002,
           -9.700000000000003,
           -17
          ],
          "coloraxis": "coloraxis",
          "pattern": {
           "shape": ""
          }
         },
         "name": "",
         "offsetgroup": "",
         "orientation": "v",
         "showlegend": false,
         "textposition": "auto",
         "type": "bar",
         "x": [
          "Snowflake",
          "Azure",
          "GCP",
          "AWS",
          "Airflow",
          "Hbase",
          "Java",
          "Hive",
          "Spark",
          "Hadoop"
         ],
         "xaxis": "x",
         "y": [
          11.600000000000001,
          7.699999999999998,
          6.3,
          5.800000000000005,
          4.599999999999999,
          -6.9,
          -8.599999999999996,
          -8.800000000000002,
          -9.700000000000003,
          -17
         ],
         "yaxis": "y"
        }
       ],
       "layout": {
        "barmode": "relative",
        "coloraxis": {
         "colorbar": {
          "title": {
           "text": "pct_pt_change"
          }
         },
         "colorscale": [
          [
           0,
           "rgb(165,0,38)"
          ],
          [
           0.1,
           "rgb(215,48,39)"
          ],
          [
           0.2,
           "rgb(244,109,67)"
          ],
          [
           0.3,
           "rgb(253,174,97)"
          ],
          [
           0.4,
           "rgb(254,224,139)"
          ],
          [
           0.5,
           "rgb(255,255,191)"
          ],
          [
           0.6,
           "rgb(217,239,139)"
          ],
          [
           0.7,
           "rgb(166,217,106)"
          ],
          [
           0.8,
           "rgb(102,189,99)"
          ],
          [
           0.9,
           "rgb(26,152,80)"
          ],
          [
           1,
           "rgb(0,104,55)"
          ]
         ],
         "showscale": false
        },
        "legend": {
         "tracegroupgap": 0
        },
        "template": {
         "data": {
          "bar": [
           {
            "error_x": {
             "color": "#2a3f5f"
            },
            "error_y": {
             "color": "#2a3f5f"
            },
            "marker": {
             "line": {
              "color": "#E5ECF6",
              "width": 0.5
             },
             "pattern": {
              "fillmode": "overlay",
              "size": 10,
              "solidity": 0.2
             }
            },
            "type": "bar"
           }
          ],
          "barpolar": [
           {
            "marker": {
             "line": {
              "color": "#E5ECF6",
              "width": 0.5
             },
             "pattern": {
              "fillmode": "overlay",
              "size": 10,
              "solidity": 0.2
             }
            },
            "type": "barpolar"
           }
          ],
          "carpet": [
           {
            "aaxis": {
             "endlinecolor": "#2a3f5f",
             "gridcolor": "white",
             "linecolor": "white",
             "minorgridcolor": "white",
             "startlinecolor": "#2a3f5f"
            },
            "baxis": {
             "endlinecolor": "#2a3f5f",
             "gridcolor": "white",
             "linecolor": "white",
             "minorgridcolor": "white",
             "startlinecolor": "#2a3f5f"
            },
            "type": "carpet"
           }
          ],
          "choropleth": [
           {
            "colorbar": {
             "outlinewidth": 0,
             "ticks": ""
            },
            "type": "choropleth"
           }
          ],
          "contour": [
           {
            "colorbar": {
             "outlinewidth": 0,
             "ticks": ""
            },
            "colorscale": [
             [
              0,
              "#0d0887"
             ],
             [
              0.1111111111111111,
              "#46039f"
             ],
             [
              0.2222222222222222,
              "#7201a8"
             ],
             [
              0.3333333333333333,
              "#9c179e"
             ],
             [
              0.4444444444444444,
              "#bd3786"
             ],
             [
              0.5555555555555556,
              "#d8576b"
             ],
             [
              0.6666666666666666,
              "#ed7953"
             ],
             [
              0.7777777777777778,
              "#fb9f3a"
             ],
             [
              0.8888888888888888,
              "#fdca26"
             ],
             [
              1,
              "#f0f921"
             ]
            ],
            "type": "contour"
           }
          ],
          "contourcarpet": [
           {
            "colorbar": {
             "outlinewidth": 0,
             "ticks": ""
            },
            "type": "contourcarpet"
           }
          ],
          "heatmap": [
           {
            "colorbar": {
             "outlinewidth": 0,
             "ticks": ""
            },
            "colorscale": [
             [
              0,
              "#0d0887"
             ],
             [
              0.1111111111111111,
              "#46039f"
             ],
             [
              0.2222222222222222,
              "#7201a8"
             ],
             [
              0.3333333333333333,
              "#9c179e"
             ],
             [
              0.4444444444444444,
              "#bd3786"
             ],
             [
              0.5555555555555556,
              "#d8576b"
             ],
             [
              0.6666666666666666,
              "#ed7953"
             ],
             [
              0.7777777777777778,
              "#fb9f3a"
             ],
             [
              0.8888888888888888,
              "#fdca26"
             ],
             [
              1,
              "#f0f921"
             ]
            ],
            "type": "heatmap"
           }
          ],
          "heatmapgl": [
           {
            "colorbar": {
             "outlinewidth": 0,
             "ticks": ""
            },
            "colorscale": [
             [
              0,
              "#0d0887"
             ],
             [
              0.1111111111111111,
              "#46039f"
             ],
             [
              0.2222222222222222,
              "#7201a8"
             ],
             [
              0.3333333333333333,
              "#9c179e"
             ],
             [
              0.4444444444444444,
              "#bd3786"
             ],
             [
              0.5555555555555556,
              "#d8576b"
             ],
             [
              0.6666666666666666,
              "#ed7953"
             ],
             [
              0.7777777777777778,
              "#fb9f3a"
             ],
             [
              0.8888888888888888,
              "#fdca26"
             ],
             [
              1,
              "#f0f921"
             ]
            ],
            "type": "heatmapgl"
           }
          ],
          "histogram": [
           {
            "marker": {
             "pattern": {
              "fillmode": "overlay",
              "size": 10,
              "solidity": 0.2
             }
            },
            "type": "histogram"
           }
          ],
          "histogram2d": [
           {
            "colorbar": {
             "outlinewidth": 0,
             "ticks": ""
            },
            "colorscale": [
             [
              0,
              "#0d0887"
             ],
             [
              0.1111111111111111,
              "#46039f"
             ],
             [
              0.2222222222222222,
              "#7201a8"
             ],
             [
              0.3333333333333333,
              "#9c179e"
             ],
             [
              0.4444444444444444,
              "#bd3786"
             ],
             [
              0.5555555555555556,
              "#d8576b"
             ],
             [
              0.6666666666666666,
              "#ed7953"
             ],
             [
              0.7777777777777778,
              "#fb9f3a"
             ],
             [
              0.8888888888888888,
              "#fdca26"
             ],
             [
              1,
              "#f0f921"
             ]
            ],
            "type": "histogram2d"
           }
          ],
          "histogram2dcontour": [
           {
            "colorbar": {
             "outlinewidth": 0,
             "ticks": ""
            },
            "colorscale": [
             [
              0,
              "#0d0887"
             ],
             [
              0.1111111111111111,
              "#46039f"
             ],
             [
              0.2222222222222222,
              "#7201a8"
             ],
             [
              0.3333333333333333,
              "#9c179e"
             ],
             [
              0.4444444444444444,
              "#bd3786"
             ],
             [
              0.5555555555555556,
              "#d8576b"
             ],
             [
              0.6666666666666666,
              "#ed7953"
             ],
             [
              0.7777777777777778,
              "#fb9f3a"
             ],
             [
              0.8888888888888888,
              "#fdca26"
             ],
             [
              1,
              "#f0f921"
             ]
            ],
            "type": "histogram2dcontour"
           }
          ],
          "mesh3d": [
           {
            "colorbar": {
             "outlinewidth": 0,
             "ticks": ""
            },
            "type": "mesh3d"
           }
          ],
          "parcoords": [
           {
            "line": {
             "colorbar": {
              "outlinewidth": 0,
              "ticks": ""
             }
            },
            "type": "parcoords"
           }
          ],
          "pie": [
           {
            "automargin": true,
            "type": "pie"
           }
          ],
          "scatter": [
           {
            "marker": {
             "colorbar": {
              "outlinewidth": 0,
              "ticks": ""
             }
            },
            "type": "scatter"
           }
          ],
          "scatter3d": [
           {
            "line": {
             "colorbar": {
              "outlinewidth": 0,
              "ticks": ""
             }
            },
            "marker": {
             "colorbar": {
              "outlinewidth": 0,
              "ticks": ""
             }
            },
            "type": "scatter3d"
           }
          ],
          "scattercarpet": [
           {
            "marker": {
             "colorbar": {
              "outlinewidth": 0,
              "ticks": ""
             }
            },
            "type": "scattercarpet"
           }
          ],
          "scattergeo": [
           {
            "marker": {
             "colorbar": {
              "outlinewidth": 0,
              "ticks": ""
             }
            },
            "type": "scattergeo"
           }
          ],
          "scattergl": [
           {
            "marker": {
             "colorbar": {
              "outlinewidth": 0,
              "ticks": ""
             }
            },
            "type": "scattergl"
           }
          ],
          "scattermapbox": [
           {
            "marker": {
             "colorbar": {
              "outlinewidth": 0,
              "ticks": ""
             }
            },
            "type": "scattermapbox"
           }
          ],
          "scatterpolar": [
           {
            "marker": {
             "colorbar": {
              "outlinewidth": 0,
              "ticks": ""
             }
            },
            "type": "scatterpolar"
           }
          ],
          "scatterpolargl": [
           {
            "marker": {
             "colorbar": {
              "outlinewidth": 0,
              "ticks": ""
             }
            },
            "type": "scatterpolargl"
           }
          ],
          "scatterternary": [
           {
            "marker": {
             "colorbar": {
              "outlinewidth": 0,
              "ticks": ""
             }
            },
            "type": "scatterternary"
           }
          ],
          "surface": [
           {
            "colorbar": {
             "outlinewidth": 0,
             "ticks": ""
            },
            "colorscale": [
             [
              0,
              "#0d0887"
             ],
             [
              0.1111111111111111,
              "#46039f"
             ],
             [
              0.2222222222222222,
              "#7201a8"
             ],
             [
              0.3333333333333333,
              "#9c179e"
             ],
             [
              0.4444444444444444,
              "#bd3786"
             ],
             [
              0.5555555555555556,
              "#d8576b"
             ],
             [
              0.6666666666666666,
              "#ed7953"
             ],
             [
              0.7777777777777778,
              "#fb9f3a"
             ],
             [
              0.8888888888888888,
              "#fdca26"
             ],
             [
              1,
              "#f0f921"
             ]
            ],
            "type": "surface"
           }
          ],
          "table": [
           {
            "cells": {
             "fill": {
              "color": "#EBF0F8"
             },
             "line": {
              "color": "white"
             }
            },
            "header": {
             "fill": {
              "color": "#C8D4E3"
             },
             "line": {
              "color": "white"
             }
            },
            "type": "table"
           }
          ]
         },
         "layout": {
          "annotationdefaults": {
           "arrowcolor": "#2a3f5f",
           "arrowhead": 0,
           "arrowwidth": 1
          },
          "autotypenumbers": "strict",
          "coloraxis": {
           "colorbar": {
            "outlinewidth": 0,
            "ticks": ""
           }
          },
          "colorscale": {
           "diverging": [
            [
             0,
             "#8e0152"
            ],
            [
             0.1,
             "#c51b7d"
            ],
            [
             0.2,
             "#de77ae"
            ],
            [
             0.3,
             "#f1b6da"
            ],
            [
             0.4,
             "#fde0ef"
            ],
            [
             0.5,
             "#f7f7f7"
            ],
            [
             0.6,
             "#e6f5d0"
            ],
            [
             0.7,
             "#b8e186"
            ],
            [
             0.8,
             "#7fbc41"
            ],
            [
             0.9,
             "#4d9221"
            ],
            [
             1,
             "#276419"
            ]
           ],
           "sequential": [
            [
             0,
             "#0d0887"
            ],
            [
             0.1111111111111111,
             "#46039f"
            ],
            [
             0.2222222222222222,
             "#7201a8"
            ],
            [
             0.3333333333333333,
             "#9c179e"
            ],
            [
             0.4444444444444444,
             "#bd3786"
            ],
            [
             0.5555555555555556,
             "#d8576b"
            ],
            [
             0.6666666666666666,
             "#ed7953"
            ],
            [
             0.7777777777777778,
             "#fb9f3a"
            ],
            [
             0.8888888888888888,
             "#fdca26"
            ],
            [
             1,
             "#f0f921"
            ]
           ],
           "sequentialminus": [
            [
             0,
             "#0d0887"
            ],
            [
             0.1111111111111111,
             "#46039f"
            ],
            [
             0.2222222222222222,
             "#7201a8"
            ],
            [
             0.3333333333333333,
             "#9c179e"
            ],
            [
             0.4444444444444444,
             "#bd3786"
            ],
            [
             0.5555555555555556,
             "#d8576b"
            ],
            [
             0.6666666666666666,
             "#ed7953"
            ],
            [
             0.7777777777777778,
             "#fb9f3a"
            ],
            [
             0.8888888888888888,
             "#fdca26"
            ],
            [
             1,
             "#f0f921"
            ]
           ]
          },
          "colorway": [
           "#636efa",
           "#EF553B",
           "#00cc96",
           "#ab63fa",
           "#FFA15A",
           "#19d3f3",
           "#FF6692",
           "#B6E880",
           "#FF97FF",
           "#FECB52"
          ],
          "font": {
           "color": "#2a3f5f"
          },
          "geo": {
           "bgcolor": "white",
           "lakecolor": "white",
           "landcolor": "#E5ECF6",
           "showlakes": true,
           "showland": true,
           "subunitcolor": "white"
          },
          "hoverlabel": {
           "align": "left"
          },
          "hovermode": "closest",
          "mapbox": {
           "style": "light"
          },
          "paper_bgcolor": "white",
          "plot_bgcolor": "#E5ECF6",
          "polar": {
           "angularaxis": {
            "gridcolor": "white",
            "linecolor": "white",
            "ticks": ""
           },
           "bgcolor": "#E5ECF6",
           "radialaxis": {
            "gridcolor": "white",
            "linecolor": "white",
            "ticks": ""
           }
          },
          "scene": {
           "xaxis": {
            "backgroundcolor": "#E5ECF6",
            "gridcolor": "white",
            "gridwidth": 2,
            "linecolor": "white",
            "showbackground": true,
            "ticks": "",
            "zerolinecolor": "white"
           },
           "yaxis": {
            "backgroundcolor": "#E5ECF6",
            "gridcolor": "white",
            "gridwidth": 2,
            "linecolor": "white",
            "showbackground": true,
            "ticks": "",
            "zerolinecolor": "white"
           },
           "zaxis": {
            "backgroundcolor": "#E5ECF6",
            "gridcolor": "white",
            "gridwidth": 2,
            "linecolor": "white",
            "showbackground": true,
            "ticks": "",
            "zerolinecolor": "white"
           }
          },
          "shapedefaults": {
           "line": {
            "color": "#2a3f5f"
           }
          },
          "ternary": {
           "aaxis": {
            "gridcolor": "white",
            "linecolor": "white",
            "ticks": ""
           },
           "baxis": {
            "gridcolor": "white",
            "linecolor": "white",
            "ticks": ""
           },
           "bgcolor": "#E5ECF6",
           "caxis": {
            "gridcolor": "white",
            "linecolor": "white",
            "ticks": ""
           }
          },
          "title": {
           "x": 0.05
          },
          "xaxis": {
           "automargin": true,
           "gridcolor": "white",
           "linecolor": "white",
           "ticks": "",
           "title": {
            "standoff": 15
           },
           "zerolinecolor": "white",
           "zerolinewidth": 2
          },
          "yaxis": {
           "automargin": true,
           "gridcolor": "white",
           "linecolor": "white",
           "ticks": "",
           "title": {
            "standoff": 15
           },
           "zerolinecolor": "white",
           "zerolinewidth": 2
          }
         }
        },
        "title": {
         "text": "Largest Percentage Point Changes Jan. 2020 - June 2022"
        },
        "xaxis": {
         "anchor": "y",
         "domain": [
          0,
          1
         ],
         "title": {
          "text": "Technology"
         }
        },
        "yaxis": {
         "anchor": "x",
         "domain": [
          0,
          1
         ],
         "tickformat": "2",
         "title": {
          "text": "Percentage Point Change"
         }
        }
       }
      }
     },
     "metadata": {},
     "output_type": "display_data"
    }
   ],
   "source": [
    "fig = px.bar(\n",
    "    df_biggest_changes,\n",
    "    x=df_biggest_changes.index,\n",
    "    y=\"pct_pt_change\",\n",
    "    title='Largest Percentage Point Changes Jan. 2020 - June 2022',\n",
    "    color='pct_pt_change',\n",
    "    color_continuous_scale=px.colors.diverging.RdYlGn,\n",
    ")\n",
    "\n",
    "fig.update_layout(\n",
    "    yaxis_title=\"Percentage Point Change\",\n",
    "    yaxis_tickformat=\"2\",\n",
    "    xaxis_title=\"Technology\",\n",
    "    coloraxis_showscale=False,\n",
    ")"
   ]
  },
  {
   "cell_type": "code",
   "execution_count": 608,
   "metadata": {},
   "outputs": [
    {
     "data": {
      "text/html": [
       "<div>\n",
       "<style scoped>\n",
       "    .dataframe tbody tr th:only-of-type {\n",
       "        vertical-align: middle;\n",
       "    }\n",
       "\n",
       "    .dataframe tbody tr th {\n",
       "        vertical-align: top;\n",
       "    }\n",
       "\n",
       "    .dataframe thead th {\n",
       "        text-align: right;\n",
       "    }\n",
       "</style>\n",
       "<table border=\"1\" class=\"dataframe\">\n",
       "  <thead>\n",
       "    <tr style=\"text-align: right;\">\n",
       "      <th></th>\n",
       "      <th>2020_mean</th>\n",
       "      <th>2022_mean</th>\n",
       "      <th>pct_pt_change</th>\n",
       "    </tr>\n",
       "    <tr>\n",
       "      <th>term</th>\n",
       "      <th></th>\n",
       "      <th></th>\n",
       "      <th></th>\n",
       "    </tr>\n",
       "  </thead>\n",
       "  <tbody>\n",
       "    <tr>\n",
       "      <th>Snowflake</th>\n",
       "      <td>0.114</td>\n",
       "      <td>0.230</td>\n",
       "      <td>0.116</td>\n",
       "    </tr>\n",
       "    <tr>\n",
       "      <th>Azure</th>\n",
       "      <td>0.223</td>\n",
       "      <td>0.300</td>\n",
       "      <td>0.077</td>\n",
       "    </tr>\n",
       "    <tr>\n",
       "      <th>GCP</th>\n",
       "      <td>0.177</td>\n",
       "      <td>0.240</td>\n",
       "      <td>0.063</td>\n",
       "    </tr>\n",
       "    <tr>\n",
       "      <th>AWS</th>\n",
       "      <td>0.470</td>\n",
       "      <td>0.528</td>\n",
       "      <td>0.058</td>\n",
       "    </tr>\n",
       "    <tr>\n",
       "      <th>Airflow</th>\n",
       "      <td>0.131</td>\n",
       "      <td>0.177</td>\n",
       "      <td>0.046</td>\n",
       "    </tr>\n",
       "    <tr>\n",
       "      <th>SQL</th>\n",
       "      <td>0.701</td>\n",
       "      <td>0.746</td>\n",
       "      <td>0.045</td>\n",
       "    </tr>\n",
       "    <tr>\n",
       "      <th>Databricks</th>\n",
       "      <td>0.060</td>\n",
       "      <td>0.105</td>\n",
       "      <td>0.045</td>\n",
       "    </tr>\n",
       "    <tr>\n",
       "      <th>Terraform</th>\n",
       "      <td>0.037</td>\n",
       "      <td>0.075</td>\n",
       "      <td>0.038</td>\n",
       "    </tr>\n",
       "    <tr>\n",
       "      <th>Power BI</th>\n",
       "      <td>0.057</td>\n",
       "      <td>0.082</td>\n",
       "      <td>0.025</td>\n",
       "    </tr>\n",
       "    <tr>\n",
       "      <th>Kubernetes</th>\n",
       "      <td>0.080</td>\n",
       "      <td>0.105</td>\n",
       "      <td>0.025</td>\n",
       "    </tr>\n",
       "    <tr>\n",
       "      <th>Linux</th>\n",
       "      <td>0.161</td>\n",
       "      <td>0.120</td>\n",
       "      <td>-0.041</td>\n",
       "    </tr>\n",
       "    <tr>\n",
       "      <th>C++</th>\n",
       "      <td>0.098</td>\n",
       "      <td>0.055</td>\n",
       "      <td>-0.043</td>\n",
       "    </tr>\n",
       "    <tr>\n",
       "      <th>Pig</th>\n",
       "      <td>0.078</td>\n",
       "      <td>0.033</td>\n",
       "      <td>-0.045</td>\n",
       "    </tr>\n",
       "    <tr>\n",
       "      <th>NoSQL</th>\n",
       "      <td>0.250</td>\n",
       "      <td>0.200</td>\n",
       "      <td>-0.050</td>\n",
       "    </tr>\n",
       "    <tr>\n",
       "      <th>Scala</th>\n",
       "      <td>0.277</td>\n",
       "      <td>0.226</td>\n",
       "      <td>-0.051</td>\n",
       "    </tr>\n",
       "    <tr>\n",
       "      <th>Hbase</th>\n",
       "      <td>0.122</td>\n",
       "      <td>0.053</td>\n",
       "      <td>-0.069</td>\n",
       "    </tr>\n",
       "    <tr>\n",
       "      <th>Java</th>\n",
       "      <td>0.421</td>\n",
       "      <td>0.335</td>\n",
       "      <td>-0.086</td>\n",
       "    </tr>\n",
       "    <tr>\n",
       "      <th>Hive</th>\n",
       "      <td>0.276</td>\n",
       "      <td>0.188</td>\n",
       "      <td>-0.088</td>\n",
       "    </tr>\n",
       "    <tr>\n",
       "      <th>Spark</th>\n",
       "      <td>0.517</td>\n",
       "      <td>0.420</td>\n",
       "      <td>-0.097</td>\n",
       "    </tr>\n",
       "    <tr>\n",
       "      <th>Hadoop</th>\n",
       "      <td>0.413</td>\n",
       "      <td>0.243</td>\n",
       "      <td>-0.170</td>\n",
       "    </tr>\n",
       "  </tbody>\n",
       "</table>\n",
       "</div>"
      ],
      "text/plain": [
       "            2020_mean  2022_mean  pct_pt_change\n",
       "term                                           \n",
       "Snowflake       0.114      0.230          0.116\n",
       "Azure           0.223      0.300          0.077\n",
       "GCP             0.177      0.240          0.063\n",
       "AWS             0.470      0.528          0.058\n",
       "Airflow         0.131      0.177          0.046\n",
       "SQL             0.701      0.746          0.045\n",
       "Databricks      0.060      0.105          0.045\n",
       "Terraform       0.037      0.075          0.038\n",
       "Power BI        0.057      0.082          0.025\n",
       "Kubernetes      0.080      0.105          0.025\n",
       "Linux           0.161      0.120         -0.041\n",
       "C++             0.098      0.055         -0.043\n",
       "Pig             0.078      0.033         -0.045\n",
       "NoSQL           0.250      0.200         -0.050\n",
       "Scala           0.277      0.226         -0.051\n",
       "Hbase           0.122      0.053         -0.069\n",
       "Java            0.421      0.335         -0.086\n",
       "Hive            0.276      0.188         -0.088\n",
       "Spark           0.517      0.420         -0.097\n",
       "Hadoop          0.413      0.243         -0.170"
      ]
     },
     "execution_count": 608,
     "metadata": {},
     "output_type": "execute_result"
    }
   ],
   "source": [
    "df_biggest_changes_20 = pd.concat([df_combo.head(10), df_combo.tail(10)])\n",
    "df_biggest_changes_20"
   ]
  },
  {
   "cell_type": "markdown",
   "metadata": {},
   "source": [
    "Calculate largest percentage changes of terms that show up in a minimum of 10% of 2022 average listings."
   ]
  },
  {
   "cell_type": "code",
   "execution_count": 609,
   "metadata": {},
   "outputs": [
    {
     "data": {
      "text/html": [
       "<div>\n",
       "<style scoped>\n",
       "    .dataframe tbody tr th:only-of-type {\n",
       "        vertical-align: middle;\n",
       "    }\n",
       "\n",
       "    .dataframe tbody tr th {\n",
       "        vertical-align: top;\n",
       "    }\n",
       "\n",
       "    .dataframe thead th {\n",
       "        text-align: right;\n",
       "    }\n",
       "</style>\n",
       "<table border=\"1\" class=\"dataframe\">\n",
       "  <thead>\n",
       "    <tr style=\"text-align: right;\">\n",
       "      <th></th>\n",
       "      <th>2020_mean</th>\n",
       "      <th>2022_mean</th>\n",
       "      <th>pct_pt_change</th>\n",
       "    </tr>\n",
       "    <tr>\n",
       "      <th>term</th>\n",
       "      <th></th>\n",
       "      <th></th>\n",
       "      <th></th>\n",
       "    </tr>\n",
       "  </thead>\n",
       "  <tbody>\n",
       "    <tr>\n",
       "      <th>SQL</th>\n",
       "      <td>0.701</td>\n",
       "      <td>0.746</td>\n",
       "      <td>0.045</td>\n",
       "    </tr>\n",
       "    <tr>\n",
       "      <th>Python</th>\n",
       "      <td>0.699</td>\n",
       "      <td>0.713</td>\n",
       "      <td>0.014</td>\n",
       "    </tr>\n",
       "    <tr>\n",
       "      <th>AWS</th>\n",
       "      <td>0.470</td>\n",
       "      <td>0.528</td>\n",
       "      <td>0.058</td>\n",
       "    </tr>\n",
       "    <tr>\n",
       "      <th>Spark</th>\n",
       "      <td>0.517</td>\n",
       "      <td>0.420</td>\n",
       "      <td>-0.097</td>\n",
       "    </tr>\n",
       "    <tr>\n",
       "      <th>Java</th>\n",
       "      <td>0.421</td>\n",
       "      <td>0.335</td>\n",
       "      <td>-0.086</td>\n",
       "    </tr>\n",
       "    <tr>\n",
       "      <th>Azure</th>\n",
       "      <td>0.223</td>\n",
       "      <td>0.300</td>\n",
       "      <td>0.077</td>\n",
       "    </tr>\n",
       "    <tr>\n",
       "      <th>Redshift</th>\n",
       "      <td>0.229</td>\n",
       "      <td>0.246</td>\n",
       "      <td>0.017</td>\n",
       "    </tr>\n",
       "    <tr>\n",
       "      <th>Hadoop</th>\n",
       "      <td>0.413</td>\n",
       "      <td>0.243</td>\n",
       "      <td>-0.170</td>\n",
       "    </tr>\n",
       "    <tr>\n",
       "      <th>GCP</th>\n",
       "      <td>0.177</td>\n",
       "      <td>0.240</td>\n",
       "      <td>0.063</td>\n",
       "    </tr>\n",
       "    <tr>\n",
       "      <th>Kafka</th>\n",
       "      <td>0.265</td>\n",
       "      <td>0.237</td>\n",
       "      <td>-0.028</td>\n",
       "    </tr>\n",
       "    <tr>\n",
       "      <th>Snowflake</th>\n",
       "      <td>0.114</td>\n",
       "      <td>0.230</td>\n",
       "      <td>0.116</td>\n",
       "    </tr>\n",
       "    <tr>\n",
       "      <th>Scala</th>\n",
       "      <td>0.277</td>\n",
       "      <td>0.226</td>\n",
       "      <td>-0.051</td>\n",
       "    </tr>\n",
       "    <tr>\n",
       "      <th>NoSQL</th>\n",
       "      <td>0.250</td>\n",
       "      <td>0.200</td>\n",
       "      <td>-0.050</td>\n",
       "    </tr>\n",
       "    <tr>\n",
       "      <th>Hive</th>\n",
       "      <td>0.276</td>\n",
       "      <td>0.188</td>\n",
       "      <td>-0.088</td>\n",
       "    </tr>\n",
       "    <tr>\n",
       "      <th>Tableau</th>\n",
       "      <td>0.176</td>\n",
       "      <td>0.182</td>\n",
       "      <td>0.006</td>\n",
       "    </tr>\n",
       "    <tr>\n",
       "      <th>Airflow</th>\n",
       "      <td>0.131</td>\n",
       "      <td>0.177</td>\n",
       "      <td>0.046</td>\n",
       "    </tr>\n",
       "    <tr>\n",
       "      <th>Oracle</th>\n",
       "      <td>0.154</td>\n",
       "      <td>0.133</td>\n",
       "      <td>-0.021</td>\n",
       "    </tr>\n",
       "    <tr>\n",
       "      <th>SQL Server</th>\n",
       "      <td>0.135</td>\n",
       "      <td>0.128</td>\n",
       "      <td>-0.007</td>\n",
       "    </tr>\n",
       "    <tr>\n",
       "      <th>R</th>\n",
       "      <td>0.160</td>\n",
       "      <td>0.126</td>\n",
       "      <td>-0.034</td>\n",
       "    </tr>\n",
       "    <tr>\n",
       "      <th>Linux</th>\n",
       "      <td>0.161</td>\n",
       "      <td>0.120</td>\n",
       "      <td>-0.041</td>\n",
       "    </tr>\n",
       "    <tr>\n",
       "      <th>Git</th>\n",
       "      <td>0.124</td>\n",
       "      <td>0.114</td>\n",
       "      <td>-0.010</td>\n",
       "    </tr>\n",
       "    <tr>\n",
       "      <th>Docker</th>\n",
       "      <td>0.110</td>\n",
       "      <td>0.112</td>\n",
       "      <td>0.002</td>\n",
       "    </tr>\n",
       "    <tr>\n",
       "      <th>Lambda</th>\n",
       "      <td>0.086</td>\n",
       "      <td>0.110</td>\n",
       "      <td>0.024</td>\n",
       "    </tr>\n",
       "    <tr>\n",
       "      <th>MySQL</th>\n",
       "      <td>0.107</td>\n",
       "      <td>0.106</td>\n",
       "      <td>-0.001</td>\n",
       "    </tr>\n",
       "    <tr>\n",
       "      <th>Kubernetes</th>\n",
       "      <td>0.080</td>\n",
       "      <td>0.105</td>\n",
       "      <td>0.025</td>\n",
       "    </tr>\n",
       "    <tr>\n",
       "      <th>Databricks</th>\n",
       "      <td>0.060</td>\n",
       "      <td>0.105</td>\n",
       "      <td>0.045</td>\n",
       "    </tr>\n",
       "  </tbody>\n",
       "</table>\n",
       "</div>"
      ],
      "text/plain": [
       "            2020_mean  2022_mean  pct_pt_change\n",
       "term                                           \n",
       "SQL             0.701      0.746          0.045\n",
       "Python          0.699      0.713          0.014\n",
       "AWS             0.470      0.528          0.058\n",
       "Spark           0.517      0.420         -0.097\n",
       "Java            0.421      0.335         -0.086\n",
       "Azure           0.223      0.300          0.077\n",
       "Redshift        0.229      0.246          0.017\n",
       "Hadoop          0.413      0.243         -0.170\n",
       "GCP             0.177      0.240          0.063\n",
       "Kafka           0.265      0.237         -0.028\n",
       "Snowflake       0.114      0.230          0.116\n",
       "Scala           0.277      0.226         -0.051\n",
       "NoSQL           0.250      0.200         -0.050\n",
       "Hive            0.276      0.188         -0.088\n",
       "Tableau         0.176      0.182          0.006\n",
       "Airflow         0.131      0.177          0.046\n",
       "Oracle          0.154      0.133         -0.021\n",
       "SQL Server      0.135      0.128         -0.007\n",
       "R               0.160      0.126         -0.034\n",
       "Linux           0.161      0.120         -0.041\n",
       "Git             0.124      0.114         -0.010\n",
       "Docker          0.110      0.112          0.002\n",
       "Lambda          0.086      0.110          0.024\n",
       "MySQL           0.107      0.106         -0.001\n",
       "Kubernetes      0.080      0.105          0.025\n",
       "Databricks      0.060      0.105          0.045"
      ]
     },
     "execution_count": 609,
     "metadata": {},
     "output_type": "execute_result"
    }
   ],
   "source": [
    "df_pct_change = df_combo[df_combo['2022_mean'] >.1 ].sort_values(by='2022_mean', ascending=False)\n",
    "df_pct_change"
   ]
  },
  {
   "cell_type": "code",
   "execution_count": 610,
   "metadata": {},
   "outputs": [
    {
     "data": {
      "text/plain": [
       "2020_mean        26\n",
       "2022_mean        26\n",
       "pct_pt_change    26\n",
       "dtype: int64"
      ]
     },
     "execution_count": 610,
     "metadata": {},
     "output_type": "execute_result"
    }
   ],
   "source": [
    "df_pct_change.count()"
   ]
  },
  {
   "cell_type": "code",
   "execution_count": 611,
   "metadata": {},
   "outputs": [],
   "source": [
    "df_pct_change['pct_change'] =  (((df_pct_change['2022_mean'] - df_pct_change['2020_mean']) / df_pct_change['2020_mean'])*100).round(1)"
   ]
  },
  {
   "cell_type": "code",
   "execution_count": 612,
   "metadata": {},
   "outputs": [],
   "source": [
    "df_pct_change.sort_values(by='pct_change', ascending=False, inplace=True)"
   ]
  },
  {
   "cell_type": "code",
   "execution_count": 613,
   "metadata": {},
   "outputs": [
    {
     "data": {
      "text/html": [
       "<div>\n",
       "<style scoped>\n",
       "    .dataframe tbody tr th:only-of-type {\n",
       "        vertical-align: middle;\n",
       "    }\n",
       "\n",
       "    .dataframe tbody tr th {\n",
       "        vertical-align: top;\n",
       "    }\n",
       "\n",
       "    .dataframe thead th {\n",
       "        text-align: right;\n",
       "    }\n",
       "</style>\n",
       "<table border=\"1\" class=\"dataframe\">\n",
       "  <thead>\n",
       "    <tr style=\"text-align: right;\">\n",
       "      <th></th>\n",
       "      <th>2020_mean</th>\n",
       "      <th>2022_mean</th>\n",
       "      <th>pct_pt_change</th>\n",
       "      <th>pct_change</th>\n",
       "    </tr>\n",
       "    <tr>\n",
       "      <th>term</th>\n",
       "      <th></th>\n",
       "      <th></th>\n",
       "      <th></th>\n",
       "      <th></th>\n",
       "    </tr>\n",
       "  </thead>\n",
       "  <tbody>\n",
       "    <tr>\n",
       "      <th>Snowflake</th>\n",
       "      <td>0.114</td>\n",
       "      <td>0.230</td>\n",
       "      <td>0.116</td>\n",
       "      <td>101.8</td>\n",
       "    </tr>\n",
       "    <tr>\n",
       "      <th>Databricks</th>\n",
       "      <td>0.060</td>\n",
       "      <td>0.105</td>\n",
       "      <td>0.045</td>\n",
       "      <td>75.0</td>\n",
       "    </tr>\n",
       "    <tr>\n",
       "      <th>GCP</th>\n",
       "      <td>0.177</td>\n",
       "      <td>0.240</td>\n",
       "      <td>0.063</td>\n",
       "      <td>35.6</td>\n",
       "    </tr>\n",
       "    <tr>\n",
       "      <th>Airflow</th>\n",
       "      <td>0.131</td>\n",
       "      <td>0.177</td>\n",
       "      <td>0.046</td>\n",
       "      <td>35.1</td>\n",
       "    </tr>\n",
       "    <tr>\n",
       "      <th>Azure</th>\n",
       "      <td>0.223</td>\n",
       "      <td>0.300</td>\n",
       "      <td>0.077</td>\n",
       "      <td>34.5</td>\n",
       "    </tr>\n",
       "    <tr>\n",
       "      <th>Kubernetes</th>\n",
       "      <td>0.080</td>\n",
       "      <td>0.105</td>\n",
       "      <td>0.025</td>\n",
       "      <td>31.2</td>\n",
       "    </tr>\n",
       "    <tr>\n",
       "      <th>Lambda</th>\n",
       "      <td>0.086</td>\n",
       "      <td>0.110</td>\n",
       "      <td>0.024</td>\n",
       "      <td>27.9</td>\n",
       "    </tr>\n",
       "    <tr>\n",
       "      <th>AWS</th>\n",
       "      <td>0.470</td>\n",
       "      <td>0.528</td>\n",
       "      <td>0.058</td>\n",
       "      <td>12.3</td>\n",
       "    </tr>\n",
       "    <tr>\n",
       "      <th>Redshift</th>\n",
       "      <td>0.229</td>\n",
       "      <td>0.246</td>\n",
       "      <td>0.017</td>\n",
       "      <td>7.4</td>\n",
       "    </tr>\n",
       "    <tr>\n",
       "      <th>SQL</th>\n",
       "      <td>0.701</td>\n",
       "      <td>0.746</td>\n",
       "      <td>0.045</td>\n",
       "      <td>6.4</td>\n",
       "    </tr>\n",
       "    <tr>\n",
       "      <th>Tableau</th>\n",
       "      <td>0.176</td>\n",
       "      <td>0.182</td>\n",
       "      <td>0.006</td>\n",
       "      <td>3.4</td>\n",
       "    </tr>\n",
       "    <tr>\n",
       "      <th>Python</th>\n",
       "      <td>0.699</td>\n",
       "      <td>0.713</td>\n",
       "      <td>0.014</td>\n",
       "      <td>2.0</td>\n",
       "    </tr>\n",
       "    <tr>\n",
       "      <th>Docker</th>\n",
       "      <td>0.110</td>\n",
       "      <td>0.112</td>\n",
       "      <td>0.002</td>\n",
       "      <td>1.8</td>\n",
       "    </tr>\n",
       "    <tr>\n",
       "      <th>MySQL</th>\n",
       "      <td>0.107</td>\n",
       "      <td>0.106</td>\n",
       "      <td>-0.001</td>\n",
       "      <td>-0.9</td>\n",
       "    </tr>\n",
       "    <tr>\n",
       "      <th>SQL Server</th>\n",
       "      <td>0.135</td>\n",
       "      <td>0.128</td>\n",
       "      <td>-0.007</td>\n",
       "      <td>-5.2</td>\n",
       "    </tr>\n",
       "    <tr>\n",
       "      <th>Git</th>\n",
       "      <td>0.124</td>\n",
       "      <td>0.114</td>\n",
       "      <td>-0.010</td>\n",
       "      <td>-8.1</td>\n",
       "    </tr>\n",
       "    <tr>\n",
       "      <th>Kafka</th>\n",
       "      <td>0.265</td>\n",
       "      <td>0.237</td>\n",
       "      <td>-0.028</td>\n",
       "      <td>-10.6</td>\n",
       "    </tr>\n",
       "    <tr>\n",
       "      <th>Oracle</th>\n",
       "      <td>0.154</td>\n",
       "      <td>0.133</td>\n",
       "      <td>-0.021</td>\n",
       "      <td>-13.6</td>\n",
       "    </tr>\n",
       "    <tr>\n",
       "      <th>Scala</th>\n",
       "      <td>0.277</td>\n",
       "      <td>0.226</td>\n",
       "      <td>-0.051</td>\n",
       "      <td>-18.4</td>\n",
       "    </tr>\n",
       "    <tr>\n",
       "      <th>Spark</th>\n",
       "      <td>0.517</td>\n",
       "      <td>0.420</td>\n",
       "      <td>-0.097</td>\n",
       "      <td>-18.8</td>\n",
       "    </tr>\n",
       "    <tr>\n",
       "      <th>NoSQL</th>\n",
       "      <td>0.250</td>\n",
       "      <td>0.200</td>\n",
       "      <td>-0.050</td>\n",
       "      <td>-20.0</td>\n",
       "    </tr>\n",
       "    <tr>\n",
       "      <th>Java</th>\n",
       "      <td>0.421</td>\n",
       "      <td>0.335</td>\n",
       "      <td>-0.086</td>\n",
       "      <td>-20.4</td>\n",
       "    </tr>\n",
       "    <tr>\n",
       "      <th>R</th>\n",
       "      <td>0.160</td>\n",
       "      <td>0.126</td>\n",
       "      <td>-0.034</td>\n",
       "      <td>-21.3</td>\n",
       "    </tr>\n",
       "    <tr>\n",
       "      <th>Linux</th>\n",
       "      <td>0.161</td>\n",
       "      <td>0.120</td>\n",
       "      <td>-0.041</td>\n",
       "      <td>-25.5</td>\n",
       "    </tr>\n",
       "    <tr>\n",
       "      <th>Hive</th>\n",
       "      <td>0.276</td>\n",
       "      <td>0.188</td>\n",
       "      <td>-0.088</td>\n",
       "      <td>-31.9</td>\n",
       "    </tr>\n",
       "    <tr>\n",
       "      <th>Hadoop</th>\n",
       "      <td>0.413</td>\n",
       "      <td>0.243</td>\n",
       "      <td>-0.170</td>\n",
       "      <td>-41.2</td>\n",
       "    </tr>\n",
       "  </tbody>\n",
       "</table>\n",
       "</div>"
      ],
      "text/plain": [
       "            2020_mean  2022_mean  pct_pt_change  pct_change\n",
       "term                                                       \n",
       "Snowflake       0.114      0.230          0.116       101.8\n",
       "Databricks      0.060      0.105          0.045        75.0\n",
       "GCP             0.177      0.240          0.063        35.6\n",
       "Airflow         0.131      0.177          0.046        35.1\n",
       "Azure           0.223      0.300          0.077        34.5\n",
       "Kubernetes      0.080      0.105          0.025        31.2\n",
       "Lambda          0.086      0.110          0.024        27.9\n",
       "AWS             0.470      0.528          0.058        12.3\n",
       "Redshift        0.229      0.246          0.017         7.4\n",
       "SQL             0.701      0.746          0.045         6.4\n",
       "Tableau         0.176      0.182          0.006         3.4\n",
       "Python          0.699      0.713          0.014         2.0\n",
       "Docker          0.110      0.112          0.002         1.8\n",
       "MySQL           0.107      0.106         -0.001        -0.9\n",
       "SQL Server      0.135      0.128         -0.007        -5.2\n",
       "Git             0.124      0.114         -0.010        -8.1\n",
       "Kafka           0.265      0.237         -0.028       -10.6\n",
       "Oracle          0.154      0.133         -0.021       -13.6\n",
       "Scala           0.277      0.226         -0.051       -18.4\n",
       "Spark           0.517      0.420         -0.097       -18.8\n",
       "NoSQL           0.250      0.200         -0.050       -20.0\n",
       "Java            0.421      0.335         -0.086       -20.4\n",
       "R               0.160      0.126         -0.034       -21.3\n",
       "Linux           0.161      0.120         -0.041       -25.5\n",
       "Hive            0.276      0.188         -0.088       -31.9\n",
       "Hadoop          0.413      0.243         -0.170       -41.2"
      ]
     },
     "execution_count": 613,
     "metadata": {},
     "output_type": "execute_result"
    }
   ],
   "source": [
    "df_pct_change"
   ]
  },
  {
   "cell_type": "markdown",
   "metadata": {},
   "source": [
    "Make the table pretty for printing"
   ]
  },
  {
   "cell_type": "code",
   "execution_count": 619,
   "metadata": {},
   "outputs": [
    {
     "data": {
      "text/html": [
       "<div>\n",
       "<style scoped>\n",
       "    .dataframe tbody tr th:only-of-type {\n",
       "        vertical-align: middle;\n",
       "    }\n",
       "\n",
       "    .dataframe tbody tr th {\n",
       "        vertical-align: top;\n",
       "    }\n",
       "\n",
       "    .dataframe thead th {\n",
       "        text-align: right;\n",
       "    }\n",
       "</style>\n",
       "<table border=\"1\" class=\"dataframe\">\n",
       "  <thead>\n",
       "    <tr style=\"text-align: right;\">\n",
       "      <th></th>\n",
       "      <th>2022 Avg</th>\n",
       "      <th>2020 Avg</th>\n",
       "      <th>% Point Change</th>\n",
       "      <th>% Change</th>\n",
       "    </tr>\n",
       "    <tr>\n",
       "      <th>Term</th>\n",
       "      <th></th>\n",
       "      <th></th>\n",
       "      <th></th>\n",
       "      <th></th>\n",
       "    </tr>\n",
       "  </thead>\n",
       "  <tbody>\n",
       "    <tr>\n",
       "      <th>Snowflake</th>\n",
       "      <td>0.230</td>\n",
       "      <td>0.114</td>\n",
       "      <td>11.6</td>\n",
       "      <td>101.8</td>\n",
       "    </tr>\n",
       "    <tr>\n",
       "      <th>Databricks</th>\n",
       "      <td>0.105</td>\n",
       "      <td>0.060</td>\n",
       "      <td>4.5</td>\n",
       "      <td>75.0</td>\n",
       "    </tr>\n",
       "    <tr>\n",
       "      <th>GCP</th>\n",
       "      <td>0.240</td>\n",
       "      <td>0.177</td>\n",
       "      <td>6.3</td>\n",
       "      <td>35.6</td>\n",
       "    </tr>\n",
       "    <tr>\n",
       "      <th>Airflow</th>\n",
       "      <td>0.177</td>\n",
       "      <td>0.131</td>\n",
       "      <td>4.6</td>\n",
       "      <td>35.1</td>\n",
       "    </tr>\n",
       "    <tr>\n",
       "      <th>Azure</th>\n",
       "      <td>0.300</td>\n",
       "      <td>0.223</td>\n",
       "      <td>7.7</td>\n",
       "      <td>34.5</td>\n",
       "    </tr>\n",
       "    <tr>\n",
       "      <th>Kubernetes</th>\n",
       "      <td>0.105</td>\n",
       "      <td>0.080</td>\n",
       "      <td>2.5</td>\n",
       "      <td>31.2</td>\n",
       "    </tr>\n",
       "    <tr>\n",
       "      <th>Lambda</th>\n",
       "      <td>0.110</td>\n",
       "      <td>0.086</td>\n",
       "      <td>2.4</td>\n",
       "      <td>27.9</td>\n",
       "    </tr>\n",
       "    <tr>\n",
       "      <th>AWS</th>\n",
       "      <td>0.528</td>\n",
       "      <td>0.470</td>\n",
       "      <td>5.8</td>\n",
       "      <td>12.3</td>\n",
       "    </tr>\n",
       "    <tr>\n",
       "      <th>Redshift</th>\n",
       "      <td>0.246</td>\n",
       "      <td>0.229</td>\n",
       "      <td>1.7</td>\n",
       "      <td>7.4</td>\n",
       "    </tr>\n",
       "    <tr>\n",
       "      <th>SQL</th>\n",
       "      <td>0.746</td>\n",
       "      <td>0.701</td>\n",
       "      <td>4.5</td>\n",
       "      <td>6.4</td>\n",
       "    </tr>\n",
       "    <tr>\n",
       "      <th>Tableau</th>\n",
       "      <td>0.182</td>\n",
       "      <td>0.176</td>\n",
       "      <td>0.6</td>\n",
       "      <td>3.4</td>\n",
       "    </tr>\n",
       "    <tr>\n",
       "      <th>Python</th>\n",
       "      <td>0.713</td>\n",
       "      <td>0.699</td>\n",
       "      <td>1.4</td>\n",
       "      <td>2.0</td>\n",
       "    </tr>\n",
       "    <tr>\n",
       "      <th>Docker</th>\n",
       "      <td>0.112</td>\n",
       "      <td>0.110</td>\n",
       "      <td>0.2</td>\n",
       "      <td>1.8</td>\n",
       "    </tr>\n",
       "    <tr>\n",
       "      <th>MySQL</th>\n",
       "      <td>0.106</td>\n",
       "      <td>0.107</td>\n",
       "      <td>-0.1</td>\n",
       "      <td>-0.9</td>\n",
       "    </tr>\n",
       "    <tr>\n",
       "      <th>SQL Server</th>\n",
       "      <td>0.128</td>\n",
       "      <td>0.135</td>\n",
       "      <td>-0.7</td>\n",
       "      <td>-5.2</td>\n",
       "    </tr>\n",
       "    <tr>\n",
       "      <th>Git</th>\n",
       "      <td>0.114</td>\n",
       "      <td>0.124</td>\n",
       "      <td>-1.0</td>\n",
       "      <td>-8.1</td>\n",
       "    </tr>\n",
       "    <tr>\n",
       "      <th>Kafka</th>\n",
       "      <td>0.237</td>\n",
       "      <td>0.265</td>\n",
       "      <td>-2.8</td>\n",
       "      <td>-10.6</td>\n",
       "    </tr>\n",
       "    <tr>\n",
       "      <th>Oracle</th>\n",
       "      <td>0.133</td>\n",
       "      <td>0.154</td>\n",
       "      <td>-2.1</td>\n",
       "      <td>-13.6</td>\n",
       "    </tr>\n",
       "    <tr>\n",
       "      <th>Scala</th>\n",
       "      <td>0.226</td>\n",
       "      <td>0.277</td>\n",
       "      <td>-5.1</td>\n",
       "      <td>-18.4</td>\n",
       "    </tr>\n",
       "    <tr>\n",
       "      <th>Spark</th>\n",
       "      <td>0.420</td>\n",
       "      <td>0.517</td>\n",
       "      <td>-9.7</td>\n",
       "      <td>-18.8</td>\n",
       "    </tr>\n",
       "    <tr>\n",
       "      <th>NoSQL</th>\n",
       "      <td>0.200</td>\n",
       "      <td>0.250</td>\n",
       "      <td>-5.0</td>\n",
       "      <td>-20.0</td>\n",
       "    </tr>\n",
       "    <tr>\n",
       "      <th>Java</th>\n",
       "      <td>0.335</td>\n",
       "      <td>0.421</td>\n",
       "      <td>-8.6</td>\n",
       "      <td>-20.4</td>\n",
       "    </tr>\n",
       "    <tr>\n",
       "      <th>R</th>\n",
       "      <td>0.126</td>\n",
       "      <td>0.160</td>\n",
       "      <td>-3.4</td>\n",
       "      <td>-21.3</td>\n",
       "    </tr>\n",
       "    <tr>\n",
       "      <th>Linux</th>\n",
       "      <td>0.120</td>\n",
       "      <td>0.161</td>\n",
       "      <td>-4.1</td>\n",
       "      <td>-25.5</td>\n",
       "    </tr>\n",
       "    <tr>\n",
       "      <th>Hive</th>\n",
       "      <td>0.188</td>\n",
       "      <td>0.276</td>\n",
       "      <td>-8.8</td>\n",
       "      <td>-31.9</td>\n",
       "    </tr>\n",
       "    <tr>\n",
       "      <th>Hadoop</th>\n",
       "      <td>0.243</td>\n",
       "      <td>0.413</td>\n",
       "      <td>-17.0</td>\n",
       "      <td>-41.2</td>\n",
       "    </tr>\n",
       "  </tbody>\n",
       "</table>\n",
       "</div>"
      ],
      "text/plain": [
       "            2022 Avg  2020 Avg  % Point Change  % Change\n",
       "Term                                                    \n",
       "Snowflake      0.230     0.114            11.6     101.8\n",
       "Databricks     0.105     0.060             4.5      75.0\n",
       "GCP            0.240     0.177             6.3      35.6\n",
       "Airflow        0.177     0.131             4.6      35.1\n",
       "Azure          0.300     0.223             7.7      34.5\n",
       "Kubernetes     0.105     0.080             2.5      31.2\n",
       "Lambda         0.110     0.086             2.4      27.9\n",
       "AWS            0.528     0.470             5.8      12.3\n",
       "Redshift       0.246     0.229             1.7       7.4\n",
       "SQL            0.746     0.701             4.5       6.4\n",
       "Tableau        0.182     0.176             0.6       3.4\n",
       "Python         0.713     0.699             1.4       2.0\n",
       "Docker         0.112     0.110             0.2       1.8\n",
       "MySQL          0.106     0.107            -0.1      -0.9\n",
       "SQL Server     0.128     0.135            -0.7      -5.2\n",
       "Git            0.114     0.124            -1.0      -8.1\n",
       "Kafka          0.237     0.265            -2.8     -10.6\n",
       "Oracle         0.133     0.154            -2.1     -13.6\n",
       "Scala          0.226     0.277            -5.1     -18.4\n",
       "Spark          0.420     0.517            -9.7     -18.8\n",
       "NoSQL          0.200     0.250            -5.0     -20.0\n",
       "Java           0.335     0.421            -8.6     -20.4\n",
       "R              0.126     0.160            -3.4     -21.3\n",
       "Linux          0.120     0.161            -4.1     -25.5\n",
       "Hive           0.188     0.276            -8.8     -31.9\n",
       "Hadoop         0.243     0.413           -17.0     -41.2"
      ]
     },
     "execution_count": 619,
     "metadata": {},
     "output_type": "execute_result"
    }
   ],
   "source": [
    "df_pct_change_to_print = df_pct_change.iloc[:, [1, 0, 2, 3]]\n",
    "df_pct_change_to_print.columns = ['2022 Avg', '2020 Avg', '% Point Change', '% Change']\n",
    "df_pct_change_to_print['% Point Change'] = df_pct_change_to_print['% Point Change'] * 100\n",
    "df_pct_change_to_print.index.name = 'Term'\n",
    "df_pct_change_to_print"
   ]
  },
  {
   "cell_type": "code",
   "execution_count": 621,
   "metadata": {},
   "outputs": [
    {
     "data": {
      "text/plain": [
       "26"
      ]
     },
     "execution_count": 621,
     "metadata": {},
     "output_type": "execute_result"
    }
   ],
   "source": [
    "len(df_pct_change_to_print)"
   ]
  },
  {
   "cell_type": "code",
   "execution_count": 620,
   "metadata": {},
   "outputs": [],
   "source": [
    "df_biggest_pct_changes = pd.concat([df_pct_change.head(5), df_pct_change.tail(5)])[['pct_change']]"
   ]
  },
  {
   "cell_type": "code",
   "execution_count": 616,
   "metadata": {},
   "outputs": [
    {
     "data": {
      "text/html": [
       "<div>\n",
       "<style scoped>\n",
       "    .dataframe tbody tr th:only-of-type {\n",
       "        vertical-align: middle;\n",
       "    }\n",
       "\n",
       "    .dataframe tbody tr th {\n",
       "        vertical-align: top;\n",
       "    }\n",
       "\n",
       "    .dataframe thead th {\n",
       "        text-align: right;\n",
       "    }\n",
       "</style>\n",
       "<table border=\"1\" class=\"dataframe\">\n",
       "  <thead>\n",
       "    <tr style=\"text-align: right;\">\n",
       "      <th></th>\n",
       "      <th>pct_change</th>\n",
       "    </tr>\n",
       "    <tr>\n",
       "      <th>term</th>\n",
       "      <th></th>\n",
       "    </tr>\n",
       "  </thead>\n",
       "  <tbody>\n",
       "    <tr>\n",
       "      <th>Snowflake</th>\n",
       "      <td>101.8</td>\n",
       "    </tr>\n",
       "    <tr>\n",
       "      <th>Databricks</th>\n",
       "      <td>75.0</td>\n",
       "    </tr>\n",
       "    <tr>\n",
       "      <th>GCP</th>\n",
       "      <td>35.6</td>\n",
       "    </tr>\n",
       "    <tr>\n",
       "      <th>Airflow</th>\n",
       "      <td>35.1</td>\n",
       "    </tr>\n",
       "    <tr>\n",
       "      <th>Azure</th>\n",
       "      <td>34.5</td>\n",
       "    </tr>\n",
       "    <tr>\n",
       "      <th>Java</th>\n",
       "      <td>-20.4</td>\n",
       "    </tr>\n",
       "    <tr>\n",
       "      <th>R</th>\n",
       "      <td>-21.3</td>\n",
       "    </tr>\n",
       "    <tr>\n",
       "      <th>Linux</th>\n",
       "      <td>-25.5</td>\n",
       "    </tr>\n",
       "    <tr>\n",
       "      <th>Hive</th>\n",
       "      <td>-31.9</td>\n",
       "    </tr>\n",
       "    <tr>\n",
       "      <th>Hadoop</th>\n",
       "      <td>-41.2</td>\n",
       "    </tr>\n",
       "  </tbody>\n",
       "</table>\n",
       "</div>"
      ],
      "text/plain": [
       "            pct_change\n",
       "term                  \n",
       "Snowflake        101.8\n",
       "Databricks        75.0\n",
       "GCP               35.6\n",
       "Airflow           35.1\n",
       "Azure             34.5\n",
       "Java             -20.4\n",
       "R                -21.3\n",
       "Linux            -25.5\n",
       "Hive             -31.9\n",
       "Hadoop           -41.2"
      ]
     },
     "execution_count": 616,
     "metadata": {},
     "output_type": "execute_result"
    }
   ],
   "source": [
    "df_biggest_pct_changes"
   ]
  },
  {
   "cell_type": "code",
   "execution_count": 617,
   "metadata": {},
   "outputs": [
    {
     "data": {
      "text/html": [
       "<div>\n",
       "<style scoped>\n",
       "    .dataframe tbody tr th:only-of-type {\n",
       "        vertical-align: middle;\n",
       "    }\n",
       "\n",
       "    .dataframe tbody tr th {\n",
       "        vertical-align: top;\n",
       "    }\n",
       "\n",
       "    .dataframe thead th {\n",
       "        text-align: right;\n",
       "    }\n",
       "</style>\n",
       "<table border=\"1\" class=\"dataframe\">\n",
       "  <thead>\n",
       "    <tr style=\"text-align: right;\">\n",
       "      <th></th>\n",
       "      <th>2020_mean</th>\n",
       "      <th>2022_mean</th>\n",
       "      <th>pct_pt_change</th>\n",
       "      <th>pct_change</th>\n",
       "    </tr>\n",
       "    <tr>\n",
       "      <th>term</th>\n",
       "      <th></th>\n",
       "      <th></th>\n",
       "      <th></th>\n",
       "      <th></th>\n",
       "    </tr>\n",
       "  </thead>\n",
       "  <tbody>\n",
       "    <tr>\n",
       "      <th>Java</th>\n",
       "      <td>0.421</td>\n",
       "      <td>0.335</td>\n",
       "      <td>-0.086</td>\n",
       "      <td>-20.4</td>\n",
       "    </tr>\n",
       "    <tr>\n",
       "      <th>R</th>\n",
       "      <td>0.160</td>\n",
       "      <td>0.126</td>\n",
       "      <td>-0.034</td>\n",
       "      <td>-21.3</td>\n",
       "    </tr>\n",
       "    <tr>\n",
       "      <th>Linux</th>\n",
       "      <td>0.161</td>\n",
       "      <td>0.120</td>\n",
       "      <td>-0.041</td>\n",
       "      <td>-25.5</td>\n",
       "    </tr>\n",
       "    <tr>\n",
       "      <th>Hive</th>\n",
       "      <td>0.276</td>\n",
       "      <td>0.188</td>\n",
       "      <td>-0.088</td>\n",
       "      <td>-31.9</td>\n",
       "    </tr>\n",
       "    <tr>\n",
       "      <th>Hadoop</th>\n",
       "      <td>0.413</td>\n",
       "      <td>0.243</td>\n",
       "      <td>-0.170</td>\n",
       "      <td>-41.2</td>\n",
       "    </tr>\n",
       "  </tbody>\n",
       "</table>\n",
       "</div>"
      ],
      "text/plain": [
       "        2020_mean  2022_mean  pct_pt_change  pct_change\n",
       "term                                                   \n",
       "Java        0.421      0.335         -0.086       -20.4\n",
       "R           0.160      0.126         -0.034       -21.3\n",
       "Linux       0.161      0.120         -0.041       -25.5\n",
       "Hive        0.276      0.188         -0.088       -31.9\n",
       "Hadoop      0.413      0.243         -0.170       -41.2"
      ]
     },
     "execution_count": 617,
     "metadata": {},
     "output_type": "execute_result"
    }
   ],
   "source": [
    "df_pct_change.tail(5)"
   ]
  },
  {
   "cell_type": "markdown",
   "metadata": {},
   "source": [
    "Plot largest percentage changes"
   ]
  },
  {
   "cell_type": "code",
   "execution_count": 618,
   "metadata": {},
   "outputs": [
    {
     "data": {
      "application/vnd.plotly.v1+json": {
       "config": {
        "plotlyServerURL": "https://plot.ly"
       },
       "data": [
        {
         "alignmentgroup": "True",
         "hovertemplate": "term=%{x}<br>pct_change=%{marker.color}<extra></extra>",
         "legendgroup": "",
         "marker": {
          "color": [
           101.8,
           75,
           35.6,
           35.1,
           34.5,
           -20.4,
           -21.3,
           -25.5,
           -31.9,
           -41.2
          ],
          "coloraxis": "coloraxis",
          "pattern": {
           "shape": ""
          }
         },
         "name": "",
         "offsetgroup": "",
         "orientation": "v",
         "showlegend": false,
         "textposition": "auto",
         "type": "bar",
         "x": [
          "Snowflake",
          "Databricks",
          "GCP",
          "Airflow",
          "Azure",
          "Java",
          "R",
          "Linux",
          "Hive",
          "Hadoop"
         ],
         "xaxis": "x",
         "y": [
          101.8,
          75,
          35.6,
          35.1,
          34.5,
          -20.4,
          -21.3,
          -25.5,
          -31.9,
          -41.2
         ],
         "yaxis": "y"
        }
       ],
       "layout": {
        "barmode": "relative",
        "coloraxis": {
         "colorbar": {
          "title": {
           "text": "pct_change"
          }
         },
         "colorscale": [
          [
           0,
           "rgb(165,0,38)"
          ],
          [
           0.1,
           "rgb(215,48,39)"
          ],
          [
           0.2,
           "rgb(244,109,67)"
          ],
          [
           0.3,
           "rgb(253,174,97)"
          ],
          [
           0.4,
           "rgb(254,224,139)"
          ],
          [
           0.5,
           "rgb(255,255,191)"
          ],
          [
           0.6,
           "rgb(217,239,139)"
          ],
          [
           0.7,
           "rgb(166,217,106)"
          ],
          [
           0.8,
           "rgb(102,189,99)"
          ],
          [
           0.9,
           "rgb(26,152,80)"
          ],
          [
           1,
           "rgb(0,104,55)"
          ]
         ],
         "showscale": false
        },
        "legend": {
         "tracegroupgap": 0
        },
        "template": {
         "data": {
          "bar": [
           {
            "error_x": {
             "color": "#2a3f5f"
            },
            "error_y": {
             "color": "#2a3f5f"
            },
            "marker": {
             "line": {
              "color": "#E5ECF6",
              "width": 0.5
             },
             "pattern": {
              "fillmode": "overlay",
              "size": 10,
              "solidity": 0.2
             }
            },
            "type": "bar"
           }
          ],
          "barpolar": [
           {
            "marker": {
             "line": {
              "color": "#E5ECF6",
              "width": 0.5
             },
             "pattern": {
              "fillmode": "overlay",
              "size": 10,
              "solidity": 0.2
             }
            },
            "type": "barpolar"
           }
          ],
          "carpet": [
           {
            "aaxis": {
             "endlinecolor": "#2a3f5f",
             "gridcolor": "white",
             "linecolor": "white",
             "minorgridcolor": "white",
             "startlinecolor": "#2a3f5f"
            },
            "baxis": {
             "endlinecolor": "#2a3f5f",
             "gridcolor": "white",
             "linecolor": "white",
             "minorgridcolor": "white",
             "startlinecolor": "#2a3f5f"
            },
            "type": "carpet"
           }
          ],
          "choropleth": [
           {
            "colorbar": {
             "outlinewidth": 0,
             "ticks": ""
            },
            "type": "choropleth"
           }
          ],
          "contour": [
           {
            "colorbar": {
             "outlinewidth": 0,
             "ticks": ""
            },
            "colorscale": [
             [
              0,
              "#0d0887"
             ],
             [
              0.1111111111111111,
              "#46039f"
             ],
             [
              0.2222222222222222,
              "#7201a8"
             ],
             [
              0.3333333333333333,
              "#9c179e"
             ],
             [
              0.4444444444444444,
              "#bd3786"
             ],
             [
              0.5555555555555556,
              "#d8576b"
             ],
             [
              0.6666666666666666,
              "#ed7953"
             ],
             [
              0.7777777777777778,
              "#fb9f3a"
             ],
             [
              0.8888888888888888,
              "#fdca26"
             ],
             [
              1,
              "#f0f921"
             ]
            ],
            "type": "contour"
           }
          ],
          "contourcarpet": [
           {
            "colorbar": {
             "outlinewidth": 0,
             "ticks": ""
            },
            "type": "contourcarpet"
           }
          ],
          "heatmap": [
           {
            "colorbar": {
             "outlinewidth": 0,
             "ticks": ""
            },
            "colorscale": [
             [
              0,
              "#0d0887"
             ],
             [
              0.1111111111111111,
              "#46039f"
             ],
             [
              0.2222222222222222,
              "#7201a8"
             ],
             [
              0.3333333333333333,
              "#9c179e"
             ],
             [
              0.4444444444444444,
              "#bd3786"
             ],
             [
              0.5555555555555556,
              "#d8576b"
             ],
             [
              0.6666666666666666,
              "#ed7953"
             ],
             [
              0.7777777777777778,
              "#fb9f3a"
             ],
             [
              0.8888888888888888,
              "#fdca26"
             ],
             [
              1,
              "#f0f921"
             ]
            ],
            "type": "heatmap"
           }
          ],
          "heatmapgl": [
           {
            "colorbar": {
             "outlinewidth": 0,
             "ticks": ""
            },
            "colorscale": [
             [
              0,
              "#0d0887"
             ],
             [
              0.1111111111111111,
              "#46039f"
             ],
             [
              0.2222222222222222,
              "#7201a8"
             ],
             [
              0.3333333333333333,
              "#9c179e"
             ],
             [
              0.4444444444444444,
              "#bd3786"
             ],
             [
              0.5555555555555556,
              "#d8576b"
             ],
             [
              0.6666666666666666,
              "#ed7953"
             ],
             [
              0.7777777777777778,
              "#fb9f3a"
             ],
             [
              0.8888888888888888,
              "#fdca26"
             ],
             [
              1,
              "#f0f921"
             ]
            ],
            "type": "heatmapgl"
           }
          ],
          "histogram": [
           {
            "marker": {
             "pattern": {
              "fillmode": "overlay",
              "size": 10,
              "solidity": 0.2
             }
            },
            "type": "histogram"
           }
          ],
          "histogram2d": [
           {
            "colorbar": {
             "outlinewidth": 0,
             "ticks": ""
            },
            "colorscale": [
             [
              0,
              "#0d0887"
             ],
             [
              0.1111111111111111,
              "#46039f"
             ],
             [
              0.2222222222222222,
              "#7201a8"
             ],
             [
              0.3333333333333333,
              "#9c179e"
             ],
             [
              0.4444444444444444,
              "#bd3786"
             ],
             [
              0.5555555555555556,
              "#d8576b"
             ],
             [
              0.6666666666666666,
              "#ed7953"
             ],
             [
              0.7777777777777778,
              "#fb9f3a"
             ],
             [
              0.8888888888888888,
              "#fdca26"
             ],
             [
              1,
              "#f0f921"
             ]
            ],
            "type": "histogram2d"
           }
          ],
          "histogram2dcontour": [
           {
            "colorbar": {
             "outlinewidth": 0,
             "ticks": ""
            },
            "colorscale": [
             [
              0,
              "#0d0887"
             ],
             [
              0.1111111111111111,
              "#46039f"
             ],
             [
              0.2222222222222222,
              "#7201a8"
             ],
             [
              0.3333333333333333,
              "#9c179e"
             ],
             [
              0.4444444444444444,
              "#bd3786"
             ],
             [
              0.5555555555555556,
              "#d8576b"
             ],
             [
              0.6666666666666666,
              "#ed7953"
             ],
             [
              0.7777777777777778,
              "#fb9f3a"
             ],
             [
              0.8888888888888888,
              "#fdca26"
             ],
             [
              1,
              "#f0f921"
             ]
            ],
            "type": "histogram2dcontour"
           }
          ],
          "mesh3d": [
           {
            "colorbar": {
             "outlinewidth": 0,
             "ticks": ""
            },
            "type": "mesh3d"
           }
          ],
          "parcoords": [
           {
            "line": {
             "colorbar": {
              "outlinewidth": 0,
              "ticks": ""
             }
            },
            "type": "parcoords"
           }
          ],
          "pie": [
           {
            "automargin": true,
            "type": "pie"
           }
          ],
          "scatter": [
           {
            "marker": {
             "colorbar": {
              "outlinewidth": 0,
              "ticks": ""
             }
            },
            "type": "scatter"
           }
          ],
          "scatter3d": [
           {
            "line": {
             "colorbar": {
              "outlinewidth": 0,
              "ticks": ""
             }
            },
            "marker": {
             "colorbar": {
              "outlinewidth": 0,
              "ticks": ""
             }
            },
            "type": "scatter3d"
           }
          ],
          "scattercarpet": [
           {
            "marker": {
             "colorbar": {
              "outlinewidth": 0,
              "ticks": ""
             }
            },
            "type": "scattercarpet"
           }
          ],
          "scattergeo": [
           {
            "marker": {
             "colorbar": {
              "outlinewidth": 0,
              "ticks": ""
             }
            },
            "type": "scattergeo"
           }
          ],
          "scattergl": [
           {
            "marker": {
             "colorbar": {
              "outlinewidth": 0,
              "ticks": ""
             }
            },
            "type": "scattergl"
           }
          ],
          "scattermapbox": [
           {
            "marker": {
             "colorbar": {
              "outlinewidth": 0,
              "ticks": ""
             }
            },
            "type": "scattermapbox"
           }
          ],
          "scatterpolar": [
           {
            "marker": {
             "colorbar": {
              "outlinewidth": 0,
              "ticks": ""
             }
            },
            "type": "scatterpolar"
           }
          ],
          "scatterpolargl": [
           {
            "marker": {
             "colorbar": {
              "outlinewidth": 0,
              "ticks": ""
             }
            },
            "type": "scatterpolargl"
           }
          ],
          "scatterternary": [
           {
            "marker": {
             "colorbar": {
              "outlinewidth": 0,
              "ticks": ""
             }
            },
            "type": "scatterternary"
           }
          ],
          "surface": [
           {
            "colorbar": {
             "outlinewidth": 0,
             "ticks": ""
            },
            "colorscale": [
             [
              0,
              "#0d0887"
             ],
             [
              0.1111111111111111,
              "#46039f"
             ],
             [
              0.2222222222222222,
              "#7201a8"
             ],
             [
              0.3333333333333333,
              "#9c179e"
             ],
             [
              0.4444444444444444,
              "#bd3786"
             ],
             [
              0.5555555555555556,
              "#d8576b"
             ],
             [
              0.6666666666666666,
              "#ed7953"
             ],
             [
              0.7777777777777778,
              "#fb9f3a"
             ],
             [
              0.8888888888888888,
              "#fdca26"
             ],
             [
              1,
              "#f0f921"
             ]
            ],
            "type": "surface"
           }
          ],
          "table": [
           {
            "cells": {
             "fill": {
              "color": "#EBF0F8"
             },
             "line": {
              "color": "white"
             }
            },
            "header": {
             "fill": {
              "color": "#C8D4E3"
             },
             "line": {
              "color": "white"
             }
            },
            "type": "table"
           }
          ]
         },
         "layout": {
          "annotationdefaults": {
           "arrowcolor": "#2a3f5f",
           "arrowhead": 0,
           "arrowwidth": 1
          },
          "autotypenumbers": "strict",
          "coloraxis": {
           "colorbar": {
            "outlinewidth": 0,
            "ticks": ""
           }
          },
          "colorscale": {
           "diverging": [
            [
             0,
             "#8e0152"
            ],
            [
             0.1,
             "#c51b7d"
            ],
            [
             0.2,
             "#de77ae"
            ],
            [
             0.3,
             "#f1b6da"
            ],
            [
             0.4,
             "#fde0ef"
            ],
            [
             0.5,
             "#f7f7f7"
            ],
            [
             0.6,
             "#e6f5d0"
            ],
            [
             0.7,
             "#b8e186"
            ],
            [
             0.8,
             "#7fbc41"
            ],
            [
             0.9,
             "#4d9221"
            ],
            [
             1,
             "#276419"
            ]
           ],
           "sequential": [
            [
             0,
             "#0d0887"
            ],
            [
             0.1111111111111111,
             "#46039f"
            ],
            [
             0.2222222222222222,
             "#7201a8"
            ],
            [
             0.3333333333333333,
             "#9c179e"
            ],
            [
             0.4444444444444444,
             "#bd3786"
            ],
            [
             0.5555555555555556,
             "#d8576b"
            ],
            [
             0.6666666666666666,
             "#ed7953"
            ],
            [
             0.7777777777777778,
             "#fb9f3a"
            ],
            [
             0.8888888888888888,
             "#fdca26"
            ],
            [
             1,
             "#f0f921"
            ]
           ],
           "sequentialminus": [
            [
             0,
             "#0d0887"
            ],
            [
             0.1111111111111111,
             "#46039f"
            ],
            [
             0.2222222222222222,
             "#7201a8"
            ],
            [
             0.3333333333333333,
             "#9c179e"
            ],
            [
             0.4444444444444444,
             "#bd3786"
            ],
            [
             0.5555555555555556,
             "#d8576b"
            ],
            [
             0.6666666666666666,
             "#ed7953"
            ],
            [
             0.7777777777777778,
             "#fb9f3a"
            ],
            [
             0.8888888888888888,
             "#fdca26"
            ],
            [
             1,
             "#f0f921"
            ]
           ]
          },
          "colorway": [
           "#636efa",
           "#EF553B",
           "#00cc96",
           "#ab63fa",
           "#FFA15A",
           "#19d3f3",
           "#FF6692",
           "#B6E880",
           "#FF97FF",
           "#FECB52"
          ],
          "font": {
           "color": "#2a3f5f"
          },
          "geo": {
           "bgcolor": "white",
           "lakecolor": "white",
           "landcolor": "#E5ECF6",
           "showlakes": true,
           "showland": true,
           "subunitcolor": "white"
          },
          "hoverlabel": {
           "align": "left"
          },
          "hovermode": "closest",
          "mapbox": {
           "style": "light"
          },
          "paper_bgcolor": "white",
          "plot_bgcolor": "#E5ECF6",
          "polar": {
           "angularaxis": {
            "gridcolor": "white",
            "linecolor": "white",
            "ticks": ""
           },
           "bgcolor": "#E5ECF6",
           "radialaxis": {
            "gridcolor": "white",
            "linecolor": "white",
            "ticks": ""
           }
          },
          "scene": {
           "xaxis": {
            "backgroundcolor": "#E5ECF6",
            "gridcolor": "white",
            "gridwidth": 2,
            "linecolor": "white",
            "showbackground": true,
            "ticks": "",
            "zerolinecolor": "white"
           },
           "yaxis": {
            "backgroundcolor": "#E5ECF6",
            "gridcolor": "white",
            "gridwidth": 2,
            "linecolor": "white",
            "showbackground": true,
            "ticks": "",
            "zerolinecolor": "white"
           },
           "zaxis": {
            "backgroundcolor": "#E5ECF6",
            "gridcolor": "white",
            "gridwidth": 2,
            "linecolor": "white",
            "showbackground": true,
            "ticks": "",
            "zerolinecolor": "white"
           }
          },
          "shapedefaults": {
           "line": {
            "color": "#2a3f5f"
           }
          },
          "ternary": {
           "aaxis": {
            "gridcolor": "white",
            "linecolor": "white",
            "ticks": ""
           },
           "baxis": {
            "gridcolor": "white",
            "linecolor": "white",
            "ticks": ""
           },
           "bgcolor": "#E5ECF6",
           "caxis": {
            "gridcolor": "white",
            "linecolor": "white",
            "ticks": ""
           }
          },
          "title": {
           "x": 0.05
          },
          "xaxis": {
           "automargin": true,
           "gridcolor": "white",
           "linecolor": "white",
           "ticks": "",
           "title": {
            "standoff": 15
           },
           "zerolinecolor": "white",
           "zerolinewidth": 2
          },
          "yaxis": {
           "automargin": true,
           "gridcolor": "white",
           "linecolor": "white",
           "ticks": "",
           "title": {
            "standoff": 15
           },
           "zerolinecolor": "white",
           "zerolinewidth": 2
          }
         }
        },
        "title": {
         "text": "Largest Percentage Changes Jan. 2020 - June 2022"
        },
        "xaxis": {
         "anchor": "y",
         "domain": [
          0,
          1
         ],
         "title": {
          "text": "Technology"
         }
        },
        "yaxis": {
         "anchor": "x",
         "domain": [
          0,
          1
         ],
         "tickformat": "2",
         "title": {
          "text": "Percentage Change"
         }
        }
       }
      }
     },
     "metadata": {},
     "output_type": "display_data"
    }
   ],
   "source": [
    "fig = px.bar(\n",
    "    df_biggest_pct_changes,\n",
    "    x=df_biggest_pct_changes.index,\n",
    "    y=\"pct_change\",\n",
    "    title='Largest Percentage Changes Jan. 2020 - June 2022',\n",
    "    color='pct_change',\n",
    "    color_continuous_scale=px.colors.diverging.RdYlGn,\n",
    ")\n",
    "\n",
    "fig.update_layout(\n",
    "    yaxis_title=\"Percentage Change\",\n",
    "    yaxis_tickformat=\"2\",\n",
    "    xaxis_title=\"Technology\",\n",
    "    coloraxis_showscale=False,\n",
    ")"
   ]
  },
  {
   "cell_type": "markdown",
   "metadata": {},
   "source": [
    "That's the end! Check out the finished product with discussion at [Medium](https://jeffhale.medium.com/most-in-demand-tech-skills-for-data-engineers-2022-a4746a2b366?source=friends_link&sk=1dbc1cebd4debce8469104a968c5d697)"
   ]
  },
  {
   "cell_type": "markdown",
   "metadata": {},
   "source": []
  }
 ],
 "metadata": {
  "interpreter": {
   "hash": "997322c55b62044d17d68324b2353aa24fa87c7ec57cd3dff801aafb36bfa8a9"
  },
  "kernelspec": {
   "display_name": "Python 3.9.7 ('base')",
   "language": "python",
   "name": "python3"
  },
  "language_info": {
   "codemirror_mode": {
    "name": "ipython",
    "version": 3
   },
   "file_extension": ".py",
   "mimetype": "text/x-python",
   "name": "python",
   "nbconvert_exporter": "python",
   "pygments_lexer": "ipython3",
   "version": "3.9.7"
  },
  "orig_nbformat": 4
 },
 "nbformat": 4,
 "nbformat_minor": 2
}
